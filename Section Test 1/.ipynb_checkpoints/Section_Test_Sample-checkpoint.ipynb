{
 "cells": [
  {
   "cell_type": "markdown",
   "id": "d49485c4-c344-472a-924a-40fcfcda3dec",
   "metadata": {},
   "source": [
    "## 1."
   ]
  },
  {
   "cell_type": "code",
   "execution_count": 19,
   "id": "209f8d1c-0af9-4c26-be1d-071544bffb02",
   "metadata": {},
   "outputs": [
    {
     "name": "stdin",
     "output_type": "stream",
     "text": [
      " 2\n",
      " 3\n",
      " s\n"
     ]
    },
    {
     "name": "stdout",
     "output_type": "stream",
     "text": [
      "Unsupported operation\n"
     ]
    }
   ],
   "source": [
    "x=int(input())\n",
    "y=int(input())\n",
    "operator=input()\n",
    "if operator=='greater':\n",
    "    print(x>y)\n",
    "elif operator=='less':\n",
    "    print(x<y)\n",
    "elif operator=='equals':\n",
    "    priint(x==y)\n",
    "else:\n",
    "    print(\"Unsupported operation\")"
   ]
  },
  {
   "cell_type": "markdown",
   "id": "16335ca8-8b46-44ba-ad4e-ac9aefd1a122",
   "metadata": {},
   "source": [
    "## 2."
   ]
  },
  {
   "cell_type": "code",
   "execution_count": 17,
   "id": "3ddb3c44-d177-4f09-afdf-74c486bfb9f6",
   "metadata": {},
   "outputs": [
    {
     "name": "stdin",
     "output_type": "stream",
     "text": [
      "Enter the DNA sequence:  GAATTAACAGG\n"
     ]
    },
    {
     "name": "stdout",
     "output_type": "stream",
     "text": [
      "Num of Adenine: 5\n",
      "Num of Guanine: 3\n",
      "Num of Cytosine: 1\n",
      "Num of Thymine: 2\n"
     ]
    }
   ],
   "source": [
    "seq=input(\"Enter the DNA sequence: \")\n",
    "i=0\n",
    "cnt_A=0\n",
    "cnt_G=0\n",
    "cnt_C=0\n",
    "cnt_T=0\n",
    "while i<len(seq):\n",
    "    if seq[i]=='A':\n",
    "        cnt_A+=1\n",
    "    elif seq[i]=='G':\n",
    "        cnt_G+=1\n",
    "    elif seq[i]=='C':\n",
    "        cnt_C+=1\n",
    "    elif seq[i]=='T':\n",
    "        cnt_T+=1\n",
    "    i+=1\n",
    "print(f\"Num of Adenine: {cnt_A}\")\n",
    "print(f\"Num of Guanine: {cnt_G}\")\n",
    "print(f\"Num of Cytosine: {cnt_C}\")\n",
    "print(f\"Num of Thymine: {cnt_T}\")"
   ]
  },
  {
   "cell_type": "markdown",
   "id": "f6c20061-686b-4801-9b8f-e7c680453660",
   "metadata": {},
   "source": [
    "## 3."
   ]
  },
  {
   "cell_type": "code",
   "execution_count": 8,
   "id": "8b78a8d6-a8c2-46a4-a073-25d0f1b43bcd",
   "metadata": {},
   "outputs": [
    {
     "name": "stdin",
     "output_type": "stream",
     "text": [
      "Enter number:  1.2\n"
     ]
    },
    {
     "name": "stdout",
     "output_type": "stream",
     "text": [
      "GoodBye!\n",
      "\n",
      "Sum is 0\n",
      "Count (divisible by 5) is 0\n"
     ]
    }
   ],
   "source": [
    "total=0\n",
    "count=0\n",
    "while True:\n",
    "    n=input(\"Enter number: \")\n",
    "    if n.isdigit() or (n.startswith('-') and n[1:].isdigit()):\n",
    "        num = int(n)\n",
    "        total += num\n",
    "        if num % 5 == 0:\n",
    "            count += 1\n",
    "    else:\n",
    "        break\n",
    "print(\"GoodBye!\")\n",
    "print()\n",
    "print(f\"Sum is {total}\")\n",
    "print(f\"Count (divisible by 5) is {count}\")"
   ]
  },
  {
   "cell_type": "markdown",
   "id": "ffb5319c-ab14-48d7-8e86-869ba95c95af",
   "metadata": {},
   "source": [
    "## 4."
   ]
  },
  {
   "cell_type": "code",
   "execution_count": 24,
   "id": "31921e68-64a4-4251-aba5-17d928b96688",
   "metadata": {},
   "outputs": [
    {
     "name": "stdin",
     "output_type": "stream",
     "text": [
      "Enter x:  21\n",
      "Enter y:  9\n"
     ]
    },
    {
     "name": "stdout",
     "output_type": "stream",
     "text": [
      "Odd number sum:  105\n",
      "Even number sum:  90\n"
     ]
    },
    {
     "name": "stdin",
     "output_type": "stream",
     "text": [
      "Would you like to quit (y/n)?  n\n",
      "Enter x:  9\n",
      "Enter y:  21\n"
     ]
    },
    {
     "name": "stdout",
     "output_type": "stream",
     "text": [
      "Odd number sum:  105\n",
      "Even number sum:  90\n"
     ]
    },
    {
     "name": "stdin",
     "output_type": "stream",
     "text": [
      "Would you like to quit (y/n)?  n\n",
      "Enter x:  john\n",
      "Enter y:  21\n"
     ]
    },
    {
     "name": "stdout",
     "output_type": "stream",
     "text": [
      "Unsupported operation\n"
     ]
    },
    {
     "name": "stdin",
     "output_type": "stream",
     "text": [
      "Would you like to quit (y/n)?  n\n",
      "Enter x:  9\n",
      "Enter y:  21.1\n"
     ]
    },
    {
     "name": "stdout",
     "output_type": "stream",
     "text": [
      "Unsupported operation\n"
     ]
    },
    {
     "name": "stdin",
     "output_type": "stream",
     "text": [
      "Would you like to quit (y/n)?  y\n"
     ]
    },
    {
     "name": "stdout",
     "output_type": "stream",
     "text": [
      "See you next time!\n"
     ]
    }
   ],
   "source": [
    "st='n'\n",
    "while st=='n':\n",
    "    x=input(\"Enter x: \")\n",
    "    y=input(\"Enter y: \")\n",
    "    if (x.isdigit() or (x.startswith('-') and x[1:].isdigit())) and (y.isdigit() or (y.startswith('-') and y[1:].isdigit())):\n",
    "        sum_o=0\n",
    "        sum_e=0\n",
    "        x=int(x)\n",
    "        y=int(y)\n",
    "        if x<=y:\n",
    "            i=x\n",
    "            while i<=y:\n",
    "                if i%2==0:\n",
    "                    sum_e+=i\n",
    "                else:\n",
    "                    sum_o+=i\n",
    "                i+=1\n",
    "        else:\n",
    "            i=y\n",
    "            while i<=x:\n",
    "                if i%2==0:\n",
    "                    sum_e+=i\n",
    "                else:\n",
    "                    sum_o+=i\n",
    "                i+=1\n",
    "        print(\"Odd number sum: \",sum_o)\n",
    "        print(\"Even number sum: \",sum_e)\n",
    "    else:\n",
    "        print(\"Unsupported operation\")\n",
    "    st=input(\"Would you like to quit (y/n)? \")\n",
    "    if st=='y':\n",
    "        print(\"See you next time!\")"
   ]
  },
  {
   "cell_type": "code",
   "execution_count": null,
   "id": "afff4a84-b99f-40fc-8bcb-95cf1b35cf22",
   "metadata": {},
   "outputs": [],
   "source": []
  }
 ],
 "metadata": {
  "kernelspec": {
   "display_name": "Python [conda env:base] *",
   "language": "python",
   "name": "conda-base-py"
  },
  "language_info": {
   "codemirror_mode": {
    "name": "ipython",
    "version": 3
   },
   "file_extension": ".py",
   "mimetype": "text/x-python",
   "name": "python",
   "nbconvert_exporter": "python",
   "pygments_lexer": "ipython3",
   "version": "3.12.7"
  }
 },
 "nbformat": 4,
 "nbformat_minor": 5
}
