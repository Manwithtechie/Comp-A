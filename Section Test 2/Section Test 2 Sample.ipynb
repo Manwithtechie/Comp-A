{
 "cells": [
  {
   "cell_type": "code",
   "execution_count": 3,
   "id": "ffed9fe4-6ac1-4952-9376-853b7850aec3",
   "metadata": {},
   "outputs": [
    {
     "name": "stdout",
     "output_type": "stream",
     "text": [
      "[42, 50, 54, 58]\n"
     ]
    }
   ],
   "source": [
    "def integer_min_max(randoms,mini=40,maxi=60):\n",
    "    li=[int(x) for x in randoms if x>=mini and x<=maxi]\n",
    "    return li\n",
    "import random\n",
    "random.seed(42)\n",
    "\n",
    "randoms=[random.uniform(0,100) for _ in range(20)]\n",
    "print(integer_min_max(randoms))"
   ]
  },
  {
   "cell_type": "code",
   "execution_count": 20,
   "id": "dcd8c15f-1d87-4953-9570-c10a19171fc8",
   "metadata": {},
   "outputs": [
    {
     "name": "stdout",
     "output_type": "stream",
     "text": [
      "xxxxxxxxxx\n",
      "xxxxxxxxx.\n",
      "xxxxxxxx..\n",
      "xxxxxxx...\n",
      "xxxxxx....\n",
      "xxxxx.....\n",
      "xxxx......\n",
      "xxx.......\n",
      "xx........\n",
      "x.........\n",
      "*****\n",
      "****_\n",
      "***__\n",
      "**___\n",
      "*____\n"
     ]
    }
   ],
   "source": [
    "def pattern_printer(dim=10,fill='x',hole='.'):\n",
    "    for i in range(dim,0,-1):\n",
    "        for j in range(i):\n",
    "            print(fill,end='')\n",
    "        for j in range(i,dim):\n",
    "            print(hole,end='')\n",
    "        print()\n",
    "pattern_printer()\n",
    "pattern_printer(dim=5,fill='*',hole='_')"
   ]
  },
  {
   "cell_type": "code",
   "execution_count": 35,
   "id": "ee87f508-0dea-4bbc-ae6a-c4f047aa220e",
   "metadata": {},
   "outputs": [
    {
     "name": "stdout",
     "output_type": "stream",
     "text": [
      "{'Mercury', 'Venus'}\n",
      "{'Jupiter', 'Uranus', 'Neptune', 'Mars', 'Saturn'}\n",
      "{'Mercury', 'Uranus', 'Mars', 'Saturn', 'Venus'}\n",
      "{'Jupiter', 'Neptune'}\n",
      "{'Mars', 'Saturn', 'Uranus'}\n",
      "{'Saturn', 'Uranus'}\n"
     ]
    }
   ],
   "source": [
    "planets = {\n",
    "  'Earth': {\n",
    "    'Distance': 149.6,\n",
    "    'Gravity': 9.8},\n",
    "  'Jupiter': {\n",
    "    'Distance': 778.5,\n",
    "    'Gravity': 23.1},\n",
    " 'Mars': {\n",
    "    'Distance': 228.0,\n",
    "    'Gravity': 3.7},\n",
    " 'Mercury': {\n",
    "    'Distance': 57.9,\n",
    "    'Gravity': 3.7},\n",
    " 'Neptune': {\n",
    "    'Distance': 4515,\n",
    "    'Gravity': 11},\n",
    " 'Saturn': {\n",
    "    'Distance': 1432,\n",
    "    'Gravity': 9},\n",
    " 'Uranus': {\n",
    "    'Distance': 2867.0,\n",
    "    'Gravity': 8.7},\n",
    " 'Venus': {\n",
    "    'Distance': 108.2,\n",
    "    'Gravity': 8.9}}\n",
    "\n",
    "closer=set()\n",
    "further=set()\n",
    "less=set()\n",
    "more=set()\n",
    "\n",
    "for planet,data in planets.items():\n",
    "    if data['Distance'] < planets['Earth']['Distance']:\n",
    "        closer.add(planet)\n",
    "    elif data['Distance'] > planets['Earth']['Distance']:\n",
    "        further.add(planet)\n",
    "    if data['Gravity'] < planets['Earth']['Gravity']:\n",
    "        less.add(planet)\n",
    "    elif data['Gravity'] > planets['Earth']['Gravity']:\n",
    "        more.add(planet)\n",
    "print(closer)\n",
    "print(further)\n",
    "print(less)\n",
    "print(more)\n",
    "print(further.intersection(less))\n",
    "gas_giants = ['Jupiter', 'Saturn', 'Uranus', 'Neptune']\n",
    "print(set(gas_giants).intersection(less))"
   ]
  },
  {
   "cell_type": "code",
   "execution_count": 39,
   "id": "8b0b0788-6c0f-4842-b675-bb25906960bd",
   "metadata": {},
   "outputs": [
    {
     "name": "stdout",
     "output_type": "stream",
     "text": [
      "[True, True, False, False, False]\n"
     ]
    }
   ],
   "source": [
    "def valid_student_id(id,key='a',length=8):\n",
    "    if len(id)==length:\n",
    "        if id[0].lower()==key.lower() and id[1:].isdigit():\n",
    "            tot=0\n",
    "            for i in id[1:-2]:\n",
    "                tot+=int(i)\n",
    "            if tot==int(id[-2:]):\n",
    "                return True\n",
    "    return False\n",
    "test_ids = ['a1226415', 'A1226415', 'b1226415', 'A1241', 'a1226414']\n",
    "print([valid_student_id(id) for id in test_ids])"
   ]
  },
  {
   "cell_type": "code",
   "execution_count": 57,
   "id": "e2c3dccb-e983-481f-a4f3-bf431cae393b",
   "metadata": {},
   "outputs": [
    {
     "name": "stdout",
     "output_type": "stream",
     "text": [
      "{'Hillside Peaks': (3, 0, 0), 'Dudley Peninsulas': (1, 1, 1), 'Coromandel Kickers': (0, 2, 1), 'Kangaroo Hoppers': (1, 2, 0)}\n",
      "{'Hillside Peaks': (3, 0, 0), 'Dudley Peninsulas': (1, 1, 1), 'Coromandel Kickers': (0, 2, 1), 'Kangaroo Hoppers': (1, 2, 0)}\n"
     ]
    }
   ],
   "source": [
    "matches = [\n",
    "    [\n",
    "        {\"Hillside Peaks\" : 2,\n",
    "         \"Dudley Peninsulas\" : 0},\n",
    "        {\"Coromandel Kickers\" : 0,\n",
    "         \"Kangaroo Hoppers\" : 1}\n",
    "    ],\n",
    "    [\n",
    "        {\"Coromandel Kickers\" : 1,\n",
    "         \"Dudley Peninsulas\" : 1},\n",
    "        {\"Hillside Peaks\" : 3,\n",
    "         \"Kangaroo Hoppers\" : 1}\n",
    "    ],\n",
    "    [\n",
    "        {\"Coromandel Kickers\" : 0,\n",
    "         \"Hillside Peaks\" : 1},\n",
    "        {\"Dudley Peninsulas\" : 'bye',\n",
    "         \"Kangaroo Hoppers\" : 'bye'}\n",
    "\n",
    "    ],\n",
    "    [\n",
    "        {\"Coromandel Kickers\" : 'bye',\n",
    "         \"Hillside Peaks\" : 'bye'},\n",
    "        {\"Dudley Peninsulas\" : 13,\n",
    "         \"Kangaroo Hoppers\" : 0}\n",
    "\n",
    "    ]\n",
    "]\n",
    "def win_loss_draw(matches):\n",
    "    final={}\n",
    "    for weekend_result in matches:\n",
    "        for match in weekend_result:\n",
    "            l=[points for points in match.values()]\n",
    "            maxi=l[0]\n",
    "            if l[1]>maxi:\n",
    "                maxi=l[1]\n",
    "            elif l[1]==maxi:\n",
    "                maxi=-1\n",
    "            for team,points in match.items():\n",
    "                if points!='bye':\n",
    "                    if team not in final:\n",
    "                        if maxi==-1:\n",
    "                            final[team]=[0,0,1]\n",
    "                        elif points==maxi:\n",
    "                            final[team]=[1,0,0]\n",
    "                        else:\n",
    "                            final[team]=[0,1,0]\n",
    "                    else:\n",
    "                        if maxi==-1:\n",
    "                            final[team][2]+=1\n",
    "                        elif points==maxi:\n",
    "                            final[team][0]+=1\n",
    "                        else:\n",
    "                            final[team][1]+=1\n",
    "    for k,v in final.items():\n",
    "        final[k]=tuple(v)\n",
    "    print(final)\n",
    "win_loss_draw(matches)\n",
    "\n",
    "# Easy Way:\n",
    "def win_loss_draws(matches):\n",
    "    results = {}\n",
    "\n",
    "    for weekend in matches:\n",
    "        for match in weekend:\n",
    "            # Extract teams and points\n",
    "            teams = list(match.items())\n",
    "            team1, score1 = teams[0]\n",
    "            team2, score2 = teams[1]\n",
    "\n",
    "            # Skip bye rounds\n",
    "            if score1 == 'bye' or score2 == 'bye':\n",
    "                continue\n",
    "\n",
    "            # Initialise teams if not present\n",
    "            for team in [team1, team2]:\n",
    "                if team not in results:\n",
    "                    results[team] = [0, 0, 0]  # [wins, losses, draws]\n",
    "\n",
    "            # Determine result\n",
    "            if score1 > score2:\n",
    "                results[team1][0] += 1\n",
    "                results[team2][1] += 1\n",
    "            elif score2 > score1:\n",
    "                results[team2][0] += 1\n",
    "                results[team1][1] += 1\n",
    "            else:\n",
    "                results[team1][2] += 1\n",
    "                results[team2][2] += 1\n",
    "\n",
    "    # Convert lists to tuples\n",
    "    for team in results:\n",
    "        results[team] = tuple(results[team])\n",
    "\n",
    "    return results\n",
    "print(win_loss_draws(matches))"
   ]
  }
 ],
 "metadata": {
  "kernelspec": {
   "display_name": "Python [conda env:base] *",
   "language": "python",
   "name": "conda-base-py"
  },
  "language_info": {
   "codemirror_mode": {
    "name": "ipython",
    "version": 3
   },
   "file_extension": ".py",
   "mimetype": "text/x-python",
   "name": "python",
   "nbconvert_exporter": "python",
   "pygments_lexer": "ipython3",
   "version": "3.12.7"
  }
 },
 "nbformat": 4,
 "nbformat_minor": 5
}
