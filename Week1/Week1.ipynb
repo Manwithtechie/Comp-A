{
 "cells": [
  {
   "cell_type": "markdown",
   "id": "dd8fc124-0b71-4e88-9910-f932e2042cfc",
   "metadata": {},
   "source": [
    "# My first Python Jupyter Notebook\n",
    "This is my first Jupiter notebook"
   ]
  },
  {
   "cell_type": "code",
   "execution_count": 1,
   "id": "39e387e1-7b20-4c65-9570-4e18de231fb8",
   "metadata": {},
   "outputs": [
    {
     "name": "stdout",
     "output_type": "stream",
     "text": [
      "Help on built-in function print in module builtins:\n",
      "\n",
      "print(*args, sep=' ', end='\\n', file=None, flush=False)\n",
      "    Prints the values to a stream, or to sys.stdout by default.\n",
      "\n",
      "    sep\n",
      "      string inserted between values, default a space.\n",
      "    end\n",
      "      string appended after the last value, default a newline.\n",
      "    file\n",
      "      a file-like object (stream); defaults to the current sys.stdout.\n",
      "    flush\n",
      "      whether to forcibly flush the stream.\n",
      "\n"
     ]
    }
   ],
   "source": [
    "help(print)"
   ]
  },
  {
   "cell_type": "code",
   "execution_count": 2,
   "id": "4748bc11-9045-4def-b8b8-5111fff50ff2",
   "metadata": {},
   "outputs": [
    {
     "name": "stdout",
     "output_type": "stream",
     "text": [
      "Hello world from Jupyter Notebook!\n",
      "Hello world from Jupyter Notebook!\n"
     ]
    }
   ],
   "source": [
    "# The '#' character allows you to add comments about your code\n",
    "# alphanumeric characters in quoatations simples '' or doubles \"\"\n",
    "print('Hello world from Jupyter Notebook!')\n",
    "print(\"Hello world from Jupyter Notebook!\")"
   ]
  },
  {
   "cell_type": "code",
   "execution_count": 3,
   "id": "b9d18215-779f-4a3f-b6ea-a47cc3e533ab",
   "metadata": {},
   "outputs": [
    {
     "name": "stdout",
     "output_type": "stream",
     "text": [
      "Hello world from Jupyter Notebook!\n",
      "Hello world from Jupyter Noteboook!\n"
     ]
    }
   ],
   "source": [
    "# Assigning a value into a variable. In this case, alphanumeric characters\n",
    "firstVariable = 'Hello world from Jupyter Notebook!'\n",
    "secondVariable = \"Hello world from Jupyter Noteboook!\"\n",
    "# Printing the values of the variables\n",
    "print(firstVariable)\n",
    "print(secondVariable)"
   ]
  },
  {
   "cell_type": "code",
   "execution_count": 4,
   "id": "8bc2f922-b9fc-4025-a763-82cff4c22072",
   "metadata": {},
   "outputs": [
    {
     "name": "stdout",
     "output_type": "stream",
     "text": [
      "1/2/3/4/5/6/7/8/9/10/12."
     ]
    }
   ],
   "source": [
    "total = 10 +2\n",
    "print(1,2,3,4,5,6,7,8,9,10,total,sep=\"/\",end=\".\")"
   ]
  },
  {
   "cell_type": "markdown",
   "id": "4b69ebcc-6eae-4bb9-801d-20b550bae91b",
   "metadata": {},
   "source": [
    "### Headings\n",
    "\n",
    "# Biggest Heading\n",
    "## Sub Heading\n",
    "### Sub Sub Heading\n",
    "#### Sub SUb Sub Heading\n",
    "\n",
    "### Numbered Lists\n",
    "1. Item 1\n",
    "2. Item 2\n",
    "3. Item 3\n",
    "    1. Item 3.1\n",
    "    2. Item 3.2\n",
    "\n",
    "### Dot Points\n",
    "* Point 1\n",
    "* Point 2\n",
    "    * Subpoint 2.1\n",
    "* Point 3\n",
    "\n",
    "### Emphasis\n",
    "*Italic*\n",
    "**Bold**\n",
    "\n",
    "### Line\n",
    "***\n",
    "\n",
    "### Math Symbols\n",
    "$x=5^2$"
   ]
  },
  {
   "cell_type": "code",
   "execution_count": 6,
   "id": "1682208c-1caf-4eb9-85d2-55df04910356",
   "metadata": {},
   "outputs": [
    {
     "name": "stdout",
     "output_type": "stream",
     "text": [
      "Hello world ... Manvith Vishwanatham\n"
     ]
    }
   ],
   "source": [
    "print(\"Hello world ... Manvith Vishwanatham\")"
   ]
  },
  {
   "cell_type": "markdown",
   "id": "d42fa2a3-3cb8-4bee-b90a-2f279c442dd4",
   "metadata": {},
   "source": [
    "$\\frac{2_{1y}}{12^{12}}$"
   ]
  },
  {
   "cell_type": "markdown",
   "id": "0193029b-9f0a-4158-91da-7b3b31fb4e90",
   "metadata": {},
   "source": [
    "* [x] *Week1* **Topic1** Done"
   ]
  },
  {
   "cell_type": "code",
   "execution_count": 13,
   "id": "498a10d1-34d6-4396-9eb4-514a0fabf44d",
   "metadata": {},
   "outputs": [
    {
     "name": "stdout",
     "output_type": "stream",
     "text": [
      "Hello world from Jupyter Notebook!\n"
     ]
    }
   ],
   "source": [
    "firstVariable = 'Hello world from Jupyter Notebook!'\n",
    "#Printing the values of the variable\n",
    "print(firstVariable)"
   ]
  },
  {
   "cell_type": "code",
   "execution_count": 14,
   "id": "61196f25-682b-46b3-9d41-d9560fa276a5",
   "metadata": {},
   "outputs": [
    {
     "data": {
      "text/plain": [
       "4"
      ]
     },
     "execution_count": 14,
     "metadata": {},
     "output_type": "execute_result"
    }
   ],
   "source": [
    "# The = means assign the value on the right to the variable name on the left.\n",
    "height = 4\n",
    "# You can see the value of a variable by just typing its name\n",
    "height"
   ]
  },
  {
   "cell_type": "code",
   "execution_count": 15,
   "id": "ee622e40-813a-4172-bdaa-d03df378c781",
   "metadata": {},
   "outputs": [
    {
     "data": {
      "text/plain": [
       "21"
      ]
     },
     "execution_count": 15,
     "metadata": {},
     "output_type": "execute_result"
    }
   ],
   "source": [
    "age=21\n",
    "age"
   ]
  },
  {
   "cell_type": "code",
   "execution_count": 16,
   "id": "8ef556fe-1f21-479e-88d4-92a5486af449",
   "metadata": {},
   "outputs": [
    {
     "data": {
      "text/plain": [
       "(3.14159, False, 'Manvith')"
      ]
     },
     "execution_count": 16,
     "metadata": {},
     "output_type": "execute_result"
    }
   ],
   "source": [
    "# integer -> int\n",
    "dayOfWeek = 7\n",
    "#Float or decimal\n",
    "Pi = 3.14159\n",
    "#boolean -> bool\n",
    "isMyFirstVariable = False\n",
    "#String --> you can use single or double quotation\n",
    "name = 'Manvith'\n",
    "\n",
    "# you can print out the value of a variable by just typing its name\n",
    "Pi, isMyFirstVariable, name"
   ]
  },
  {
   "cell_type": "code",
   "execution_count": 18,
   "id": "b90eb3fa-8dcd-4b5c-8512-d14de0a2662a",
   "metadata": {},
   "outputs": [
    {
     "name": "stdout",
     "output_type": "stream",
     "text": [
      "<class 'int'>\n",
      "<class 'float'>\n",
      "<class 'bool'>\n",
      "<class 'str'>\n"
     ]
    }
   ],
   "source": [
    "# Example 2 - this code display what type is a variable using the function type (variable name)\n",
    "print(type(dayOfWeek))\n",
    "print(type(Pi))\n",
    "print(type(isMyFirstVariable))\n",
    "print(type(name))"
   ]
  },
  {
   "cell_type": "code",
   "execution_count": 22,
   "id": "0cb94c85-0ecf-4dad-8358-36765ce5c863",
   "metadata": {},
   "outputs": [
    {
     "data": {
      "text/plain": [
       "5"
      ]
     },
     "execution_count": 22,
     "metadata": {},
     "output_type": "execute_result"
    }
   ],
   "source": [
    "# Integer number example\n",
    "5"
   ]
  },
  {
   "cell_type": "code",
   "execution_count": 23,
   "id": "6f752a8e-dcdc-456c-9f4e-d5b2d70ad211",
   "metadata": {},
   "outputs": [
    {
     "data": {
      "text/plain": [
       "47"
      ]
     },
     "execution_count": 23,
     "metadata": {},
     "output_type": "execute_result"
    }
   ],
   "source": [
    "#An integer number assigned to x variable\n",
    "x=47\n",
    "x"
   ]
  },
  {
   "cell_type": "code",
   "execution_count": 24,
   "id": "fbe672d7-fa83-4720-a711-a2b1d56c01a7",
   "metadata": {},
   "outputs": [
    {
     "data": {
      "text/plain": [
       "int"
      ]
     },
     "execution_count": 24,
     "metadata": {},
     "output_type": "execute_result"
    }
   ],
   "source": [
    "#Getting the type of x\n",
    "type(x)"
   ]
  },
  {
   "cell_type": "code",
   "execution_count": 25,
   "id": "65f747ad-2a64-4743-bc25-f8f342ef3406",
   "metadata": {},
   "outputs": [
    {
     "data": {
      "text/plain": [
       "90.76"
      ]
     },
     "execution_count": 25,
     "metadata": {},
     "output_type": "execute_result"
    }
   ],
   "source": [
    "# Decimal number example\n",
    "90.76"
   ]
  },
  {
   "cell_type": "code",
   "execution_count": 26,
   "id": "6b1fc939-3fc6-45c0-9c4b-96c491990a10",
   "metadata": {},
   "outputs": [
    {
     "data": {
      "text/plain": [
       "8.256"
      ]
     },
     "execution_count": 26,
     "metadata": {},
     "output_type": "execute_result"
    }
   ],
   "source": [
    "#a decimal number assigned to d variable\n",
    "d = 8.256\n",
    "d"
   ]
  },
  {
   "cell_type": "code",
   "execution_count": 27,
   "id": "6a248ac1-cf97-4f34-912b-c248bdf99136",
   "metadata": {},
   "outputs": [
    {
     "data": {
      "text/plain": [
       "float"
      ]
     },
     "execution_count": 27,
     "metadata": {},
     "output_type": "execute_result"
    }
   ],
   "source": [
    "# Getting the type of d\n",
    "type(d)"
   ]
  },
  {
   "cell_type": "code",
   "execution_count": 28,
   "id": "f5068b1e-1475-4656-bcfb-7ef210725253",
   "metadata": {},
   "outputs": [
    {
     "data": {
      "text/plain": [
       "3.3333333333333335"
      ]
     },
     "execution_count": 28,
     "metadata": {},
     "output_type": "execute_result"
    }
   ],
   "source": [
    "# Precision limit\n",
    "10/3"
   ]
  },
  {
   "cell_type": "code",
   "execution_count": 35,
   "id": "a11bc872-f125-48a2-ab62-daffbc3a5f7a",
   "metadata": {},
   "outputs": [
    {
     "data": {
      "text/plain": [
       "4.333333333333334"
      ]
     },
     "execution_count": 35,
     "metadata": {},
     "output_type": "execute_result"
    }
   ],
   "source": [
    "# most common form round-off error is the representation error in the floating point numbers\n",
    "4.3333333333333335"
   ]
  },
  {
   "cell_type": "code",
   "execution_count": 37,
   "id": "4069985c-9099-40c9-ab15-bdcc229def3b",
   "metadata": {},
   "outputs": [
    {
     "data": {
      "text/plain": [
       "40.1"
      ]
     },
     "execution_count": 37,
     "metadata": {},
     "output_type": "execute_result"
    }
   ],
   "source": [
    "401e-1"
   ]
  },
  {
   "cell_type": "code",
   "execution_count": 38,
   "id": "52af60f5-22f0-4abd-8beb-a0f737623d48",
   "metadata": {},
   "outputs": [
    {
     "data": {
      "text/plain": [
       "1"
      ]
     },
     "execution_count": 38,
     "metadata": {},
     "output_type": "execute_result"
    }
   ],
   "source": [
    "# Note: We can use the cells as a calculator without assigning the numbers or the result in any variable\n",
    "# The result given by the cell is the last operation.\n",
    "\n",
    "3+2\n",
    "3-2\n",
    "3*2\n",
    "3/2\n",
    "3**2\n",
    "3//2\n",
    "3%2"
   ]
  },
  {
   "cell_type": "code",
   "execution_count": 39,
   "id": "8540a24f-5d27-4933-8b04-b65e3869df9b",
   "metadata": {},
   "outputs": [
    {
     "name": "stdout",
     "output_type": "stream",
     "text": [
      "3/2= 1.5\n"
     ]
    }
   ],
   "source": [
    "# You can also display a result using print\n",
    "print(\"3/2=\",3/2)"
   ]
  },
  {
   "cell_type": "code",
   "execution_count": 40,
   "id": "d3f1d61c-f46c-4399-8574-f693848fdf07",
   "metadata": {},
   "outputs": [
    {
     "name": "stdout",
     "output_type": "stream",
     "text": [
      "5\n",
      "1\n",
      "6\n",
      "1.5\n",
      "9\n",
      "1\n",
      "1\n"
     ]
    }
   ],
   "source": [
    "# Note: We can use the cells as a calculator without assigning the numbers or the result in any variable\n",
    "# The result given by the cell is the last operation.\n",
    "\n",
    "print(3+2)\n",
    "print(3-2)\n",
    "print(3*2)\n",
    "print(3/2)\n",
    "print(3**2)\n",
    "print(3//2)\n",
    "print(3%2)"
   ]
  },
  {
   "cell_type": "code",
   "execution_count": 41,
   "id": "69e20aaa-f7eb-48ac-a61d-81165f581e2d",
   "metadata": {},
   "outputs": [
    {
     "name": "stdout",
     "output_type": "stream",
     "text": [
      "5.9\n",
      "0.7000000000000002\n",
      "7.920000000000001\n",
      "1.48\n",
      "28.148742067808286\n",
      "1.0\n",
      "0.30000000000000027\n"
     ]
    }
   ],
   "source": [
    "# Note: We can use the cells as a calculator without assigning the numbers or the result in any variable\n",
    "# The result given by the cell is the last operation.\n",
    "\n",
    "print(3.3+2.6)\n",
    "print(3.2-2.5)\n",
    "print(3.6*2.2)\n",
    "print(3.7/2.5)\n",
    "print(3.8**2.5)\n",
    "print(3.7//2.5)\n",
    "print(3.1%2.8)"
   ]
  },
  {
   "cell_type": "code",
   "execution_count": 42,
   "id": "e8b5ea8a-34a5-4df6-995d-e584aacce5b9",
   "metadata": {},
   "outputs": [
    {
     "name": "stdout",
     "output_type": "stream",
     "text": [
      "5.3\n",
      "0.7000000000000002\n",
      "7.2\n",
      "1.48\n",
      "14.44\n",
      "1.0\n",
      "1.1\n"
     ]
    }
   ],
   "source": [
    "# Note: We can use the cells as a calculator without assigning the numbers or the result in any variable\n",
    "# The result given by the cell is the last operation.\n",
    "\n",
    "print(3.3+2)\n",
    "print(3.2-2.5)\n",
    "print(3.6*2)\n",
    "print(3.7/2.5)\n",
    "print(3.8**2)\n",
    "print(3.7//2.5)\n",
    "print(3.1%2)"
   ]
  },
  {
   "cell_type": "code",
   "execution_count": 48,
   "id": "252eda9d-6312-44d9-b51d-6ee9897d210c",
   "metadata": {},
   "outputs": [
    {
     "ename": "ZeroDivisionError",
     "evalue": "division by zero",
     "output_type": "error",
     "traceback": [
      "\u001b[0;31m---------------------------------------------------------------------------\u001b[0m",
      "\u001b[0;31mZeroDivisionError\u001b[0m                         Traceback (most recent call last)",
      "Cell \u001b[0;32mIn[48], line 1\u001b[0m\n\u001b[0;32m----> 1\u001b[0m \u001b[38;5;28mprint\u001b[39m(\u001b[38;5;241m2\u001b[39m\u001b[38;5;241m/\u001b[39m\u001b[38;5;241m0\u001b[39m)\n",
      "\u001b[0;31mZeroDivisionError\u001b[0m: division by zero"
     ]
    }
   ],
   "source": [
    "print(2/0)"
   ]
  },
  {
   "cell_type": "code",
   "execution_count": 43,
   "id": "76823232-7e18-40f2-b4c2-d1a246e4b4a9",
   "metadata": {},
   "outputs": [
    {
     "name": "stdout",
     "output_type": "stream",
     "text": [
      "-10 5 0\n"
     ]
    }
   ],
   "source": [
    "# Note: You can assign different variables with different values at the same time, using commas to seperate them.\n",
    "a,b,c = 10,-5,0\n",
    "a=-a\n",
    "b=-b\n",
    "c=-c\n",
    "print(a,b,c)"
   ]
  },
  {
   "cell_type": "code",
   "execution_count": 44,
   "id": "881a40c6-44ad-4a5a-a2e6-c75378d74401",
   "metadata": {},
   "outputs": [
    {
     "name": "stdout",
     "output_type": "stream",
     "text": [
      "11\n",
      "14\n"
     ]
    }
   ],
   "source": [
    "print(3+4*2)\n",
    "print((3+4)*2)"
   ]
  },
  {
   "cell_type": "code",
   "execution_count": 47,
   "id": "3787bd86-9d5d-4897-b6f1-faa74a339918",
   "metadata": {},
   "outputs": [
    {
     "name": "stdout",
     "output_type": "stream",
     "text": [
      "11.666666666666668\n",
      "10.0\n",
      "11.666666666666668\n",
      "11.666666666666666\n"
     ]
    }
   ],
   "source": [
    "print(5+10*2/3)\n",
    "print((5+10)*2/3)\n",
    "print(5+(10*2)/3)\n",
    "print(5+10*(2/3))"
   ]
  },
  {
   "cell_type": "code",
   "execution_count": 54,
   "id": "7d5d5709-9f59-4e3f-83a9-7632a4f29fdd",
   "metadata": {},
   "outputs": [],
   "source": [
    "#Note: If you don't have any output when you run this cell that means the library has been installed correctly\n",
    "import math\n",
    "import random"
   ]
  },
  {
   "cell_type": "code",
   "execution_count": 55,
   "id": "2237ec0a-56bd-45b4-8771-e89ea7c52cfc",
   "metadata": {},
   "outputs": [
    {
     "name": "stdout",
     "output_type": "stream",
     "text": [
      "['__doc__', '__file__', '__loader__', '__name__', '__package__', '__spec__', 'acos', 'acosh', 'asin', 'asinh', 'atan', 'atan2', 'atanh', 'cbrt', 'ceil', 'comb', 'copysign', 'cos', 'cosh', 'degrees', 'dist', 'e', 'erf', 'erfc', 'exp', 'exp2', 'expm1', 'fabs', 'factorial', 'floor', 'fmod', 'frexp', 'fsum', 'gamma', 'gcd', 'hypot', 'inf', 'isclose', 'isfinite', 'isinf', 'isnan', 'isqrt', 'lcm', 'ldexp', 'lgamma', 'log', 'log10', 'log1p', 'log2', 'modf', 'nan', 'nextafter', 'perm', 'pi', 'pow', 'prod', 'radians', 'remainder', 'sin', 'sinh', 'sqrt', 'sumprod', 'tan', 'tanh', 'tau', 'trunc', 'ulp']\n"
     ]
    }
   ],
   "source": [
    "print(dir(math))"
   ]
  },
  {
   "cell_type": "code",
   "execution_count": 56,
   "id": "9a9b1b4e-6bad-480e-a7a1-bd9653c7a7a9",
   "metadata": {},
   "outputs": [
    {
     "name": "stdout",
     "output_type": "stream",
     "text": [
      "Help on built-in function pow in module math:\n",
      "\n",
      "pow(x, y, /)\n",
      "    Return x**y (x to the power of y).\n",
      "\n"
     ]
    }
   ],
   "source": [
    "help(math.pow)"
   ]
  },
  {
   "cell_type": "code",
   "execution_count": 57,
   "id": "a28a31cd-fc14-4dff-b98d-db30bd9eefa6",
   "metadata": {},
   "outputs": [
    {
     "name": "stdout",
     "output_type": "stream",
     "text": [
      "8.0\n"
     ]
    }
   ],
   "source": [
    "print(math.pow(2,3))"
   ]
  },
  {
   "cell_type": "code",
   "execution_count": 59,
   "id": "466b86d7-cee1-4ea8-86ac-8061791f3525",
   "metadata": {},
   "outputs": [
    {
     "name": "stdout",
     "output_type": "stream",
     "text": [
      "720\n"
     ]
    }
   ],
   "source": [
    "#perform factorial function of 6\n",
    "print(math.factorial(6))"
   ]
  },
  {
   "cell_type": "code",
   "execution_count": 61,
   "id": "bac1083d-b8bc-4a03-a6c5-64e1d7ec17d9",
   "metadata": {},
   "outputs": [
    {
     "name": "stdout",
     "output_type": "stream",
     "text": [
      "4.0\n"
     ]
    }
   ],
   "source": [
    "# perform square root of 16\n",
    "print(math.sqrt(16))"
   ]
  },
  {
   "cell_type": "code",
   "execution_count": 63,
   "id": "437a55fa-98bd-4b9f-951f-8340b6fd715b",
   "metadata": {},
   "outputs": [
    {
     "name": "stdout",
     "output_type": "stream",
     "text": [
      "5040\n"
     ]
    }
   ],
   "source": [
    "# You can create an alias for the library to save typing when you calling the functions\n",
    "import math as m\n",
    "print(m.factorial(7))"
   ]
  },
  {
   "cell_type": "code",
   "execution_count": 65,
   "id": "c94fd79b-5820-482c-9c98-a3fdbae1be99",
   "metadata": {},
   "outputs": [
    {
     "name": "stdout",
     "output_type": "stream",
     "text": [
      "Random float number 1 is  0.9379646334824157\n",
      "Random float number 2 is  0.42132207621447415\n",
      "Random float number 3 is  0.7003600065991031\n",
      "Random float number 4 is  0.9019878542600482\n"
     ]
    }
   ],
   "source": [
    "# Random Numbers\n",
    "print(\"Random float number 1 is \", random.random())\n",
    "print(\"Random float number 2 is \", random.random())\n",
    "print(\"Random float number 3 is \", random.random())\n",
    "print(\"Random float number 4 is \", random.random())"
   ]
  },
  {
   "cell_type": "code",
   "execution_count": 68,
   "id": "b2330538-338c-449b-86b5-933f19ab7222",
   "metadata": {},
   "outputs": [
    {
     "name": "stdout",
     "output_type": "stream",
     "text": [
      "Random float number between -1.5 and 7 is:  2.1377853077731492\n",
      "Random float number between 25 and 100 is:  84.69317212170417\n"
     ]
    }
   ],
   "source": [
    "print(\"Random float number between -1.5 and 7 is: \", random.uniform(-1.5,7))\n",
    "print(\"Random float number between 25 and 100 is: \", random.uniform(25,100))"
   ]
  },
  {
   "cell_type": "code",
   "execution_count": 71,
   "id": "341eb715-b42d-4a76-b1f0-799172d8e8c9",
   "metadata": {},
   "outputs": [
    {
     "name": "stdout",
     "output_type": "stream",
     "text": [
      "-1\n",
      "338\n"
     ]
    }
   ],
   "source": [
    "# Example of random integer generation\n",
    "randomNumber=random.randint(-7,10)\n",
    "print(randomNumber)\n",
    "print(random.randint(237,600))"
   ]
  },
  {
   "cell_type": "code",
   "execution_count": 73,
   "id": "2029adf1-69fc-4046-8d6b-9c851bdf79f9",
   "metadata": {},
   "outputs": [
    {
     "name": "stdout",
     "output_type": "stream",
     "text": [
      "Hello world!\n",
      "Hello world!\n",
      "\n",
      "My name is Manvith.\n",
      "I am currently doing masters in data science\n",
      "\n"
     ]
    }
   ],
   "source": [
    "# we have dufferent ways to write strings\n",
    "str1='Hello world!'\n",
    "str2=\"Hello world!\"\n",
    "str3=\"\" # an empty string\n",
    "multilintstr=\"\"\"My name is Manvith.\n",
    "I am currently doing masters in data science\n",
    "\"\"\"\n",
    "print(str1)\n",
    "print(str2)\n",
    "print(str3)\n",
    "print(multilintstr)"
   ]
  },
  {
   "cell_type": "code",
   "execution_count": 74,
   "id": "6b54546f-2cbc-4924-a56a-1b4197fd9bc6",
   "metadata": {},
   "outputs": [
    {
     "data": {
      "text/plain": [
       "str"
      ]
     },
     "execution_count": 74,
     "metadata": {},
     "output_type": "execute_result"
    }
   ],
   "source": [
    "type(multilintstr)"
   ]
  },
  {
   "cell_type": "code",
   "execution_count": 75,
   "id": "32d07f83-5797-4819-bb78-b6cb754dc00f",
   "metadata": {},
   "outputs": [
    {
     "data": {
      "text/plain": [
       "'ABC --\\nJKH --\\n'"
      ]
     },
     "execution_count": 75,
     "metadata": {},
     "output_type": "execute_result"
    }
   ],
   "source": [
    "#\\n represents a new line\n",
    "str=\"\"\"ABC --\n",
    "JKH --\n",
    "\"\"\"\n",
    "str"
   ]
  },
  {
   "cell_type": "code",
   "execution_count": 78,
   "id": "49f7a50f-6a8c-4fb9-837b-349207c2d0e9",
   "metadata": {},
   "outputs": [
    {
     "name": "stdout",
     "output_type": "stream",
     "text": [
      "A\n",
      "B\n",
      "C\n"
     ]
    },
    {
     "data": {
      "text/plain": [
       "'A\\nB\\nC'"
      ]
     },
     "execution_count": 78,
     "metadata": {},
     "output_type": "execute_result"
    }
   ],
   "source": [
    "str=\"A\\nB\\nC\"\n",
    "print(str)\n",
    "str"
   ]
  },
  {
   "cell_type": "code",
   "execution_count": 80,
   "id": "4c02f238-4da4-4728-83b1-8a1ef8e2d118",
   "metadata": {},
   "outputs": [
    {
     "name": "stdout",
     "output_type": "stream",
     "text": [
      "K\tU\tO\n"
     ]
    },
    {
     "data": {
      "text/plain": [
       "'K\\tU\\tO'"
      ]
     },
     "execution_count": 80,
     "metadata": {},
     "output_type": "execute_result"
    }
   ],
   "source": [
    "str2='K\\tU\\tO'\n",
    "print(str2)\n",
    "str2"
   ]
  },
  {
   "cell_type": "code",
   "execution_count": 85,
   "id": "ad301d9e-81fa-4370-857e-158a4adbb72d",
   "metadata": {},
   "outputs": [
    {
     "ename": "SyntaxError",
     "evalue": "unterminated string literal (detected at line 1) (3480642970.py, line 1)",
     "output_type": "error",
     "traceback": [
      "\u001b[0;36m  Cell \u001b[0;32mIn[85], line 1\u001b[0;36m\u001b[0m\n\u001b[0;31m    str='I am Varshith's Brother.'\u001b[0m\n\u001b[0m                                 ^\u001b[0m\n\u001b[0;31mSyntaxError\u001b[0m\u001b[0;31m:\u001b[0m unterminated string literal (detected at line 1)\n"
     ]
    }
   ],
   "source": [
    "str='I am Varshith's Brother.'\n",
    "str"
   ]
  },
  {
   "cell_type": "code",
   "execution_count": 86,
   "id": "87e90c8f-3605-4f81-9d7d-566a0e8917c5",
   "metadata": {},
   "outputs": [
    {
     "name": "stdout",
     "output_type": "stream",
     "text": [
      "I am Varshith's brother.\n"
     ]
    },
    {
     "data": {
      "text/plain": [
       "\"I am Varshith's brother.\""
      ]
     },
     "execution_count": 86,
     "metadata": {},
     "output_type": "execute_result"
    }
   ],
   "source": [
    "str='I am Varshith\\'s brother.'\n",
    "print(str)\n",
    "str"
   ]
  },
  {
   "cell_type": "code",
   "execution_count": 88,
   "id": "39b9be5f-d307-48e8-9bc4-a3ccf037e690",
   "metadata": {},
   "outputs": [
    {
     "name": "stdout",
     "output_type": "stream",
     "text": [
      "I am Varshith's Brother\n"
     ]
    }
   ],
   "source": [
    "str2=\"I am Varshith's Brother\"\n",
    "print(str2)"
   ]
  },
  {
   "cell_type": "code",
   "execution_count": 92,
   "id": "924c0c42-216b-4ede-98eb-d4b49214ee60",
   "metadata": {},
   "outputs": [
    {
     "name": "stdout",
     "output_type": "stream",
     "text": [
      "Hii \"Manvith!\"\n",
      "Hii \"Manvith!\"\n"
     ]
    }
   ],
   "source": [
    "str1=\"Hii \\\"Manvith!\\\"\"\n",
    "str2='Hii \"Manvith!\"'\n",
    "print(str1)\n",
    "print(str2)"
   ]
  },
  {
   "cell_type": "code",
   "execution_count": 93,
   "id": "1741180a-ee97-4cd7-8bc5-20be1f043d5a",
   "metadata": {},
   "outputs": [
    {
     "name": "stdout",
     "output_type": "stream",
     "text": [
      "Tia's\n",
      "his\n",
      "students'\n",
      "\n"
     ]
    }
   ],
   "source": [
    "str=\"\"\"Tia's\n",
    "his\n",
    "students'\n",
    "\"\"\"\n",
    "print(str)"
   ]
  },
  {
   "cell_type": "code",
   "execution_count": 94,
   "id": "b46f3e1b-b195-4c42-bb7e-56c2d82b71cc",
   "metadata": {},
   "outputs": [
    {
     "name": "stdout",
     "output_type": "stream",
     "text": [
      "My cat's favourite food is tuna.\n"
     ]
    }
   ],
   "source": [
    "print(\"My cat's favourite food is tuna.\")"
   ]
  },
  {
   "cell_type": "markdown",
   "id": "e38c3381-54cf-41c8-a7e9-3edef2e9ef59",
   "metadata": {},
   "source": [
    "### Basic String Operations"
   ]
  },
  {
   "cell_type": "code",
   "execution_count": 98,
   "id": "4327832c-8486-4777-bb10-465663fad87d",
   "metadata": {},
   "outputs": [
    {
     "name": "stdout",
     "output_type": "stream",
     "text": [
      "Hello Speaking from Salisbury Downs. Just to make you believe I am here\n"
     ]
    },
    {
     "data": {
      "text/plain": [
       "'Hello Speaking from Salisbury Downs. Just to make you believe I am here'"
      ]
     },
     "execution_count": 98,
     "metadata": {},
     "output_type": "execute_result"
    }
   ],
   "source": [
    "# Concatenation\n",
    "str1=\"Hello \"\n",
    "str2=\"Speaking from Salisbury Downs. \"\n",
    "str3=\"Just to make you believe I am here\"\n",
    "print(str1+str2+str3)\n",
    "str1+str2+str3"
   ]
  },
  {
   "cell_type": "code",
   "execution_count": 99,
   "id": "6c909029-cecb-44a1-88b6-0c8d4d28a279",
   "metadata": {},
   "outputs": [
    {
     "name": "stdout",
     "output_type": "stream",
     "text": [
      "Another way: Hello Speaking from Salisbury Downs. \n"
     ]
    }
   ],
   "source": [
    "str4=str1+str2\n",
    "print(\"Another way: \" + str4)"
   ]
  },
  {
   "cell_type": "code",
   "execution_count": 102,
   "id": "d4b86ed9-266c-44ab-9464-26ac90e508b0",
   "metadata": {},
   "outputs": [
    {
     "data": {
      "text/plain": [
       "'Manvith Manvith '"
      ]
     },
     "execution_count": 102,
     "metadata": {},
     "output_type": "execute_result"
    }
   ],
   "source": [
    "# Repeating string for n times\n",
    "str=\"Manvith \"\n",
    "str*2"
   ]
  },
  {
   "cell_type": "code",
   "execution_count": 105,
   "id": "cc782fef-9430-4538-825e-451d7ac3565c",
   "metadata": {},
   "outputs": [
    {
     "name": "stdout",
     "output_type": "stream",
     "text": [
      "Hi Hi Hi Hi Hi Hi Hi Hi \n"
     ]
    }
   ],
   "source": [
    "str1=\"Hi \"*2\n",
    "print(str1*4)"
   ]
  },
  {
   "cell_type": "code",
   "execution_count": 106,
   "id": "3406b41a-0359-4195-9b8c-84e384a8323d",
   "metadata": {},
   "outputs": [
    {
     "name": "stdout",
     "output_type": "stream",
     "text": [
      "24\n"
     ]
    }
   ],
   "source": [
    "print(len(str1*4))"
   ]
  },
  {
   "cell_type": "code",
   "execution_count": 109,
   "id": "cb605244-b967-4195-9696-bb39b433daa1",
   "metadata": {},
   "outputs": [
    {
     "name": "stdin",
     "output_type": "stream",
     "text": [
      "Where do you live in South Australia?  Salisbury\n"
     ]
    },
    {
     "name": "stdout",
     "output_type": "stream",
     "text": [
      "Salisbury is a great place to stay\n"
     ]
    }
   ],
   "source": [
    "address = input(\"Where do you live in South Australia? \")\n",
    "print(address+ \" is a great place to stay.\")"
   ]
  },
  {
   "cell_type": "code",
   "execution_count": 110,
   "id": "5e09a992-e549-4546-973b-e213530863c8",
   "metadata": {},
   "outputs": [
    {
     "name": "stdin",
     "output_type": "stream",
     "text": [
      "Str1:  Hii\n",
      "Str2:  I am Manvith\n",
      "Str3:  I am student in University of Adelaide\n"
     ]
    },
    {
     "name": "stdout",
     "output_type": "stream",
     "text": [
      "HiiHiiHiiHiiHiiHiiHiiHii\n",
      "HiiI am ManvithI am student in University of Adelaide\n",
      "Length of str1:  3\n",
      "Length of str2:  12\n",
      "Length of str3:  38\n"
     ]
    }
   ],
   "source": [
    "str1=input(\"Str1: \")\n",
    "str2=input(\"Str2: \")\n",
    "str3=input(\"Str3: \")\n",
    "print(str1*8)\n",
    "print(str1+str2+str3)\n",
    "print(\"Length of str1: \",len(str1))\n",
    "print(\"Length of str2: \",len(str2))\n",
    "print(\"Length of str3: \",len(str3))"
   ]
  },
  {
   "cell_type": "code",
   "execution_count": 114,
   "id": "ad6ef338-a024-471f-8c08-bc4d02d70400",
   "metadata": {},
   "outputs": [
    {
     "name": "stdout",
     "output_type": "stream",
     "text": [
      "MANVITH\n",
      "manvith\n",
      "Manvit\n",
      "0\n",
      "True\n",
      "Manvith\n"
     ]
    }
   ],
   "source": [
    "# Some built in methods\n",
    "str=\"Manvith\"\n",
    "print(str.upper())\n",
    "print(str.lower())\n",
    "print(str.replace('h',''))\n",
    "print(str.count('e'))\n",
    "print(str.isalpha())\n",
    "print(str) #This won't change anything. I need to assign that operation again back to my variable"
   ]
  },
  {
   "cell_type": "code",
   "execution_count": 123,
   "id": "260cc6a8-77fc-4bdb-b527-a763eaa210c1",
   "metadata": {},
   "outputs": [
    {
     "name": "stdout",
     "output_type": "stream",
     "text": [
      "The string only contains letters?  False\n"
     ]
    }
   ],
   "source": [
    "str=\"Man123\"\n",
    "print(\"The string only contains letters? \",str.isalpha())"
   ]
  },
  {
   "cell_type": "code",
   "execution_count": 125,
   "id": "3d003985-9fe3-4094-ac13-c65b4da96fdc",
   "metadata": {},
   "outputs": [
    {
     "name": "stdout",
     "output_type": "stream",
     "text": [
      "<class 'bool'>\n",
      "<class 'bool'>\n"
     ]
    },
    {
     "ename": "NameError",
     "evalue": "name 'true' is not defined",
     "output_type": "error",
     "traceback": [
      "\u001b[0;31m---------------------------------------------------------------------------\u001b[0m",
      "\u001b[0;31mNameError\u001b[0m                                 Traceback (most recent call last)",
      "Cell \u001b[0;32mIn[125], line 5\u001b[0m\n\u001b[1;32m      3\u001b[0m \u001b[38;5;28mprint\u001b[39m(\u001b[38;5;28mtype\u001b[39m(x))\n\u001b[1;32m      4\u001b[0m \u001b[38;5;28mprint\u001b[39m(\u001b[38;5;28mtype\u001b[39m(y))\n\u001b[0;32m----> 5\u001b[0m x\u001b[38;5;241m=\u001b[39mtrue\n",
      "\u001b[0;31mNameError\u001b[0m: name 'true' is not defined"
     ]
    }
   ],
   "source": [
    "x=True\n",
    "y=False\n",
    "print(type(x))\n",
    "print(type(y))\n",
    "x=true # It must me 'True'"
   ]
  },
  {
   "cell_type": "code",
   "execution_count": 126,
   "id": "76f4aeca-dea6-471c-93a0-e86be72221ff",
   "metadata": {},
   "outputs": [
    {
     "name": "stdout",
     "output_type": "stream",
     "text": [
      "<class 'NoneType'>\n"
     ]
    }
   ],
   "source": [
    "print(type(None))"
   ]
  },
  {
   "cell_type": "code",
   "execution_count": 129,
   "id": "e7fcb596-6b3f-49a6-bcb9-ccf25c567252",
   "metadata": {},
   "outputs": [
    {
     "name": "stdout",
     "output_type": "stream",
     "text": [
      "VariableName         Value                   Type\n",
      "-----------------------------------------------------------------\n",
      "daysOfWeek         7                   <class 'int'>\n",
      "Pi                 3.141592653589793   <class 'float'>\n",
      "isMyFirstVariable  True               <class 'bool'>\n",
      "name               Manvith                <class 'str'>\n"
     ]
    }
   ],
   "source": [
    "#Including libraries \n",
    "import math\n",
    "\n",
    "# integer -> int\n",
    "daysOfWeek = 7\n",
    "\n",
    "#Float or decimal \n",
    "Pi = math.pi\n",
    "\n",
    "#boolean -> bool \n",
    "isMyFirstVariable = True\n",
    "\n",
    "#String --> you can use single or double quotation\n",
    "name = 'Manvith'\n",
    "\n",
    "#Printing the value of the variables and their type\n",
    "print('VariableName         Value                   Type')\n",
    "print('-----------------------------------------------------------------')\n",
    "print ('daysOfWeek        ',daysOfWeek,'                 ', type(daysOfWeek))\n",
    "print ('Pi                ',Pi,' ', type(Pi))\n",
    "print ('isMyFirstVariable ',isMyFirstVariable,'             ', type(isMyFirstVariable))\n",
    "print ('name              ',name,'              ', type(name))\n",
    "#"
   ]
  },
  {
   "cell_type": "code",
   "execution_count": 138,
   "id": "fef6ec9f-bb69-4a2a-9105-c83a557f3805",
   "metadata": {},
   "outputs": [
    {
     "name": "stdout",
     "output_type": "stream",
     "text": [
      "125\n",
      "125 3 1\n",
      "VariableName       Value     Type\n",
      "------------------------------------------\n",
      "str1_int           125   <class 'int'>\n",
      "Pi                 3     <class 'int'>\n",
      "isMyFirstVariable  1     <class 'int'>\n"
     ]
    }
   ],
   "source": [
    "# Converting any type to int\n",
    "\n",
    "str1='125'\n",
    "str1_int=int(str1) #Casting from string to int\n",
    "print(str1)\n",
    "Pi=int(Pi) # When you convert from float to int, you lose the precision decimals\n",
    "isMyFirstVariable=int(isMyFirstVariable)\n",
    "print(str1_int, Pi,isMyFirstVariable)\n",
    "print('VariableName       Value     Type')\n",
    "print('------------------------------------------')\n",
    "print ('str1_int          ',str1_int,' ', type(str1_int))\n",
    "print ('Pi                ',Pi,'   ', type(Pi))\n",
    "print ('isMyFirstVariable ',isMyFirstVariable,'   ', type(isMyFirstVariable))\n",
    "#NOTE: datetime.date type cannot convert to a int "
   ]
  },
  {
   "cell_type": "code",
   "execution_count": 139,
   "id": "f59de9e8-ca96-48f7-b771-614fbda69647",
   "metadata": {},
   "outputs": [
    {
     "name": "stdout",
     "output_type": "stream",
     "text": [
      "str_boolean:  True  Type <class 'bool'>\n",
      "str_boolean:  False  Type <class 'bool'>\n",
      "False\n"
     ]
    }
   ],
   "source": [
    "#Converting a string to a boolean variable\n",
    "# All strings convert to True unless they are empty!\n",
    "str='False'\n",
    "str_boolean=bool(str)\n",
    "print('str_boolean: ',str_boolean,' Type', type(str_boolean))\n",
    "\n",
    "# Using an empty string\n",
    "str=''\n",
    "str_boolean=bool(str)\n",
    "print('str_boolean: ',str_boolean,' Type', type(str_boolean))\n",
    "#NOTE: To get boolean False when string is 'False' you have to write a conditional logic code\n",
    "#Like:\n",
    "str='False'\n",
    "if str.lower()=='false':\n",
    "    str_bool=False\n",
    "else:\n",
    "    str_bool=True\n",
    "print(str_bool)"
   ]
  },
  {
   "cell_type": "code",
   "execution_count": 140,
   "id": "fe502a74-2ff8-4b88-ae67-ece3df198bec",
   "metadata": {},
   "outputs": [
    {
     "name": "stdout",
     "output_type": "stream",
     "text": [
      "intbool:  False  Type <class 'bool'>\n",
      "intbigbool:  True  Type <class 'bool'>\n",
      "floatbool:  True  Type <class 'bool'>\n"
     ]
    }
   ],
   "source": [
    "#Converting a number to a boolean variable\n",
    "#All non-zero values are True!!!\n",
    "\n",
    "intNum=0 #integer number\n",
    "floatNum=1.0 #float number\n",
    "intBig=-45\n",
    "intBigBool=bool(intBig)\n",
    "intbool=bool(intNum) #Converting a integer value to boolean\n",
    "floatbool=bool(floatNum) #Converting a float value to boolean\n",
    "\n",
    "print('intbool: ',intbool,' Type',type(intbool))\n",
    "print('intbigbool: ',intBigBool,' Type',type(intBigBool))\n",
    "print('floatbool: ',floatbool,' Type',type(floatbool))"
   ]
  },
  {
   "cell_type": "code",
   "execution_count": 141,
   "id": "ea61b783-2c2f-4882-ab7b-c060ddf646a7",
   "metadata": {},
   "outputs": [
    {
     "name": "stdout",
     "output_type": "stream",
     "text": [
      "True\n",
      "True\n",
      "False\n"
     ]
    }
   ],
   "source": [
    "print(bool(-45))\n",
    "print(bool(45))\n",
    "print(bool(0))"
   ]
  },
  {
   "cell_type": "code",
   "execution_count": 145,
   "id": "2fc13ccf-0e5c-4f37-8bd5-5bd4d426423e",
   "metadata": {},
   "outputs": [
    {
     "name": "stdin",
     "output_type": "stream",
     "text": [
      "Enter your name:  Manvith\n"
     ]
    },
    {
     "name": "stdout",
     "output_type": "stream",
     "text": [
      "Manvith\n",
      "<class 'str'>\n"
     ]
    },
    {
     "name": "stdin",
     "output_type": "stream",
     "text": [
      "Enter a number:  4\n"
     ]
    },
    {
     "name": "stdout",
     "output_type": "stream",
     "text": [
      "4\n",
      "<class 'str'>\n"
     ]
    },
    {
     "name": "stdin",
     "output_type": "stream",
     "text": [
      "Enter a number:  5\n"
     ]
    },
    {
     "name": "stdout",
     "output_type": "stream",
     "text": [
      "5\n",
      "<class 'int'>\n"
     ]
    },
    {
     "ename": "TypeError",
     "evalue": "must be real number, not str",
     "output_type": "error",
     "traceback": [
      "\u001b[0;31m---------------------------------------------------------------------------\u001b[0m",
      "\u001b[0;31mTypeError\u001b[0m                                 Traceback (most recent call last)",
      "Cell \u001b[0;32mIn[145], line 12\u001b[0m\n\u001b[1;32m     10\u001b[0m \u001b[38;5;28mprint\u001b[39m(number1)\n\u001b[1;32m     11\u001b[0m \u001b[38;5;28mprint\u001b[39m(\u001b[38;5;28mtype\u001b[39m(number1))\n\u001b[0;32m---> 12\u001b[0m \u001b[38;5;28mprint\u001b[39m(math\u001b[38;5;241m.\u001b[39msqrt(number))\n",
      "\u001b[0;31mTypeError\u001b[0m: must be real number, not str"
     ]
    }
   ],
   "source": [
    "# Converting user input\n",
    "# getting user's name\n",
    "name=input(\"Enter your name: \")\n",
    "print(name)\n",
    "print(type(name))\n",
    "number=input(\"Enter a number: \")\n",
    "print(number)\n",
    "print(type(number))\n",
    "number1=int(input(\"Enter a number: \"))\n",
    "print(number1)\n",
    "print(type(number1))\n",
    "print(math.sqrt(number)) # You cannot perform square root as number is string."
   ]
  },
  {
   "cell_type": "code",
   "execution_count": 150,
   "id": "4dc324dc-d175-4fa3-82ec-335b88121848",
   "metadata": {},
   "outputs": [
    {
     "name": "stdin",
     "output_type": "stream",
     "text": [
      "Enter a number:  2\n"
     ]
    },
    {
     "name": "stdout",
     "output_type": "stream",
     "text": [
      "2\n"
     ]
    },
    {
     "name": "stdin",
     "output_type": "stream",
     "text": [
      "Enter a number:  3.4\n"
     ]
    },
    {
     "data": {
      "text/plain": [
       "3.4"
      ]
     },
     "execution_count": 150,
     "metadata": {},
     "output_type": "execute_result"
    }
   ],
   "source": [
    "num=int(input(\"Enter a number: \")) #You cannot give a float value as input for int.\n",
    "print(num)\n",
    "num1=float(input(\"Enter a number: \")) # But you can give int to float\n",
    "num1"
   ]
  },
  {
   "cell_type": "code",
   "execution_count": 152,
   "id": "85e17209-ce83-4385-be27-2704b332bf26",
   "metadata": {},
   "outputs": [
    {
     "name": "stdin",
     "output_type": "stream",
     "text": [
      "Enter a number:  4\n"
     ]
    },
    {
     "name": "stdout",
     "output_type": "stream",
     "text": [
      "<class 'str'>\n",
      "4\n",
      "<class 'int'>\n",
      "4.0\n",
      "<class 'float'>\n"
     ]
    }
   ],
   "source": [
    "#Task1\n",
    "num=input(\"Enter a number: \")\n",
    "print(type(num))\n",
    "num1=int(num)\n",
    "print(num1)\n",
    "print(type(num1))\n",
    "num2=float(num)\n",
    "print(num2)\n",
    "print(type(num2))"
   ]
  },
  {
   "cell_type": "code",
   "execution_count": 158,
   "id": "86cb5370-bfa6-41d4-93dd-3a9161aecee0",
   "metadata": {},
   "outputs": [
    {
     "name": "stdin",
     "output_type": "stream",
     "text": [
      "Enter your first number:  4\n",
      "Enter your second number:  2\n"
     ]
    },
    {
     "name": "stdout",
     "output_type": "stream",
     "text": [
      "4\n",
      "2\n",
      "-0.6536436208636119\n",
      "54.598150033144236\n",
      "1.4142135623730951\n",
      "0.6931471805599453\n",
      "24\n"
     ]
    }
   ],
   "source": [
    "#Task2\n",
    "num1=int(input(\"Enter your first number: \"))\n",
    "num2=int(input(\"Enter your second number: \"))\n",
    "print(num1)\n",
    "print(num2)\n",
    "print(math.cos(num1))\n",
    "print(math.exp(num1))\n",
    "print(math.sqrt(num2))\n",
    "print(math.log(num2))\n",
    "print(math.factorial(num1))"
   ]
  },
  {
   "cell_type": "code",
   "execution_count": null,
   "id": "3159bfb4-bf9a-4289-9bc3-633053e70e14",
   "metadata": {},
   "outputs": [],
   "source": [
    "# Add discoveries on python type conversion more from online sources"
   ]
  },
  {
   "cell_type": "markdown",
   "id": "87ef2b1b-5554-4ff6-9e9f-777d552d8c8f",
   "metadata": {},
   "source": [
    "# Workshop 1"
   ]
  },
  {
   "cell_type": "code",
   "execution_count": 165,
   "id": "8e87e4fc-8d86-4ea4-a490-3f5d5a90b5a7",
   "metadata": {},
   "outputs": [
    {
     "data": {
      "text/plain": [
       "\u001b[0;31mSignature:\u001b[0m \u001b[0mprint\u001b[0m\u001b[0;34m(\u001b[0m\u001b[0;34m*\u001b[0m\u001b[0margs\u001b[0m\u001b[0;34m,\u001b[0m \u001b[0msep\u001b[0m\u001b[0;34m=\u001b[0m\u001b[0;34m' '\u001b[0m\u001b[0;34m,\u001b[0m \u001b[0mend\u001b[0m\u001b[0;34m=\u001b[0m\u001b[0;34m'\\n'\u001b[0m\u001b[0;34m,\u001b[0m \u001b[0mfile\u001b[0m\u001b[0;34m=\u001b[0m\u001b[0;32mNone\u001b[0m\u001b[0;34m,\u001b[0m \u001b[0mflush\u001b[0m\u001b[0;34m=\u001b[0m\u001b[0;32mFalse\u001b[0m\u001b[0;34m)\u001b[0m\u001b[0;34m\u001b[0m\u001b[0;34m\u001b[0m\u001b[0m\n",
       "\u001b[0;31mDocstring:\u001b[0m\n",
       "Prints the values to a stream, or to sys.stdout by default.\n",
       "\n",
       "sep\n",
       "  string inserted between values, default a space.\n",
       "end\n",
       "  string appended after the last value, default a newline.\n",
       "file\n",
       "  a file-like object (stream); defaults to the current sys.stdout.\n",
       "flush\n",
       "  whether to forcibly flush the stream.\n",
       "\u001b[0;31mType:\u001b[0m      builtin_function_or_method"
      ]
     },
     "metadata": {},
     "output_type": "display_data"
    }
   ],
   "source": [
    "# or u can use help(print)\n",
    "print?"
   ]
  },
  {
   "cell_type": "code",
   "execution_count": 166,
   "id": "ab2beccf-f0bd-44df-ab3e-edafe7018fba",
   "metadata": {},
   "outputs": [
    {
     "name": "stdout",
     "output_type": "stream",
     "text": [
      "25-03-2003\n"
     ]
    }
   ],
   "source": [
    "print('25-03-2003') # My Birth Date."
   ]
  },
  {
   "cell_type": "code",
   "execution_count": 167,
   "id": "b657ad0d-73a8-4286-95f7-9d033f0e331a",
   "metadata": {},
   "outputs": [
    {
     "name": "stdout",
     "output_type": "stream",
     "text": [
      "9 5.0 3.0\n"
     ]
    }
   ],
   "source": [
    "print(4+5,10/2,(4+5)/3)"
   ]
  },
  {
   "cell_type": "code",
   "execution_count": 170,
   "id": "ff27242d-508b-4bef-9aef-830eba721e20",
   "metadata": {},
   "outputs": [
    {
     "name": "stdout",
     "output_type": "stream",
     "text": [
      "Hello!\n",
      "Hello! how are you?\n",
      "Hello! how are you? my age is:  21\n",
      "Hello! how are you? I Love Programming\n",
      "Hello! \\how are you?\\I love Python\n"
     ]
    },
    {
     "data": {
      "text/plain": [
       "(None, None, None, None, None)"
      ]
     },
     "execution_count": 170,
     "metadata": {},
     "output_type": "execute_result"
    }
   ],
   "source": [
    "print(\"Hello!\"), print(\"Hello!\",\"how are you?\"), print(\"Hello!\", \"how are you?\", \"my age is: \",21), print(\"Hello!\", \"how are you?\", \"I Love Programming\"), print(\"Hello! \", \"how are you?\", \"I love Python\", sep=\"\\\\\")"
   ]
  },
  {
   "cell_type": "code",
   "execution_count": 175,
   "id": "5249e1c6-a26f-4368-8d6f-8286b24df5f7",
   "metadata": {},
   "outputs": [
    {
     "name": "stdout",
     "output_type": "stream",
     "text": [
      "Name: Manvith Vishwanatham\n",
      "Age: 21\n",
      "Height: 165cm\n"
     ]
    }
   ],
   "source": [
    "print(\"Name: Manvith\"+\" Vishwanatham\"+\"\\n\"+\"Age: 21\"+\"\\n\"+\"Height: 165cm\")"
   ]
  },
  {
   "cell_type": "markdown",
   "id": "9451cb5d-0b6c-4833-97a3-af8bf74f16b0",
   "metadata": {},
   "source": [
    "# Heading One\n",
    "## Heading Two\n",
    "### Heading Three\n",
    "#### Heading Four\n",
    "##### Heading Five\n",
    "###### Heading Six"
   ]
  },
  {
   "cell_type": "markdown",
   "id": "d6137dce-8ca9-4399-a441-7a4375a46659",
   "metadata": {},
   "source": [
    "*italic* **bold**"
   ]
  },
  {
   "cell_type": "markdown",
   "id": "0555111d-8d98-4dfd-8260-7821133f8a3c",
   "metadata": {},
   "source": [
    "* One\n",
    "    * Sublist\n",
    "      * This"
   ]
  },
  {
   "cell_type": "markdown",
   "id": "686c3ef5-604b-4069-914f-f8fe7de2341d",
   "metadata": {},
   "source": [
    "* [x] Complete Python programming exercises\n",
    "* [ ] Practice mathematical formulas such as y=mx+c and $ V=\\frac{1}{3}\\pi r^2 h$\n",
    "* [ ] Learn Python **variables and types**"
   ]
  },
  {
   "cell_type": "markdown",
   "id": "40e33995-2c32-41a8-b8f6-52427d4868f1",
   "metadata": {},
   "source": [
    "```python\n",
    "print(\"Manvith\")\n",
    "```"
   ]
  },
  {
   "cell_type": "markdown",
   "id": "2ecf14c3-28ce-4a88-9014-7536ec016641",
   "metadata": {},
   "source": [
    "```python\n",
    "print(\"Manvith\")\n",
    "print(1+2)\n",
    "# just for markdown code display it wont print the python code\n",
    "```"
   ]
  },
  {
   "cell_type": "markdown",
   "id": "1a6fb09c-1b9e-46e1-9df1-23cbeae5f081",
   "metadata": {},
   "source": [
    "# Heading 1\n",
    "# Headind 2\n",
    "## Heading 2.1\n",
    "## Heading 2.2\n"
   ]
  },
  {
   "cell_type": "markdown",
   "id": "2f11c807-dc74-46b8-9170-dce359e0c3ac",
   "metadata": {},
   "source": [
    "#### Latex expression\n",
    "$e^{i\\pi}+1=0$"
   ]
  },
  {
   "cell_type": "markdown",
   "id": "92d12a55-e8f0-4b6d-aa68-bc4a093ea869",
   "metadata": {},
   "source": [
    "| This | is   |\n",
    "|------|------|\n",
    "|   a  | table| "
   ]
  },
  {
   "cell_type": "markdown",
   "id": "fd90e142-70f0-4def-b623-38835f80db3e",
   "metadata": {},
   "source": [
    "|    Name              |  Syntax                              |\n",
    "|----------------------|--------------------------------------|\n",
    "|~Italic~Bold          |**This is Bold**                      |\n",
    "|Bold and Italic       |**This text is *extremely* important**| "
   ]
  },
  {
   "cell_type": "markdown",
   "id": "1ca70844-296f-4b21-8d9f-dae513772e58",
   "metadata": {},
   "source": [
    "# Workshop 2"
   ]
  },
  {
   "cell_type": "code",
   "execution_count": 178,
   "id": "bafd97f2-4e47-4b99-a725-627a48518e1b",
   "metadata": {},
   "outputs": [
    {
     "name": "stdout",
     "output_type": "stream",
     "text": [
      "Help on float object:\n",
      "\n",
      "class float(object)\n",
      " |  float(x=0, /)\n",
      " |\n",
      " |  Convert a string or number to a floating-point number, if possible.\n",
      " |\n",
      " |  Methods defined here:\n",
      " |\n",
      " |  __abs__(self, /)\n",
      " |      abs(self)\n",
      " |\n",
      " |  __add__(self, value, /)\n",
      " |      Return self+value.\n",
      " |\n",
      " |  __bool__(self, /)\n",
      " |      True if self else False\n",
      " |\n",
      " |  __ceil__(self, /)\n",
      " |      Return the ceiling as an Integral.\n",
      " |\n",
      " |  __divmod__(self, value, /)\n",
      " |      Return divmod(self, value).\n",
      " |\n",
      " |  __eq__(self, value, /)\n",
      " |      Return self==value.\n",
      " |\n",
      " |  __float__(self, /)\n",
      " |      float(self)\n",
      " |\n",
      " |  __floor__(self, /)\n",
      " |      Return the floor as an Integral.\n",
      " |\n",
      " |  __floordiv__(self, value, /)\n",
      " |      Return self//value.\n",
      " |\n",
      " |  __format__(self, format_spec, /)\n",
      " |      Formats the float according to format_spec.\n",
      " |\n",
      " |  __ge__(self, value, /)\n",
      " |      Return self>=value.\n",
      " |\n",
      " |  __getnewargs__(self, /)\n",
      " |\n",
      " |  __gt__(self, value, /)\n",
      " |      Return self>value.\n",
      " |\n",
      " |  __hash__(self, /)\n",
      " |      Return hash(self).\n",
      " |\n",
      " |  __int__(self, /)\n",
      " |      int(self)\n",
      " |\n",
      " |  __le__(self, value, /)\n",
      " |      Return self<=value.\n",
      " |\n",
      " |  __lt__(self, value, /)\n",
      " |      Return self<value.\n",
      " |\n",
      " |  __mod__(self, value, /)\n",
      " |      Return self%value.\n",
      " |\n",
      " |  __mul__(self, value, /)\n",
      " |      Return self*value.\n",
      " |\n",
      " |  __ne__(self, value, /)\n",
      " |      Return self!=value.\n",
      " |\n",
      " |  __neg__(self, /)\n",
      " |      -self\n",
      " |\n",
      " |  __pos__(self, /)\n",
      " |      +self\n",
      " |\n",
      " |  __pow__(self, value, mod=None, /)\n",
      " |      Return pow(self, value, mod).\n",
      " |\n",
      " |  __radd__(self, value, /)\n",
      " |      Return value+self.\n",
      " |\n",
      " |  __rdivmod__(self, value, /)\n",
      " |      Return divmod(value, self).\n",
      " |\n",
      " |  __repr__(self, /)\n",
      " |      Return repr(self).\n",
      " |\n",
      " |  __rfloordiv__(self, value, /)\n",
      " |      Return value//self.\n",
      " |\n",
      " |  __rmod__(self, value, /)\n",
      " |      Return value%self.\n",
      " |\n",
      " |  __rmul__(self, value, /)\n",
      " |      Return value*self.\n",
      " |\n",
      " |  __round__(self, ndigits=None, /)\n",
      " |      Return the Integral closest to x, rounding half toward even.\n",
      " |\n",
      " |      When an argument is passed, work like built-in round(x, ndigits).\n",
      " |\n",
      " |  __rpow__(self, value, mod=None, /)\n",
      " |      Return pow(value, self, mod).\n",
      " |\n",
      " |  __rsub__(self, value, /)\n",
      " |      Return value-self.\n",
      " |\n",
      " |  __rtruediv__(self, value, /)\n",
      " |      Return value/self.\n",
      " |\n",
      " |  __sub__(self, value, /)\n",
      " |      Return self-value.\n",
      " |\n",
      " |  __truediv__(self, value, /)\n",
      " |      Return self/value.\n",
      " |\n",
      " |  __trunc__(self, /)\n",
      " |      Return the Integral closest to x between 0 and x.\n",
      " |\n",
      " |  as_integer_ratio(self, /)\n",
      " |      Return a pair of integers, whose ratio is exactly equal to the original float.\n",
      " |\n",
      " |      The ratio is in lowest terms and has a positive denominator.  Raise\n",
      " |      OverflowError on infinities and a ValueError on NaNs.\n",
      " |\n",
      " |      >>> (10.0).as_integer_ratio()\n",
      " |      (10, 1)\n",
      " |      >>> (0.0).as_integer_ratio()\n",
      " |      (0, 1)\n",
      " |      >>> (-.25).as_integer_ratio()\n",
      " |      (-1, 4)\n",
      " |\n",
      " |  conjugate(self, /)\n",
      " |      Return self, the complex conjugate of any float.\n",
      " |\n",
      " |  hex(self, /)\n",
      " |      Return a hexadecimal representation of a floating-point number.\n",
      " |\n",
      " |      >>> (-0.1).hex()\n",
      " |      '-0x1.999999999999ap-4'\n",
      " |      >>> 3.14159.hex()\n",
      " |      '0x1.921f9f01b866ep+1'\n",
      " |\n",
      " |  is_integer(self, /)\n",
      " |      Return True if the float is an integer.\n",
      " |\n",
      " |  ----------------------------------------------------------------------\n",
      " |  Class methods defined here:\n",
      " |\n",
      " |  __getformat__(typestr, /)\n",
      " |      You probably don't want to use this function.\n",
      " |\n",
      " |        typestr\n",
      " |          Must be 'double' or 'float'.\n",
      " |\n",
      " |      It exists mainly to be used in Python's test suite.\n",
      " |\n",
      " |      This function returns whichever of 'unknown', 'IEEE, big-endian' or 'IEEE,\n",
      " |      little-endian' best describes the format of floating-point numbers used by the\n",
      " |      C type named by typestr.\n",
      " |\n",
      " |  fromhex(string, /)\n",
      " |      Create a floating-point number from a hexadecimal string.\n",
      " |\n",
      " |      >>> float.fromhex('0x1.ffffp10')\n",
      " |      2047.984375\n",
      " |      >>> float.fromhex('-0x1p-1074')\n",
      " |      -5e-324\n",
      " |\n",
      " |  ----------------------------------------------------------------------\n",
      " |  Static methods defined here:\n",
      " |\n",
      " |  __new__(*args, **kwargs)\n",
      " |      Create and return a new object.  See help(type) for accurate signature.\n",
      " |\n",
      " |  ----------------------------------------------------------------------\n",
      " |  Data descriptors defined here:\n",
      " |\n",
      " |  imag\n",
      " |      the imaginary part of a complex number\n",
      " |\n",
      " |  real\n",
      " |      the real part of a complex number\n",
      "\n"
     ]
    }
   ],
   "source": [
    "help(random.random())"
   ]
  },
  {
   "cell_type": "code",
   "execution_count": 179,
   "id": "8ab9d08e-6d2e-4d63-96e0-493845a0ad39",
   "metadata": {},
   "outputs": [
    {
     "name": "stdout",
     "output_type": "stream",
     "text": [
      "The value of x is:  10\n"
     ]
    }
   ],
   "source": [
    "x=5\n",
    "print(\"The value of x is: \",5*2)"
   ]
  },
  {
   "cell_type": "code",
   "execution_count": 181,
   "id": "48de289f-c51e-42b6-bdbb-32a13387b9f5",
   "metadata": {},
   "outputs": [
    {
     "name": "stdout",
     "output_type": "stream",
     "text": [
      "15\n"
     ]
    }
   ],
   "source": [
    "x=10\n",
    "x=x+2\n",
    "y=3\n",
    "x=x+y\n",
    "print(x)"
   ]
  },
  {
   "cell_type": "code",
   "execution_count": 183,
   "id": "350d868e-59dd-45f3-8e51-e823a1c6afac",
   "metadata": {},
   "outputs": [
    {
     "data": {
      "text/plain": [
       "6"
      ]
     },
     "execution_count": 183,
     "metadata": {},
     "output_type": "execute_result"
    }
   ],
   "source": [
    "27%7"
   ]
  },
  {
   "cell_type": "code",
   "execution_count": 204,
   "id": "3f7d296f-0c76-4aa9-a235-33619300e95a",
   "metadata": {},
   "outputs": [
    {
     "ename": "TypeError",
     "evalue": "'str' object is not callable",
     "output_type": "error",
     "traceback": [
      "\u001b[0;31m---------------------------------------------------------------------------\u001b[0m",
      "\u001b[0;31mTypeError\u001b[0m                                 Traceback (most recent call last)",
      "Cell \u001b[0;32mIn[204], line 1\u001b[0m\n\u001b[0;32m----> 1\u001b[0m \u001b[38;5;124m'\u001b[39m\u001b[38;5;124mI have \u001b[39m\u001b[38;5;124m'\u001b[39m\u001b[38;5;241m+\u001b[39m\u001b[38;5;28mstr\u001b[39m(\u001b[38;5;241m10\u001b[39m)\u001b[38;5;241m+\u001b[39m\u001b[38;5;124m'\u001b[39m\u001b[38;5;124m bananas\u001b[39m\u001b[38;5;124m'\u001b[39m\n",
      "\u001b[0;31mTypeError\u001b[0m: 'str' object is not callable"
     ]
    }
   ],
   "source": [
    "'I have '+ str(10)+' bananas' #It works but i have used str as a variable thats the reason for the error"
   ]
  },
  {
   "cell_type": "code",
   "execution_count": 193,
   "id": "39b4071c-e36b-4176-87f0-e6fab0f026c1",
   "metadata": {},
   "outputs": [
    {
     "name": "stdout",
     "output_type": "stream",
     "text": [
      "My name is Manvith. My age is 21\n"
     ]
    }
   ],
   "source": [
    "name=\"Manvith\"\n",
    "age=21\n",
    "print(f\"My name is {name}. My age is {age}\")"
   ]
  },
  {
   "cell_type": "code",
   "execution_count": 194,
   "id": "ab90504c-2f9c-4972-967e-f23afc267587",
   "metadata": {},
   "outputs": [
    {
     "name": "stdin",
     "output_type": "stream",
     "text": [
      " 1\n",
      " 2\n"
     ]
    },
    {
     "name": "stdout",
     "output_type": "stream",
     "text": [
      "3\n"
     ]
    }
   ],
   "source": [
    "a=int(input())\n",
    "b=int(input())\n",
    "print(a+b)"
   ]
  },
  {
   "cell_type": "code",
   "execution_count": 196,
   "id": "7528a81e-1b10-49d8-997e-e11632ab942d",
   "metadata": {},
   "outputs": [
    {
     "name": "stdin",
     "output_type": "stream",
     "text": [
      "Enter tha area of the circle:  28.2743338823\n"
     ]
    },
    {
     "name": "stdout",
     "output_type": "stream",
     "text": [
      "2.9999999999995683\n"
     ]
    }
   ],
   "source": [
    "area=float(input(\"Enter tha area of the circle: \"))\n",
    "r=math.sqrt(area/math.pi)\n",
    "print(r)"
   ]
  },
  {
   "cell_type": "code",
   "execution_count": 199,
   "id": "9d78ca59-5cb5-4780-83d2-16648f52474d",
   "metadata": {},
   "outputs": [
    {
     "name": "stdout",
     "output_type": "stream",
     "text": [
      "talk is cheap\n",
      "show me the code\n"
     ]
    }
   ],
   "source": [
    "str1 = \"tALk I5 cH3AP\" \n",
    "str2 = \"5H0W m3 tH3 C0D3\"\n",
    "str1=str1.replace('5','s')\n",
    "str1=str1.replace('3','e')\n",
    "str2=str2.replace('5','s')\n",
    "str2=str2.replace('3','e')\n",
    "str2=str2.replace('0','o')\n",
    "print(str1.lower())\n",
    "print(str2.lower())"
   ]
  },
  {
   "cell_type": "code",
   "execution_count": 200,
   "id": "043c13c6-50b5-4ef1-9c7a-21f595aa79cb",
   "metadata": {},
   "outputs": [
    {
     "name": "stdout",
     "output_type": "stream",
     "text": [
      "['hi', 'this', 'is', 'a', 'string.']\n"
     ]
    }
   ],
   "source": [
    "x=\"Hi this is a string.\"\n",
    "x=x.lower()\n",
    "print(x.split())"
   ]
  },
  {
   "cell_type": "code",
   "execution_count": 203,
   "id": "4c1f8831-1bae-4234-94f1-c301cee0883a",
   "metadata": {},
   "outputs": [
    {
     "name": "stdout",
     "output_type": "stream",
     "text": [
      "6\n",
      "-4\n",
      "1876\n",
      "1876\n",
      "2.5\n"
     ]
    }
   ],
   "source": [
    "print(1 + 3 * 2 - 5 + 4)\n",
    "print(1 + 3 * (2 - 5) + 4)\n",
    "print(5**2**2*3+1)\n",
    "print(5**(2**2)*3+1)\n",
    "print(1 + 3/2)"
   ]
  },
  {
   "cell_type": "code",
   "execution_count": 218,
   "id": "153da2a9-a906-47c9-b69f-b04229a77edb",
   "metadata": {},
   "outputs": [
    {
     "name": "stdout",
     "output_type": "stream",
     "text": [
      "1.234e-04\n",
      "1.919000e-01\n",
      "2.300000e-04\n"
     ]
    }
   ],
   "source": [
    "print(format(0.0001234,\".3e\"))\n",
    "print(format(0.1919,\"e\"))\n",
    "x=0.00023\n",
    "print(f\"{x:e}\")"
   ]
  },
  {
   "cell_type": "code",
   "execution_count": 221,
   "id": "6c12c404-92c4-4c93-b7a6-e9cfc82948a8",
   "metadata": {},
   "outputs": [
    {
     "name": "stdout",
     "output_type": "stream",
     "text": [
      "How Are You? \n",
      "HOW ARE YOU? \n",
      "h$w are y$u? \n",
      "how are you? how are you? how are you? \n"
     ]
    }
   ],
   "source": [
    "x=\"how are you? \"\n",
    "print(x.title())\n",
    "print(x.upper())\n",
    "print(x.replace('o','$'))\n",
    "print(x*3)"
   ]
  },
  {
   "cell_type": "code",
   "execution_count": 222,
   "id": "573c4c94-690f-43bd-82f0-bdf858c303c1",
   "metadata": {},
   "outputs": [
    {
     "name": "stdin",
     "output_type": "stream",
     "text": [
      " 4\n",
      " 2\n"
     ]
    },
    {
     "name": "stdout",
     "output_type": "stream",
     "text": [
      "6 2 2.0 8 2 0\n"
     ]
    }
   ],
   "source": [
    "a=int(input())\n",
    "b=int(input())\n",
    "print(a+b,a-b,a/b,a*b,a//b,a%b)"
   ]
  },
  {
   "cell_type": "code",
   "execution_count": 229,
   "id": "be963533-af02-449b-84d0-b0183f540ae6",
   "metadata": {},
   "outputs": [
    {
     "name": "stdout",
     "output_type": "stream",
     "text": [
      "mnlijhgmnghfglezwq\n",
      "18\n"
     ]
    }
   ],
   "source": [
    "x=\"    \\n \\t \\t        mn,li,jhg.. ..,,m.n., gh.. fgl...e,zwq         \\n \"\n",
    "x=x.strip()\n",
    "x=x.replace(',','')\n",
    "x=x.replace('.','')\n",
    "x=x.replace(' ','')\n",
    "print(x)\n",
    "print(len(x))"
   ]
  },
  {
   "cell_type": "code",
   "execution_count": 231,
   "id": "262149ca-4a09-4abb-8f4b-370e9de6d50c",
   "metadata": {},
   "outputs": [
    {
     "name": "stdout",
     "output_type": "stream",
     "text": [
      "A A-A A\n"
     ]
    }
   ],
   "source": [
    "x=\"A A\"\n",
    "print(x,x,sep=\"-\")"
   ]
  },
  {
   "cell_type": "markdown",
   "id": "6bae58c8-ba23-4888-b0f6-79e9b89e2890",
   "metadata": {},
   "source": [
    "`k`"
   ]
  },
  {
   "cell_type": "markdown",
   "id": "16a18ae9-6075-4029-a51a-df1e0fe2c7f0",
   "metadata": {},
   "source": [
    "\"Hi\"  \"L\""
   ]
  },
  {
   "cell_type": "code",
   "execution_count": 232,
   "id": "d3ac55b2-1e38-4c22-b98b-032e47745fdd",
   "metadata": {},
   "outputs": [
    {
     "data": {
      "text/plain": [
       "3"
      ]
     },
     "execution_count": 232,
     "metadata": {},
     "output_type": "execute_result"
    }
   ],
   "source": [
    "1+2"
   ]
  },
  {
   "cell_type": "code",
   "execution_count": 235,
   "id": "6491aa66-ca51-4798-80ab-40edeb885438",
   "metadata": {},
   "outputs": [
    {
     "name": "stdout",
     "output_type": "stream",
     "text": [
      "H e l l o !\n"
     ]
    }
   ],
   "source": [
    "print(\"H\", \"e\", \"l\", \"l\", \"o\",\"!\")"
   ]
  },
  {
   "cell_type": "code",
   "execution_count": 236,
   "id": "f929c7b5-c8f0-4546-ae32-c0e4d5b8797b",
   "metadata": {},
   "outputs": [
    {
     "data": {
      "text/plain": [
       "\u001b[0;31mSignature:\u001b[0m \u001b[0mprint\u001b[0m\u001b[0;34m(\u001b[0m\u001b[0;34m*\u001b[0m\u001b[0margs\u001b[0m\u001b[0;34m,\u001b[0m \u001b[0msep\u001b[0m\u001b[0;34m=\u001b[0m\u001b[0;34m' '\u001b[0m\u001b[0;34m,\u001b[0m \u001b[0mend\u001b[0m\u001b[0;34m=\u001b[0m\u001b[0;34m'\\n'\u001b[0m\u001b[0;34m,\u001b[0m \u001b[0mfile\u001b[0m\u001b[0;34m=\u001b[0m\u001b[0;32mNone\u001b[0m\u001b[0;34m,\u001b[0m \u001b[0mflush\u001b[0m\u001b[0;34m=\u001b[0m\u001b[0;32mFalse\u001b[0m\u001b[0;34m)\u001b[0m\u001b[0;34m\u001b[0m\u001b[0;34m\u001b[0m\u001b[0m\n",
       "\u001b[0;31mDocstring:\u001b[0m\n",
       "Prints the values to a stream, or to sys.stdout by default.\n",
       "\n",
       "sep\n",
       "  string inserted between values, default a space.\n",
       "end\n",
       "  string appended after the last value, default a newline.\n",
       "file\n",
       "  a file-like object (stream); defaults to the current sys.stdout.\n",
       "flush\n",
       "  whether to forcibly flush the stream.\n",
       "\u001b[0;31mType:\u001b[0m      builtin_function_or_method"
      ]
     },
     "metadata": {},
     "output_type": "display_data"
    }
   ],
   "source": [
    "?print"
   ]
  },
  {
   "cell_type": "code",
   "execution_count": 237,
   "id": "822c953d-652e-43bb-9100-4bc23f2247f0",
   "metadata": {},
   "outputs": [
    {
     "data": {
      "text/plain": [
       "3"
      ]
     },
     "execution_count": 237,
     "metadata": {},
     "output_type": "execute_result"
    }
   ],
   "source": [
    "1+2"
   ]
  },
  {
   "cell_type": "code",
   "execution_count": 238,
   "id": "3c466824-9774-4921-97f0-19f68e249d60",
   "metadata": {},
   "outputs": [
    {
     "data": {
      "text/plain": [
       "3"
      ]
     },
     "execution_count": 238,
     "metadata": {},
     "output_type": "execute_result"
    }
   ],
   "source": [
    "1+2"
   ]
  },
  {
   "cell_type": "code",
   "execution_count": null,
   "id": "edfc5518-f3c6-449e-9d56-69fc7586d894",
   "metadata": {},
   "outputs": [],
   "source": []
  }
 ],
 "metadata": {
  "kernelspec": {
   "display_name": "Python [conda env:base] *",
   "language": "python",
   "name": "conda-base-py"
  },
  "language_info": {
   "codemirror_mode": {
    "name": "ipython",
    "version": 3
   },
   "file_extension": ".py",
   "mimetype": "text/x-python",
   "name": "python",
   "nbconvert_exporter": "python",
   "pygments_lexer": "ipython3",
   "version": "3.12.7"
  }
 },
 "nbformat": 4,
 "nbformat_minor": 5
}
