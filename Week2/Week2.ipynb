{
 "cells": [
  {
   "cell_type": "code",
   "execution_count": 1,
   "id": "c776fd12-7d24-4a0b-a4fc-353f12837667",
   "metadata": {},
   "outputs": [
    {
     "name": "stdout",
     "output_type": "stream",
     "text": [
      "True\n",
      "False\n",
      "False\n",
      "True\n",
      "False\n",
      "True\n",
      "True\n",
      "True\n"
     ]
    }
   ],
   "source": [
    "a=5\n",
    "b=5\n",
    "print(a==b)\n",
    "print(a!=b)\n",
    "print(a<b)\n",
    "print(a<=b)\n",
    "print(a>b)\n",
    "print(a>=b)\n",
    "print(a==b and a<=b)\n",
    "print(a==b or a<=b)"
   ]
  },
  {
   "cell_type": "code",
   "execution_count": 2,
   "id": "6ec42a59-8740-4ed2-8ca9-9422ce4c9af6",
   "metadata": {},
   "outputs": [
    {
     "name": "stdout",
     "output_type": "stream",
     "text": [
      "False\n"
     ]
    }
   ],
   "source": [
    "age1=21\n",
    "age2=26\n",
    "income1=137000\n",
    "income2=102000\n",
    "print(age1>age2 and income1>income2)"
   ]
  },
  {
   "cell_type": "code",
   "execution_count": 3,
   "id": "dc052fe0-ce29-4cab-a024-b92c92d47f22",
   "metadata": {},
   "outputs": [
    {
     "name": "stdout",
     "output_type": "stream",
     "text": [
      "True\n"
     ]
    }
   ],
   "source": [
    "a=5\n",
    "b=5.0\n",
    "print(a==b)"
   ]
  },
  {
   "cell_type": "code",
   "execution_count": 4,
   "id": "9f2fccd0-46f3-4fd2-a6f3-347455d7ee6e",
   "metadata": {},
   "outputs": [
    {
     "name": "stdout",
     "output_type": "stream",
     "text": [
      "False\n"
     ]
    }
   ],
   "source": [
    "person1_age=50\n",
    "person2_age=30\n",
    "same_age=person1_age==person2_age\n",
    "print(same_age)"
   ]
  },
  {
   "cell_type": "code",
   "execution_count": 5,
   "id": "0587559d-6931-4c1b-b29d-0eabfa7bb80c",
   "metadata": {},
   "outputs": [
    {
     "name": "stdout",
     "output_type": "stream",
     "text": [
      "False\n"
     ]
    }
   ],
   "source": [
    "age=70\n",
    "print(age>14 and age<60)"
   ]
  },
  {
   "cell_type": "code",
   "execution_count": 6,
   "id": "3ccc688b-4719-4391-905f-e728a1a916e0",
   "metadata": {},
   "outputs": [
    {
     "name": "stdout",
     "output_type": "stream",
     "text": [
      "yes\n"
     ]
    }
   ],
   "source": [
    "#if-else statement\n",
    "num1=10\n",
    "num2=2\n",
    "\n",
    "if num1>num2:\n",
    "    print(\"yes\")\n",
    "else:\n",
    "    print(\"no\")"
   ]
  },
  {
   "cell_type": "code",
   "execution_count": 7,
   "id": "a15d8dbc-e0c2-4b33-839a-1545adadd2af",
   "metadata": {},
   "outputs": [
    {
     "name": "stdout",
     "output_type": "stream",
     "text": [
      "equal\n"
     ]
    }
   ],
   "source": [
    "#if...elif ladder\n",
    "num1=12\n",
    "num2=12\n",
    "\n",
    "if num1>num2:\n",
    "    print(\"yes\")\n",
    "elif num1==num2:\n",
    "    print(\"equal\")\n",
    "else:\n",
    "    print(\"No\")"
   ]
  },
  {
   "cell_type": "code",
   "execution_count": 11,
   "id": "7e375116-cda4-4064-9e5d-4353467c00bb",
   "metadata": {},
   "outputs": [
    {
     "name": "stdout",
     "output_type": "stream",
     "text": [
      "person1 is employable\n",
      "person2 is not employable\n"
     ]
    }
   ],
   "source": [
    "person1_age=18\n",
    "person2_age=12\n",
    "\n",
    "if person1_age>=14:\n",
    "    print(\"person1 is employable\")\n",
    "else:\n",
    "    print(\"person1 is not employable\")\n",
    "\n",
    "if person2_age>=14:\n",
    "    print(\"person2 is employable\")\n",
    "else:\n",
    "    print(\"person2 is not employable\")"
   ]
  },
  {
   "cell_type": "code",
   "execution_count": 12,
   "id": "6b02a9c3-cb48-40b4-a1c6-5a3f952bc2dc",
   "metadata": {},
   "outputs": [
    {
     "name": "stdout",
     "output_type": "stream",
     "text": [
      "person1 is employable as a junior\n"
     ]
    }
   ],
   "source": [
    "person1_age=14\n",
    "\n",
    "if person1_age>=16:\n",
    "    print(\"person1 is employable\")\n",
    "elif person1_age>=14:\n",
    "    print(\"person1 is employable as a junior\")\n",
    "else:\n",
    "    print(\"person1 is not employable\")"
   ]
  },
  {
   "cell_type": "code",
   "execution_count": 14,
   "id": "ccda86d1-573f-401e-98a5-ad924d851721",
   "metadata": {},
   "outputs": [
    {
     "name": "stdout",
     "output_type": "stream",
     "text": [
      "person is retired!.\n"
     ]
    }
   ],
   "source": [
    "person1_age=65\n",
    "\n",
    "if person1_age>=14:\n",
    "    if person1_age>60:\n",
    "        print(\"person is retired!.\")\n",
    "    else:\n",
    "        print(\"Person is employable\")\n",
    "else:\n",
    "    print(\"person is not employable\")"
   ]
  },
  {
   "cell_type": "code",
   "execution_count": 15,
   "id": "52fb5f52-24bf-4e5e-91bf-8a6067f28d46",
   "metadata": {},
   "outputs": [
    {
     "name": "stdout",
     "output_type": "stream",
     "text": [
      "person is employable\n"
     ]
    }
   ],
   "source": [
    "age=47\n",
    "retired = False\n",
    "\n",
    "if age>=14 and not retired:\n",
    "    if age<16:\n",
    "        print(\"person is employable as a junior\")\n",
    "    else:\n",
    "        print(\"person is employable\")\n",
    "else:\n",
    "    print(\"person is not emploable\")"
   ]
  },
  {
   "cell_type": "code",
   "execution_count": 19,
   "id": "1afcac63-63f6-4ec8-8a3c-0657c4a84425",
   "metadata": {},
   "outputs": [
    {
     "name": "stdin",
     "output_type": "stream",
     "text": [
      " 134\n"
     ]
    },
    {
     "name": "stdout",
     "output_type": "stream",
     "text": [
      "no\n",
      "NO\n"
     ]
    }
   ],
   "source": [
    "n=int(input())\n",
    "if n in range(0,100):\n",
    "    print(\"yes\")\n",
    "else:\n",
    "    print(\"no\")\n",
    "\n",
    "# OR\n",
    "\n",
    "if n>=0 and n<=100:\n",
    "    print(\"YES\")\n",
    "else:\n",
    "    print(\"NO\")"
   ]
  },
  {
   "cell_type": "code",
   "execution_count": 21,
   "id": "33efd9fe-6fae-42e8-859c-72afb97cdeda",
   "metadata": {},
   "outputs": [
    {
     "name": "stdout",
     "output_type": "stream",
     "text": [
      "qualifies for pension\n"
     ]
    }
   ],
   "source": [
    "age=60\n",
    "if age>=60:\n",
    "    print(\"qualifies for pension\")\n",
    "else:\n",
    "    print(\"not qualified for pension\")"
   ]
  },
  {
   "cell_type": "code",
   "execution_count": 22,
   "id": "a7d65f27-bafe-493d-bf24-166cffec46d1",
   "metadata": {},
   "outputs": [
    {
     "name": "stdin",
     "output_type": "stream",
     "text": [
      " False\n"
     ]
    },
    {
     "name": "stdout",
     "output_type": "stream",
     "text": [
      "False\n"
     ]
    }
   ],
   "source": [
    "str1=input()\n",
    "if str1=='False':\n",
    "    answer=False\n",
    "else:\n",
    "    answer=True\n",
    "print(answer)"
   ]
  },
  {
   "cell_type": "code",
   "execution_count": 23,
   "id": "693f48e7-da88-48db-8a95-e976fee709fe",
   "metadata": {},
   "outputs": [
    {
     "name": "stdout",
     "output_type": "stream",
     "text": [
      "person is employable\n"
     ]
    }
   ],
   "source": [
    "# single line if-else statement\n",
    "person_age=15\n",
    "print(\"person is employable\") if person_age>=14 else print(\"person is not employable\")"
   ]
  },
  {
   "cell_type": "code",
   "execution_count": 24,
   "id": "b2a5320f-7f27-43d9-abc3-52f630037572",
   "metadata": {},
   "outputs": [
    {
     "name": "stdout",
     "output_type": "stream",
     "text": [
      "person is still employable\n"
     ]
    }
   ],
   "source": [
    "person_age=14\n",
    "print(\"person is employable\") if person_age>14 else print(\"person is still employable\") if person_age==14 else print(\"person is not employable\")"
   ]
  },
  {
   "cell_type": "code",
   "execution_count": 26,
   "id": "d7471505-159a-4c1f-a619-7eaf9028ee87",
   "metadata": {},
   "outputs": [
    {
     "name": "stdout",
     "output_type": "stream",
     "text": [
      "29\n",
      "9.666666666666666\n"
     ]
    }
   ],
   "source": [
    "# Hand Tracing\n",
    "x=5\n",
    "y=2\n",
    "z=9\n",
    "\n",
    "x+=1\n",
    "y+=2\n",
    "z+=(x+y)\n",
    "\n",
    "total=x+y+z\n",
    "print(total)\n",
    "\n",
    "avg=(x+y+z)/3\n",
    "print(avg)"
   ]
  },
  {
   "cell_type": "code",
   "execution_count": 34,
   "id": "53c8c93d-cf5d-4d32-bb7d-a95588a1b9c9",
   "metadata": {},
   "outputs": [
    {
     "name": "stdout",
     "output_type": "stream",
     "text": [
      "17\n",
      "11\n",
      "Debugging: General User, Giving access to the system admin dashboard.\n"
     ]
    }
   ],
   "source": [
    "# Debugging in 4 ways\n",
    "#1. print-statement\n",
    "a=12\n",
    "a+=5\n",
    "print(a)\n",
    "a-=6\n",
    "print(a)\n",
    "\n",
    "# Solid Example\n",
    "username,password='Manvith','sys1*#'\n",
    "if username=='system admin' and password=='sys1*#':\n",
    "    print(\"Debugging: System admin, Giving access to the system admin dashboard.\")\n",
    "else:\n",
    "    print(\"Debugging: General User, Giving access to the system admin dashboard.\")"
   ]
  },
  {
   "cell_type": "code",
   "execution_count": 36,
   "id": "72fac04f-59d8-4e8e-a8ab-2dc3de8bc691",
   "metadata": {},
   "outputs": [
    {
     "name": "stdin",
     "output_type": "stream",
     "text": [
      "Please enter a number:  12\n"
     ]
    },
    {
     "ename": "AssertionError",
     "evalue": "User's input is not in the given range",
     "output_type": "error",
     "traceback": [
      "\u001b[0;31m---------------------------------------------------------------------------\u001b[0m",
      "\u001b[0;31mAssertionError\u001b[0m                            Traceback (most recent call last)",
      "Cell \u001b[0;32mIn[36], line 14\u001b[0m\n\u001b[1;32m     12\u001b[0m user_input\u001b[38;5;241m=\u001b[39m\u001b[38;5;28mint\u001b[39m(user_input)\n\u001b[1;32m     13\u001b[0m \u001b[38;5;28;01massert\u001b[39;00m \u001b[38;5;28misinstance\u001b[39m(user_input, \u001b[38;5;28mint\u001b[39m), \u001b[38;5;124m\"\u001b[39m\u001b[38;5;124mHave not converted the input() to int\u001b[39m\u001b[38;5;124m\"\u001b[39m\n\u001b[0;32m---> 14\u001b[0m \u001b[38;5;28;01massert\u001b[39;00m (\u001b[38;5;241m1\u001b[39m\u001b[38;5;241m<\u001b[39m\u001b[38;5;241m=\u001b[39muser_input) \u001b[38;5;129;01mand\u001b[39;00m (user_input\u001b[38;5;241m<\u001b[39m\u001b[38;5;241m=\u001b[39m\u001b[38;5;241m10\u001b[39m), \u001b[38;5;124m\"\u001b[39m\u001b[38;5;124mUser\u001b[39m\u001b[38;5;124m'\u001b[39m\u001b[38;5;124ms input is not in the given range\u001b[39m\u001b[38;5;124m\"\u001b[39m\n",
      "\u001b[0;31mAssertionError\u001b[0m: User's input is not in the given range"
     ]
    }
   ],
   "source": [
    "# 2. assert statement\n",
    "base_salary=80000\n",
    "bonus=base_salary*0.05\n",
    "salary=base_salary+bonus\n",
    "assert salary<=90000, \"salary is more than 50,000\"\n",
    "\n",
    "# Solid Example\n",
    "# Syntax: assert condition, message(When the condition is False, it will be printed)\n",
    "\n",
    "user_input=input(\"Please enter a number: \")\n",
    "assert user_input.isdigit() == True, \"User's input is not numbers\"\n",
    "user_input=int(user_input)\n",
    "assert isinstance(user_input, int), \"Have not converted the input() to int\"\n",
    "assert (1<=user_input) and (user_input<=10), \"User's input is not in the given range\"\n"
   ]
  },
  {
   "cell_type": "code",
   "execution_count": 37,
   "id": "a1152030-cb2e-464d-bada-5a39816f90c2",
   "metadata": {},
   "outputs": [
    {
     "name": "stdout",
     "output_type": "stream",
     "text": [
      "Expected 3 let's see:  1\n"
     ]
    },
    {
     "ename": "AssertionError",
     "evalue": "z is not equal to 3.",
     "output_type": "error",
     "traceback": [
      "\u001b[0;31m---------------------------------------------------------------------------\u001b[0m",
      "\u001b[0;31mAssertionError\u001b[0m                            Traceback (most recent call last)",
      "Cell \u001b[0;32mIn[37], line 9\u001b[0m\n\u001b[1;32m      7\u001b[0m \u001b[38;5;28;01massert\u001b[39;00m y\u001b[38;5;241m==\u001b[39m\u001b[38;5;241m12\u001b[39m, \u001b[38;5;124m\"\u001b[39m\u001b[38;5;124my is not equal to 12.\u001b[39m\u001b[38;5;124m\"\u001b[39m\n\u001b[1;32m      8\u001b[0m z\u001b[38;5;241m=\u001b[39mz\u001b[38;5;241m/\u001b[39mx\u001b[38;5;241m+\u001b[39my\n\u001b[0;32m----> 9\u001b[0m \u001b[38;5;28;01massert\u001b[39;00m z\u001b[38;5;241m==\u001b[39m\u001b[38;5;241m3\u001b[39m, \u001b[38;5;124m\"\u001b[39m\u001b[38;5;124mz is not equal to 3.\u001b[39m\u001b[38;5;124m\"\u001b[39m\n",
      "\u001b[0;31mAssertionError\u001b[0m: z is not equal to 3."
     ]
    }
   ],
   "source": [
    "# Practicing print() and assert debugging statenments.\n",
    "x,y,z=0,3,45\n",
    "\n",
    "x+=1\n",
    "print(\"Expected 3 let's see: \",x)\n",
    "y+=9\n",
    "assert y==12, \"y is not equal to 12.\"\n",
    "z=z/x+y\n",
    "assert z==3, \"z is not equal to 3.\""
   ]
  },
  {
   "cell_type": "code",
   "execution_count": 38,
   "id": "781039a3-b8c0-4557-96eb-b779b5a94980",
   "metadata": {},
   "outputs": [
    {
     "name": "stdin",
     "output_type": "stream",
     "text": [
      "Please enter your name:  Manvith\n"
     ]
    },
    {
     "ename": "NameError",
     "evalue": "name 'nam' is not defined",
     "output_type": "error",
     "traceback": [
      "\u001b[0;31m---------------------------------------------------------------------------\u001b[0m",
      "\u001b[0;31mNameError\u001b[0m                                 Traceback (most recent call last)",
      "Cell \u001b[0;32mIn[38], line 4\u001b[0m\n\u001b[1;32m      1\u001b[0m \u001b[38;5;66;03m# 3. stack trace like SyntaxError, NameError, TypeError, ValueError, IndentationError\u001b[39;00m\n\u001b[1;32m      2\u001b[0m \u001b[38;5;66;03m# example of stack trace\u001b[39;00m\n\u001b[1;32m      3\u001b[0m name\u001b[38;5;241m=\u001b[39m\u001b[38;5;28minput\u001b[39m(\u001b[38;5;124m\"\u001b[39m\u001b[38;5;124mPlease enter your name: \u001b[39m\u001b[38;5;124m\"\u001b[39m)\n\u001b[0;32m----> 4\u001b[0m \u001b[38;5;28mprint\u001b[39m(\u001b[38;5;124m\"\u001b[39m\u001b[38;5;124mHello \u001b[39m\u001b[38;5;124m\"\u001b[39m\u001b[38;5;241m+\u001b[39mnam)\n",
      "\u001b[0;31mNameError\u001b[0m: name 'nam' is not defined"
     ]
    }
   ],
   "source": [
    "# 3. stack trace like SyntaxError, NameError, TypeError, ValueError, IndentationError\n",
    "# example of stack trace\n",
    "name=input(\"Please enter your name: \")\n",
    "print(\"Hello \"+nam)"
   ]
  },
  {
   "cell_type": "code",
   "execution_count": 40,
   "id": "fdc0fb40-d9ac-496f-bc8d-24f9e484b816",
   "metadata": {},
   "outputs": [
    {
     "ename": "SyntaxError",
     "evalue": "expected 'else' after 'if' expression (3096100887.py, line 2)",
     "output_type": "error",
     "traceback": [
      "\u001b[0;36m  Cell \u001b[0;32mIn[40], line 2\u001b[0;36m\u001b[0m\n\u001b[0;31m    print(\"person is employable\") if 10>=14 els print(\"person is not employable\")\u001b[0m\n\u001b[0m    ^\u001b[0m\n\u001b[0;31mSyntaxError\u001b[0m\u001b[0;31m:\u001b[0m expected 'else' after 'if' expression\n"
     ]
    }
   ],
   "source": [
    "# Syntax Error\n",
    "print(\"person is employable\") if 10>=14 els print(\"person is not employable\")"
   ]
  },
  {
   "cell_type": "code",
   "execution_count": 41,
   "id": "d10c47ff-b18d-44ef-9a83-38e55ef5cdb5",
   "metadata": {},
   "outputs": [
    {
     "ename": "NameError",
     "evalue": "name 'user_age' is not defined",
     "output_type": "error",
     "traceback": [
      "\u001b[0;31m---------------------------------------------------------------------------\u001b[0m",
      "\u001b[0;31mNameError\u001b[0m                                 Traceback (most recent call last)",
      "Cell \u001b[0;32mIn[41], line 2\u001b[0m\n\u001b[1;32m      1\u001b[0m \u001b[38;5;66;03m# NameError\u001b[39;00m\n\u001b[0;32m----> 2\u001b[0m \u001b[38;5;28mprint\u001b[39m(\u001b[38;5;124m\"\u001b[39m\u001b[38;5;124mperson is employable\u001b[39m\u001b[38;5;124m\"\u001b[39m) \u001b[38;5;28;01mif\u001b[39;00m user_age\u001b[38;5;241m>\u001b[39m\u001b[38;5;241m=\u001b[39m\u001b[38;5;241m14\u001b[39m \u001b[38;5;28;01melse\u001b[39;00m \u001b[38;5;28mprint\u001b[39m(\u001b[38;5;124m\"\u001b[39m\u001b[38;5;124mperson is not employable\u001b[39m\u001b[38;5;124m\"\u001b[39m)\n",
      "\u001b[0;31mNameError\u001b[0m: name 'user_age' is not defined"
     ]
    }
   ],
   "source": [
    "# NameError\n",
    "print(\"person is employable\") if user_age>=14 else print(\"person is not employable\")"
   ]
  },
  {
   "cell_type": "code",
   "execution_count": 42,
   "id": "cc227986-bf0c-4a24-b879-518ed9c23813",
   "metadata": {},
   "outputs": [
    {
     "name": "stdin",
     "output_type": "stream",
     "text": [
      "Please enter your age:  15\n"
     ]
    },
    {
     "ename": "TypeError",
     "evalue": "'>=' not supported between instances of 'str' and 'int'",
     "output_type": "error",
     "traceback": [
      "\u001b[0;31m---------------------------------------------------------------------------\u001b[0m",
      "\u001b[0;31mTypeError\u001b[0m                                 Traceback (most recent call last)",
      "Cell \u001b[0;32mIn[42], line 3\u001b[0m\n\u001b[1;32m      1\u001b[0m \u001b[38;5;66;03m#TypeError\u001b[39;00m\n\u001b[1;32m      2\u001b[0m user_age\u001b[38;5;241m=\u001b[39m\u001b[38;5;28minput\u001b[39m(\u001b[38;5;124m\"\u001b[39m\u001b[38;5;124mPlease enter your age: \u001b[39m\u001b[38;5;124m\"\u001b[39m)\n\u001b[0;32m----> 3\u001b[0m \u001b[38;5;28mprint\u001b[39m(\u001b[38;5;124m\"\u001b[39m\u001b[38;5;124mperson is emoployable\u001b[39m\u001b[38;5;124m\"\u001b[39m) \u001b[38;5;28;01mif\u001b[39;00m user_age\u001b[38;5;241m>\u001b[39m\u001b[38;5;241m=\u001b[39m\u001b[38;5;241m14\u001b[39m \u001b[38;5;28;01melse\u001b[39;00m \u001b[38;5;28mprint\u001b[39m(\u001b[38;5;124m\"\u001b[39m\u001b[38;5;124mperson is not employable\u001b[39m\u001b[38;5;124m\"\u001b[39m)\n",
      "\u001b[0;31mTypeError\u001b[0m: '>=' not supported between instances of 'str' and 'int'"
     ]
    }
   ],
   "source": [
    "# TypeError\n",
    "user_age=input(\"Please enter your age: \")\n",
    "print(\"person is emoployable\") if user_age>=14 else print(\"person is not employable\")"
   ]
  },
  {
   "cell_type": "code",
   "execution_count": 43,
   "id": "c9ea27ea-97b0-4622-8616-3acf0e37a976",
   "metadata": {},
   "outputs": [
    {
     "ename": "ValueError",
     "evalue": "invalid literal for int() with base 10: 'tweleve'",
     "output_type": "error",
     "traceback": [
      "\u001b[0;31m---------------------------------------------------------------------------\u001b[0m",
      "\u001b[0;31mValueError\u001b[0m                                Traceback (most recent call last)",
      "Cell \u001b[0;32mIn[43], line 2\u001b[0m\n\u001b[1;32m      1\u001b[0m \u001b[38;5;66;03m#ValueError\u001b[39;00m\n\u001b[0;32m----> 2\u001b[0m user_age\u001b[38;5;241m=\u001b[39m\u001b[38;5;28mint\u001b[39m(\u001b[38;5;124m'\u001b[39m\u001b[38;5;124mtweleve\u001b[39m\u001b[38;5;124m'\u001b[39m)\n\u001b[1;32m      3\u001b[0m \u001b[38;5;28mprint\u001b[39m(\u001b[38;5;124m\"\u001b[39m\u001b[38;5;124mperson is employable\u001b[39m\u001b[38;5;124m\"\u001b[39m) \u001b[38;5;28;01mif\u001b[39;00m user_age\u001b[38;5;241m>\u001b[39m\u001b[38;5;241m=\u001b[39m\u001b[38;5;241m14\u001b[39m \u001b[38;5;28;01melse\u001b[39;00m \u001b[38;5;28mprint\u001b[39m(\u001b[38;5;124m\"\u001b[39m\u001b[38;5;124mperson is not employable\u001b[39m\u001b[38;5;124m\"\u001b[39m)\n",
      "\u001b[0;31mValueError\u001b[0m: invalid literal for int() with base 10: 'tweleve'"
     ]
    }
   ],
   "source": [
    "# ValueError\n",
    "user_age=int('tweleve')\n",
    "print(\"person is employable\") if user_age>=14 else print(\"person is not employable\")"
   ]
  },
  {
   "cell_type": "code",
   "execution_count": 44,
   "id": "95fb57cb-297d-41f0-b803-606d08179511",
   "metadata": {},
   "outputs": [
    {
     "ename": "ImportError",
     "evalue": "cannot import name 'ranint' from 'random' (/opt/homebrew/anaconda3/lib/python3.12/random.py)",
     "output_type": "error",
     "traceback": [
      "\u001b[0;31m---------------------------------------------------------------------------\u001b[0m",
      "\u001b[0;31mImportError\u001b[0m                               Traceback (most recent call last)",
      "Cell \u001b[0;32mIn[44], line 2\u001b[0m\n\u001b[1;32m      1\u001b[0m \u001b[38;5;66;03m# ImportError\u001b[39;00m\n\u001b[0;32m----> 2\u001b[0m \u001b[38;5;28;01mfrom\u001b[39;00m \u001b[38;5;21;01mrandom\u001b[39;00m \u001b[38;5;28;01mimport\u001b[39;00m ranint\n\u001b[1;32m      3\u001b[0m user_age\u001b[38;5;241m=\u001b[39mrandint(\u001b[38;5;241m1\u001b[39m,\u001b[38;5;241m120\u001b[39m)\n\u001b[1;32m      4\u001b[0m \u001b[38;5;28mprint\u001b[39m(\u001b[38;5;124m\"\u001b[39m\u001b[38;5;124mperson is employable\u001b[39m\u001b[38;5;124m\"\u001b[39m) \u001b[38;5;28;01mif\u001b[39;00m user_age\u001b[38;5;241m>\u001b[39m\u001b[38;5;241m=\u001b[39m\u001b[38;5;241m14\u001b[39m \u001b[38;5;28;01melse\u001b[39;00m \u001b[38;5;28mprint\u001b[39m(\u001b[38;5;124m\"\u001b[39m\u001b[38;5;124mperson is not employable\u001b[39m\u001b[38;5;124m\"\u001b[39m)\n",
      "\u001b[0;31mImportError\u001b[0m: cannot import name 'ranint' from 'random' (/opt/homebrew/anaconda3/lib/python3.12/random.py)"
     ]
    }
   ],
   "source": [
    "# ImportError\n",
    "from random import ranint\n",
    "user_age=randint(1,120)\n",
    "print(\"person is employable\") if user_age>=14 else print(\"person is not employable\")"
   ]
  },
  {
   "cell_type": "code",
   "execution_count": 47,
   "id": "b66532f9-41d1-4814-857d-b969d518f82c",
   "metadata": {},
   "outputs": [
    {
     "ename": "IndentationError",
     "evalue": "unexpected indent (1179174517.py, line 3)",
     "output_type": "error",
     "traceback": [
      "\u001b[0;36m  Cell \u001b[0;32mIn[47], line 3\u001b[0;36m\u001b[0m\n\u001b[0;31m    print(\"person is employable\") if user_age>=14 else print(\"person is not employable\")\u001b[0m\n\u001b[0m    ^\u001b[0m\n\u001b[0;31mIndentationError\u001b[0m\u001b[0;31m:\u001b[0m unexpected indent\n"
     ]
    }
   ],
   "source": [
    "# IndentationError\n",
    "user_age=10\n",
    "    print(\"person is employable\") if user_age>=14 else print(\"person is not employable\")"
   ]
  },
  {
   "cell_type": "code",
   "execution_count": 48,
   "id": "2b0b84f3-d57c-40c6-a231-3cc1015e2620",
   "metadata": {},
   "outputs": [
    {
     "ename": "ZeroDivisionError",
     "evalue": "division by zero",
     "output_type": "error",
     "traceback": [
      "\u001b[0;31m---------------------------------------------------------------------------\u001b[0m",
      "\u001b[0;31mZeroDivisionError\u001b[0m                         Traceback (most recent call last)",
      "Cell \u001b[0;32mIn[48], line 2\u001b[0m\n\u001b[1;32m      1\u001b[0m \u001b[38;5;66;03m# ZeroDivisionError\u001b[39;00m\n\u001b[0;32m----> 2\u001b[0m user_age\u001b[38;5;241m=\u001b[39m\u001b[38;5;241m10\u001b[39m\u001b[38;5;241m/\u001b[39m\u001b[38;5;241m0\u001b[39m\n",
      "\u001b[0;31mZeroDivisionError\u001b[0m: division by zero"
     ]
    }
   ],
   "source": [
    "# ZeroDivisionError\n",
    "user_age=10/0"
   ]
  },
  {
   "cell_type": "code",
   "execution_count": 50,
   "id": "8f1bbdb7-bdf0-413b-b7c7-8001a4053051",
   "metadata": {},
   "outputs": [
    {
     "name": "stdin",
     "output_type": "stream",
     "text": [
      "Please enter your age:  12\n"
     ]
    },
    {
     "ename": "AttributeError",
     "evalue": "'str' object has no attribute 'isdig'",
     "output_type": "error",
     "traceback": [
      "\u001b[0;31m---------------------------------------------------------------------------\u001b[0m",
      "\u001b[0;31mAttributeError\u001b[0m                            Traceback (most recent call last)",
      "Cell \u001b[0;32mIn[50], line 3\u001b[0m\n\u001b[1;32m      1\u001b[0m \u001b[38;5;66;03m# AttributeError\u001b[39;00m\n\u001b[1;32m      2\u001b[0m usr_age\u001b[38;5;241m=\u001b[39m\u001b[38;5;28mint\u001b[39m(\u001b[38;5;28minput\u001b[39m(\u001b[38;5;124m\"\u001b[39m\u001b[38;5;124mPlease enter your age: \u001b[39m\u001b[38;5;124m\"\u001b[39m))\n\u001b[0;32m----> 3\u001b[0m \u001b[38;5;28mprint\u001b[39m(\u001b[38;5;124m\"\u001b[39m\u001b[38;5;124muser age is a number!\u001b[39m\u001b[38;5;124m\"\u001b[39m) \u001b[38;5;28;01mif\u001b[39;00m user_age\u001b[38;5;241m.\u001b[39misdig() \u001b[38;5;28;01melse\u001b[39;00m \u001b[38;5;28mprint\u001b[39m(\u001b[38;5;124m\"\u001b[39m\u001b[38;5;124muser age is not a number\u001b[39m\u001b[38;5;124m\"\u001b[39m)\n",
      "\u001b[0;31mAttributeError\u001b[0m: 'str' object has no attribute 'isdig'"
     ]
    }
   ],
   "source": [
    "# AttributeError\n",
    "usr_age=int(input(\"Please enter your age: \"))\n",
    "print(\"user age is a number!\") if user_age.isdig() else print(\"user age is not a number\")"
   ]
  },
  {
   "cell_type": "code",
   "execution_count": 51,
   "id": "d8675e7a-e6ab-4dd2-a2cb-acf56806598c",
   "metadata": {},
   "outputs": [
    {
     "name": "stdin",
     "output_type": "stream",
     "text": [
      "Please enter the age of you:  12\n"
     ]
    },
    {
     "ename": "AssertionError",
     "evalue": "user age is not a number",
     "output_type": "error",
     "traceback": [
      "\u001b[0;31m---------------------------------------------------------------------------\u001b[0m",
      "\u001b[0;31mAssertionError\u001b[0m                            Traceback (most recent call last)",
      "Cell \u001b[0;32mIn[51], line 3\u001b[0m\n\u001b[1;32m      1\u001b[0m \u001b[38;5;66;03m# AssertionError\u001b[39;00m\n\u001b[1;32m      2\u001b[0m user_age\u001b[38;5;241m=\u001b[39m\u001b[38;5;28minput\u001b[39m(\u001b[38;5;124m\"\u001b[39m\u001b[38;5;124mPlease enter the age of you: \u001b[39m\u001b[38;5;124m\"\u001b[39m)\n\u001b[0;32m----> 3\u001b[0m \u001b[38;5;28;01massert\u001b[39;00m \u001b[38;5;28misinstance\u001b[39m(user_age,\u001b[38;5;28mint\u001b[39m), \u001b[38;5;124m\"\u001b[39m\u001b[38;5;124muser age is not a number\u001b[39m\u001b[38;5;124m\"\u001b[39m\n",
      "\u001b[0;31mAssertionError\u001b[0m: user age is not a number"
     ]
    }
   ],
   "source": [
    "# AssertionError\n",
    "user_age=input(\"Please enter the age of you: \")\n",
    "assert isinstance(user_age,int), \"user age is not a number\""
   ]
  },
  {
   "cell_type": "code",
   "execution_count": 157,
   "id": "b27149b1-e567-4ac8-98f6-148bef826b4e",
   "metadata": {},
   "outputs": [
    {
     "name": "stderr",
     "output_type": "stream",
     "text": [
      "DEBUG: This is some detailed information for diagnosing problems\n",
      "INFO: This is some information confirming things are working as expected\n",
      "WARNING: This is a warning of something unexpected happened, or indicative of some problem\n",
      "ERROR: This is more serious problem and the program is not able to perform some function\n",
      "CRITICAL: This is a serious error, the program itself may be unable to continue running.\n"
     ]
    }
   ],
   "source": [
    "# logging module: DEBUG, INFO, WARNING, ERROR, CRITICAL\n",
    "import logging\n",
    "logging.debug(\"This is some detailed information for diagnosing problems\")\n",
    "logging.info('This is some information confirming things are working as expected') \n",
    "logging.warning('This is a warning of something unexpected happened, or indicative of some problem')\n",
    "logging.error(\"This is more serious problem and the program is not able to perform some function\")\n",
    "logging.critical(\"This is a serious error, the program itself may be unable to continue running.\")"
   ]
  },
  {
   "cell_type": "code",
   "execution_count": 55,
   "id": "049bef47-30cf-4493-8d53-c034a613dd42",
   "metadata": {},
   "outputs": [],
   "source": [
    "import logging\n",
    "logging.basicConfig(level=logging.DEBUG)"
   ]
  },
  {
   "cell_type": "code",
   "execution_count": 158,
   "id": "17c55569-a281-404f-b506-7dffcb3f89ce",
   "metadata": {},
   "outputs": [],
   "source": [
    "# In the abvove one we are only getting WARNING, ERROR and CRITICAL only coz the default debugger is root and its default basicConfig is set to WARNING.\n",
    "import logging\n",
    "logging.basicConfig(level=logging.DEBUG, force=True, filename='firstLog.log')\n",
    "logging.debug(\"This is some detailed information for diagnosing problems\")\n",
    "logging.info('This is some information confirming things are working as expected') \n",
    "logging.warning('This is a warning of something unexpected happened, or indicative of some problem')\n",
    "logging.error(\"This is more serious problem and the program is not able to perform some function\")\n",
    "logging.critical(\"This is a serious error, the program itself may be unable to continue running.\")"
   ]
  },
  {
   "cell_type": "code",
   "execution_count": 60,
   "id": "c5fd78f2-4f0b-4a7b-a171-cb583ea5f783",
   "metadata": {},
   "outputs": [],
   "source": [
    "# Task add logging debugger for :\n",
    "salary = 12190\n",
    "bonus_rate = .05\n",
    "bonus = salary * bonus_rate\n",
    "salary = salary+bonus\n",
    "salary = salary+(salary*bonus_rate)\n",
    "if salary> 13000:\n",
    "    #give extra 200\n",
    "    salary += 2000\n",
    "else:\n",
    "    #give extra 150\n",
    "    salary += 150"
   ]
  },
  {
   "cell_type": "markdown",
   "id": "f90acef3-7a10-4b79-8399-06aeb0aa92ba",
   "metadata": {},
   "source": [
    "## Workshop activities"
   ]
  },
  {
   "cell_type": "code",
   "execution_count": 69,
   "id": "cdc6809c-0545-4f2f-93d7-182968a0c326",
   "metadata": {},
   "outputs": [
    {
     "name": "stdout",
     "output_type": "stream",
     "text": [
      "Surface Area is: 7.0685834705770345\n",
      "Volume is: 1.7671458676442584\n"
     ]
    }
   ],
   "source": [
    "# 1.\n",
    "import math\n",
    "radius=0.75\n",
    "volume=(4/3)*(math.pi)*(radius**3)\n",
    "surface_area=4*(math.pi)*(radius**2)\n",
    "print(f\"Surface Area is: {surface_area}\")\n",
    "print(f\"Volume is: {volume}\")"
   ]
  },
  {
   "cell_type": "code",
   "execution_count": 71,
   "id": "dcc1e275-e292-4609-a7f9-5b1d771cf25c",
   "metadata": {},
   "outputs": [
    {
     "name": "stdin",
     "output_type": "stream",
     "text": [
      " 2.3\n",
      " 4.5\n"
     ]
    },
    {
     "name": "stdout",
     "output_type": "stream",
     "text": [
      "10.35\n",
      "8\n",
      "2.3499999999999996\n"
     ]
    }
   ],
   "source": [
    "# 2.\n",
    "a=float(input())\n",
    "b=float(input())\n",
    "float_product=a*b\n",
    "a=int(a)\n",
    "b=int(b)\n",
    "int_product=a*b\n",
    "print(float_product)\n",
    "print(int_product)\n",
    "print(float_product-int_product)"
   ]
  },
  {
   "cell_type": "code",
   "execution_count": 85,
   "id": "678f8541-6225-4ae1-841a-9e16842465be",
   "metadata": {},
   "outputs": [
    {
     "name": "stdout",
     "output_type": "stream",
     "text": [
      "3\n"
     ]
    }
   ],
   "source": [
    "# 3.\n",
    "str1 = \"Welcome to XYZ. xyz is awesome, isn't it? XyZ is locted near the city\"\n",
    "count=str1.lower().count('xyz')\n",
    "print(count)"
   ]
  },
  {
   "cell_type": "code",
   "execution_count": 86,
   "id": "365a7d9a-4773-4966-8472-f817f92c32d2",
   "metadata": {},
   "outputs": [
    {
     "data": {
      "text/plain": [
       "True"
      ]
     },
     "execution_count": 86,
     "metadata": {},
     "output_type": "execute_result"
    }
   ],
   "source": [
    "# 4.\n",
    "(2<6) or (9>3)"
   ]
  },
  {
   "cell_type": "code",
   "execution_count": 87,
   "id": "f7e8e4ca-5f29-4d96-bab3-d3e2fe343cac",
   "metadata": {},
   "outputs": [
    {
     "data": {
      "text/plain": [
       "False"
      ]
     },
     "execution_count": 87,
     "metadata": {},
     "output_type": "execute_result"
    }
   ],
   "source": [
    "# 5.\n",
    "(2>5) and (7>5)"
   ]
  },
  {
   "cell_type": "code",
   "execution_count": 88,
   "id": "b966720e-c462-41a6-a0ec-64c3cad31f86",
   "metadata": {},
   "outputs": [
    {
     "name": "stdout",
     "output_type": "stream",
     "text": [
      "5\n"
     ]
    }
   ],
   "source": [
    "# 6.\n",
    "idx=0\n",
    "if idx >=0:\n",
    "    idx+=3\n",
    "    print(idx+2)\n",
    "else:\n",
    "    idx+=6\n",
    "idx=idx+1"
   ]
  },
  {
   "cell_type": "code",
   "execution_count": 89,
   "id": "8b8b0304-9583-49a0-9a58-5c482bfde247",
   "metadata": {},
   "outputs": [
    {
     "name": "stdin",
     "output_type": "stream",
     "text": [
      " 4\n"
     ]
    },
    {
     "name": "stdout",
     "output_type": "stream",
     "text": [
      "The given number is not divisible by 3 or 5.\n"
     ]
    }
   ],
   "source": [
    "# 7.\n",
    "num=int(input())\n",
    "if num%3==0 and num%5==0:\n",
    "    print(\"The given number is divisible by 3 and 5.\")\n",
    "elif num%3==0:\n",
    "    print(\"The given number is divisible by 3.\")\n",
    "elif num%5==0:\n",
    "    print(\"The given number is divisible by 5.\")\n",
    "else:\n",
    "    print(\"The given number is not divisible by 3 or 5.\")"
   ]
  },
  {
   "cell_type": "code",
   "execution_count": 90,
   "id": "13f82b30-aa1a-4fb8-992d-b5732fd5d5a8",
   "metadata": {},
   "outputs": [
    {
     "name": "stdin",
     "output_type": "stream",
     "text": [
      "Please enter your age here:  35\n",
      "Do you have any symptoms? (y/n):  n\n"
     ]
    },
    {
     "name": "stdout",
     "output_type": "stream",
     "text": [
      "Please keep social distance.\n"
     ]
    }
   ],
   "source": [
    "# 8.\n",
    "age=int(input(\"Please enter your age here: \"))\n",
    "sym=input(\"Do you have any symptoms? (y/n): \")\n",
    "if age>=40 and sym=='y':\n",
    "    print(\"Get tested\")\n",
    "elif age<40 and sym=='y':\n",
    "    print(\"Self-isolate yourself\")\n",
    "else:\n",
    "    print(\"Please keep social distance.\")"
   ]
  },
  {
   "cell_type": "code",
   "execution_count": 92,
   "id": "48e12b9d-df63-421b-b587-9ecd18bdbf1f",
   "metadata": {},
   "outputs": [
    {
     "name": "stdin",
     "output_type": "stream",
     "text": [
      " 350\n"
     ]
    },
    {
     "name": "stdout",
     "output_type": "stream",
     "text": [
      "Sir your electricity charge for this month is: ) 275.0\n"
     ]
    }
   ],
   "source": [
    "# 9.\n",
    "units_consumed=int(input())\n",
    "if units_consumed<=100:\n",
    "    charge=0\n",
    "else:\n",
    "    if units_consumed >100 and units_consumed<=200:\n",
    "        charge=(units_consumed-100)*0.5\n",
    "    else:\n",
    "        charge=(units_consumed-200)*1.5+50\n",
    "print(\"Sir your electricity charge for this month is: )\",charge)"
   ]
  },
  {
   "cell_type": "code",
   "execution_count": 96,
   "id": "7775ea5a-8884-472e-812f-1d1422906403",
   "metadata": {},
   "outputs": [
    {
     "name": "stdin",
     "output_type": "stream",
     "text": [
      " 40000\n"
     ]
    },
    {
     "name": "stdout",
     "output_type": "stream",
     "text": [
      "Tax to be paid is: $1000.0\n"
     ]
    }
   ],
   "source": [
    "# 10.\n",
    "costPrice=int(input())\n",
    "if costPrice>100000:\n",
    "    tax=(costPrice*15)/100\n",
    "elif costPrice >50000 and costPrice<=100000:\n",
    "    tax=(costPrice*5)/100\n",
    "else:\n",
    "    tax=(costPrice*2.5)/100\n",
    "print(f'Tax to be paid is: ${tax}')"
   ]
  },
  {
   "cell_type": "code",
   "execution_count": 97,
   "id": "50f0d67a-89eb-41eb-b4ce-46571f84bfb9",
   "metadata": {},
   "outputs": [
    {
     "name": "stdin",
     "output_type": "stream",
     "text": [
      " 24\n"
     ]
    },
    {
     "name": "stdout",
     "output_type": "stream",
     "text": [
      "It's a Leap Year!!!\n"
     ]
    }
   ],
   "source": [
    "# 11.\n",
    "year=int(input())\n",
    "if year%4==0:\n",
    "    if year%100==0:\n",
    "        if year%400!=0:\n",
    "            print(\"Not a leap year\")\n",
    "        else:\n",
    "            print(\"It's a Leap Year!!!\")\n",
    "    else:\n",
    "        print(\"It's a Leap Year!!!\")\n",
    "else:\n",
    "    print(\"Not a leap year\")"
   ]
  },
  {
   "cell_type": "code",
   "execution_count": 104,
   "id": "e4e8066c-08a0-465c-b797-aaf6689c040e",
   "metadata": {},
   "outputs": [
    {
     "name": "stdin",
     "output_type": "stream",
     "text": [
      " 6\n"
     ]
    },
    {
     "name": "stdout",
     "output_type": "stream",
     "text": [
      "Saturday\n"
     ]
    },
    {
     "name": "stdin",
     "output_type": "stream",
     "text": [
      " 7\n"
     ]
    },
    {
     "name": "stdout",
     "output_type": "stream",
     "text": [
      "Sunday\n"
     ]
    },
    {
     "name": "stdin",
     "output_type": "stream",
     "text": [
      " 8\n"
     ]
    },
    {
     "name": "stdout",
     "output_type": "stream",
     "text": [
      "Enter the correct input\n"
     ]
    }
   ],
   "source": [
    "# 12.\n",
    "num=int(input())\n",
    "if num==1:\n",
    "    print(\"Monday\")\n",
    "elif num==2:\n",
    "    print(\"Tuesday\")\n",
    "elif num==3:\n",
    "    print(\"Wednesday\")\n",
    "elif num==4:\n",
    "    print(\"Thursday\")\n",
    "elif num==5:\n",
    "    print(\"Friday\")\n",
    "elif num==6:\n",
    "    print(\"Saturday\")\n",
    "elif num==7:\n",
    "    print(\"Sunday\")\n",
    "else:\n",
    "    print(\"Enter the correct input\")\n",
    "\n",
    "# Since python doesn't have switch case(earlier now in 3.10+ we have) like C/Java we can use dictionary mapping like:\n",
    "num=int(input())\n",
    "days={\n",
    "    1: \"Monday\",\n",
    "    2:\"Tuesday\",\n",
    "    3:\"Wednesday\",\n",
    "    4:\"Thursday\",\n",
    "    5:\"Friday\",\n",
    "    6:\"Saturday\",\n",
    "    7:\"Sunday\"\n",
    "}\n",
    "print(days.get(num,\"Enter the correct input\"))\n",
    "\n",
    "# match_case/ switch_case:\n",
    "num = int(input())\n",
    "\n",
    "match num:\n",
    "    case 1:\n",
    "        print(\"Monday\")\n",
    "    case 2:\n",
    "        print(\"Tuesday\")\n",
    "    case 3:\n",
    "        print(\"Wednesday\")\n",
    "    case 4:\n",
    "        print(\"Thursday\")\n",
    "    case 5:\n",
    "        print(\"Friday\")\n",
    "    case 6:\n",
    "        print(\"Saturday\")\n",
    "    case 7:\n",
    "        print(\"Sunday\")\n",
    "    case _:\n",
    "        print(\"Enter the correct input\")"
   ]
  },
  {
   "cell_type": "code",
   "execution_count": 117,
   "id": "57e9fce7-d64f-40e8-87c6-b96e2b776616",
   "metadata": {},
   "outputs": [
    {
     "name": "stdout",
     "output_type": "stream",
     "text": [
      "No its not a 5 digit number\n"
     ]
    },
    {
     "name": "stdin",
     "output_type": "stream",
     "text": [
      "Enter a number:  56789\n"
     ]
    },
    {
     "name": "stdout",
     "output_type": "stream",
     "text": [
      "Yes, it's a 5 digit number\n"
     ]
    },
    {
     "name": "stdin",
     "output_type": "stream",
     "text": [
      "Enter a number:  353\n"
     ]
    },
    {
     "name": "stdout",
     "output_type": "stream",
     "text": [
      "No, it's not a 5 digit number\n"
     ]
    }
   ],
   "source": [
    "# 13.\n",
    "num=1\n",
    "cnt=0\n",
    "if num//10>10:\n",
    "    cnt+=1\n",
    "    num=num//10 #7532\n",
    "    if num//10>10:\n",
    "        cnt+=1\n",
    "        num=num//10 #753\n",
    "        if num//10>10:\n",
    "            cnt+=1\n",
    "            num=num//10 #75\n",
    "            if num//10<10:\n",
    "                cnt+=1\n",
    "if cnt==4:\n",
    "    print(\"Yes it's a 5 digit number\")\n",
    "else:\n",
    "    print(\"No its not a 5 digit number\")\n",
    "\n",
    "# Other way:\n",
    "num = int(input())\n",
    "\n",
    "if len(str(num)) == 5:\n",
    "    print(\"Yes, it's a 5 digit number\")\n",
    "else:\n",
    "    print(\"No, it's not a 5 digit number\")\n",
    "\n",
    "# OR\n",
    "num = int(input())\n",
    "\n",
    "if 10000 <= num <= 99999:\n",
    "    print(\"Yes, it's a 5 digit number\")\n",
    "else:\n",
    "    print(\"No, it's not a 5 digit number\")"
   ]
  },
  {
   "cell_type": "code",
   "execution_count": 118,
   "id": "b3e88978-88ce-45b4-9b79-45b54608f1f6",
   "metadata": {},
   "outputs": [
    {
     "name": "stdin",
     "output_type": "stream",
     "text": [
      " 1\n",
      " 2\n",
      " +\n"
     ]
    },
    {
     "name": "stdout",
     "output_type": "stream",
     "text": [
      "3\n"
     ]
    }
   ],
   "source": [
    "num1=int(input())\n",
    "num2=int(input())\n",
    "op=input()\n",
    "if op=='+':\n",
    "    ans=num1+num2\n",
    "elif op=='-':\n",
    "    ans=num1-num2\n",
    "elif op=='*':\n",
    "    ans=num1*num2\n",
    "elif op=='/':\n",
    "    ans=num1/num2\n",
    "elif op=='%':\n",
    "    ans=num1%num2\n",
    "else:\n",
    "    print(\"Enter the correct operator\")\n",
    "print(ans)"
   ]
  },
  {
   "cell_type": "code",
   "execution_count": 120,
   "id": "557fde58-fd77-471c-bc8e-80aaec650e8c",
   "metadata": {},
   "outputs": [
    {
     "name": "stdin",
     "output_type": "stream",
     "text": [
      " 3\n",
      " 4\n",
      " 5\n"
     ]
    },
    {
     "name": "stdout",
     "output_type": "stream",
     "text": [
      "Triangle is possible\n"
     ]
    }
   ],
   "source": [
    "a=int(input())\n",
    "b=int(input())\n",
    "c=int(input())\n",
    "if a+b>c:\n",
    "    if b+c>a:\n",
    "        if c+a>b:\n",
    "            print(\"Triangle is possible\")\n",
    "else:\n",
    "    print(\"No Triangle is possible\")"
   ]
  },
  {
   "cell_type": "code",
   "execution_count": 126,
   "id": "00fd865a-1dbb-4fc0-8e1b-dd7985dd58cf",
   "metadata": {},
   "outputs": [
    {
     "name": "stdout",
     "output_type": "stream",
     "text": [
      "17 15 17\n"
     ]
    }
   ],
   "source": [
    "# i = 3\n",
    "# j = 5\n",
    "# k = 7\n",
    "# i = -2\n",
    "# j = -5\n",
    "# k = 9\n",
    "# i = 8\n",
    "# j = 15\n",
    "# k = 12\n",
    "# i = 13\n",
    "# j = 15\n",
    "# k = 13\n",
    "# i = 3\n",
    "# j = 5\n",
    "# k = 17\n",
    "i = 25\n",
    "j = 15\n",
    "k = 17\n",
    "\n",
    "if i < j:\n",
    "    if j < k:\n",
    "        i = j\n",
    "    else:\n",
    "        j = k\n",
    "else:\n",
    "    if j > k:\n",
    "        j = i\n",
    "    else:\n",
    "        i = k\n",
    "print(i, j, k)\n",
    "\n",
    "# i = 3, j = 5, k = 7 --> 5 5 7\n",
    "# i = -2, j = -5, k = 9 --> 9 -5 9\n",
    "# i = 8, j = 15, k = 12 --> 8 12 12\n",
    "# i = 13, j = 15, k = 13 --> 13 15 13\n",
    "# i = 3, j = 5, k = 17 --> 5 5 17\n",
    "# i = 25, j = 15, k = 17 --> 17 15 17"
   ]
  },
  {
   "cell_type": "code",
   "execution_count": 127,
   "id": "ea6431d5-05c4-48da-859b-5414e01a87b0",
   "metadata": {},
   "outputs": [
    {
     "name": "stdout",
     "output_type": "stream",
     "text": [
      "4627.0\n"
     ]
    }
   ],
   "source": [
    "# Tracing\n",
    "hours_worked = 50\n",
    "level = 1\n",
    "wage = 100\n",
    "salary = 0\n",
    "\n",
    "#salary calculation\n",
    "if hours_worked > 40:\n",
    "    salary = 40 * wage + (hours_worked - 40) * wage * 1.5\n",
    "    level += 1\n",
    "else:\n",
    "    salary = hours_worked * wage\n",
    "        \n",
    "#bonus calculation\n",
    "if level >= 5:\n",
    "    salary += 0.5*salary\n",
    "    salary += 200\n",
    "elif level < 5 and level >= 2:\n",
    "    salary += 0.2*salary\n",
    "    salary += 10\n",
    "else:\n",
    "    salary = salary\n",
    "\n",
    "#tax deduction\n",
    "if salary > 5000:\n",
    "    salary -= salary*0.3\n",
    "else:\n",
    "    salary -= salary*0.1\n",
    "\n",
    "print(salary)"
   ]
  },
  {
   "cell_type": "code",
   "execution_count": 128,
   "id": "9940e5d4-137c-4802-a472-c9efdf4fcedf",
   "metadata": {},
   "outputs": [],
   "source": [
    "# Debugging Techniques:\n",
    "    # print, assert, stack trace, logging\n",
    "# Five steps in debugging with the scientific method:\n",
    "    # initial observation\n",
    "    # formulate hypothesis\n",
    "    # make a prediction\n",
    "    # test the prediction\n",
    "    # accept or reject "
   ]
  },
  {
   "cell_type": "code",
   "execution_count": 133,
   "id": "27962378-a401-49b9-bc9e-4f2479b65ecf",
   "metadata": {},
   "outputs": [
    {
     "ename": "SyntaxError",
     "evalue": "invalid syntax. Maybe you meant '==' or ':=' instead of '='? (707003843.py, line 3)",
     "output_type": "error",
     "traceback": [
      "\u001b[0;36m  Cell \u001b[0;32mIn[133], line 3\u001b[0;36m\u001b[0m\n\u001b[0;31m    if a=1:\u001b[0m\n\u001b[0m       ^\u001b[0m\n\u001b[0;31mSyntaxError\u001b[0m\u001b[0;31m:\u001b[0m invalid syntax. Maybe you meant '==' or ':=' instead of '='?\n"
     ]
    }
   ],
   "source": [
    "# Syntax error\n",
    "a=1\n",
    "if a=1:\n",
    "    print(True)\n",
    "# Fix\n",
    "if a|==1:\n",
    "    print(True)"
   ]
  },
  {
   "cell_type": "code",
   "execution_count": 134,
   "id": "69b809bc-7b56-4c71-9da6-795421c6adff",
   "metadata": {},
   "outputs": [
    {
     "ename": "NameError",
     "evalue": "name 'r' is not defined",
     "output_type": "error",
     "traceback": [
      "\u001b[0;31m---------------------------------------------------------------------------\u001b[0m",
      "\u001b[0;31mNameError\u001b[0m                                 Traceback (most recent call last)",
      "Cell \u001b[0;32mIn[134], line 2\u001b[0m\n\u001b[1;32m      1\u001b[0m \u001b[38;5;66;03m# Name Error\u001b[39;00m\n\u001b[0;32m----> 2\u001b[0m q\u001b[38;5;241m=\u001b[39mr\n\u001b[1;32m      3\u001b[0m \u001b[38;5;28mprint\u001b[39m(q)\n\u001b[1;32m      5\u001b[0m \u001b[38;5;66;03m# Fix\u001b[39;00m\n",
      "\u001b[0;31mNameError\u001b[0m: name 'r' is not defined"
     ]
    }
   ],
   "source": [
    "# Name Error\n",
    "q=r\n",
    "print(q)\n",
    "\n",
    "# Fix\n",
    "r=1\n",
    "q=r\n",
    "print(q)"
   ]
  },
  {
   "cell_type": "code",
   "execution_count": 138,
   "id": "47f95c7e-680f-41ad-996a-990f5ed497ea",
   "metadata": {},
   "outputs": [
    {
     "ename": "SyntaxError",
     "evalue": "invalid syntax (5554496.py, line 1)",
     "output_type": "error",
     "traceback": [
      "\u001b[0;36m  Cell \u001b[0;32mIn[138], line 1\u001b[0;36m\u001b[0m\n\u001b[0;31m    Type Error\u001b[0m\n\u001b[0m         ^\u001b[0m\n\u001b[0;31mSyntaxError\u001b[0m\u001b[0;31m:\u001b[0m invalid syntax\n"
     ]
    }
   ],
   "source": [
    "# Type Error\n",
    "a='1'\n",
    "b=2\n",
    "print(a+b)\n",
    "\n",
    "# Fix\n",
    "print(int(a)+b)"
   ]
  },
  {
   "cell_type": "code",
   "execution_count": 140,
   "id": "fbc3c76e-6177-4390-8d33-efd525a63766",
   "metadata": {},
   "outputs": [
    {
     "name": "stdin",
     "output_type": "stream",
     "text": [
      " 2.2\n"
     ]
    },
    {
     "ename": "ValueError",
     "evalue": "invalid literal for int() with base 10: '2.2'",
     "output_type": "error",
     "traceback": [
      "\u001b[0;31m---------------------------------------------------------------------------\u001b[0m",
      "\u001b[0;31mValueError\u001b[0m                                Traceback (most recent call last)",
      "Cell \u001b[0;32mIn[140], line 2\u001b[0m\n\u001b[1;32m      1\u001b[0m \u001b[38;5;66;03m# Value Error\u001b[39;00m\n\u001b[0;32m----> 2\u001b[0m a\u001b[38;5;241m=\u001b[39m\u001b[38;5;28mint\u001b[39m(\u001b[38;5;28minput\u001b[39m())\n\u001b[1;32m      3\u001b[0m \u001b[38;5;28mprint\u001b[39m(a)\n",
      "\u001b[0;31mValueError\u001b[0m: invalid literal for int() with base 10: '2.2'"
     ]
    }
   ],
   "source": [
    "# Value Error\n",
    "a=int(input())\n",
    "print(a)\n",
    "\n",
    "# Fix is give only int inputs"
   ]
  },
  {
   "cell_type": "code",
   "execution_count": 143,
   "id": "f8271785-e804-4bdb-b62f-f1944922f3b5",
   "metadata": {},
   "outputs": [
    {
     "ename": "ImportError",
     "evalue": "cannot import name 'cei' from 'math' (/opt/homebrew/anaconda3/lib/python3.12/lib-dynload/math.cpython-312-darwin.so)",
     "output_type": "error",
     "traceback": [
      "\u001b[0;31m---------------------------------------------------------------------------\u001b[0m",
      "\u001b[0;31mImportError\u001b[0m                               Traceback (most recent call last)",
      "Cell \u001b[0;32mIn[143], line 2\u001b[0m\n\u001b[1;32m      1\u001b[0m \u001b[38;5;66;03m# Import error\u001b[39;00m\n\u001b[0;32m----> 2\u001b[0m \u001b[38;5;28;01mfrom\u001b[39;00m \u001b[38;5;21;01mmath\u001b[39;00m \u001b[38;5;28;01mimport\u001b[39;00m cei\n\u001b[1;32m      3\u001b[0m c\u001b[38;5;241m=\u001b[39mceil(\u001b[38;5;241m2.3\u001b[39m)\n\u001b[1;32m      4\u001b[0m \u001b[38;5;28mprint\u001b[39m(c)\n",
      "\u001b[0;31mImportError\u001b[0m: cannot import name 'cei' from 'math' (/opt/homebrew/anaconda3/lib/python3.12/lib-dynload/math.cpython-312-darwin.so)"
     ]
    }
   ],
   "source": [
    "# Import error\n",
    "from math import cei\n",
    "c=ceil(2.3)\n",
    "print(c)\n",
    "\n",
    "# Fix\n",
    "from math import ceil"
   ]
  },
  {
   "cell_type": "code",
   "execution_count": 145,
   "id": "998c4918-7fd5-4567-8f36-a05b18c3ce18",
   "metadata": {},
   "outputs": [
    {
     "ename": "IndentationError",
     "evalue": "expected an indented block after 'if' statement on line 2 (1452451354.py, line 3)",
     "output_type": "error",
     "traceback": [
      "\u001b[0;36m  Cell \u001b[0;32mIn[145], line 3\u001b[0;36m\u001b[0m\n\u001b[0;31m    print(True)\u001b[0m\n\u001b[0m    ^\u001b[0m\n\u001b[0;31mIndentationError\u001b[0m\u001b[0;31m:\u001b[0m expected an indented block after 'if' statement on line 2\n"
     ]
    }
   ],
   "source": [
    "# Indentation Error\n",
    "if a==1:\n",
    "print(True)\n",
    "\n",
    "# Fix\n",
    "if a==1:\n",
    "    print(True)"
   ]
  },
  {
   "cell_type": "code",
   "execution_count": 146,
   "id": "839b7988-ce3b-4bed-95b3-c41ce8f425bd",
   "metadata": {},
   "outputs": [
    {
     "ename": "ZeroDivisionError",
     "evalue": "division by zero",
     "output_type": "error",
     "traceback": [
      "\u001b[0;31m---------------------------------------------------------------------------\u001b[0m",
      "\u001b[0;31mZeroDivisionError\u001b[0m                         Traceback (most recent call last)",
      "Cell \u001b[0;32mIn[146], line 2\u001b[0m\n\u001b[1;32m      1\u001b[0m \u001b[38;5;66;03m# Zero Division Error\u001b[39;00m\n\u001b[0;32m----> 2\u001b[0m \u001b[38;5;28mprint\u001b[39m(\u001b[38;5;241m1\u001b[39m\u001b[38;5;241m/\u001b[39m\u001b[38;5;241m0\u001b[39m)\n",
      "\u001b[0;31mZeroDivisionError\u001b[0m: division by zero"
     ]
    }
   ],
   "source": [
    "# Zero Division Error\n",
    "print(1/0)"
   ]
  },
  {
   "cell_type": "code",
   "execution_count": 148,
   "id": "9e5ae23a-5f0d-4b54-b1ee-d935b960b54d",
   "metadata": {},
   "outputs": [
    {
     "ename": "AttributeError",
     "evalue": "module 'math' has no attribute 'p'",
     "output_type": "error",
     "traceback": [
      "\u001b[0;31m---------------------------------------------------------------------------\u001b[0m",
      "\u001b[0;31mAttributeError\u001b[0m                            Traceback (most recent call last)",
      "Cell \u001b[0;32mIn[148], line 2\u001b[0m\n\u001b[1;32m      1\u001b[0m \u001b[38;5;66;03m# Attribute Error\u001b[39;00m\n\u001b[0;32m----> 2\u001b[0m ans\u001b[38;5;241m=\u001b[39m\u001b[38;5;241m3\u001b[39m\u001b[38;5;241m*\u001b[39mmath\u001b[38;5;241m.\u001b[39mp\n\u001b[1;32m      3\u001b[0m \u001b[38;5;28mprint\u001b[39m(ans)\n\u001b[1;32m      5\u001b[0m \u001b[38;5;66;03m# Fix\u001b[39;00m\n",
      "\u001b[0;31mAttributeError\u001b[0m: module 'math' has no attribute 'p'"
     ]
    }
   ],
   "source": [
    "# Attribute Error\n",
    "ans=3*math.p\n",
    "print(ans)\n",
    "\n",
    "# Fix\n",
    "ans=3*math.pi\n",
    "print(ans)"
   ]
  },
  {
   "cell_type": "code",
   "execution_count": 150,
   "id": "896ef4f8-587e-4c32-93a4-d6aed15e6187",
   "metadata": {},
   "outputs": [
    {
     "ename": "AssertionError",
     "evalue": "No k value is not 12.",
     "output_type": "error",
     "traceback": [
      "\u001b[0;31m---------------------------------------------------------------------------\u001b[0m",
      "\u001b[0;31mAssertionError\u001b[0m                            Traceback (most recent call last)",
      "Cell \u001b[0;32mIn[150], line 3\u001b[0m\n\u001b[1;32m      1\u001b[0m \u001b[38;5;66;03m# Assertion Error\u001b[39;00m\n\u001b[1;32m      2\u001b[0m k\u001b[38;5;241m=\u001b[39m\u001b[38;5;241m10\u001b[39m\n\u001b[0;32m----> 3\u001b[0m \u001b[38;5;28;01massert\u001b[39;00m k\u001b[38;5;241m==\u001b[39m\u001b[38;5;241m12\u001b[39m, \u001b[38;5;124m\"\u001b[39m\u001b[38;5;124mNo k value is not 12.\u001b[39m\u001b[38;5;124m\"\u001b[39m\n\u001b[1;32m      5\u001b[0m \u001b[38;5;66;03m# Fix\u001b[39;00m\n\u001b[1;32m      6\u001b[0m k\u001b[38;5;241m=\u001b[39m\u001b[38;5;241m10\u001b[39m\n",
      "\u001b[0;31mAssertionError\u001b[0m: No k value is not 12."
     ]
    }
   ],
   "source": [
    "# Assertion Error\n",
    "k=10\n",
    "assert k==12, \"No k value is not 12.\"\n",
    "\n",
    "# Fix\n",
    "k=10\n",
    "assert k==10, \"No k value is not 12.\""
   ]
  },
  {
   "cell_type": "code",
   "execution_count": 151,
   "id": "9cd4be3d-5f75-4ada-ae69-db99e7b1d871",
   "metadata": {},
   "outputs": [],
   "source": [
    "# Logging Levels\n",
    "    # debug, info, warning, error, critical\n",
    "    # Default in basicConfig is warning\n",
    "    # To change: logging.basicConfig(level=logging.DEBUG, force=True)\n",
    "# To log into file: logging.basicConfig(level=logging.DEBUG, force=True, filename='file1.log')"
   ]
  },
  {
   "cell_type": "code",
   "execution_count": 152,
   "id": "bf85d58d-acad-403e-94c6-18a22a2dc8a6",
   "metadata": {},
   "outputs": [
    {
     "name": "stdout",
     "output_type": "stream",
     "text": [
      "Bonus: 609.5\n",
      "Salary after first bonus: 12799.5\n",
      "Salary after second bonus: 13439.475\n",
      "Final salary: 15439.475\n"
     ]
    },
    {
     "ename": "AssertionError",
     "evalue": "Second bonus addition wrong",
     "output_type": "error",
     "traceback": [
      "\u001b[0;31m---------------------------------------------------------------------------\u001b[0m",
      "\u001b[0;31mAssertionError\u001b[0m                            Traceback (most recent call last)",
      "Cell \u001b[0;32mIn[152], line 34\u001b[0m\n\u001b[1;32m     31\u001b[0m \u001b[38;5;28;01massert\u001b[39;00m \u001b[38;5;28mround\u001b[39m(salary,\u001b[38;5;241m2\u001b[39m) \u001b[38;5;241m==\u001b[39m \u001b[38;5;241m12190\u001b[39m \u001b[38;5;241m+\u001b[39m \u001b[38;5;241m12190\u001b[39m\u001b[38;5;241m*\u001b[39m\u001b[38;5;241m0.05\u001b[39m, \u001b[38;5;124m\"\u001b[39m\u001b[38;5;124mFirst bonus addition wrong\u001b[39m\u001b[38;5;124m\"\u001b[39m\n\u001b[1;32m     33\u001b[0m salary \u001b[38;5;241m=\u001b[39m salary \u001b[38;5;241m+\u001b[39m (salary \u001b[38;5;241m*\u001b[39m bonus_rate)\n\u001b[0;32m---> 34\u001b[0m \u001b[38;5;28;01massert\u001b[39;00m \u001b[38;5;28mround\u001b[39m(salary,\u001b[38;5;241m2\u001b[39m) \u001b[38;5;241m==\u001b[39m (\u001b[38;5;241m12190\u001b[39m \u001b[38;5;241m+\u001b[39m \u001b[38;5;241m12190\u001b[39m\u001b[38;5;241m*\u001b[39m\u001b[38;5;241m0.05\u001b[39m)\u001b[38;5;241m*\u001b[39m\u001b[38;5;241m1.05\u001b[39m, \u001b[38;5;124m\"\u001b[39m\u001b[38;5;124mSecond bonus addition wrong\u001b[39m\u001b[38;5;124m\"\u001b[39m\n\u001b[1;32m     36\u001b[0m \u001b[38;5;28;01mif\u001b[39;00m salary \u001b[38;5;241m>\u001b[39m \u001b[38;5;241m13000\u001b[39m:\n\u001b[1;32m     37\u001b[0m     salary \u001b[38;5;241m+\u001b[39m\u001b[38;5;241m=\u001b[39m \u001b[38;5;241m200\u001b[39m  \u001b[38;5;66;03m# fixed, not 2000\u001b[39;00m\n",
      "\u001b[0;31mAssertionError\u001b[0m: Second bonus addition wrong"
     ]
    }
   ],
   "source": [
    "# 1.\n",
    "# debugging using print statements:\n",
    "salary = 12190\n",
    "bonus_rate = 0.05\n",
    "\n",
    "bonus = salary * bonus_rate\n",
    "print(\"Bonus:\", bonus)\n",
    "\n",
    "salary = salary + bonus\n",
    "print(\"Salary after first bonus:\", salary)\n",
    "\n",
    "salary = salary + (salary * bonus_rate)\n",
    "print(\"Salary after second bonus:\", salary)\n",
    "\n",
    "if salary > 13000:\n",
    "    # supposed to give extra 200\n",
    "    salary += 2000   # <-- seems wrong, comment says 200 but adding 2000\n",
    "else:\n",
    "    salary += 150\n",
    "\n",
    "print(\"Final salary:\", salary)\n",
    "\n",
    "# debugging using assert statements:\n",
    "salary = 12190\n",
    "bonus_rate = 0.05\n",
    "\n",
    "bonus = salary * bonus_rate\n",
    "assert bonus == 12190 * 0.05, \"Bonus calculation wrong\"\n",
    "\n",
    "salary = salary + bonus\n",
    "assert round(salary,2) == 12190 + 12190*0.05, \"First bonus addition wrong\"\n",
    "\n",
    "salary = salary + (salary * bonus_rate)\n",
    "assert round(salary,2) == (12190 + 12190*0.05)*1.05, \"Second bonus addition wrong\"\n",
    "\n",
    "if salary > 13000:\n",
    "    salary += 200  # fixed, not 2000\n",
    "else:\n",
    "    salary += 150\n",
    "\n",
    "assert salary > 0, \"Final salary should be positive\"\n",
    "\n",
    "print(\"Final salary:\", salary)"
   ]
  },
  {
   "cell_type": "code",
   "execution_count": 154,
   "id": "d4da75a6-a961-411d-ac91-e0dd13daca1c",
   "metadata": {},
   "outputs": [
    {
     "name": "stderr",
     "output_type": "stream",
     "text": [
      "DEBUG: Total after GST: 275.0\n",
      "DEBUG: Applied 5% discount\n",
      "INFO: Final total amount: 261.25\n"
     ]
    }
   ],
   "source": [
    "# 2.\n",
    "# Debugging using logging\n",
    "import logging\n",
    "logging.basicConfig(level=logging.DEBUG, force=True, format='%(levelname)s: %(message)s')\n",
    "\n",
    "price = 50\n",
    "quantity = 5\n",
    "gst = 0.1\n",
    "\n",
    "# total is price*quantity plus 10% GST\n",
    "total = price * quantity * (1 + gst)  # fixed calculation\n",
    "logging.debug(f\"Total after GST: {total}\")\n",
    "\n",
    "if total > 500:\n",
    "    total -= total * 0.2\n",
    "    logging.debug(\"Applied 20% discount\")\n",
    "elif 400 < total <= 500:\n",
    "    total -= total * 0.1\n",
    "    logging.debug(\"Applied 10% discount\")\n",
    "elif 200 < total <= 400:\n",
    "    total -= total * 0.05\n",
    "    logging.debug(\"Applied 5% discount\")\n",
    "else:\n",
    "    logging.debug(\"No discount applied\")\n",
    "\n",
    "logging.info(f\"Final total amount: {total}\")"
   ]
  },
  {
   "cell_type": "code",
   "execution_count": 162,
   "id": "868b8383-d53e-4d6d-b88a-e8e28e923c4e",
   "metadata": {},
   "outputs": [
    {
     "ename": "SyntaxError",
     "evalue": "invalid syntax (1748781874.py, line 10)",
     "output_type": "error",
     "traceback": [
      "\u001b[0;36m  Cell \u001b[0;32mIn[162], line 10\u001b[0;36m\u001b[0m\n\u001b[0;31m    elf v % 3 == 0:\u001b[0m\n\u001b[0m        ^\u001b[0m\n\u001b[0;31mSyntaxError\u001b[0m\u001b[0;31m:\u001b[0m invalid syntax\n"
     ]
    }
   ],
   "source": [
    "# 3.\n",
    "import logging\n",
    "logging.basicConfig(level=logging.DEBUG, force=True, format='%(levelname)s: %(message)s')\n",
    "\n",
    "v = int(input('Enter an integer number: '))\n",
    "logging.debug(f\"Input value: {v}\")\n",
    "\n",
    "if v % 3 == 0 and v % 5 == 0:\n",
    "    logging.info(f\"{v} is divisible by 3 and 5.\")\n",
    "elif v % 3 == 0:\n",
    "    logging.info(f\"{v} is divisible by 3.\")\n",
    "elif v % 5 == 0:\n",
    "    logging.info(f\"{v} is divisible by 5.\")\n",
    "else:\n",
    "    logging.info(f\"{v} is divisible neither by 3 nor by 5.\")"
   ]
  },
  {
   "cell_type": "code",
   "execution_count": 163,
   "id": "bff7a208-cd50-4e0c-84b2-f1b2f1a2e54e",
   "metadata": {},
   "outputs": [
    {
     "name": "stdout",
     "output_type": "stream",
     "text": [
      "Logging Level DEBUG: 10\n",
      "Logging Level INFO: 20\n",
      "Logging Level WARNING: 30\n",
      "Logging Level ERROR: 40\n",
      "Logging Level CRITICAL: 50\n"
     ]
    }
   ],
   "source": [
    "import logging\n",
    "print(f\"Logging Level {logging._levelToName[logging.DEBUG]}: {logging.DEBUG}\")\n",
    "print(f\"Logging Level {logging._levelToName[logging.INFO]}: {logging.INFO}\")\n",
    "print(f\"Logging Level {logging._levelToName[logging.WARNING]}: {logging.WARNING}\")\n",
    "print(f\"Logging Level {logging._levelToName[logging.ERROR]}: {logging.ERROR}\")\n",
    "print(f\"Logging Level {logging._levelToName[logging.CRITICAL]}: {logging.CRITICAL}\")"
   ]
  },
  {
   "cell_type": "code",
   "execution_count": null,
   "id": "9bd13e5b-1134-42cf-b12a-9d6918a59ee9",
   "metadata": {},
   "outputs": [],
   "source": []
  }
 ],
 "metadata": {
  "kernelspec": {
   "display_name": "Python [conda env:base] *",
   "language": "python",
   "name": "conda-base-py"
  },
  "language_info": {
   "codemirror_mode": {
    "name": "ipython",
    "version": 3
   },
   "file_extension": ".py",
   "mimetype": "text/x-python",
   "name": "python",
   "nbconvert_exporter": "python",
   "pygments_lexer": "ipython3",
   "version": "3.12.7"
  }
 },
 "nbformat": 4,
 "nbformat_minor": 5
}
