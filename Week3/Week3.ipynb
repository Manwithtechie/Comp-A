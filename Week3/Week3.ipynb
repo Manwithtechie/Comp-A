{
 "cells": [
  {
   "cell_type": "code",
   "execution_count": 1,
   "id": "7fe8cfd2-6214-4629-bbe2-8043718f92c2",
   "metadata": {},
   "outputs": [
    {
     "name": "stdin",
     "output_type": "stream",
     "text": [
      "Enter a name Manvith\n"
     ]
    },
    {
     "name": "stdout",
     "output_type": "stream",
     "text": [
      "Manvith\n"
     ]
    },
    {
     "name": "stdin",
     "output_type": "stream",
     "text": [
      "Enter a name Madhu\n"
     ]
    },
    {
     "name": "stdout",
     "output_type": "stream",
     "text": [
      "Madhu\n"
     ]
    },
    {
     "name": "stdin",
     "output_type": "stream",
     "text": [
      "Enter a name Karthik\n"
     ]
    },
    {
     "name": "stdout",
     "output_type": "stream",
     "text": [
      "Karthik\n"
     ]
    }
   ],
   "source": [
    "name=input(\"Enter a name\")\n",
    "print(name)\n",
    "name=input(\"Enter a name\")\n",
    "print(name)\n",
    "name=input(\"Enter a name\")\n",
    "print(name)"
   ]
  },
  {
   "cell_type": "code",
   "execution_count": 2,
   "id": "a7855935-c3a7-4f6f-bf86-53bb508fb909",
   "metadata": {},
   "outputs": [
    {
     "name": "stdin",
     "output_type": "stream",
     "text": [
      "Enter a name:  Manvith\n",
      "Enter a name:  a\n"
     ]
    },
    {
     "name": "stdout",
     "output_type": "stream",
     "text": [
      "a\n"
     ]
    },
    {
     "name": "stdin",
     "output_type": "stream",
     "text": [
      "Enter a name:  Manvith\n"
     ]
    },
    {
     "name": "stdout",
     "output_type": "stream",
     "text": [
      "Manvith\n"
     ]
    },
    {
     "name": "stdin",
     "output_type": "stream",
     "text": [
      "Enter a name:  Karthik\n"
     ]
    },
    {
     "name": "stdout",
     "output_type": "stream",
     "text": [
      "Karthik\n"
     ]
    },
    {
     "name": "stdin",
     "output_type": "stream",
     "text": [
      "Enter a name:  Venkat\n"
     ]
    },
    {
     "name": "stdout",
     "output_type": "stream",
     "text": [
      "Venkat\n"
     ]
    },
    {
     "name": "stdin",
     "output_type": "stream",
     "text": [
      "Enter a name:  Madhu\n"
     ]
    },
    {
     "name": "stdout",
     "output_type": "stream",
     "text": [
      "Madhu\n"
     ]
    },
    {
     "name": "stdin",
     "output_type": "stream",
     "text": [
      "Enter a name:  stop\n"
     ]
    },
    {
     "name": "stdout",
     "output_type": "stream",
     "text": [
      "stop\n"
     ]
    }
   ],
   "source": [
    "str1=input(\"Enter a name: \")\n",
    "while(str1!=\"stop\"):\n",
    "    str1=input(\"Enter a name: \")\n",
    "    print(str1)"
   ]
  },
  {
   "cell_type": "code",
   "execution_count": 3,
   "id": "2aad00f0-36c4-41d4-81c9-d1aac6432ad6",
   "metadata": {},
   "outputs": [
    {
     "name": "stdout",
     "output_type": "stream",
     "text": [
      "6\n",
      "7\n",
      "8\n",
      "9\n"
     ]
    }
   ],
   "source": [
    "x=6\n",
    "while(x<10):\n",
    "    print(x)\n",
    "    x+=1"
   ]
  },
  {
   "cell_type": "code",
   "execution_count": 9,
   "id": "9b70bffb-65b2-4af4-84a5-c213b6d18213",
   "metadata": {},
   "outputs": [
    {
     "name": "stdout",
     "output_type": "stream",
     "text": [
      "Pick a number between 1 and 100 and I'll try to guess it\n",
      "Is your number 16?\n"
     ]
    },
    {
     "name": "stdin",
     "output_type": "stream",
     "text": [
      " yes\n"
     ]
    },
    {
     "name": "stdout",
     "output_type": "stream",
     "text": [
      "Guessed it right!!\n",
      "Pick a number between 1 and 100 and I'll try to guess it\n",
      "Is your number 51?\n"
     ]
    },
    {
     "name": "stdin",
     "output_type": "stream",
     "text": [
      " yes\n"
     ]
    },
    {
     "name": "stdout",
     "output_type": "stream",
     "text": [
      "Guessed it right!!\n"
     ]
    }
   ],
   "source": [
    "import random\n",
    "print(\"Pick a number between 1 and 100 and I'll try to guess it\")\n",
    "print(f\"Is your number {random.randint(1,100)}?\")\n",
    "str1=input()\n",
    "if str1==\"yes\":\n",
    "    print(\"Guessed it right!!\")\n",
    "while (str1!=\"yes\"):\n",
    "    print(f\"Is your number {random.randint(1,100)}?\")\n",
    "    str1=input()\n",
    "    if str1==\"yes\":\n",
    "        print(\"Guessed it right!!\")\n",
    "\n",
    "# # Easier way\n",
    "# import random\n",
    "\n",
    "# print(\"Pick a number between 1 and 100 and I'll try to guess it\")\n",
    "\n",
    "# while True:\n",
    "#     guess = random.randint(1, 100)\n",
    "#     print(f\"Is your number {guess}?\")\n",
    "#     if input().lower() == \"yes\":\n",
    "#         print(\"Guessed it right!!\")\n",
    "#         break"
   ]
  },
  {
   "cell_type": "code",
   "execution_count": 41,
   "id": "cd7b6ebe-d885-42aa-96c7-fd4f29f01299",
   "metadata": {},
   "outputs": [
    {
     "name": "stdin",
     "output_type": "stream",
     "text": [
      "Enter a name:  stop\n"
     ]
    }
   ],
   "source": [
    "str1=input(\"Enter a name: \")\n",
    "while(str1!=\"stop\"):\n",
    "    print(str1)\n",
    "    str1=input(\"Enter a name: \")"
   ]
  },
  {
   "cell_type": "code",
   "execution_count": 13,
   "id": "e70b7613-2e05-463b-965d-695a61a7de67",
   "metadata": {},
   "outputs": [
    {
     "name": "stdout",
     "output_type": "stream",
     "text": [
      "The sum is 210\n"
     ]
    }
   ],
   "source": [
    "n=20\n",
    "sum=0\n",
    "i=1\n",
    "while i<=n:\n",
    "    sum=sum+i\n",
    "    i+=1\n",
    "print(\"The sum is\",sum)"
   ]
  },
  {
   "cell_type": "code",
   "execution_count": 14,
   "id": "51a7b3df-1a4d-4d3f-8eaa-0f938f9e6965",
   "metadata": {},
   "outputs": [
    {
     "name": "stdout",
     "output_type": "stream",
     "text": [
      "1 Outer loop is executed only ionce\n",
      "1 Inner loop is executed until to completion\n",
      "2 Inner loop is executed until to completion\n",
      "2 Outer loop is executed only ionce\n",
      "1 Inner loop is executed until to completion\n",
      "2 Inner loop is executed until to completion\n"
     ]
    }
   ],
   "source": [
    "i=1\n",
    "while(i<=2):\n",
    "    print(i,\"Outer loop is executed only ionce\")\n",
    "\n",
    "    j=1\n",
    "    while(j<=2):\n",
    "        print(j,\"Inner loop is executed until to completion\")\n",
    "        j+=1\n",
    "    i+=1"
   ]
  },
  {
   "cell_type": "code",
   "execution_count": 40,
   "id": "e8bf8083-bdbd-40c6-bdca-1fd434575720",
   "metadata": {},
   "outputs": [
    {
     "name": "stdout",
     "output_type": "stream",
     "text": [
      "1 2 3 4 5 6 7 8 9 10 11 12 \n",
      " 2 4 6 8 10 12 14 16 18 20 22 24\n",
      " 3 6 9 12 15 18 21 24 27 30 33 36\n",
      " 4 8 12 16 20 24 28 32 36 40 44 48\n",
      " 5 10 15 20 25 30 35 40 45 50 55 60\n",
      " 6 12 18 24 30 36 42 48 54 60 66 72\n",
      " 7 14 21 28 35 42 49 56 63 70 77 84\n",
      " 8 16 24 32 40 48 56 64 72 80 88 96\n",
      " 9 18 27 36 45 54 63 72 81 90 99 108\n",
      " 10 20 30 40 50 60 70 80 90 100 110 120\n",
      "1 2 3 4 5 6 7 8 9 10 11 12 \n",
      " 2 4 6 8 10 12 14 16 18 20 22 24 \n",
      " 3 6 9 12 15 18 21 24 27 30 33 36 \n",
      " 4 8 12 16 20 24 28 32 36 40 44 48 \n",
      " 5 10 15 20 25 30 35 40 45 50 55 60 \n",
      " 6 12 18 24 30 36 42 48 54 60 66 72 \n",
      " 7 14 21 28 35 42 49 56 63 70 77 84 \n",
      " 8 16 24 32 40 48 56 64 72 80 88 96 \n",
      " 9 18 27 36 45 54 63 72 81 90 99 108 \n",
      " 10 20 30 40 50 60 70 80 90 100 110 120 \n"
     ]
    }
   ],
   "source": [
    "# Nested While\n",
    "i=1\n",
    "while i<=9:\n",
    "    j=1\n",
    "    if i==1:\n",
    "        while j<=12:\n",
    "            print(f\"{j*i}\",end=\" \")\n",
    "            j+=1\n",
    "    print()\n",
    "    i+=1\n",
    "    j=1\n",
    "    k=1\n",
    "    while k<=12:\n",
    "        print(f\" {j*i}\",end=\"\")\n",
    "        k+=1\n",
    "        j+=1\n",
    "print()\n",
    "# Easier Way\n",
    "i = 1\n",
    "while i <= 10:\n",
    "    j = 1\n",
    "    if i>1:\n",
    "        print(\" \",end=\"\")\n",
    "    while j <= 12:\n",
    "        print(i * j, end=\" \")\n",
    "        j += 1\n",
    "    print()\n",
    "    i += 1"
   ]
  },
  {
   "cell_type": "code",
   "execution_count": 43,
   "id": "559186e9-6e93-470b-ac88-941a82d288cc",
   "metadata": {},
   "outputs": [
    {
     "name": "stdout",
     "output_type": "stream",
     "text": [
      "Current variable value:  10\n",
      "Current variable value:  9\n",
      "Current variable value:  8\n",
      "Current variable value:  7\n",
      "Current variable value:  6\n"
     ]
    }
   ],
   "source": [
    "# Break Statement\n",
    "x=10\n",
    "while x>0:\n",
    "    print(\"Current variable value: \",x)\n",
    "    x-=1\n",
    "    if x==5:\n",
    "        break"
   ]
  },
  {
   "cell_type": "code",
   "execution_count": 45,
   "id": "ed3c09c1-605b-49b2-ab4d-1914ebf55abb",
   "metadata": {},
   "outputs": [
    {
     "name": "stdout",
     "output_type": "stream",
     "text": [
      "9\n",
      "8\n",
      "7\n",
      "6\n",
      "4\n",
      "3\n",
      "2\n",
      "1\n",
      "0\n"
     ]
    }
   ],
   "source": [
    "x=10\n",
    "while x>0:\n",
    "    x-=1\n",
    "    if x==5:\n",
    "        continue\n",
    "        print(\"Hii\")\n",
    "    print(x)"
   ]
  },
  {
   "cell_type": "code",
   "execution_count": 47,
   "id": "efba0adf-5e10-4315-8b16-a43066165535",
   "metadata": {},
   "outputs": [
    {
     "name": "stdout",
     "output_type": "stream",
     "text": [
      "9\n",
      "8\n",
      "7\n",
      "6\n",
      "Hii\n",
      "4\n",
      "3\n",
      "2\n",
      "1\n",
      "0\n"
     ]
    }
   ],
   "source": [
    "x=10\n",
    "while x>0:\n",
    "    x-=1\n",
    "    if x==5:\n",
    "        pass\n",
    "        print(\"Hii\")\n",
    "    else:\n",
    "        print(x)"
   ]
  },
  {
   "cell_type": "code",
   "execution_count": 52,
   "id": "732db091-c5ab-4189-93f3-24a3ccdf098f",
   "metadata": {},
   "outputs": [
    {
     "name": "stdin",
     "output_type": "stream",
     "text": [
      " 1\n",
      " 2\n",
      " 3\n",
      " -0\n",
      " -1\n"
     ]
    },
    {
     "name": "stdout",
     "output_type": "stream",
     "text": [
      "6\n"
     ]
    }
   ],
   "source": [
    "i=1\n",
    "total=0\n",
    "while i<=20:\n",
    "    n=int(input())\n",
    "    if n<0:\n",
    "        break\n",
    "    if n%9==0:\n",
    "        continue\n",
    "    total+=n\n",
    "    i+=1\n",
    "print(total)"
   ]
  },
  {
   "cell_type": "code",
   "execution_count": 55,
   "id": "d8cb211d-8497-4a02-829e-03f5b74775b9",
   "metadata": {},
   "outputs": [
    {
     "name": "stdout",
     "output_type": "stream",
     "text": [
      "45\n"
     ]
    }
   ],
   "source": [
    "total = 0\n",
    "count = 0\n",
    "while(count<10):\n",
    "    total = total + count\n",
    "    count = count + 1 \n",
    "   \n",
    "    if count== 5:\n",
    "        pass\n",
    "    \n",
    "print(total)"
   ]
  },
  {
   "cell_type": "markdown",
   "id": "ed8d34d7-7a32-47b7-b2f4-f14b4ab0443b",
   "metadata": {},
   "source": [
    "# Reflective Learning"
   ]
  },
  {
   "cell_type": "code",
   "execution_count": 56,
   "id": "4d232907-0d05-47c1-ab64-2ee9b1df3e5d",
   "metadata": {},
   "outputs": [],
   "source": [
    "import logging\n",
    "logging.basicConfig(level=logging.WARNING,force=True)"
   ]
  },
  {
   "cell_type": "code",
   "execution_count": 57,
   "id": "79f17c2f-12de-4820-bdd6-6f5104a5e0e1",
   "metadata": {},
   "outputs": [
    {
     "ename": "SyntaxError",
     "evalue": "expected 'else' after 'if' expression (1698764466.py, line 5)",
     "output_type": "error",
     "traceback": [
      "\u001b[0;36m  Cell \u001b[0;32mIn[57], line 5\u001b[0;36m\u001b[0m\n\u001b[0;31m    print(\"person is employable\") if 10 >= 14 els print(\"person is not employable\")\u001b[0m\n\u001b[0m    ^\u001b[0m\n\u001b[0;31mSyntaxError\u001b[0m\u001b[0;31m:\u001b[0m expected 'else' after 'if' expression\n"
     ]
    }
   ],
   "source": [
    "# Import Error\n",
    "user_age = random.randint(1, 120)\n",
    "print(\"person is employable\") if user_age >= 14 else print(\"person is not employable\")\n",
    "# Syntax Error\n",
    "print(\"person is employable\") if 10 >= 14 els print(\"person is not employable\")\n",
    "# Type Error\n",
    "user_age = input(\"Please enter your age: \")\n",
    "print(\"person is employable\") if user_age >= 14 else print(\"person is not employable\")\n",
    "# Value Error\n",
    "user_age = int(\"ten\")\n",
    "print(\"person is employable\") if user_age >= 14 else print(\"person is not employable\")"
   ]
  },
  {
   "cell_type": "code",
   "execution_count": 58,
   "id": "24318ddc-c294-468d-b6e7-d6dffb3e919a",
   "metadata": {},
   "outputs": [
    {
     "name": "stdout",
     "output_type": "stream",
     "text": [
      "Enter the amount of each item.\n",
      "Enter 'quit' to end the program.\n"
     ]
    },
    {
     "name": "stdin",
     "output_type": "stream",
     "text": [
      "Amount of item?  100\n"
     ]
    },
    {
     "name": "stdout",
     "output_type": "stream",
     "text": [
      "The total for that item will be 107.00.\n"
     ]
    },
    {
     "name": "stdin",
     "output_type": "stream",
     "text": [
      "Amount of item?  200\n"
     ]
    },
    {
     "name": "stdout",
     "output_type": "stream",
     "text": [
      "The total for that item will be 214.00.\n"
     ]
    },
    {
     "name": "stdin",
     "output_type": "stream",
     "text": [
      "Amount of item?  quit\n"
     ]
    },
    {
     "name": "stdout",
     "output_type": "stream",
     "text": [
      "Thank you for using this program.\n"
     ]
    }
   ],
   "source": [
    "tax = 0.07   # that is, 7 percent\n",
    "print(\"Enter the amount of each item.\")\n",
    "print(\"Enter 'quit' to end the program.\")\n",
    "amount = input(\"Amount of item? \")\n",
    "while amount != \"quit\":\n",
    "    amount = float(amount)\n",
    "    total = (amount * tax) + amount\n",
    "    print(\"The total for that item will be %.2f.\" % total)\n",
    "    amount = input(\"Amount of item? \")\n",
    "print(\"Thank you for using this program.\")\n"
   ]
  },
  {
   "cell_type": "code",
   "execution_count": null,
   "id": "b5f64bc0-f06e-4959-bdc6-75c9662a8f5b",
   "metadata": {},
   "outputs": [],
   "source": [
    "# Infinite Loop\n",
    "# balance = float(input(\"Enter starting balance: \"))\n",
    "# years = 0\n",
    "# while balance < 2*balance:\n",
    "#     balance = balance * 0.05 + balance\n",
    "#     years = years + 1\n",
    "#     print(\"The balance after %d years is $%.2f.\" %(years, balance))\n",
    "# print(\"It will take %d years to double your investment.\" % years)"
   ]
  },
  {
   "cell_type": "code",
   "execution_count": 60,
   "id": "9963c587-bd93-47b0-8444-713a7457503d",
   "metadata": {},
   "outputs": [
    {
     "name": "stdin",
     "output_type": "stream",
     "text": [
      " 1\n",
      " 2\n",
      " 3\n",
      " 4\n",
      " 5\n",
      " quit\n"
     ]
    }
   ],
   "source": [
    "n=input()\n",
    "while n!=\"quit\":\n",
    "    n=input()"
   ]
  },
  {
   "cell_type": "code",
   "execution_count": 61,
   "id": "c2c40cd8-d43d-4891-8211-287b781b250f",
   "metadata": {},
   "outputs": [
    {
     "name": "stdout",
     "output_type": "stream",
     "text": [
      "8\n"
     ]
    }
   ],
   "source": [
    "x=8\n",
    "while x%3==0:\n",
    "    x=x-1\n",
    "print(x)"
   ]
  },
  {
   "cell_type": "code",
   "execution_count": 62,
   "id": "95fae92d-efd4-44bf-a30a-f8abc5cf5992",
   "metadata": {},
   "outputs": [
    {
     "name": "stdout",
     "output_type": "stream",
     "text": [
      "110 110 116 75 84 90 90 64 66 117 83 83 69 74 92 122 74 63 114 83 64 104 74 113 115 71 111 65 74 84 102 79 71 68 75 63 61 109 80 72 123 100 86 101 122 104 125 126 72 103 74 111 77 102 100 111 109 107 99 79 126 88 89 107 83 85 110 109 113 103 125 112 124 81 63 110 107 105 100 81 61 119 78 124 70 113 116 65 68 79 101 60 88 62 62 67 108 77 63 104 91 94 116 122 121 84 105 121 84 122 117 99 103 90 61 86 64 122 105 71 113 105 78 116 90 93 66 61 77 75 105 116 75 118 86 75 61 115 109 74 107 73 108 94 66 87 108 64 84 73 110 64 64 69 88 72 84 61 77 87 81 114 89 122 103 85 101 109 112 88 121 107 118 68 67 94 107 104 116 125 76 62 78 85 83 79 78 67 88 124 112 118 94 115 86 114 124 76 91 81 116 107 73 68 99 105 87 100 112 94 94 113 113 82 65 107 71 106 126 120 115 72 116 76 102 80 73 122 98 120 74 106 91 78 88 74 96 86 68 123 92 65 64 118 110 119 92 60 93 85 91 68 99 66 120 108 100 122 87 108 90 118 67 85 62 88 93 124 75 71 84 63 88 95 65 119 121 104 95 80 89 123 69 83 72 99 122 90 66 78 102 80 84 108 94 76 75 92 111 81 94 122 122 124 100 65 90 124 81 94 122 94 74 60 86 97 68 96 124 62 120 93 67 93 61 98 111 66 78 94 77 117 79 64 103 69 101 84 96 106 78 89 103 88 112 113 104 72 105 63 97 113 72 85 107 76 80 116 81 81 116 78 68 125 69 112 84 101 110 88 83 60 93 122 109 62 108 101 124 119 74 65 82 100 121 61 74 106 93 91 94 110 82 110 110 81 77 103 78 91 102 105 118 83 95 73 104 97 105 89 64 100 88 116 121 87 85 62 97 62 113 112 62 103 124 115 110 69 83 84 107 114 118 87 79 91 102 62 109 84 75 80 101 65 96 89 112 81 67 126 93 117 99 103 76 109 71 99 79 70 97 61 113 107 105 79 88 81 126 126 63 91 99 126 66 112 72 80 65 119 122 119 125 61 118 114 114 91 63 121 104 126 77 113 79 92 110 106 73 66 "
     ]
    }
   ],
   "source": [
    "i=1\n",
    "while i<=500:\n",
    "    print(random.randint(60,126),end=\" \")\n",
    "    i+=1"
   ]
  },
  {
   "cell_type": "code",
   "execution_count": 65,
   "id": "7e90d3d1-dfb4-49b2-933a-7f2458f27e7a",
   "metadata": {},
   "outputs": [
    {
     "name": "stdin",
     "output_type": "stream",
     "text": [
      "mmol/L or mg/dL mmol/L\n"
     ]
    },
    {
     "name": "stdout",
     "output_type": "stream",
     "text": [
      "5.778 3.333 4.944 5.611 6.167 6.667 4.389 6.167 6.611 4.444 6.0 4.444 5.611 4.167 6.667 3.611 3.611 5.889 6.333 6.611 6.833 3.611 5.222 3.944 5.389 3.389 4.889 4.389 7.0 6.056 5.0 4.667 5.667 4.611 5.778 5.5 6.222 4.5 6.778 6.889 6.444 4.833 5.889 3.889 6.667 6.278 4.167 6.5 4.222 3.833 6.0 3.778 5.556 4.944 4.611 3.556 4.222 6.333 5.722 5.556 5.611 4.222 5.222 5.667 6.944 4.833 4.667 3.333 5.222 5.722 5.389 4.167 5.389 6.667 4.778 4.222 6.833 3.5 3.778 4.167 4.556 6.778 3.778 4.111 4.722 4.611 6.222 4.778 6.222 5.5 3.778 6.556 3.556 4.833 5.556 5.167 3.611 5.333 6.111 6.778 3.556 5.389 5.722 4.778 6.278 3.778 6.556 4.889 4.222 5.389 4.944 5.5 4.833 4.444 6.0 4.833 5.667 6.444 6.167 4.389 6.778 5.167 4.333 3.444 3.556 5.278 4.444 4.556 4.667 6.278 6.667 5.167 5.833 5.111 4.333 3.944 5.556 6.222 3.5 6.333 5.0 3.389 5.778 5.222 4.833 6.611 4.111 3.889 6.556 4.5 4.333 5.167 3.556 6.778 6.333 6.444 3.889 6.389 6.722 4.056 4.0 3.778 6.056 5.222 5.944 6.278 5.389 5.389 5.5 4.222 5.5 5.556 5.389 5.167 6.389 5.667 5.5 5.667 4.111 4.0 5.278 4.389 5.0 6.444 4.0 6.889 6.667 5.722 6.0 4.611 4.389 4.111 4.667 7.0 5.556 4.611 3.556 6.5 4.056 5.611 6.111 3.611 5.722 4.389 4.333 5.389 6.389 6.833 4.778 6.056 6.833 5.444 6.722 5.0 3.389 4.167 4.833 4.167 5.944 6.0 5.944 6.167 6.056 4.556 5.278 6.778 4.778 3.667 5.444 6.611 5.5 4.278 3.333 7.0 3.389 6.833 4.611 3.556 5.444 4.111 5.278 7.0 6.0 5.556 5.333 4.556 3.889 6.222 4.778 5.889 6.278 5.667 6.667 5.056 4.278 5.333 5.778 3.5 5.722 5.778 7.0 4.833 4.444 5.0 5.389 6.111 4.333 4.056 7.0 6.444 4.0 5.778 3.556 6.778 4.111 6.5 7.0 5.556 6.0 3.444 4.778 3.889 3.667 5.167 6.278 6.833 4.389 4.833 6.333 5.833 3.389 4.167 5.333 4.444 6.167 4.389 4.056 5.556 6.556 3.667 4.167 5.889 5.222 6.722 6.5 4.611 3.944 6.0 5.222 6.333 3.944 4.444 6.667 6.444 3.556 6.889 4.056 4.889 3.667 5.056 5.222 5.556 5.5 5.0 4.111 5.5 4.111 5.333 4.333 4.0 5.333 4.667 3.333 5.944 5.889 4.444 4.167 6.778 7.0 6.389 4.778 5.333 6.667 4.0 6.5 6.222 6.722 5.944 4.167 6.389 3.389 4.444 6.278 4.444 5.611 4.278 3.833 3.611 5.278 5.333 5.222 6.222 6.111 4.167 3.611 6.944 5.611 5.778 3.444 6.778 6.056 3.5 6.111 4.722 3.889 3.5 4.944 3.833 3.389 4.278 6.056 5.444 3.333 5.167 3.389 4.389 4.889 4.833 6.556 5.944 3.833 4.611 6.944 4.556 6.333 4.0 5.111 5.778 6.278 4.722 4.611 5.611 5.444 3.444 6.278 6.222 5.167 3.611 3.389 3.833 5.778 5.833 5.444 3.889 6.333 6.167 6.0 5.667 4.722 6.833 3.833 4.889 6.278 5.778 6.778 5.444 3.444 4.833 4.333 3.722 6.667 4.944 5.333 5.722 5.611 3.833 3.611 6.222 6.778 4.889 6.222 4.056 4.611 4.889 6.278 3.944 6.833 3.444 5.833 5.278 6.667 4.0 3.333 4.611 3.611 5.167 4.444 4.667 6.889 4.611 4.667 6.333 3.5 3.778 3.722 3.944 3.556 4.056 5.222 3.778 4.611 5.944 3.833 4.222 4.0 5.167 5.667 4.0 6.944 6.722 3.333 4.278 4.889 6.111 3.722 6.667 6.222 3.667 6.111 4.167 6.389 3.667 5.556 3.333 4.944 3.556 5.5 5.944 4.278 4.722 "
     ]
    }
   ],
   "source": [
    "s=input(\"mmol/L or mg/dL\")\n",
    "if s==\"mmol/L\":\n",
    "    i=1\n",
    "    while i<=500:\n",
    "        print(round(random.randint(60,126)/18,3),end=\" \")\n",
    "        i+=1\n",
    "elif s==\"mg/dL\":\n",
    "    i=1\n",
    "    while i<=500:\n",
    "        print(random.randint(60,126),end=\" \")\n",
    "        i+=1"
   ]
  },
  {
   "cell_type": "code",
   "execution_count": 67,
   "id": "f475be18-907b-489d-b3b3-3f5b3cc99ee9",
   "metadata": {},
   "outputs": [
    {
     "name": "stdin",
     "output_type": "stream",
     "text": [
      "mmol/L or mg/dL mg/dL\n",
      "Number of data points needed:  10\n"
     ]
    },
    {
     "name": "stdout",
     "output_type": "stream",
     "text": [
      "100 71 99 104 119 82 93 111 66 105 "
     ]
    }
   ],
   "source": [
    "s=input(\"mmol/L or mg/dL\")\n",
    "n=int(input(\"Number of data points needed: \"))\n",
    "if s==\"mmol/L\":\n",
    "    i=1\n",
    "    while i<=n:\n",
    "        print(round(random.randint(60,126)/18,3),end=\" \")\n",
    "        i+=1\n",
    "elif s==\"mg/dL\":\n",
    "    i=1\n",
    "    while i<=n:\n",
    "        print(random.randint(60,126),end=\" \")\n",
    "        i+=1"
   ]
  },
  {
   "cell_type": "code",
   "execution_count": 72,
   "id": "e5337234-06cb-47b3-96c8-570bc669b3d9",
   "metadata": {},
   "outputs": [
    {
     "name": "stdin",
     "output_type": "stream",
     "text": [
      "Enter a range:  10\n"
     ]
    },
    {
     "name": "stdout",
     "output_type": "stream",
     "text": [
      "Result: 10 9 8 7 6 5 4 3 2 1 "
     ]
    }
   ],
   "source": [
    "n=int(input(\"Enter a range: \"))\n",
    "print(\"Result: \",end=\"\")\n",
    "while n>0:\n",
    "    print(n,end=\" \")\n",
    "    n-=1"
   ]
  },
  {
   "cell_type": "code",
   "execution_count": 73,
   "id": "c6a15ed0-06cb-42d0-9761-2b929729512c",
   "metadata": {},
   "outputs": [
    {
     "name": "stdin",
     "output_type": "stream",
     "text": [
      "Enter a number:  10\n"
     ]
    },
    {
     "name": "stdout",
     "output_type": "stream",
     "text": [
      "55\n"
     ]
    }
   ],
   "source": [
    "n=int(input(\"Enter a number: \"))\n",
    "sum=0\n",
    "while n>0:\n",
    "    sum+=n\n",
    "    n-=1\n",
    "print(sum)"
   ]
  },
  {
   "cell_type": "code",
   "execution_count": 79,
   "id": "3b4fe2ac-5373-4eb2-9bb9-3803843af61c",
   "metadata": {},
   "outputs": [
    {
     "name": "stdin",
     "output_type": "stream",
     "text": [
      "Start:  10\n",
      "End:  12\n"
     ]
    },
    {
     "name": "stdout",
     "output_type": "stream",
     "text": [
      "10 "
     ]
    }
   ],
   "source": [
    "start=int(input(\"Start: \"))\n",
    "end=int(input(\"End: \"))\n",
    "while start<=end:\n",
    "    if start%5==0:\n",
    "        print(start,end=\" \")\n",
    "    start+=1"
   ]
  },
  {
   "cell_type": "code",
   "execution_count": 82,
   "id": "76a7becf-578f-410d-9a4a-c66e6a23b71c",
   "metadata": {},
   "outputs": [
    {
     "name": "stdin",
     "output_type": "stream",
     "text": [
      " 6\n"
     ]
    },
    {
     "name": "stdout",
     "output_type": "stream",
     "text": [
      "Cube of 2: 8\n",
      "Cube of 4: 64\n",
      "Cube of 6: 216\n"
     ]
    }
   ],
   "source": [
    "n=int(input())\n",
    "i=2\n",
    "while i<=n:\n",
    "    if i%2==0:\n",
    "        print(f\"Cube of {i}: {i**3}\")\n",
    "    i+=1"
   ]
  },
  {
   "cell_type": "code",
   "execution_count": 85,
   "id": "71d1fd3b-c878-41f3-98df-571d60931e07",
   "metadata": {},
   "outputs": [
    {
     "name": "stdout",
     "output_type": "stream",
     "text": [
      "* \n",
      "* * \n",
      "* * * \n",
      "* * * * \n"
     ]
    }
   ],
   "source": [
    "i=1\n",
    "while i<=4:\n",
    "    j=1\n",
    "    while j<=i:\n",
    "        print(\"*\",end=\" \")\n",
    "        j+=1\n",
    "    print()\n",
    "    i+=1"
   ]
  },
  {
   "cell_type": "code",
   "execution_count": 86,
   "id": "9538d33a-c303-4372-8b59-686918797608",
   "metadata": {},
   "outputs": [
    {
     "name": "stdin",
     "output_type": "stream",
     "text": [
      " 6\n"
     ]
    },
    {
     "name": "stdout",
     "output_type": "stream",
     "text": [
      "* \n",
      "* * \n",
      "* * * \n",
      "* * * * \n",
      "* * * * * \n",
      "* * * * * * \n"
     ]
    }
   ],
   "source": [
    "n=int(input())\n",
    "i=1\n",
    "while i<=n:\n",
    "    j=1\n",
    "    while j<=i:\n",
    "        print(\"*\",end=\" \")\n",
    "        j+=1\n",
    "    print()\n",
    "    i+=1"
   ]
  },
  {
   "cell_type": "code",
   "execution_count": 87,
   "id": "29cfd9dd-7855-43c4-aa86-e7e120608e37",
   "metadata": {},
   "outputs": [
    {
     "name": "stdout",
     "output_type": "stream",
     "text": [
      "1 \n",
      "1 2 \n",
      "1 2 3 \n",
      "1 2 3 4 \n"
     ]
    }
   ],
   "source": [
    "i=1\n",
    "while i<=4:\n",
    "    j=1\n",
    "    while j<=i:\n",
    "        print(j,end=\" \")\n",
    "        j+=1\n",
    "    print()\n",
    "    i+=1"
   ]
  },
  {
   "cell_type": "code",
   "execution_count": 89,
   "id": "08739430-55e5-4dd7-90d7-31d06b78e1dc",
   "metadata": {},
   "outputs": [
    {
     "name": "stdin",
     "output_type": "stream",
     "text": [
      " 1\n",
      " 2\n",
      " 3\n",
      " 4\n",
      " 5\n",
      " 6\n",
      " 7\n",
      " 8\n",
      " 9\n",
      " 10\n"
     ]
    },
    {
     "name": "stdout",
     "output_type": "stream",
     "text": [
      "55\n",
      "5.5\n"
     ]
    }
   ],
   "source": [
    "avg=0\n",
    "sum=0\n",
    "cnt=1\n",
    "while cnt<=10:\n",
    "    n=int(input())\n",
    "    sum+=n\n",
    "    cnt+=1\n",
    "avg=sum/n\n",
    "print(sum)\n",
    "print(avg)"
   ]
  },
  {
   "cell_type": "code",
   "execution_count": 90,
   "id": "fa62664c-53de-41af-962f-70d4d00f583d",
   "metadata": {},
   "outputs": [
    {
     "name": "stdin",
     "output_type": "stream",
     "text": [
      " 1\n",
      " 2\n",
      " 3\n",
      " 4\n",
      " 5\n"
     ]
    },
    {
     "name": "stdout",
     "output_type": "stream",
     "text": [
      "10\n",
      "2.0\n"
     ]
    }
   ],
   "source": [
    "avg=0\n",
    "sum=0\n",
    "cnt=1\n",
    "while cnt<=10:\n",
    "    n=int(input())\n",
    "    if n==5:\n",
    "        break\n",
    "    else:\n",
    "        sum+=n\n",
    "        cnt+=1\n",
    "avg=sum/n\n",
    "print(sum)\n",
    "print(avg)"
   ]
  },
  {
   "cell_type": "code",
   "execution_count": 93,
   "id": "d2c0f8bc-438c-4836-bb7c-28a35f5f9f67",
   "metadata": {},
   "outputs": [
    {
     "name": "stdin",
     "output_type": "stream",
     "text": [
      " 1\n",
      " 2\n",
      " 3\n",
      " 4\n",
      " 5\n",
      " 6\n",
      " 7\n",
      " 8\n",
      " 9\n",
      " 10\n",
      " 11\n"
     ]
    },
    {
     "name": "stdout",
     "output_type": "stream",
     "text": [
      "61\n",
      "5.545454545454546\n"
     ]
    }
   ],
   "source": [
    "avg=0\n",
    "sum=0\n",
    "cnt=1\n",
    "while cnt<=10:\n",
    "    n=int(input())\n",
    "    if n==5:\n",
    "        continue\n",
    "    sum+=n\n",
    "    cnt+=1\n",
    "avg=sum/n\n",
    "print(sum)\n",
    "print(avg)"
   ]
  },
  {
   "cell_type": "code",
   "execution_count": 95,
   "id": "669af253-c7f0-49ac-aea1-20ed39fb10eb",
   "metadata": {},
   "outputs": [
    {
     "name": "stdin",
     "output_type": "stream",
     "text": [
      " 1\n",
      " 2\n",
      " 3\n",
      " 4\n",
      " 5\n",
      " 6\n",
      " 7\n",
      " 8\n",
      " 9\n",
      " 10\n"
     ]
    },
    {
     "name": "stdout",
     "output_type": "stream",
     "text": [
      "55\n",
      "5.0\n"
     ]
    }
   ],
   "source": [
    "avg=0\n",
    "sum=0\n",
    "cnt=1\n",
    "while cnt<=10:\n",
    "    n=int(input())\n",
    "    if n==5:\n",
    "        pass\n",
    "    sum+=n\n",
    "    cnt+=1\n",
    "avg=sum/(cnt-1 if n==5 else cnt-1+1)\n",
    "print(sum)\n",
    "print(avg)"
   ]
  },
  {
   "cell_type": "markdown",
   "id": "87835df4-1e4c-4179-a54d-94b341659b4d",
   "metadata": {},
   "source": [
    "# Mastery Example"
   ]
  },
  {
   "cell_type": "code",
   "execution_count": 113,
   "id": "48b98081-50f4-43d7-b967-eb8533001ba1",
   "metadata": {},
   "outputs": [
    {
     "name": "stdout",
     "output_type": "stream",
     "text": [
      "this is some code.\n"
     ]
    }
   ],
   "source": [
    "txt = \"   \\n\\n   \\t Th|s |S 50m3 c0D3,,, \\n \\t \"\n",
    "print(txt.strip().replace('\\n','').replace('\\t','').replace('  ',' ').replace(',','').replace('|','i').replace('5','s').replace('0','o').replace('3','e').lower()+\".\")"
   ]
  },
  {
   "cell_type": "code",
   "execution_count": 114,
   "id": "afa93dc7-14df-45a6-9a80-3e275aa4200c",
   "metadata": {},
   "outputs": [
    {
     "name": "stdout",
     "output_type": "stream",
     "text": [
      "we need no hard-coders.\n"
     ]
    }
   ],
   "source": [
    "txt = \"\\t \\t  w3 n33d n0 HARD-C0D3r5 \\n\"\n",
    "print(txt.strip().replace('\\n','').replace('\\t','').replace('  ',' ').replace(',','').replace('|','i').replace('5','s').replace('0','o').replace('3','e').lower()+\".\")"
   ]
  },
  {
   "cell_type": "markdown",
   "id": "f5445813-f909-42cd-ad97-47f32ea7da0a",
   "metadata": {},
   "source": [
    "# Higher Order Example"
   ]
  },
  {
   "cell_type": "code",
   "execution_count": null,
   "id": "928c7c29-b37e-4cba-93a4-d700abedf6db",
   "metadata": {},
   "outputs": [
    {
     "name": "stdin",
     "output_type": "stream",
     "text": [
      "Is your shift over (y/n)?  91\n"
     ]
    }
   ],
   "source": [
    "import math\n",
    "shift_over=input(\"Is your shift over (y/n)? \")\n",
    "while shift_over!='y':\n",
    "    amount=float(input(\"What amount do you want to change: \"))\n",
    "    bills_20=int(amount//20)\n",
    "    bills_10=int((amount%20)//10)\n",
    "    bills_1=(math.floor((amount%20)%10))\n",
    "    coins_50=int(round(((amount%20)%10)%1,3)*100)//50\n",
    "    coins_20=(int(round(((amount%20)%10)%1,3)*100)%50)//20\n",
    "    coins_10=((int(round(((amount%20)%10)%1,3)*100)%50)%20)//10\n",
    "    if bills_20>0:\n",
    "        if bills_20==1:\n",
    "            print(f\"{bills_20} twenty bill\")\n",
    "        else:\n",
    "            print(f\"{bills_20} twenty bills\")\n",
    "    if bills_10>0:\n",
    "        if bills_10==1:\n",
    "            print(f\"{bills_10} ten bill\")\n",
    "        else:\n",
    "            print(f\"{bills_10} ten bills\")\n",
    "    if bills_1>0:\n",
    "        if bills_1==1:\n",
    "            print(f\"{bills_1} one bill\")\n",
    "        else:\n",
    "            print(f\"{bills_1} one bills\")\n",
    "    if coins_50>0:\n",
    "        if coins_50==1:\n",
    "            print(f\"{coins_50} fifty coin\")\n",
    "        else:\n",
    "            print(f\"{coins_50} fifty coins\")\n",
    "    if coins_20>0:\n",
    "        if coins_20==1:\n",
    "            print(f\"{coins_20} twenty coin\")\n",
    "        else:\n",
    "            print(f\"{coins_20} twenty coins\")\n",
    "    if coins_10>0:\n",
    "        if coins_10==1:\n",
    "            print(f\"{coins_10} ten coin\")\n",
    "        else:\n",
    "            print(f\"{coins_10} ten coins\")\n",
    "    shift_over=input(\"Is your shift over (y/n)? \")"
   ]
  },
  {
   "cell_type": "code",
   "execution_count": 122,
   "id": "1ca68391-3bd3-47c4-b639-5fc0f8bafdfb",
   "metadata": {},
   "outputs": [
    {
     "data": {
      "text/plain": [
       "90"
      ]
     },
     "execution_count": 122,
     "metadata": {},
     "output_type": "execute_result"
    }
   ],
   "source": [
    "int(round(0.8999,3)*100)"
   ]
  },
  {
   "cell_type": "code",
   "execution_count": null,
   "id": "252e4d87-ebfb-4084-815b-9e5d2c9d6915",
   "metadata": {},
   "outputs": [],
   "source": []
  }
 ],
 "metadata": {
  "kernelspec": {
   "display_name": "Python [conda env:base] *",
   "language": "python",
   "name": "conda-base-py"
  },
  "language_info": {
   "codemirror_mode": {
    "name": "ipython",
    "version": 3
   },
   "file_extension": ".py",
   "mimetype": "text/x-python",
   "name": "python",
   "nbconvert_exporter": "python",
   "pygments_lexer": "ipython3",
   "version": "3.12.7"
  }
 },
 "nbformat": 4,
 "nbformat_minor": 5
}
