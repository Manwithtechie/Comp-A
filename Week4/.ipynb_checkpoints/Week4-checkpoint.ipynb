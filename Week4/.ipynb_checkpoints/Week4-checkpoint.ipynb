{
 "cells": [
  {
   "cell_type": "code",
   "execution_count": 1,
   "id": "4c883e43-f0e8-469f-8fb2-779760c64b6b",
   "metadata": {},
   "outputs": [
    {
     "name": "stdout",
     "output_type": "stream",
     "text": [
      "Average Temperature per week:  19.43\n"
     ]
    }
   ],
   "source": [
    "dayTemp1=22\n",
    "dayTemp2=18\n",
    "dayTemp3=20\n",
    "dayTemp4=21\n",
    "dayTemp5=23\n",
    "dayTemp6=15\n",
    "dayTemp7=17\n",
    "avgTempWeek=(dayTemp1+dayTemp2+dayTemp3+dayTemp4+dayTemp5+dayTemp6+dayTemp7)/7\n",
    "print('Average Temperature per week: ',round(avgTempWeek,2))"
   ]
  },
  {
   "cell_type": "code",
   "execution_count": 2,
   "id": "20050a7b-f2f0-4385-83a2-dafd4e922298",
   "metadata": {},
   "outputs": [
    {
     "name": "stdout",
     "output_type": "stream",
     "text": [
      "[22, 18, 20, 21, 23, 15, 17]\n",
      "<class 'list'>\n"
     ]
    }
   ],
   "source": [
    "temps=[22,18,20,21,23,15,17]\n",
    "print(temps)\n",
    "print(type(temps))"
   ]
  },
  {
   "cell_type": "code",
   "execution_count": 3,
   "id": "02bc95a4-55ea-48ce-97f9-4a827d0d5bf4",
   "metadata": {},
   "outputs": [
    {
     "name": "stdout",
     "output_type": "stream",
     "text": [
      "7\n"
     ]
    }
   ],
   "source": [
    "print(len(temps))"
   ]
  },
  {
   "cell_type": "code",
   "execution_count": 4,
   "id": "27d27460-6dc6-4520-a85c-850160ca6d8c",
   "metadata": {},
   "outputs": [],
   "source": [
    "temps.append(18)"
   ]
  },
  {
   "cell_type": "code",
   "execution_count": 5,
   "id": "87529dd3-bf5d-4090-8f83-f49f774897cb",
   "metadata": {},
   "outputs": [
    {
     "name": "stdout",
     "output_type": "stream",
     "text": [
      "[22, 18, 20, 21, 23, 15, 17, 18]\n"
     ]
    }
   ],
   "source": [
    "print(temps)"
   ]
  },
  {
   "cell_type": "code",
   "execution_count": 6,
   "id": "f9c012af-cdc9-4b18-96b6-4adfd636d532",
   "metadata": {},
   "outputs": [],
   "source": [
    "temps.remove(18)"
   ]
  },
  {
   "cell_type": "code",
   "execution_count": 7,
   "id": "b62e28bf-3d8c-4db5-bce4-74dc5da34128",
   "metadata": {},
   "outputs": [
    {
     "data": {
      "text/plain": [
       "18"
      ]
     },
     "execution_count": 7,
     "metadata": {},
     "output_type": "execute_result"
    }
   ],
   "source": [
    "temps.pop()"
   ]
  },
  {
   "cell_type": "code",
   "execution_count": 8,
   "id": "0a930e15-00d3-4ac7-9e62-531e88b85488",
   "metadata": {},
   "outputs": [
    {
     "name": "stdout",
     "output_type": "stream",
     "text": [
      "[22, 20, 21, 23, 15, 17]\n"
     ]
    }
   ],
   "source": [
    "print(temps)"
   ]
  },
  {
   "cell_type": "markdown",
   "id": "a9e6df48-c1dd-4d8f-9005-4f6f43dcdcc2",
   "metadata": {},
   "source": [
    "## Lists are:\n",
    "1. Heterogeneous\n",
    "2. Mutable\n",
    "3. Ordered\n",
    "4. Allow Duplicates"
   ]
  },
  {
   "cell_type": "code",
   "execution_count": 9,
   "id": "6b2273eb-3d24-4ff3-9f1f-46998f28b461",
   "metadata": {},
   "outputs": [
    {
     "name": "stdout",
     "output_type": "stream",
     "text": [
      "[1, 2, 6, 10, 9, 6, 10, 1, 9, 1]\n",
      "10\n"
     ]
    }
   ],
   "source": [
    "my_list=[1,2,6,10,9,6,10,1,9,1]\n",
    "print(my_list)\n",
    "print(len(my_list))"
   ]
  },
  {
   "cell_type": "code",
   "execution_count": 10,
   "id": "a2e47401-3194-4a0b-b75f-48900e4dd2df",
   "metadata": {},
   "outputs": [
    {
     "name": "stdout",
     "output_type": "stream",
     "text": [
      "[]\n",
      "<class 'list'>\n",
      "0\n"
     ]
    }
   ],
   "source": [
    "lst1=[]\n",
    "print(lst1)\n",
    "print(type(lst1))\n",
    "print(len(lst1))"
   ]
  },
  {
   "cell_type": "code",
   "execution_count": 11,
   "id": "fc3a97a5-a2e6-4af9-b2fb-2553908c068a",
   "metadata": {},
   "outputs": [
    {
     "name": "stdout",
     "output_type": "stream",
     "text": [
      "[-1, 2, 5.5, 3.3]\n"
     ]
    }
   ],
   "source": [
    "lst1=[-1,2,5.5,3.3]\n",
    "print(lst1)"
   ]
  },
  {
   "cell_type": "code",
   "execution_count": 12,
   "id": "af8802cc-e69a-4d04-836a-2697edea712a",
   "metadata": {},
   "outputs": [
    {
     "name": "stdout",
     "output_type": "stream",
     "text": [
      "['zero', 1, 2.0, 3, 'four']\n"
     ]
    }
   ],
   "source": [
    "listNumbers=['zero',1,2.0,3,'four']\n",
    "print(listNumbers)"
   ]
  },
  {
   "cell_type": "code",
   "execution_count": 13,
   "id": "b439c4c7-206e-4a5d-b3d9-93433b063852",
   "metadata": {},
   "outputs": [
    {
     "name": "stdout",
     "output_type": "stream",
     "text": [
      "[1, ['zero', 1, 2.0, 3, 'four'], 'Manvith', ['zero', 1, 2.0, 3, 'four'], True, ['zero', 1, 2.0, 3, 'four']]\n",
      "<class 'list'>\n",
      "6\n"
     ]
    }
   ],
   "source": [
    "listThings=[1,listNumbers,'Manvith',listNumbers,True,listNumbers]\n",
    "print(listThings)\n",
    "print(type(listThings))\n",
    "print(len(listThings))"
   ]
  },
  {
   "cell_type": "code",
   "execution_count": 14,
   "id": "2aed1d48-14d0-4454-8eaa-3bea768dd6c9",
   "metadata": {},
   "outputs": [
    {
     "name": "stdout",
     "output_type": "stream",
     "text": [
      "[ 1,\n",
      "  ['zero', 1, 2.0, 3, 'four'],\n",
      "  'Manvith',\n",
      "  ['zero', 1, 2.0, 3, 'four'],\n",
      "  True,\n",
      "  ['zero', 1, 2.0, 3, 'four']]\n"
     ]
    }
   ],
   "source": [
    "from pprint import pprint\n",
    "pprint(listThings,indent=2)"
   ]
  },
  {
   "cell_type": "code",
   "execution_count": 15,
   "id": "2d304275-987d-4ff7-82b6-70f46e687dc6",
   "metadata": {},
   "outputs": [
    {
     "name": "stdout",
     "output_type": "stream",
     "text": [
      "[[-10, 10, 2], 1.2, 3.56, 6.789, 'Manvith'] [True, False, 'Manvith', 'Yukti', 18, 45] [[[-10, 10, 2], 1.2, 3.56, 6.789, 'Manvith'], [True, False, 'Manvith', 'Yukti', 18, 45], 'Manukti']\n"
     ]
    }
   ],
   "source": [
    "lst1=[[-10,10,2],1.2,3.56,6.789,'Manvith']\n",
    "lst2=[True,False,\"Manvith\",\"Yukti\",18,45]\n",
    "lst3=[lst1,lst2,'Manukti']\n",
    "print(lst1,lst2,lst3)"
   ]
  },
  {
   "cell_type": "markdown",
   "id": "dc2ba0b3-b4cd-42ed-9282-a6b7321f40b8",
   "metadata": {},
   "source": [
    "## List Basic Operations"
   ]
  },
  {
   "cell_type": "code",
   "execution_count": 16,
   "id": "19897ec9-9521-4eff-ac86-70ea6360c91c",
   "metadata": {},
   "outputs": [
    {
     "name": "stdout",
     "output_type": "stream",
     "text": [
      "[1, 3, 5, 2, 4, 6]\n"
     ]
    }
   ],
   "source": [
    "# Concatenation\n",
    "lst1=[1,3,5]\n",
    "lst2=[2,4,6]\n",
    "print(lst1+lst2)"
   ]
  },
  {
   "cell_type": "code",
   "execution_count": 17,
   "id": "70295b4e-079b-41f2-9da0-590c8edca792",
   "metadata": {},
   "outputs": [
    {
     "name": "stdout",
     "output_type": "stream",
     "text": [
      "[1, 3, 5, 1, 3, 5]\n"
     ]
    }
   ],
   "source": [
    "# Repetition\n",
    "print(lst1*2)"
   ]
  },
  {
   "cell_type": "code",
   "execution_count": 18,
   "id": "8c8577be-3046-469e-9777-075f28e55349",
   "metadata": {},
   "outputs": [
    {
     "name": "stdout",
     "output_type": "stream",
     "text": [
      "True\n",
      "False\n",
      "2 is in the list\n",
      "True\n"
     ]
    }
   ],
   "source": [
    "print(1 in lst1)\n",
    "print(1 in lst2)\n",
    "if 2 in lst2:\n",
    "    print(\"2 is in the list\")\n",
    "print(2 not in lst1)"
   ]
  },
  {
   "cell_type": "code",
   "execution_count": 19,
   "id": "b41edd58-c9bb-4361-96e0-304bbefe6297",
   "metadata": {},
   "outputs": [
    {
     "name": "stdout",
     "output_type": "stream",
     "text": [
      "Before Appending:  ['White', 'Black', 'Violet']\n",
      "After Appending:  ['White', 'Black', 'Violet', 'Red']\n"
     ]
    }
   ],
   "source": [
    "colors=['White','Black','Violet']\n",
    "print(\"Before Appending: \",colors)\n",
    "colors.append('Red')\n",
    "print(\"After Appending: \", colors)"
   ]
  },
  {
   "cell_type": "code",
   "execution_count": 20,
   "id": "20f65add-e8e7-47c3-be45-cb90bb1e1fa9",
   "metadata": {},
   "outputs": [
    {
     "name": "stdout",
     "output_type": "stream",
     "text": [
      "['White', 'Black', 'Violet', 'Red', 'Paper', 'Fish', 'Cover']\n"
     ]
    }
   ],
   "source": [
    "kites=['Paper','Fish','Cover']\n",
    "colors.extend(kites)\n",
    "print(colors)"
   ]
  },
  {
   "cell_type": "code",
   "execution_count": 21,
   "id": "6cbbb202-84c8-401a-8b01-e45809222d3e",
   "metadata": {},
   "outputs": [
    {
     "name": "stdout",
     "output_type": "stream",
     "text": [
      "[3, 5, 1]\n"
     ]
    }
   ],
   "source": [
    "lst=[1,3,5,1]\n",
    "lst.remove(1)\n",
    "print(lst)"
   ]
  },
  {
   "cell_type": "code",
   "execution_count": 22,
   "id": "781f77c5-32b9-4dfb-970f-2e97bcf8cbf6",
   "metadata": {},
   "outputs": [
    {
     "ename": "ValueError",
     "evalue": "list.remove(x): x not in list",
     "output_type": "error",
     "traceback": [
      "\u001b[0;31m---------------------------------------------------------------------------\u001b[0m",
      "\u001b[0;31mValueError\u001b[0m                                Traceback (most recent call last)",
      "Cell \u001b[0;32mIn[22], line 1\u001b[0m\n\u001b[0;32m----> 1\u001b[0m lst\u001b[38;5;241m.\u001b[39mremove(\u001b[38;5;241m7\u001b[39m)\n",
      "\u001b[0;31mValueError\u001b[0m: list.remove(x): x not in list"
     ]
    }
   ],
   "source": [
    "lst.remove(7)"
   ]
  },
  {
   "cell_type": "code",
   "execution_count": 23,
   "id": "8f01bbc4-d276-492e-a6c8-3d2b6d1f24ec",
   "metadata": {},
   "outputs": [
    {
     "name": "stdout",
     "output_type": "stream",
     "text": [
      "[3, 5]\n"
     ]
    }
   ],
   "source": [
    "lst.pop()\n",
    "print(lst)"
   ]
  },
  {
   "cell_type": "code",
   "execution_count": 24,
   "id": "ec435be0-be3c-47e7-b34a-d6864dd851a3",
   "metadata": {},
   "outputs": [],
   "source": [
    "del lst"
   ]
  },
  {
   "cell_type": "code",
   "execution_count": 25,
   "id": "d91ea241-def3-4867-ae4a-2494cfc7fd2d",
   "metadata": {},
   "outputs": [
    {
     "ename": "NameError",
     "evalue": "name 'lst' is not defined",
     "output_type": "error",
     "traceback": [
      "\u001b[0;31m---------------------------------------------------------------------------\u001b[0m",
      "\u001b[0;31mNameError\u001b[0m                                 Traceback (most recent call last)",
      "Cell \u001b[0;32mIn[25], line 1\u001b[0m\n\u001b[0;32m----> 1\u001b[0m \u001b[38;5;28mprint\u001b[39m(lst)\n",
      "\u001b[0;31mNameError\u001b[0m: name 'lst' is not defined"
     ]
    }
   ],
   "source": [
    "print(lst)"
   ]
  },
  {
   "cell_type": "code",
   "execution_count": 26,
   "id": "26430f31-1fcb-478a-aa92-1ba64dbfff99",
   "metadata": {},
   "outputs": [
    {
     "name": "stdout",
     "output_type": "stream",
     "text": [
      "[1, 2, 3, 4, 5]\n",
      "[]\n"
     ]
    }
   ],
   "source": [
    "lst=[1,2,3,4,5]\n",
    "print(lst)\n",
    "lst.clear()\n",
    "print(lst)"
   ]
  },
  {
   "cell_type": "code",
   "execution_count": 27,
   "id": "fffeeb48-a545-4b49-8b70-f2c7b87c731c",
   "metadata": {},
   "outputs": [
    {
     "name": "stdout",
     "output_type": "stream",
     "text": [
      "[1, 2, 67] [1, 2, 67]\n"
     ]
    }
   ],
   "source": [
    "lst1=[1,2,3]\n",
    "lst2=lst1\n",
    "lst2[2]=67\n",
    "print(lst1,lst2)"
   ]
  },
  {
   "cell_type": "code",
   "execution_count": 28,
   "id": "651390da-9c59-440d-a537-0def0edad742",
   "metadata": {},
   "outputs": [
    {
     "name": "stdout",
     "output_type": "stream",
     "text": [
      "[1, 2, 3, 4, 6]\n",
      "[1, 2, 3, 4]\n"
     ]
    }
   ],
   "source": [
    "lst1=[1,2,3,4]\n",
    "lst2=list(lst1)\n",
    "lst1.append(6)\n",
    "print(lst1)\n",
    "print(lst2)"
   ]
  },
  {
   "cell_type": "code",
   "execution_count": 29,
   "id": "7f0e6978-9f94-450b-9424-d47fa7968fea",
   "metadata": {},
   "outputs": [
    {
     "name": "stdout",
     "output_type": "stream",
     "text": [
      "[1, 2, 3, 4, 5, 6]\n",
      "[1, 2, 3, 4, 5]\n"
     ]
    }
   ],
   "source": [
    "lst1=[1,2,3,4,5]\n",
    "lst2=lst1.copy()\n",
    "lst1.append(6)\n",
    "print(lst1)\n",
    "print(lst2)"
   ]
  },
  {
   "cell_type": "code",
   "execution_count": 30,
   "id": "44037efc-eac0-45a0-a50c-13f432fd7eec",
   "metadata": {},
   "outputs": [
    {
     "name": "stdout",
     "output_type": "stream",
     "text": [
      "[1, 2, 4, 5, 6]\n",
      "[6, 5, 4, 2, 1]\n"
     ]
    }
   ],
   "source": [
    "lst1=[4,5,6,2,1]\n",
    "lst1.sort()\n",
    "print(lst1)\n",
    "lst1.sort(reverse=True)\n",
    "print(lst1)"
   ]
  },
  {
   "cell_type": "code",
   "execution_count": 31,
   "id": "1927dcb3-1bc9-4b61-9de9-b3c067e965ef",
   "metadata": {},
   "outputs": [
    {
     "name": "stdout",
     "output_type": "stream",
     "text": [
      "['A', 'B', 'a', 'b']\n",
      "['b', 'a', 'B', 'A']\n",
      "['a', 'A', 'b', 'B']\n"
     ]
    }
   ],
   "source": [
    "lst=['a','A','b','B']\n",
    "lst.sort() # Capital letters first i.e sort() function is case sensitive\n",
    "print(lst)\n",
    "lst.sort(reverse=True)\n",
    "print(lst)\n",
    "lst.sort(key=str.lower)\n",
    "print(lst)"
   ]
  },
  {
   "cell_type": "code",
   "execution_count": 32,
   "id": "2144cc08-f01a-4c88-aacf-a44b9fd7a5b6",
   "metadata": {},
   "outputs": [
    {
     "name": "stdout",
     "output_type": "stream",
     "text": [
      "2\n",
      "1\n",
      "0\n",
      "0\n",
      "1\n",
      "0\n"
     ]
    }
   ],
   "source": [
    "lst1=['Yukti',91,[1,2,'Manvith'],[False,True],21,91]\n",
    "print(lst1.count(91))\n",
    "print(lst1.count('Yukti'))\n",
    "print(lst1.count('yukti')) # Case Sensitive\n",
    "print(lst1.count(False)) \n",
    "print(lst1.count([1,2,'Manvith']))\n",
    "print(lst1.count(1))"
   ]
  },
  {
   "cell_type": "code",
   "execution_count": 33,
   "id": "dc79f933-d8f1-482c-b7c0-a5bfb0faa3d1",
   "metadata": {},
   "outputs": [
    {
     "name": "stdout",
     "output_type": "stream",
     "text": [
      "['Yukti', 91, [1, 2, 'Manvith'], [False, True], 21, 91]\n",
      "[91, 21, [False, True], [1, 2, 'Manvith'], 91, 'Yukti']\n"
     ]
    }
   ],
   "source": [
    "print(lst1)\n",
    "lst1.reverse()\n",
    "print(lst1)"
   ]
  },
  {
   "cell_type": "code",
   "execution_count": 34,
   "id": "e55efd50-4653-4b84-be14-4f0eed5070ed",
   "metadata": {},
   "outputs": [
    {
     "name": "stdout",
     "output_type": "stream",
     "text": [
      "Help on method_descriptor:\n",
      "\n",
      "remove(self, value, /) unbound builtins.list method\n",
      "    Remove first occurrence of value.\n",
      "\n",
      "    Raises ValueError if the value is not present.\n",
      "\n",
      "Help on method_descriptor:\n",
      "\n",
      "count(self, value, /) unbound builtins.list method\n",
      "    Return number of occurrences of value.\n",
      "\n"
     ]
    }
   ],
   "source": [
    "help(list.remove)\n",
    "help(list.count)"
   ]
  },
  {
   "cell_type": "code",
   "execution_count": 35,
   "id": "91c7b62f-e81b-481e-9f39-479489894988",
   "metadata": {},
   "outputs": [
    {
     "name": "stdout",
     "output_type": "stream",
     "text": [
      "[1, 3, 5, 1, 3, 5, 1, 3, 5, 1, 3, 5, 1, 3, 5, 2, 4, 6, 2, 4, 6]\n",
      "6\n",
      "21\n"
     ]
    }
   ],
   "source": [
    "lst1=[1,3,5]\n",
    "lst2=[2,4,6]\n",
    "lst3=lst1+lst2\n",
    "lst4=list(lst1*5)\n",
    "lst4.extend(lst2*2)\n",
    "print(lst4)\n",
    "print(len(lst3))\n",
    "print(len(lst4))"
   ]
  },
  {
   "cell_type": "markdown",
   "id": "e71c38c8-805c-4906-9b2a-324777bb844e",
   "metadata": {},
   "source": [
    "## 1.clear()\n",
    "It is used to clear the elements of the list."
   ]
  },
  {
   "cell_type": "code",
   "execution_count": 36,
   "id": "0aaecd49-825e-4b79-a242-fc0227653f11",
   "metadata": {},
   "outputs": [
    {
     "name": "stdout",
     "output_type": "stream",
     "text": [
      "[1, 2, 3, 4]\n",
      "[]\n"
     ]
    }
   ],
   "source": [
    "lst=[1,2,3,4]\n",
    "print(lst)\n",
    "lst.clear()\n",
    "print(lst)"
   ]
  },
  {
   "cell_type": "markdown",
   "id": "d8001d84-68f1-41b9-a3e6-502e35e2f380",
   "metadata": {},
   "source": [
    "## 2. copy()\n",
    "It is used to copy the whole list into new variable"
   ]
  },
  {
   "cell_type": "code",
   "execution_count": 37,
   "id": "a6707175-a11d-484e-b312-2120de94a21c",
   "metadata": {},
   "outputs": [
    {
     "name": "stdout",
     "output_type": "stream",
     "text": [
      "[1, 2, 3, 4]\n",
      "[1, 2, 3, 4, 10, 21]\n",
      "[1, 2, 3, 4, 10, 21]\n",
      "[1, 2, 3, 4]\n",
      "[1, 2, 3, 4, 10]\n",
      "[1, 2, 3, 4, 21]\n"
     ]
    }
   ],
   "source": [
    "lst1=[1,2,3,4]\n",
    "lst2=lst1\n",
    "print(lst2)\n",
    "lst1.append(10)\n",
    "lst2.append(21)\n",
    "print(lst1)\n",
    "print(lst2)\n",
    "\n",
    "lst1=[1,2,3,4]\n",
    "lst2=lst1.copy()\n",
    "print(lst2)\n",
    "lst1.append(10)\n",
    "lst2.append(21)\n",
    "print(lst1)\n",
    "print(lst2)"
   ]
  },
  {
   "cell_type": "markdown",
   "id": "d9c4e79f-a73d-448b-93aa-3c41e8dbe3e1",
   "metadata": {},
   "source": [
    "## 3. count()\n",
    "It returns the count of the asked element."
   ]
  },
  {
   "cell_type": "code",
   "execution_count": 38,
   "id": "b648add4-2ca1-454e-a1d4-a42df9ff703d",
   "metadata": {},
   "outputs": [
    {
     "name": "stdout",
     "output_type": "stream",
     "text": [
      "1\n",
      "0\n"
     ]
    }
   ],
   "source": [
    "print(lst1.count(1))\n",
    "print(lst1.count(5))"
   ]
  },
  {
   "cell_type": "markdown",
   "id": "6b53c7c2-5db6-4890-b731-662f21519ad9",
   "metadata": {},
   "source": [
    "## 4. extend()\n",
    "\n",
    "It is used to extend the list."
   ]
  },
  {
   "cell_type": "code",
   "execution_count": 39,
   "id": "eae2096a-1054-4a6a-92d5-4bddba706247",
   "metadata": {},
   "outputs": [
    {
     "name": "stdout",
     "output_type": "stream",
     "text": [
      "[2, 4, 6, 8]\n",
      "[2, 4, 6, 8, 21, 34]\n"
     ]
    }
   ],
   "source": [
    "lst=[2,4,6,8]\n",
    "print(lst)\n",
    "lst.extend([21,34])\n",
    "print(lst)"
   ]
  },
  {
   "cell_type": "markdown",
   "id": "05e89955-09d8-4f11-8af6-94ebdc783c31",
   "metadata": {},
   "source": [
    "## 5. append(()\n",
    "\n",
    "It is used to add an element at the end of the list."
   ]
  },
  {
   "cell_type": "code",
   "execution_count": 40,
   "id": "cb31fb45-fc28-4c0e-8db4-baf1a97fdc54",
   "metadata": {},
   "outputs": [
    {
     "name": "stdout",
     "output_type": "stream",
     "text": [
      "[1, 3, 5]\n"
     ]
    }
   ],
   "source": [
    "lst=[1,3]\n",
    "lst.append(5)\n",
    "print(lst)"
   ]
  },
  {
   "cell_type": "markdown",
   "id": "bf3c3c0c-7aeb-4b99-a27f-27e4ceffe42a",
   "metadata": {},
   "source": [
    "## 6. sort()\n",
    "\n",
    "It sorts elements inside the list."
   ]
  },
  {
   "cell_type": "code",
   "execution_count": 41,
   "id": "b32e4c4a-db0f-4c35-b88b-6d9bc2805644",
   "metadata": {},
   "outputs": [
    {
     "name": "stdout",
     "output_type": "stream",
     "text": [
      "[9, 16, 24]\n"
     ]
    }
   ],
   "source": [
    "lst=[24,16,9]\n",
    "lst.sort()\n",
    "print(lst)"
   ]
  },
  {
   "cell_type": "markdown",
   "id": "e14dc7db-1a44-42b3-a619-6af12de1b705",
   "metadata": {},
   "source": [
    "## 7. pop()\n",
    "\n",
    "It removes the last element from the list"
   ]
  },
  {
   "cell_type": "code",
   "execution_count": 42,
   "id": "ee796fcc-b172-4cfd-bb1c-e489f4ed4b0c",
   "metadata": {},
   "outputs": [
    {
     "name": "stdout",
     "output_type": "stream",
     "text": [
      "[2, 4, 6]\n",
      "[2, 4]\n",
      "List is empty, cannot pop\n"
     ]
    }
   ],
   "source": [
    "lst=[2,4,6]\n",
    "print(lst)\n",
    "lst.pop()\n",
    "print(lst)\n",
    "lst1=[]\n",
    "if len(lst1) > 0:\n",
    "    lst.pop()\n",
    "    print(\"After pop:\", lst)\n",
    "else:\n",
    "    print(\"List is empty, cannot pop\")"
   ]
  },
  {
   "cell_type": "markdown",
   "id": "7bef270e-5781-4b09-b5c4-9f7b54dca9ba",
   "metadata": {},
   "source": [
    "## 8. reverse()\n",
    "\n",
    "It reverse the order of elements in the list"
   ]
  },
  {
   "cell_type": "code",
   "execution_count": 43,
   "id": "882fe062-f508-4480-b509-7070fe9a2988",
   "metadata": {},
   "outputs": [
    {
     "name": "stdout",
     "output_type": "stream",
     "text": [
      "[34, 23, 12]\n"
     ]
    }
   ],
   "source": [
    "lst=[12,23,34]\n",
    "lst.reverse()\n",
    "print(lst)"
   ]
  },
  {
   "cell_type": "code",
   "execution_count": 44,
   "id": "231491c2-7ad6-4a8f-b299-3d45f59d655d",
   "metadata": {},
   "outputs": [
    {
     "name": "stdout",
     "output_type": "stream",
     "text": [
      "Yukti Manvith\n"
     ]
    }
   ],
   "source": [
    "lst=['Yukti', 'Manvith', 20, 25]\n",
    "print(lst[0],lst[1])"
   ]
  },
  {
   "cell_type": "code",
   "execution_count": 45,
   "id": "479d6998-3b5b-48fa-a900-cd2f4007c319",
   "metadata": {},
   "outputs": [
    {
     "name": "stdout",
     "output_type": "stream",
     "text": [
      "a\n",
      "4\n"
     ]
    }
   ],
   "source": [
    "my_list=[\"Manvith\",[4,8,12,16]]\n",
    "print(my_list[0][1])\n",
    "print(my_list[1][0])"
   ]
  },
  {
   "cell_type": "markdown",
   "id": "a1c58a62-50e4-4b67-ab32-40e0036ca0b7",
   "metadata": {},
   "source": [
    "## For Loops\n",
    "\n",
    "### Syntax:\n",
    "``` bash\n",
    "for var in iterable:\n",
    "    statement(s)\n",
    "```"
   ]
  },
  {
   "cell_type": "code",
   "execution_count": 46,
   "id": "eb44f67a-b6ca-4af2-a104-5ec388a4896e",
   "metadata": {},
   "outputs": [
    {
     "name": "stdout",
     "output_type": "stream",
     "text": [
      "0\n",
      "1\n",
      "2\n",
      "3\n",
      "4\n",
      "5\n",
      "6\n",
      "7\n",
      "8\n",
      "9\n"
     ]
    }
   ],
   "source": [
    "my_range=range(0,10)\n",
    "for i in my_range:\n",
    "    print(i)"
   ]
  },
  {
   "cell_type": "code",
   "execution_count": 47,
   "id": "1339609f-ebb2-4d21-9579-ba7957786ad7",
   "metadata": {},
   "outputs": [
    {
     "name": "stdout",
     "output_type": "stream",
     "text": [
      "Apples APPLES\n",
      "Pears PEARS\n",
      "Orange ORANGE\n",
      "Mandarins MANDARINS\n",
      "Limes LIMES\n",
      "Nectarines NECTARINES\n",
      "Apricots APRICOTS\n",
      "Bananas BANANAS\n",
      "Strawberries STRAWBERRIES\n",
      "Watermelon WATERMELON\n",
      "Plums PLUMS\n"
     ]
    }
   ],
   "source": [
    "Fruits = ['Apples', 'Pears', 'Orange', 'Mandarins', 'Limes', 'Nectarines', 'Apricots', 'Bananas', 'Strawberries', 'Watermelon', 'Plums']\n",
    "\n",
    "for fruit in Fruits:\n",
    "    print(fruit,fruit.upper())"
   ]
  },
  {
   "cell_type": "code",
   "execution_count": 48,
   "id": "a7f78f89-7078-469b-961f-49d5932ccd4f",
   "metadata": {},
   "outputs": [
    {
     "name": "stdout",
     "output_type": "stream",
     "text": [
      "M\n",
      "a\n",
      "n\n",
      "v\n",
      "i\n",
      "t\n",
      "h\n"
     ]
    }
   ],
   "source": [
    "str1='Manvith'\n",
    "for s in str1:\n",
    "    print(s)"
   ]
  },
  {
   "cell_type": "code",
   "execution_count": 49,
   "id": "b07f9217-bf86-437d-ba23-11bdf192102f",
   "metadata": {},
   "outputs": [
    {
     "name": "stdout",
     "output_type": "stream",
     "text": [
      "87\n"
     ]
    }
   ],
   "source": [
    "lst1=[12,13,14,15,16,17]\n",
    "sum1=0\n",
    "for item in lst1:\n",
    "    sum1+=item\n",
    "print(sum1)"
   ]
  },
  {
   "cell_type": "code",
   "execution_count": 50,
   "id": "01ff68c1-975a-463a-b498-c996dd7d7c9a",
   "metadata": {},
   "outputs": [
    {
     "name": "stdout",
     "output_type": "stream",
     "text": [
      "small vehicle\n",
      "small toy\n",
      "small house\n",
      "medium vehicle\n",
      "medium toy\n",
      "medium house\n",
      "large vehicle\n",
      "large toy\n",
      "large house\n"
     ]
    }
   ],
   "source": [
    "lst1=[\"small\", \"medium\", \"large\"]\n",
    "lst2=[\"vehicle\", \"toy\", \"house\"]\n",
    "\n",
    "for x in lst1:\n",
    "    for y in lst2:\n",
    "        print(x,y)"
   ]
  },
  {
   "cell_type": "code",
   "execution_count": 51,
   "id": "b10ee7d9-55a8-4f22-96d4-4ab7091b20e5",
   "metadata": {},
   "outputs": [
    {
     "name": "stdout",
     "output_type": "stream",
     "text": [
      "vehicle vehicle vehicle vehicle vehicle \n",
      "toy toy toy toy toy \n",
      "house house house house house \n"
     ]
    }
   ],
   "source": [
    "names=['vehicle','toy','house']\n",
    "for name in names:\n",
    "    count=0\n",
    "    while count<5:\n",
    "        print(name, end=' ')\n",
    "        count+=1\n",
    "    print()"
   ]
  },
  {
   "cell_type": "code",
   "execution_count": 52,
   "id": "9d20c2ba-2172-49ae-8c30-a8b6d816fb89",
   "metadata": {},
   "outputs": [
    {
     "name": "stdout",
     "output_type": "stream",
     "text": [
      "vehicle toy house \n",
      "vehicle toy house \n",
      "vehicle toy house \n",
      "vehicle toy house \n",
      "vehicle toy house \n"
     ]
    }
   ],
   "source": [
    "names = ['vehicle','toy','house']\n",
    "count=0\n",
    "\n",
    "while count<5:\n",
    "    for name in names:\n",
    "        print(name,end=' ')\n",
    "    count+=1\n",
    "    print()"
   ]
  },
  {
   "cell_type": "code",
   "execution_count": 53,
   "id": "b0adfce3-5ed3-40ea-8f83-de942864556d",
   "metadata": {},
   "outputs": [
    {
     "name": "stdout",
     "output_type": "stream",
     "text": [
      "range(0, 20)\n",
      "range(15, 20)\n",
      "range(0, 22, 3)\n",
      "range(-20, -201, -10)\n",
      "range(200, -201, -10)\n"
     ]
    }
   ],
   "source": [
    "sequence1=range(20)\n",
    "sequence2=range(15,20)\n",
    "sequence3=range(0,22,3)\n",
    "sequence4=range(-20,-201,-10)\n",
    "sequence5=range(200,-201,-10)\n",
    "print(sequence1)\n",
    "print(sequence2)\n",
    "print(sequence3)\n",
    "print(sequence4)\n",
    "print(sequence5)"
   ]
  },
  {
   "cell_type": "code",
   "execution_count": 54,
   "id": "3f99312c-13e8-4a2b-8398-78c0a11bfe1f",
   "metadata": {},
   "outputs": [
    {
     "name": "stdout",
     "output_type": "stream",
     "text": [
      "0\n",
      "1\n",
      "2\n",
      "3\n",
      "4\n",
      "5\n",
      "6\n",
      "7\n",
      "8\n",
      "9\n",
      "10\n",
      "11\n",
      "12\n",
      "13\n",
      "14\n",
      "15\n",
      "16\n",
      "17\n",
      "18\n",
      "19\n"
     ]
    }
   ],
   "source": [
    "for i in sequence1:\n",
    "    print(i)"
   ]
  },
  {
   "cell_type": "code",
   "execution_count": 55,
   "id": "6603bff2-0e3a-452f-84cd-6e003f2630e6",
   "metadata": {},
   "outputs": [
    {
     "name": "stdout",
     "output_type": "stream",
     "text": [
      "10 0\n",
      "10 1\n",
      "10 2\n",
      "10 3\n",
      "10 4\n",
      "11 0\n",
      "11 1\n",
      "11 2\n",
      "11 3\n",
      "11 4\n"
     ]
    }
   ],
   "source": [
    "for x in range(10,12):\n",
    "    for y in range(5):\n",
    "        print(x,y)"
   ]
  },
  {
   "cell_type": "code",
   "execution_count": 56,
   "id": "13bf349a-2ad4-4988-bc42-44e7e955c21a",
   "metadata": {},
   "outputs": [
    {
     "name": "stdout",
     "output_type": "stream",
     "text": [
      "15\n",
      "16\n",
      "17\n",
      "18\n",
      "19\n"
     ]
    }
   ],
   "source": [
    "for i in sequence2:\n",
    "    print(i)"
   ]
  },
  {
   "cell_type": "code",
   "execution_count": 57,
   "id": "db35d39a-e4c5-4963-a95c-2414fe860cec",
   "metadata": {},
   "outputs": [
    {
     "name": "stdout",
     "output_type": "stream",
     "text": [
      "0\n",
      "3\n",
      "6\n",
      "9\n",
      "12\n",
      "15\n",
      "18\n",
      "21\n"
     ]
    }
   ],
   "source": [
    "for i in sequence3:\n",
    "    print(i)"
   ]
  },
  {
   "cell_type": "code",
   "execution_count": 58,
   "id": "055f3bf9-39b7-433d-abc0-c6b0b0cf8236",
   "metadata": {},
   "outputs": [
    {
     "name": "stdout",
     "output_type": "stream",
     "text": [
      "-20\n",
      "-30\n",
      "-40\n",
      "-50\n",
      "-60\n",
      "-70\n",
      "-80\n",
      "-90\n",
      "-100\n",
      "-110\n",
      "-120\n",
      "-130\n",
      "-140\n",
      "-150\n",
      "-160\n",
      "-170\n",
      "-180\n",
      "-190\n",
      "-200\n"
     ]
    }
   ],
   "source": [
    "for i in sequence4:\n",
    "    print(i)"
   ]
  },
  {
   "cell_type": "code",
   "execution_count": 59,
   "id": "23bec68a-a9bd-429c-85cb-51bc851e25d9",
   "metadata": {},
   "outputs": [
    {
     "name": "stdout",
     "output_type": "stream",
     "text": [
      "200\n",
      "190\n",
      "180\n",
      "170\n",
      "160\n",
      "150\n",
      "140\n",
      "130\n",
      "120\n",
      "110\n",
      "100\n",
      "90\n",
      "80\n",
      "70\n",
      "60\n",
      "50\n",
      "40\n",
      "30\n",
      "20\n",
      "10\n",
      "0\n",
      "-10\n",
      "-20\n",
      "-30\n",
      "-40\n",
      "-50\n",
      "-60\n",
      "-70\n",
      "-80\n",
      "-90\n",
      "-100\n",
      "-110\n",
      "-120\n",
      "-130\n",
      "-140\n",
      "-150\n",
      "-160\n",
      "-170\n",
      "-180\n",
      "-190\n",
      "-200\n"
     ]
    }
   ],
   "source": [
    "for i in sequence5:\n",
    "    print(i)"
   ]
  },
  {
   "cell_type": "code",
   "execution_count": 60,
   "id": "1f60059d-33ab-47a7-9724-4b5cd87cc52f",
   "metadata": {},
   "outputs": [
    {
     "name": "stdout",
     "output_type": "stream",
     "text": [
      "20 30 12 10 92 "
     ]
    }
   ],
   "source": [
    "lst=[19,20,30,91,12,1,10,9,92]\n",
    "for i in lst:\n",
    "    if i%2==0:\n",
    "        print(i, end=' ')"
   ]
  },
  {
   "cell_type": "code",
   "execution_count": 61,
   "id": "e3ab0c65-ba5a-443b-9573-749c0e527921",
   "metadata": {},
   "outputs": [
    {
     "name": "stdout",
     "output_type": "stream",
     "text": [
      "['banana', 'apple', 3, 10, 78, 5.5, [200, 201, 202, 203, 204], 10.5]\n",
      "['apple', 'apple', 'apple', 'apple', 'apple']\n"
     ]
    }
   ],
   "source": [
    "listThings = ['banana', 'apple', 'apple', 3, 10, 78, 5.5, 'apple', list(range(200,205)), 'apple', 'apple', 10.5]\n",
    "appleList = [ ]\n",
    "cnt=listThings.count('apple')\n",
    "listThings.reverse()\n",
    "for i in range(cnt-1):\n",
    "    appleList.append('apple')\n",
    "    listThings.remove('apple')\n",
    "appleList.append('apple')\n",
    "listThings.reverse()\n",
    "print(listThings)\n",
    "print(appleList)"
   ]
  },
  {
   "cell_type": "markdown",
   "id": "09d6eef8-258b-4b94-806a-3bc024250156",
   "metadata": {},
   "source": [
    "## Loop Control Statements"
   ]
  },
  {
   "cell_type": "code",
   "execution_count": 62,
   "id": "a0f89064-9681-43ea-840d-0a5d41b01c3e",
   "metadata": {},
   "outputs": [
    {
     "name": "stdout",
     "output_type": "stream",
     "text": [
      "vehicle\n",
      "toy\n",
      "\n",
      "vehicle\n"
     ]
    }
   ],
   "source": [
    "# Break Statement\n",
    "lst1=['vehicle','toy','house']\n",
    "for x in lst1:\n",
    "    print(x)\n",
    "    if x=='toy':\n",
    "        break\n",
    "print()\n",
    "lst1=['vehicle','toy','house']\n",
    "for x in lst1:\n",
    "    if x=='toy':\n",
    "        break\n",
    "    print(x)"
   ]
  },
  {
   "cell_type": "code",
   "execution_count": 63,
   "id": "ea7be4dd-438d-4935-8186-b90d5bbbe0bc",
   "metadata": {},
   "outputs": [
    {
     "name": "stdout",
     "output_type": "stream",
     "text": [
      "vehicle\n",
      "house\n"
     ]
    }
   ],
   "source": [
    "# Continue Statement\n",
    "lst1=['vehicle','toy','house']\n",
    "for x in lst1:\n",
    "    if x=='toy':\n",
    "        continue\n",
    "    print(x)"
   ]
  },
  {
   "cell_type": "code",
   "execution_count": 64,
   "id": "3bd17ed1-672c-4933-983c-7ce8bdfa4097",
   "metadata": {},
   "outputs": [],
   "source": [
    "# Break Statement\n",
    "lst1=['vehicle','toy','house']\n",
    "for x in lst1:\n",
    "    pass"
   ]
  },
  {
   "cell_type": "markdown",
   "id": "0c62d4f2-04e1-411c-a31a-0ce492570ea3",
   "metadata": {},
   "source": [
    "## Dictionaries\n",
    "Dictionaries are:\n",
    "1. Mutable\n",
    "2. Heterogeneous\n",
    "3. Ordered"
   ]
  },
  {
   "cell_type": "code",
   "execution_count": 65,
   "id": "37849c2e-b578-47cf-94db-0afde9803ab0",
   "metadata": {},
   "outputs": [
    {
     "name": "stdout",
     "output_type": "stream",
     "text": [
      "<class 'dict'>\n",
      "{'Manvith': 22, 'Yukti': 25, '1': 2}\n",
      "<class 'dict'>\n",
      "{'Manvith': 22, 'Yukti': 25}\n"
     ]
    }
   ],
   "source": [
    "age={\"Manvith\":22,\"Yukti\":25,\"1\":2}\n",
    "print(type(age))\n",
    "print(age)\n",
    "age2=dict(Manvith=22,Yukti=25)\n",
    "print(type(age2))\n",
    "print(age2)"
   ]
  },
  {
   "cell_type": "code",
   "execution_count": 66,
   "id": "e6b9cb4e-49f5-4fb5-959c-127c9f901e43",
   "metadata": {},
   "outputs": [
    {
     "name": "stdout",
     "output_type": "stream",
     "text": [
      "{'AvgTemp': 24, 'AvgYearlyRainfall': 553, 'Climate': 'mediterranean'}\n"
     ]
    }
   ],
   "source": [
    "adelaideWeather = {'AvgTemp':24, 'AvgYearlyRainfall': 553, 'Climate': 'mediterranean'}\n",
    "print(adelaideWeather)"
   ]
  },
  {
   "cell_type": "code",
   "execution_count": 67,
   "id": "0ec27694-0607-4989-ad9a-b3b9ed108071",
   "metadata": {},
   "outputs": [
    {
     "name": "stdout",
     "output_type": "stream",
     "text": [
      "{'Manvith': {'purple', 'blue'}, 'Yukti': {'yellow', 'red'}}\n"
     ]
    }
   ],
   "source": [
    "favouriteColours = {'Manvith':{'blue', 'purple'}, 'Yukti':{'red', 'yellow'}}\n",
    "print(favouriteColours)"
   ]
  },
  {
   "cell_type": "code",
   "execution_count": 68,
   "id": "11907bd7-672c-4c17-86b4-9afd74180dbc",
   "metadata": {},
   "outputs": [
    {
     "ename": "NameError",
     "evalue": "name 'area' is not defined",
     "output_type": "error",
     "traceback": [
      "\u001b[0;31m---------------------------------------------------------------------------\u001b[0m",
      "\u001b[0;31mNameError\u001b[0m                                 Traceback (most recent call last)",
      "Cell \u001b[0;32mIn[68], line 2\u001b[0m\n\u001b[1;32m      1\u001b[0m profession\u001b[38;5;241m=\u001b[39m{\u001b[38;5;124m\"\u001b[39m\u001b[38;5;124mManvith\u001b[39m\u001b[38;5;124m\"\u001b[39m:\u001b[38;5;124m\"\u001b[39m\u001b[38;5;124mData Science\u001b[39m\u001b[38;5;124m\"\u001b[39m,\u001b[38;5;124m\"\u001b[39m\u001b[38;5;124mYukti\u001b[39m\u001b[38;5;124m\"\u001b[39m:\u001b[38;5;124m\"\u001b[39m\u001b[38;5;124mProject Manager\u001b[39m\u001b[38;5;124m\"\u001b[39m}\n\u001b[0;32m----> 2\u001b[0m \u001b[38;5;28mprint\u001b[39m(area)\n\u001b[1;32m      3\u001b[0m profession1\u001b[38;5;241m=\u001b[39m\u001b[38;5;28mdict\u001b[39m(Manvith\u001b[38;5;241m=\u001b[39m\u001b[38;5;124m\"\u001b[39m\u001b[38;5;124mData Science\u001b[39m\u001b[38;5;124m\"\u001b[39m,Yukti\u001b[38;5;241m=\u001b[39m\u001b[38;5;124m\"\u001b[39m\u001b[38;5;124mProject Manager\u001b[39m\u001b[38;5;124m\"\u001b[39m)\n\u001b[1;32m      4\u001b[0m \u001b[38;5;28mprint\u001b[39m(profession)\n",
      "\u001b[0;31mNameError\u001b[0m: name 'area' is not defined"
     ]
    }
   ],
   "source": [
    "profession={\"Manvith\":\"Data Science\",\"Yukti\":\"Project Manager\"}\n",
    "print(area)\n",
    "profession1=dict(Manvith=\"Data Science\",Yukti=\"Project Manager\")\n",
    "print(profession)"
   ]
  },
  {
   "cell_type": "code",
   "execution_count": 69,
   "id": "2857145e-0867-4918-9b76-4a536461243c",
   "metadata": {},
   "outputs": [
    {
     "name": "stdout",
     "output_type": "stream",
     "text": [
      "{'Manvith': 'Data Scientist', 'Yukti': 'Project Manager'}\n"
     ]
    }
   ],
   "source": [
    "dup={\"Manvith\":22,\"Yukti\":25,\"Manvith\":\"Data Scientist\",\"Yukti\":\"Project Manager\"}\n",
    "print(dup)"
   ]
  },
  {
   "cell_type": "code",
   "execution_count": 70,
   "id": "2d889ff3-b0d6-4312-af7a-35f4af4676c6",
   "metadata": {},
   "outputs": [
    {
     "name": "stdout",
     "output_type": "stream",
     "text": [
      "3.12.7 | packaged by Anaconda, Inc. | (main, Oct  4 2024, 08:22:19) [Clang 14.0.6 ]\n"
     ]
    }
   ],
   "source": [
    "import sys\n",
    "print(sys.version)"
   ]
  },
  {
   "cell_type": "code",
   "execution_count": 71,
   "id": "4127d826-a783-4071-a022-a0cba8fcae3a",
   "metadata": {},
   "outputs": [
    {
     "name": "stdout",
     "output_type": "stream",
     "text": [
      "{'fname': 'Manvith', 'height': '165cm', 'weight': '75.6kg', 'age': 22, 'lname': 'Vishwanatham', 'Hobbies': ['Reading', 'Exercise', 'Communicating']}\n",
      "6\n"
     ]
    }
   ],
   "source": [
    "details={\"fname\":\"Manvith\",\"height\":\"165cm\",\"weight\":\"75.6kg\",\"age\":22}\n",
    "details[\"lname\"]=\"Vishwanatham\"\n",
    "details[\"Hobbies\"]=[\"Reading\",\"Exercise\",\"Communicating\"]\n",
    "print(details)\n",
    "print(len(details))"
   ]
  },
  {
   "cell_type": "code",
   "execution_count": 72,
   "id": "7d428867-2361-4b6c-8d13-a90ad32f6fb4",
   "metadata": {},
   "outputs": [
    {
     "name": "stdout",
     "output_type": "stream",
     "text": [
      "Vishwanatham\n",
      "Manvith\n"
     ]
    }
   ],
   "source": [
    "print(details[\"lname\"])\n",
    "print(details[\"fname\"])"
   ]
  },
  {
   "cell_type": "code",
   "execution_count": 73,
   "id": "270e7e12-6a6b-49dd-b367-7b41d5c911c6",
   "metadata": {},
   "outputs": [
    {
     "name": "stdout",
     "output_type": "stream",
     "text": [
      "{'fname': 'Yukti', 'height': '165cm', 'weight': '75.6kg', 'age': 22, 'lname': 'Vishwanatham', 'Hobbies': ['Reading', 'Exercise', 'Communicating']}\n",
      "{'fname': 'Varshith', 'height': '165cm', 'weight': '75.6kg', 'age': 22, 'lname': 'Vishwanatham', 'Hobbies': ['Reading', 'Exercise', 'Communicating']}\n",
      "{'fname': 'Yukti', 'height': '165cm', 'weight': '75.6kg', 'age': 25, 'lname': 'Vishwanatham', 'Hobbies': ['Reading', 'Exercise', 'Communicating']}\n"
     ]
    }
   ],
   "source": [
    "details[\"fname\"]=\"Yukti\"\n",
    "print(details)\n",
    "details.update({\"fname\":\"Varshith\"})\n",
    "print(details)\n",
    "details.update({\"fname\":\"Yukti\",\"age\":25})\n",
    "print(details)"
   ]
  },
  {
   "cell_type": "code",
   "execution_count": 74,
   "id": "d44a6c86-cf60-4cba-b860-1cc3a2768807",
   "metadata": {},
   "outputs": [
    {
     "name": "stdout",
     "output_type": "stream",
     "text": [
      "{'fname': 'Yukti', 'height': '165cm', 'weight': '75.6kg', 'age': 25, 'Hobbies': ['Reading', 'Exercise', 'Communicating']}\n",
      "{}\n"
     ]
    }
   ],
   "source": [
    "details.pop(\"lname\")\n",
    "print(details)\n",
    "details.clear()\n",
    "print(details)"
   ]
  },
  {
   "cell_type": "code",
   "execution_count": 75,
   "id": "f14dd63f-42d9-43ee-8a73-ee618d5ad9d5",
   "metadata": {},
   "outputs": [
    {
     "name": "stdout",
     "output_type": "stream",
     "text": [
      "age dictionary:  {'Manvith': 22, 'Yukti': 25}\n",
      "There are 2 key:value pairs in the dictionary\n",
      "age dictionary copy:  {'Manvith': 22, 'Yukti': 25}\n",
      "copies are equivalent?  True\n",
      "are age and ageCopy the same dictionary?  False\n",
      "22\n",
      "{'Yukti': 25}\n",
      "age dictionary:  {}\n",
      "age dictionary copy:  {'Manvith': 22, 'Yukti': 25}\n",
      "copies are equivalent?  False\n",
      "age dictionary copy: {}\n"
     ]
    }
   ],
   "source": [
    "age=dict()\n",
    "age[\"Manvith\"]=22\n",
    "age[\"Yukti\"]=25\n",
    "print(\"age dictionary: \",repr(age))\n",
    "print(\"There are \" + str(len(age))+\" key:value pairs in the dictionary\")\n",
    "ageCopy=age.copy()\n",
    "print(\"age dictionary copy: \",repr(ageCopy))\n",
    "print(\"copies are equivalent? \",age==ageCopy)\n",
    "print(\"are age and ageCopy the same dictionary? \",age is ageCopy)\n",
    "ageManvith=age.pop(\"Manvith\")\n",
    "print(ageManvith)\n",
    "print(age)\n",
    "del age[\"Yukti\"]\n",
    "print(\"age dictionary: \", repr(age))\n",
    "print(\"age dictionary copy: \", repr(ageCopy))\n",
    "print(\"copies are equivalent? \",age==ageCopy)\n",
    "ageCopy.clear()\n",
    "print(\"age dictionary copy: \"+repr(ageCopy))"
   ]
  },
  {
   "cell_type": "code",
   "execution_count": 76,
   "id": "aa9acbe5-0132-4564-812a-8e62f927e338",
   "metadata": {},
   "outputs": [
    {
     "name": "stdout",
     "output_type": "stream",
     "text": [
      "{'Manvith': 'Data Science', 'Yukti': 'Project Manager', 'Age1': 22, 'Age2': 25}\n"
     ]
    }
   ],
   "source": [
    "dict1={}\n",
    "dict1=dict(Manvith=\"Data Science\",Yukti=\"Project Manager\",Age1=22,Age2=25)\n",
    "print(dict1)"
   ]
  },
  {
   "cell_type": "code",
   "execution_count": 77,
   "id": "90e9dd22-e573-42c2-a702-10b2a5afa025",
   "metadata": {},
   "outputs": [
    {
     "name": "stdout",
     "output_type": "stream",
     "text": [
      "4\n"
     ]
    }
   ],
   "source": [
    "print(len(dict1))"
   ]
  },
  {
   "cell_type": "code",
   "execution_count": 78,
   "id": "3673f9c7-5925-4e74-b25f-c3d9c2d2a428",
   "metadata": {},
   "outputs": [
    {
     "name": "stdout",
     "output_type": "stream",
     "text": [
      "Project Manager\n",
      "Yukti's Age:  25\n"
     ]
    }
   ],
   "source": [
    "print(dict1[\"Yukti\"])\n",
    "yuktiAge=dict1.pop(\"Age2\")\n",
    "print(\"Yukti's Age: \",yuktiAge)"
   ]
  },
  {
   "cell_type": "code",
   "execution_count": 79,
   "id": "01b05b1f-efc1-4505-ac81-85376c52aa99",
   "metadata": {},
   "outputs": [
    {
     "name": "stdout",
     "output_type": "stream",
     "text": [
      "{'Manvith': 'Data Science', 'Yukti': 'Project Manager'}\n",
      "{}\n"
     ]
    }
   ],
   "source": [
    "del dict1[\"Age1\"]\n",
    "print(dict1)\n",
    "dict1.clear()\n",
    "print(dict1)"
   ]
  },
  {
   "cell_type": "code",
   "execution_count": 80,
   "id": "d40aa7ea-6b12-49ff-ba50-e0f5cdff3fde",
   "metadata": {},
   "outputs": [
    {
     "name": "stdout",
     "output_type": "stream",
     "text": [
      "\n",
      "Manvith is in dict1 dictionary\n"
     ]
    }
   ],
   "source": [
    "if \"Manvith\" in dict1:\n",
    "    print(\"Manvith is in dict1 dictionary\")\n",
    "    del dict1[\"Manvith\"]\n",
    "print()\n",
    "dict1[\"Manvith\"]=\"Data Scientist\"\n",
    "if \"Manvith\" in dict1:\n",
    "    print(\"Manvith is in dict1 dictionary\")\n",
    "    del dict1[\"Manvith\"]"
   ]
  },
  {
   "cell_type": "code",
   "execution_count": 81,
   "id": "d2eeeb1f-7f9d-4faa-8007-41b51add0635",
   "metadata": {},
   "outputs": [
    {
     "name": "stdout",
     "output_type": "stream",
     "text": [
      "Manvith :  22\n",
      "Yukti :  25\n",
      "Madhu :  23\n",
      "\n",
      "Manvith\n",
      "Yukti\n",
      "Madhu\n",
      "\n",
      "22\n",
      "25\n",
      "23\n",
      "\n"
     ]
    }
   ],
   "source": [
    "age={\"Manvith\":22,\"Yukti\":25,\"Madhu\":23}\n",
    "for k,v in age.items():\n",
    "    print(k,': ',v)\n",
    "print()\n",
    "\n",
    "for k in age.keys():\n",
    "    print(k)\n",
    "print()\n",
    "\n",
    "for v in age.values():\n",
    "    print(v)\n",
    "print()"
   ]
  },
  {
   "cell_type": "code",
   "execution_count": 82,
   "id": "ce227c0c-944d-4d09-b010-96b4376375b9",
   "metadata": {},
   "outputs": [
    {
     "name": "stdout",
     "output_type": "stream",
     "text": [
      "{'Manvith': 23, 'Yukti': 26, 'Madhu': 24}\n"
     ]
    }
   ],
   "source": [
    "# Updating everyone's age by 1\n",
    "for k in age.keys():\n",
    "    age[k]+=1\n",
    "print(age)"
   ]
  },
  {
   "cell_type": "code",
   "execution_count": 83,
   "id": "2d500155-f856-4b76-b599-0954eeb46f4c",
   "metadata": {},
   "outputs": [
    {
     "name": "stdout",
     "output_type": "stream",
     "text": [
      "{'Student1': {'age': 21,\n",
      "              'interests': ['Programming', 'Exercising', 'Reading'],\n",
      "              'name': 'Manvith'},\n",
      " 'Student2': {'age': 25,\n",
      "              'interests': ['Management', 'Exercising', 'Reading', 'Exploring'],\n",
      "              'name': 'Yukti'},\n",
      " 'Student3': {'age': 22,\n",
      "              'interests': ['Travelling', 'Vlogging', 'Communicating'],\n",
      "              'name': 'Madhu'}}\n",
      "3\n"
     ]
    }
   ],
   "source": [
    "from pprint import pprint\n",
    "students={\"Student1\":{\"name\":\"Manvith\",\"age\":21,\"interests\":[\"Programming\",\"Exercising\",\"Reading\"]},\"Student2\":{\"name\":\"Yukti\",\"age\":25,\"interests\":[\"Management\",\"Exercising\",\"Reading\",\"Exploring\"]},\"Student3\":{\"name\":\"Madhu\",\"age\":22,\"interests\":[\"Travelling\",\"Vlogging\",\"Communicating\"]}}\n",
    "pprint(students)\n",
    "print(len(students))"
   ]
  },
  {
   "cell_type": "markdown",
   "id": "ec84da50-34d9-44ef-8419-f3adb28c2d3f",
   "metadata": {},
   "source": [
    "## Workshop1"
   ]
  },
  {
   "cell_type": "code",
   "execution_count": 84,
   "id": "f521d834-8b47-4eb4-b2b2-ea29f30c5633",
   "metadata": {},
   "outputs": [
    {
     "name": "stdout",
     "output_type": "stream",
     "text": [
      "Index: 0, Number at index: 0.0\n",
      "Index: 1, Number at index: 1\n",
      "Index: 2, Number at index: 2\n",
      "Index: 3, Number at index: 3\n",
      "Index: 4, Number at index: four\n"
     ]
    }
   ],
   "source": [
    "numbers=[0.0,1,2,3,'four',5.0,'six',7,8.0,9]\n",
    "index = 0\n",
    "while index<len(numbers):\n",
    "    print(f'Index: {index}, Number at index: {numbers[index]}')\n",
    "    if type(numbers[index])==str:\n",
    "        break\n",
    "    index+=1"
   ]
  },
  {
   "cell_type": "code",
   "execution_count": 85,
   "id": "b935a102-4798-4a83-9143-56e4e4d811ec",
   "metadata": {},
   "outputs": [
    {
     "name": "stdout",
     "output_type": "stream",
     "text": [
      "[]\n",
      "[-1, -5, 'a', 4, 'd']\n",
      "[1, 2, 3, 4, 5]\n",
      "[[1, 2, 3], 'str', [4, 5]]\n"
     ]
    }
   ],
   "source": [
    "a=[]\n",
    "b=[-1, -5, 'a', 4, 'd'] \n",
    "c=[1, 2, 3, 4, 5] \n",
    "d=[[1, 2, 3], 'str', [4, 5]]\n",
    "print(a)\n",
    "print(b)\n",
    "print(c)\n",
    "print(d)"
   ]
  },
  {
   "cell_type": "code",
   "execution_count": 86,
   "id": "64a88d57-1af0-439a-a85c-571171cba312",
   "metadata": {},
   "outputs": [
    {
     "name": "stdout",
     "output_type": "stream",
     "text": [
      "[1, 2, 3, 4, 5]\n",
      "[1, 2, 3, 4, 5, 3]\n",
      "[1, 2, 3, 4, 5, 3, 5]\n",
      "[1, 2, 3, 4, 5, 3, 5, 1, 2, 3]\n",
      "[10, 20, 30, 1, 2, 3, 4, 5, 3, 5, 1, 2, 3]\n",
      "[10, 20, 30, 1, 2, 3, 4, 5, 3, 5, 1, 2]\n"
     ]
    }
   ],
   "source": [
    "my_list=[1,2,3,4,5]\n",
    "print(my_list)\n",
    "my_list.append(3)\n",
    "print(my_list)\n",
    "\n",
    "my_list=my_list+[5]\n",
    "print(my_list)\n",
    "\n",
    "my_list=my_list+[1,2,3]\n",
    "print(my_list)\n",
    "\n",
    "my_list=[10,20,30]+my_list\n",
    "print(my_list)\n",
    "\n",
    "my_list.pop()\n",
    "print(my_list)"
   ]
  },
  {
   "cell_type": "code",
   "execution_count": 87,
   "id": "08eddfe7-bc77-4369-be11-c998475b9bdd",
   "metadata": {},
   "outputs": [
    {
     "name": "stdout",
     "output_type": "stream",
     "text": [
      "[1, 2, 3, 7, 8, 9]\n",
      "[1, 2, 3, [7, 8, 9]]\n"
     ]
    }
   ],
   "source": [
    "l1=[1,2,3]\n",
    "l1=l1+[7,8,9]\n",
    "print(l1)\n",
    "\n",
    "l2=[1,2,3]\n",
    "l2.append([7,8,9])\n",
    "print(l2)"
   ]
  },
  {
   "cell_type": "code",
   "execution_count": 88,
   "id": "f566e2d2-8ea1-46cc-b29f-b8009f538bb8",
   "metadata": {},
   "outputs": [
    {
     "name": "stdout",
     "output_type": "stream",
     "text": [
      "True\n",
      "False\n"
     ]
    }
   ],
   "source": [
    "print(19 in [10,20,9,22,12,19])\n",
    "print(\"dog\" in [\"duck\",20,9,22,12,19])"
   ]
  },
  {
   "cell_type": "code",
   "execution_count": 89,
   "id": "ca0b2060-bf3b-47e6-9a83-1ca14170716c",
   "metadata": {},
   "outputs": [
    {
     "name": "stdout",
     "output_type": "stream",
     "text": [
      "5008916032 : [1]\n",
      "5008916032 : [1, 5, 6, 7]\n"
     ]
    }
   ],
   "source": [
    "x=[1]\n",
    "print(id(x),':',x)\n",
    "\n",
    "x.append(5)\n",
    "x.extend([6,7])\n",
    "print(id(x),':',x)"
   ]
  },
  {
   "cell_type": "code",
   "execution_count": 90,
   "id": "898a084b-f52a-4c38-99e8-a3a390c8579c",
   "metadata": {},
   "outputs": [
    {
     "name": "stdout",
     "output_type": "stream",
     "text": [
      "10\n",
      "20\n",
      "9\n",
      "22\n"
     ]
    }
   ],
   "source": [
    "my_list=[10,20,9,22,12,19]\n",
    "print(my_list[0])\n",
    "print(my_list[1])\n",
    "print(my_list[2])\n",
    "print(my_list[3])"
   ]
  },
  {
   "cell_type": "code",
   "execution_count": 91,
   "id": "883968a0-8e57-4f74-85c0-d9a718e71461",
   "metadata": {},
   "outputs": [
    {
     "name": "stdout",
     "output_type": "stream",
     "text": [
      "Dansie\n",
      "20\n"
     ]
    }
   ],
   "source": [
    "list1=['John','Dansie','David','Dansie']\n",
    "list2=[12,20,30,40]\n",
    "print(list1[1])\n",
    "print(list2[1])"
   ]
  },
  {
   "cell_type": "code",
   "execution_count": 92,
   "id": "fdf62df1-a153-4a0c-9297-6826f95ac1c9",
   "metadata": {},
   "outputs": [
    {
     "name": "stdout",
     "output_type": "stream",
     "text": [
      "10\n"
     ]
    }
   ],
   "source": [
    "list3=[1,\"John\",True,[10,20,9,22,12,19]]\n",
    "print(list3[3][0])"
   ]
  },
  {
   "cell_type": "code",
   "execution_count": 93,
   "id": "8cd63dfb-1425-4e25-939b-5fbe3937c7d8",
   "metadata": {},
   "outputs": [
    {
     "name": "stdout",
     "output_type": "stream",
     "text": [
      "[1, 2, [12, 13], 10]\n"
     ]
    }
   ],
   "source": [
    "lst=[1,2]\n",
    "lst.append([12,13]) # append is used to add the list or single element to the list\n",
    "lst.extend([10]) # extend is used to add the elements of the list in the list\n",
    "print(lst)"
   ]
  },
  {
   "cell_type": "code",
   "execution_count": 94,
   "id": "21fcef5f-85be-4cbf-9537-ccf01c3fbda5",
   "metadata": {},
   "outputs": [],
   "source": [
    "del lst # Deletes the whole lst\n",
    "# print(lst) # gives error"
   ]
  },
  {
   "cell_type": "code",
   "execution_count": 95,
   "id": "fedcc58d-e9fe-4ff2-8cdd-b224218f8a6d",
   "metadata": {},
   "outputs": [
    {
     "name": "stdout",
     "output_type": "stream",
     "text": [
      "[2, 3, 4]\n",
      "[2, 3]\n",
      "[3]\n"
     ]
    }
   ],
   "source": [
    "lst=[1,2,3,4]\n",
    "lst.remove(1) # removes the element\n",
    "print(lst)\n",
    "lst.pop()\n",
    "print(lst)\n",
    "lst.pop(0) # removes the last one unless index is mentioned\n",
    "print(lst)"
   ]
  },
  {
   "cell_type": "code",
   "execution_count": 96,
   "id": "a9ddce1c-a2f8-419b-842f-84a90f90ccbd",
   "metadata": {},
   "outputs": [
    {
     "name": "stdout",
     "output_type": "stream",
     "text": [
      "[4, 3, 2]\n",
      "[]\n"
     ]
    }
   ],
   "source": [
    "lst=[4,3,2]\n",
    "print(lst)\n",
    "lst.clear()\n",
    "print(lst)"
   ]
  },
  {
   "cell_type": "code",
   "execution_count": 97,
   "id": "d58fee14-2b34-4852-9336-18c799bc36ba",
   "metadata": {},
   "outputs": [
    {
     "name": "stdout",
     "output_type": "stream",
     "text": [
      "['John', 'Danise', 'David', 12, 20, 30]\n"
     ]
    }
   ],
   "source": [
    "list1=[\"John\",\"Danise\",\"David\"]\n",
    "list2=[12,20,30]\n",
    "list3=list1+list2\n",
    "print(list3)"
   ]
  },
  {
   "cell_type": "code",
   "execution_count": 98,
   "id": "b0381a75-dece-4269-924f-ea19f0cc1c6a",
   "metadata": {},
   "outputs": [
    {
     "name": "stdout",
     "output_type": "stream",
     "text": [
      "2\n"
     ]
    }
   ],
   "source": [
    "pets=['dog','Dog','DOG','fish','cat','Dog']\n",
    "print(pets.count('Dog'))"
   ]
  },
  {
   "cell_type": "code",
   "execution_count": 99,
   "id": "e16cd290-3a78-4bec-9081-83951a29de2b",
   "metadata": {},
   "outputs": [
    {
     "name": "stdout",
     "output_type": "stream",
     "text": [
      "4\n"
     ]
    }
   ],
   "source": [
    "lst=[1,\"John\",True,[10,20,9,22,12,19]]\n",
    "print(len(lst))"
   ]
  },
  {
   "cell_type": "code",
   "execution_count": 100,
   "id": "efa47923-6a47-4c59-b167-76236b9c8478",
   "metadata": {},
   "outputs": [
    {
     "ename": "TypeError",
     "evalue": "'<' not supported between instances of 'NoneType' and 'int'",
     "output_type": "error",
     "traceback": [
      "\u001b[0;31m---------------------------------------------------------------------------\u001b[0m",
      "\u001b[0;31mTypeError\u001b[0m                                 Traceback (most recent call last)",
      "Cell \u001b[0;32mIn[100], line 2\u001b[0m\n\u001b[1;32m      1\u001b[0m lst\u001b[38;5;241m=\u001b[39m[\u001b[38;5;241m10\u001b[39m,\u001b[38;5;241m20\u001b[39m,\u001b[38;5;241m9\u001b[39m,\u001b[38;5;241m22\u001b[39m,\u001b[38;5;241m12\u001b[39m,\u001b[38;5;241m19\u001b[39m,\u001b[38;5;28;01mNone\u001b[39;00m]\n\u001b[0;32m----> 2\u001b[0m lst\u001b[38;5;241m.\u001b[39msort()\n\u001b[1;32m      3\u001b[0m \u001b[38;5;28mprint\u001b[39m(lst)\n",
      "\u001b[0;31mTypeError\u001b[0m: '<' not supported between instances of 'NoneType' and 'int'"
     ]
    }
   ],
   "source": [
    "lst=[10,20,9,22,12,19,None]\n",
    "lst.sort()\n",
    "print(lst)"
   ]
  },
  {
   "cell_type": "code",
   "execution_count": 105,
   "id": "317b0871-e267-4823-93a8-d952ce462305",
   "metadata": {},
   "outputs": [
    {
     "name": "stdout",
     "output_type": "stream",
     "text": [
      "[19, 12, 22, 9, 20, 10]\n"
     ]
    }
   ],
   "source": [
    "lst=[10,20,9,22,12,19]\n",
    "lst.reverse()\n",
    "print(lst)"
   ]
  },
  {
   "cell_type": "code",
   "execution_count": 106,
   "id": "f7a11141-dac5-4a8f-9814-9023836da23c",
   "metadata": {},
   "outputs": [
    {
     "name": "stdout",
     "output_type": "stream",
     "text": [
      "9\n",
      "22\n",
      "92\n"
     ]
    }
   ],
   "source": [
    "import math\n",
    "print(min(lst))\n",
    "print(max(lst))\n",
    "print(sum(lst))"
   ]
  },
  {
   "cell_type": "markdown",
   "id": "0d11bc4e-5826-4a86-b2eb-9b36f7856666",
   "metadata": {},
   "source": [
    "## Workshop2"
   ]
  },
  {
   "cell_type": "code",
   "execution_count": 109,
   "id": "d27ec5c6-836f-438e-8e01-d4d5e8226d8e",
   "metadata": {},
   "outputs": [
    {
     "name": "stdout",
     "output_type": "stream",
     "text": [
      "[12, 35, 9, 56, 24]\n",
      "[24, 35, 9, 56, 12]\n",
      "[1, 2, 3]\n",
      "[3, 2, 1]\n"
     ]
    }
   ],
   "source": [
    "lst1=[12,35,9,56,24]\n",
    "print(lst1)\n",
    "x=lst1[0]\n",
    "lst1[0]=lst1[-1]\n",
    "lst1[-1]=x\n",
    "print(lst1)\n",
    "\n",
    "lst1=[1,2,3]\n",
    "print(lst1)\n",
    "x=lst1[0]\n",
    "lst1[0]=lst1[-1]\n",
    "lst1[-1]=x\n",
    "print(lst1)"
   ]
  },
  {
   "cell_type": "code",
   "execution_count": 111,
   "id": "aaaf3efc-dada-486a-b0e2-f1acb3b5421b",
   "metadata": {},
   "outputs": [
    {
     "name": "stdout",
     "output_type": "stream",
     "text": [
      "3\n",
      "0\n"
     ]
    }
   ],
   "source": [
    "lst=[15,6,7,10,12,20,10,28,10]\n",
    "x=10\n",
    "print(lst.count(x))\n",
    "\n",
    "lst=[8,6,8,10,8,20,10,8,8]\n",
    "x=16\n",
    "print(lst.count(x))"
   ]
  },
  {
   "cell_type": "code",
   "execution_count": 110,
   "id": "25ca4630-61c4-4c2c-9448-1e5572ebc1a2",
   "metadata": {},
   "outputs": [
    {
     "name": "stdout",
     "output_type": "stream",
     "text": [
      "Exist\n",
      "Does not Exist\n"
     ]
    }
   ],
   "source": [
    "lst=[15,6,7,10,12,20,10,28,10]\n",
    "x=10\n",
    "if x in lst:\n",
    "    print(\"Exist\")\n",
    "else:\n",
    "    print(\"Does not Exist\")\n",
    "\n",
    "lst=[8,6,8,10,8,20,10,8,8]\n",
    "x=16\n",
    "if x in lst:\n",
    "    print(\"Exist\")\n",
    "else:\n",
    "    print(\"Does not Exist\")"
   ]
  },
  {
   "cell_type": "code",
   "execution_count": 112,
   "id": "b93111cd-a7b0-4a7f-b058-241358711795",
   "metadata": {},
   "outputs": [
    {
     "name": "stdout",
     "output_type": "stream",
     "text": [
      "4\n",
      "8\n",
      "12\n",
      "16\n"
     ]
    }
   ],
   "source": [
    "for i in range(4,20,4):\n",
    "    print(i)"
   ]
  },
  {
   "cell_type": "code",
   "execution_count": 113,
   "id": "0cc4b5d1-86f7-4b63-98b7-b38c74c4505a",
   "metadata": {},
   "outputs": [
    {
     "name": "stdout",
     "output_type": "stream",
     "text": [
      "0123\n"
     ]
    }
   ],
   "source": [
    "li=['a','b','c','d','e']\n",
    "s=''\n",
    "for i in range(len(li)-1):\n",
    "    s=s+str(i)\n",
    "print(s)"
   ]
  },
  {
   "cell_type": "code",
   "execution_count": 114,
   "id": "a00c69c6-2702-4611-8550-aa38a689dc5e",
   "metadata": {},
   "outputs": [
    {
     "name": "stdout",
     "output_type": "stream",
     "text": [
      "[0, 1, 2, 3, 4, 5, 6, 7, 8, 9]\n"
     ]
    }
   ],
   "source": [
    "li=[]\n",
    "for i in range(0,10):\n",
    "    li.append(i)\n",
    "print(li)"
   ]
  },
  {
   "cell_type": "code",
   "execution_count": 115,
   "id": "35ba320e-ce3f-49eb-8652-8a2f085afe2f",
   "metadata": {},
   "outputs": [
    {
     "name": "stdout",
     "output_type": "stream",
     "text": [
      "[0, 3, 6, 9, 12, 15, 18, 21, 24, 27, 30, 33, 36, 39, 42, 45, 48]\n"
     ]
    }
   ],
   "source": [
    "li=[]\n",
    "for i in range(0,50,3):\n",
    "    li.append(i)\n",
    "print(li)"
   ]
  },
  {
   "cell_type": "code",
   "execution_count": 116,
   "id": "6c8589da-8231-4089-93d1-9be0968f43f7",
   "metadata": {},
   "outputs": [
    {
     "name": "stdout",
     "output_type": "stream",
     "text": [
      "10\n",
      "20\n",
      "9\n",
      "22\n",
      "12\n",
      "19\n"
     ]
    }
   ],
   "source": [
    "li=[10,20,9,22,12,19]\n",
    "for i in li:\n",
    "    print(i)"
   ]
  },
  {
   "cell_type": "code",
   "execution_count": 117,
   "id": "fd1b57df-24ab-4e8a-be0a-509fa280f6f4",
   "metadata": {},
   "outputs": [
    {
     "name": "stdout",
     "output_type": "stream",
     "text": [
      "[1, 2, 3, 4, 5, 6, 7, 8, 9]\n"
     ]
    }
   ],
   "source": [
    "li=[]\n",
    "lst=[[1,2,3],[4,5,6],[7,8,9]]\n",
    "for i in lst:\n",
    "    for j in i:\n",
    "        li.append(j)\n",
    "print(li)"
   ]
  },
  {
   "cell_type": "code",
   "execution_count": 118,
   "id": "eb26909f-89cc-49f1-a6e2-7e44c6b871db",
   "metadata": {},
   "outputs": [
    {
     "name": "stdout",
     "output_type": "stream",
     "text": [
      "[1000, 8000, 729, 10648, 1728, 6859]\n"
     ]
    }
   ],
   "source": [
    "li=[10,20,9,22,12,19]\n",
    "lst=[]\n",
    "for i in li:\n",
    "    lst.append(i**3)\n",
    "print(lst)"
   ]
  },
  {
   "cell_type": "code",
   "execution_count": 119,
   "id": "6fefc99b-1b50-433f-b1d5-ce47bd0e42f8",
   "metadata": {},
   "outputs": [
    {
     "name": "stdout",
     "output_type": "stream",
     "text": [
      "[<class 'str'>, <class 'int'>, <class 'float'>, <class 'list'>, <class 'list'>, <class 'str'>, <class 'int'>, <class 'str'>, <class 'float'>, <class 'int'>]\n"
     ]
    }
   ],
   "source": [
    "li=[\"John\", 12, 36.93, [], {}, [\"John\", \"Danise\", \"David\"], {\"y\":900}, \"dog\", 12, \"duck\", 19.91, 19]\n",
    "lst=[]\n",
    "for i in li:\n",
    "    if type(i)==dict:\n",
    "        continue\n",
    "    lst.append(type(i))\n",
    "print(lst)"
   ]
  },
  {
   "cell_type": "code",
   "execution_count": 121,
   "id": "061d8c9e-02d9-49eb-ac31-01651158f1fd",
   "metadata": {},
   "outputs": [
    {
     "name": "stdout",
     "output_type": "stream",
     "text": [
      "[12, 20, 36, 120, 136] [12, 30, 36, 120] [120, 136] [36]\n"
     ]
    }
   ],
   "source": [
    "li=[1, 10, 12, 20, 19, 93, 91, 21, 30, 33, 36, 49, 120, 136]\n",
    "l4=[]\n",
    "l6=[]\n",
    "l8=[]\n",
    "l9=[]\n",
    "for i in li:\n",
    "    if i%4==0:\n",
    "        l4.append(i)\n",
    "    if i%6==0:\n",
    "        l6.append(i)\n",
    "    if i%8==0:\n",
    "        l8.append(i)\n",
    "    if i%9==0:\n",
    "        l9.append(i)\n",
    "print(l4,l6,l8,l9)"
   ]
  },
  {
   "cell_type": "code",
   "execution_count": 135,
   "id": "23173a0a-127c-4a66-819c-24949cf286f8",
   "metadata": {},
   "outputs": [
    {
     "name": "stdout",
     "output_type": "stream",
     "text": [
      "[12, 900, 12, 19] ['John', 'John', 'Danise', 'David', 'dog', 'duck'] [36.93, 19.91]\n"
     ]
    }
   ],
   "source": [
    "li=[\"John\", 12, 36.93, [], {}, [\"John\", \"Danise\", \"David\"], {\"y\":900}, \"dog\", 12, \"duck\", 19.91, 19]\n",
    "lst_int=[]\n",
    "lst_str=[]\n",
    "lst_flt=[]\n",
    "for i in li:\n",
    "    if type(i)==int:\n",
    "        lst_int.append(i)\n",
    "    elif type(i)==str:\n",
    "        lst_str.append(i)\n",
    "    elif type(i)==float:\n",
    "        lst_flt.append(i)\n",
    "    elif type(i)==list:\n",
    "        for j in i:\n",
    "            if type(j)==int:\n",
    "                lst_int.append(j)\n",
    "            elif type(j)==str:\n",
    "                lst_str.append(j)\n",
    "            elif type(j)==float:\n",
    "                lst_flt.append(j)\n",
    "            else:\n",
    "                pass\n",
    "    elif type(i)==dict:\n",
    "        for j in i.values():\n",
    "            if type(j)==int:\n",
    "                lst_int.append(j)\n",
    "            elif type(j)==str:\n",
    "                lst_str.append(j)\n",
    "            elif type(j)==float:\n",
    "                lst_flt.append(j)\n",
    "            else:\n",
    "                pass\n",
    "    else:\n",
    "        pass\n",
    "        \n",
    "print(lst_int,lst_str,lst_flt)"
   ]
  },
  {
   "cell_type": "code",
   "execution_count": 139,
   "id": "c83597a1-421d-43af-8745-1ad975bd34e8",
   "metadata": {},
   "outputs": [
    {
     "name": "stdout",
     "output_type": "stream",
     "text": [
      "* \n",
      "* * \n",
      "* * * \n",
      "* * * * \n"
     ]
    }
   ],
   "source": [
    "row=4\n",
    "for i in range(row):\n",
    "    for j in range(i+1):\n",
    "        print('*',end=' ')\n",
    "    print()"
   ]
  },
  {
   "cell_type": "code",
   "execution_count": 141,
   "id": "a568c3cb-a286-4e74-80d9-00c948d9ffef",
   "metadata": {},
   "outputs": [
    {
     "name": "stdout",
     "output_type": "stream",
     "text": [
      "1 \n",
      "1 2 \n",
      "1 2 3 \n",
      "1 2 3 4 \n"
     ]
    }
   ],
   "source": [
    "row=4\n",
    "for i in range(row):\n",
    "    for j in range(i+1):\n",
    "        print(j+1,end=' ')\n",
    "    print()"
   ]
  },
  {
   "cell_type": "code",
   "execution_count": 142,
   "id": "04648d7d-0ad5-46e2-a1a6-7e80ce8bc5f5",
   "metadata": {},
   "outputs": [
    {
     "name": "stdout",
     "output_type": "stream",
     "text": [
      "{1: 'm', 2: 't', 3: 'w'}\n"
     ]
    }
   ],
   "source": [
    "day = {1: 'm', 2: 't', 3: 'w'}\n",
    "print(day)"
   ]
  },
  {
   "cell_type": "code",
   "execution_count": 143,
   "id": "5ea05207-0c38-46d1-b3fb-a390658b3042",
   "metadata": {},
   "outputs": [
    {
     "name": "stdout",
     "output_type": "stream",
     "text": [
      "{} {}\n"
     ]
    }
   ],
   "source": [
    "dc1={}\n",
    "dc2=dict()\n",
    "print(dc1,dc2)"
   ]
  },
  {
   "cell_type": "code",
   "execution_count": 152,
   "id": "8b295d2d-9b32-409a-9660-2770bc3fcb84",
   "metadata": {},
   "outputs": [
    {
     "name": "stdout",
     "output_type": "stream",
     "text": [
      "{'John': 10, 'Denise': 20, 'David': 30}\n"
     ]
    }
   ],
   "source": [
    "li1 = ['John', 'Denise', 'David']\n",
    "li2 = [10, 20, 30]\n",
    "dc={}\n",
    "for i in range(len(li1)):\n",
    "    dc.update({li1[i]:li2[i]})\n",
    "print(dc)\n",
    "\n",
    "# Another way\n",
    "# dc = dict(zip(li1, li2))\n",
    "# print(dc)\n",
    "\n",
    "# Another way\n",
    "dc = {}\n",
    "for i in range(len(li1)):\n",
    "    dc[li1[i]] = li2[i]\n",
    "print(dc)"
   ]
  },
  {
   "cell_type": "code",
   "execution_count": 153,
   "id": "ab072773-9355-40f7-b156-7b60b05a6c1a",
   "metadata": {},
   "outputs": [
    {
     "name": "stdout",
     "output_type": "stream",
     "text": [
      "[1700, 1650, 3800, 1000]\n"
     ]
    }
   ],
   "source": [
    "dc={\"y\":120, \"w\": 1100, \"m\": 190, \"n\": 1050, \"l\": 3200, \"j\": 400}\n",
    "li=[]\n",
    "for i in dc.values():\n",
    "    if i>200:\n",
    "        li.append(i+600)\n",
    "print(li)"
   ]
  },
  {
   "cell_type": "code",
   "execution_count": 154,
   "id": "6ee5a2d5-5366-4a74-9b9c-68328e30f739",
   "metadata": {},
   "outputs": [
    {
     "name": "stdout",
     "output_type": "stream",
     "text": [
      "{'John': 10, 'Denise': 20, 'David': 30}\n",
      "{'David': 30, 'Emma': 12, 'Finley': 19}\n",
      "{'John': 10, 'Denise': 20, 'David': 30, 'Emma': 12, 'Finley': 19}\n"
     ]
    }
   ],
   "source": [
    "names1={'John':10,'Denise':20,'David':30}\n",
    "print(names1)\n",
    "names2={'David':30,'Emma':12,'Finley':19}\n",
    "print(names2)\n",
    "names1.update(names2)\n",
    "print(names1)"
   ]
  },
  {
   "cell_type": "code",
   "execution_count": 157,
   "id": "68d838c7-05f7-4fd0-8fc9-04d8afdb09ce",
   "metadata": {},
   "outputs": [
    {
     "name": "stdout",
     "output_type": "stream",
     "text": [
      "Exist\n"
     ]
    }
   ],
   "source": [
    "names = {'John': 10, 'Denise': 20, 'David': 30, 'Emma': 12, 'Kelly': 19, 'Finley': 30}\n",
    "if 'John' in names.keys():\n",
    "    print(\"Exist\")\n",
    "else:\n",
    "    print(\"Does not Exist\")"
   ]
  },
  {
   "cell_type": "code",
   "execution_count": 161,
   "id": "bc51e1d6-b4c6-450e-a370-5367a70ef885",
   "metadata": {},
   "outputs": [
    {
     "name": "stdout",
     "output_type": "stream",
     "text": [
      "{'name': 'Danise', 'age': 30, 'salary': 90000, 'location': 'Sydney'}\n"
     ]
    }
   ],
   "source": [
    "details = {\n",
    "    \"name\": \"Danise\",\n",
    "    \"age\": 30,\n",
    "    \"salary\": 90000,\n",
    "    \"location\": \"Adelaide\"\n",
    "}\n",
    "details['location']=\"Sydney\"\n",
    "print(details)"
   ]
  },
  {
   "cell_type": "code",
   "execution_count": 163,
   "id": "7cb72a3e-2402-4936-8412-f209e6a72e29",
   "metadata": {},
   "outputs": [
    {
     "name": "stdout",
     "output_type": "stream",
     "text": [
      "{'name': 'Danise', 'age': 30}\n"
     ]
    }
   ],
   "source": [
    "details = {\n",
    "    \"name\": \"Danise\",\n",
    "    \"age\": 30,\n",
    "    \"salary\": 90000,\n",
    "    \"location\": \"Adelaide\"\n",
    "}\n",
    "details.pop(\"salary\")\n",
    "details.pop(\"location\")\n",
    "print(details)"
   ]
  },
  {
   "cell_type": "code",
   "execution_count": 178,
   "id": "8d17f306-802e-4aea-9bc5-f4414b9713b9",
   "metadata": {},
   "outputs": [
    {
     "name": "stdout",
     "output_type": "stream",
     "text": [
      "{'emp_1': {'name': 'John', 'salary': 102000}, 'emp_2': {'name': 'Emma', 'salary': 93000}, 'emp_3': {'name': 'Danise', 'salary': 120000}}\n"
     ]
    }
   ],
   "source": [
    "details = {\n",
    "    'emp_1': {'name': 'John', 'salary': 90000},\n",
    "    'emp_2': {'name': 'Emma', 'salary': 93000},\n",
    "    'emp_3': {'name': 'Danise', 'salary': 120000}\n",
    "}\n",
    "for i in details.values():\n",
    "    if i['name']==\"John\":\n",
    "        i['salary']=102000\n",
    "print(details)"
   ]
  }
 ],
 "metadata": {
  "kernelspec": {
   "display_name": "Python [conda env:base] *",
   "language": "python",
   "name": "conda-base-py"
  },
  "language_info": {
   "codemirror_mode": {
    "name": "ipython",
    "version": 3
   },
   "file_extension": ".py",
   "mimetype": "text/x-python",
   "name": "python",
   "nbconvert_exporter": "python",
   "pygments_lexer": "ipython3",
   "version": "3.12.7"
  }
 },
 "nbformat": 4,
 "nbformat_minor": 5
}
