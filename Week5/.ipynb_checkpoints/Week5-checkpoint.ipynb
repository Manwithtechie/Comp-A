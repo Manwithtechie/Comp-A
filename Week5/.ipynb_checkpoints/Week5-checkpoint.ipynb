{
 "cells": [
  {
   "cell_type": "code",
   "execution_count": 1,
   "id": "40208783-5858-43cb-9391-1584bb3f700f",
   "metadata": {},
   "outputs": [
    {
     "data": {
      "text/plain": [
       "37"
      ]
     },
     "execution_count": 1,
     "metadata": {},
     "output_type": "execute_result"
    }
   ],
   "source": [
    "sentence=\"I have used Python built-in functions\"\n",
    "len(sentence)"
   ]
  },
  {
   "cell_type": "code",
   "execution_count": 2,
   "id": "3e4650b5-1371-4028-ab51-2ccf05ff7e5f",
   "metadata": {},
   "outputs": [
    {
     "name": "stdout",
     "output_type": "stream",
     "text": [
      "Hello!\n"
     ]
    }
   ],
   "source": [
    "def greet_user():\n",
    "    print(\"Hello!\")\n",
    "greet_user()"
   ]
  },
  {
   "cell_type": "code",
   "execution_count": 6,
   "id": "150ec29f-745c-4720-ad79-1c5b19eb9e83",
   "metadata": {},
   "outputs": [
    {
     "name": "stdout",
     "output_type": "stream",
     "text": [
      "Hii! Manvith\n"
     ]
    }
   ],
   "source": [
    "def greet_user(username):\n",
    "    print(\"Hii!\",username)\n",
    "greet_user('Manvith')"
   ]
  },
  {
   "cell_type": "code",
   "execution_count": 10,
   "id": "ee6c3591-6070-441f-9a78-8532d5612dc0",
   "metadata": {},
   "outputs": [
    {
     "name": "stdout",
     "output_type": "stream",
     "text": [
      "Hii! Manvith\n",
      "Hii! Yukti\n",
      "Hii! YuktiHii! Yukti\n"
     ]
    }
   ],
   "source": [
    "def greet_user(username):\n",
    "    return \"Hii! \" + username\n",
    "greeting=greet_user('Yukti')\n",
    "print(greet_user('Manvith'))\n",
    "print(greeting)\n",
    "print(greeting*2)"
   ]
  },
  {
   "cell_type": "code",
   "execution_count": 14,
   "id": "53f67ac0-ffbd-4da2-a16c-4a0688d72dff",
   "metadata": {},
   "outputs": [
    {
     "name": "stdin",
     "output_type": "stream",
     "text": [
      "Enter the first Number:  23\n",
      "Enter the second Number:  45\n"
     ]
    },
    {
     "name": "stdout",
     "output_type": "stream",
     "text": [
      "45\n"
     ]
    },
    {
     "data": {
      "text/plain": [
       "5"
      ]
     },
     "execution_count": 14,
     "metadata": {},
     "output_type": "execute_result"
    }
   ],
   "source": [
    "num1=int(input(\"Enter the first Number: \"))\n",
    "num2=int(input(\"Enter the second Number: \"))\n",
    "def greater_number(a,b):\n",
    "    if a>b:\n",
    "        return a\n",
    "    elif b>a:\n",
    "        return b\n",
    "    else:\n",
    "        return -1\n",
    "print(greater_number(num1,num2))\n",
    "greater_number(1,5)"
   ]
  },
  {
   "cell_type": "code",
   "execution_count": 15,
   "id": "4de0ee40-8555-4543-b0c3-31e4d4725d9c",
   "metadata": {},
   "outputs": [
    {
     "name": "stdout",
     "output_type": "stream",
     "text": [
      "8.0\n"
     ]
    }
   ],
   "source": [
    "from math import pow\n",
    "print(pow(2,3))"
   ]
  },
  {
   "cell_type": "code",
   "execution_count": 17,
   "id": "96389fad-b149-42a8-9e31-695b90fbce17",
   "metadata": {},
   "outputs": [
    {
     "name": "stdout",
     "output_type": "stream",
     "text": [
      "Name: Manvith\n",
      "Age: 21\n"
     ]
    }
   ],
   "source": [
    "def person_details(name,age):\n",
    "    print('Name:',name)\n",
    "    print('Age:',age)\n",
    "person_details('Manvith',21)"
   ]
  },
  {
   "cell_type": "code",
   "execution_count": 19,
   "id": "67d8ed4d-dc51-4917-a32a-317946461c0c",
   "metadata": {},
   "outputs": [
    {
     "name": "stdout",
     "output_type": "stream",
     "text": [
      "MANVITH\n"
     ]
    }
   ],
   "source": [
    "def uppercase_converter(str1):\n",
    "    return str1.upper()\n",
    "s1=\"manvith\"\n",
    "s2=uppercase_converter(s1)\n",
    "print(s2)"
   ]
  },
  {
   "cell_type": "code",
   "execution_count": 23,
   "id": "173a2cad-2642-4de6-9ec6-d954664cd66e",
   "metadata": {},
   "outputs": [
    {
     "name": "stdout",
     "output_type": "stream",
     "text": [
      "24.9\n"
     ]
    }
   ],
   "source": [
    "def calculate_total(num1,num2):\n",
    "    total=num1+num2\n",
    "    return total\n",
    "print(calculate_total(24,0.9))"
   ]
  },
  {
   "cell_type": "code",
   "execution_count": 25,
   "id": "1af0dfe9-e7d4-40e5-87c7-3581c82cb945",
   "metadata": {},
   "outputs": [
    {
     "name": "stdout",
     "output_type": "stream",
     "text": [
      "9\n",
      "10\n"
     ]
    }
   ],
   "source": [
    "def calculate_max(num1,num2):\n",
    "    if num1>num2:\n",
    "        return num1\n",
    "    return num2\n",
    "\n",
    "print(calculate_max(9,8))\n",
    "max_num=calculate_max(10,6.2)\n",
    "print(max_num)"
   ]
  },
  {
   "cell_type": "code",
   "execution_count": 26,
   "id": "481c0848-36ae-4974-864f-56edc8f583ef",
   "metadata": {},
   "outputs": [
    {
     "name": "stdout",
     "output_type": "stream",
     "text": [
      "None\n"
     ]
    }
   ],
   "source": [
    "def function_none():\n",
    "    pass\n",
    "value=function_none()\n",
    "print(value)"
   ]
  },
  {
   "cell_type": "code",
   "execution_count": 30,
   "id": "b58297e2-6424-4ee7-8250-f4eb7aef4758",
   "metadata": {},
   "outputs": [
    {
     "name": "stdout",
     "output_type": "stream",
     "text": [
      "9\n",
      "3\n",
      "18\n",
      "2.0\n"
     ]
    }
   ],
   "source": [
    "def perform_calculations(num1,num2):\n",
    "    return num1+num2,num1-num2,num1*num2,num1/num2\n",
    "sum_nums,diff_nums,pro_nums,quo_nums=perform_calculations(6,3)\n",
    "print(sum_nums)\n",
    "print(diff_nums)\n",
    "print(pro_nums)\n",
    "print(quo_nums)"
   ]
  },
  {
   "cell_type": "code",
   "execution_count": 32,
   "id": "d91008fe-d96a-4531-8157-2364ad1dfbd5",
   "metadata": {},
   "outputs": [
    {
     "name": "stdout",
     "output_type": "stream",
     "text": [
      "5\n"
     ]
    }
   ],
   "source": [
    "def min_list_value(numbers):\n",
    "    mini=numbers[0]\n",
    "    for i in numbers:\n",
    "        if i<mini:\n",
    "            mini=i\n",
    "        i+=1\n",
    "    return mini\n",
    "ls=[6,11,5,7,15]\n",
    "min_value=min_list_value(ls)\n",
    "print(min_value)"
   ]
  },
  {
   "cell_type": "code",
   "execution_count": 34,
   "id": "9a71659a-d898-4674-a2e2-0f50b3ec24a4",
   "metadata": {},
   "outputs": [
    {
     "name": "stdout",
     "output_type": "stream",
     "text": [
      "2\n"
     ]
    }
   ],
   "source": [
    "def count_adelaide(customers):\n",
    "    count=0\n",
    "    for customer in customers:\n",
    "        if customer['postcode']>=5000 and customer['postcode']<6000:\n",
    "            count+=1\n",
    "    return count\n",
    "\n",
    "customers=[{'name':\"Manvith\",'age':22,'postcode':5108},\n",
    "           {'name':'Yukti','age':25,'postcode':5678}]\n",
    "print(count_adelaide(customers))"
   ]
  },
  {
   "cell_type": "code",
   "execution_count": 36,
   "id": "d1e80b43-7081-4190-b957-11590e9496f3",
   "metadata": {},
   "outputs": [
    {
     "name": "stdout",
     "output_type": "stream",
     "text": [
      "10\n",
      "10\n"
     ]
    },
    {
     "ename": "NameError",
     "evalue": "name 'x' is not defined",
     "output_type": "error",
     "traceback": [
      "\u001b[0;31m---------------------------------------------------------------------------\u001b[0m",
      "\u001b[0;31mNameError\u001b[0m                                 Traceback (most recent call last)",
      "Cell \u001b[0;32mIn[36], line 9\u001b[0m\n\u001b[1;32m      7\u001b[0m     inner_func()\n\u001b[1;32m      8\u001b[0m function_name()\n\u001b[0;32m----> 9\u001b[0m \u001b[38;5;28mprint\u001b[39m(x)\n",
      "\u001b[0;31mNameError\u001b[0m: name 'x' is not defined"
     ]
    }
   ],
   "source": [
    "# Local variable example\n",
    "def function_name():\n",
    "    x=10\n",
    "    print(x) #Yes\n",
    "    def inner_func():\n",
    "        print(x) #Yes\n",
    "    inner_func()\n",
    "function_name()\n",
    "print(x) #No"
   ]
  },
  {
   "cell_type": "code",
   "execution_count": 38,
   "id": "845abeac-0132-4f4d-9918-c8a089a62291",
   "metadata": {},
   "outputs": [
    {
     "name": "stdout",
     "output_type": "stream",
     "text": [
      "9\n",
      "9\n"
     ]
    }
   ],
   "source": [
    "# Global variable exxample\n",
    "x=9\n",
    "def function_name():\n",
    "    print(x) #Yes\n",
    "function_name()\n",
    "print(x) #Yes"
   ]
  },
  {
   "cell_type": "code",
   "execution_count": 39,
   "id": "845d8582-ecb0-4c0c-be3c-1ca8acf269ce",
   "metadata": {},
   "outputs": [
    {
     "name": "stdout",
     "output_type": "stream",
     "text": [
      "18\n",
      "45\n"
     ]
    }
   ],
   "source": [
    "# Same variable exxample\n",
    "x=45\n",
    "def function_name():\n",
    "    x=18\n",
    "    print(x) #local\n",
    "function_name()\n",
    "print(x) #global"
   ]
  },
  {
   "cell_type": "code",
   "execution_count": 43,
   "id": "89e5d84b-1591-41c5-bd2a-d93fd4160629",
   "metadata": {},
   "outputs": [
    {
     "name": "stdout",
     "output_type": "stream",
     "text": [
      "11\n"
     ]
    }
   ],
   "source": [
    "# global keyword example\n",
    "x=9\n",
    "def function_name():\n",
    "   global x\n",
    "   x=11\n",
    "function_name()\n",
    "print(x)"
   ]
  },
  {
   "cell_type": "code",
   "execution_count": 44,
   "id": "57cc38fa-df27-49f8-b2b2-eda85ed5003d",
   "metadata": {},
   "outputs": [
    {
     "name": "stdout",
     "output_type": "stream",
     "text": [
      "outside mystery, num= 1\n",
      "inside mystery, num= 2\n",
      "outside mystery, num= 1\n"
     ]
    }
   ],
   "source": [
    "def mystery(num):\n",
    "    num=num+1\n",
    "    print('inside mystery, num=',num)\n",
    "\n",
    "num=1\n",
    "print('outside mystery, num=',num)\n",
    "mystery(num)\n",
    "print('outside mystery, num=',num)"
   ]
  },
  {
   "cell_type": "code",
   "execution_count": 45,
   "id": "e079c071-ce57-41ac-bc5a-1411009d1451",
   "metadata": {},
   "outputs": [
    {
     "name": "stdout",
     "output_type": "stream",
     "text": [
      "outside mystery, list= [1, 3, 5, 7, 9]\n",
      "inside mystery,list= [1, 3, 5, 7, 9, 0]\n",
      "outside mystery, list= [1, 3, 5, 7, 9, 0]\n"
     ]
    }
   ],
   "source": [
    "def mystery_list(ls):\n",
    "    ls.append(0)\n",
    "    print('inside mystery,list=',ls)\n",
    "\n",
    "ls=[1,3,5,7,9]\n",
    "print('outside mystery, list=', ls)\n",
    "mystery_list(ls)\n",
    "print('outside mystery, list=', ls)"
   ]
  },
  {
   "cell_type": "code",
   "execution_count": 46,
   "id": "fbe77c99-0fd9-439a-9fb5-ed2f5fa774c8",
   "metadata": {},
   "outputs": [
    {
     "name": "stdout",
     "output_type": "stream",
     "text": [
      "18 45\n",
      "[2, 4, 6] [1, 3, 5]\n"
     ]
    }
   ],
   "source": [
    "def swap(num1,num2):\n",
    "    temp=num1\n",
    "    num1=num2\n",
    "    num2=temp\n",
    "\n",
    "def swap_list(ls1,ls2):\n",
    "    temp=ls1\n",
    "    ls1=ls2\n",
    "    ls2=temp\n",
    "num1=18\n",
    "num2=45\n",
    "swap(num1,num2)\n",
    "print(num1,num2)\n",
    "\n",
    "ls1=[2,4,6]\n",
    "ls2=[1,3,5]\n",
    "swap_list(ls1,ls2)\n",
    "print(ls1,ls2)"
   ]
  },
  {
   "cell_type": "code",
   "execution_count": 48,
   "id": "965966e5-da1e-4e6d-985f-18ef8cf4aa0f",
   "metadata": {},
   "outputs": [
    {
     "name": "stdout",
     "output_type": "stream",
     "text": [
      "My name is Manvith and my id is a1983706.\n"
     ]
    }
   ],
   "source": [
    "# Positional Arguments\n",
    "def user_info(username,userid):\n",
    "    print(f\"My name is {username} and my id is {userid}.\")\n",
    "user_info(\"Manvith\",\"a1983706\")\n",
    "# user_info(\"Yukti\") # Error coz only one argument is passed\n",
    "# user_info(\"a1983706\",\"Manvith\") not an error but order matters"
   ]
  },
  {
   "cell_type": "code",
   "execution_count": 50,
   "id": "0047a1f0-9650-4720-914e-94190934849e",
   "metadata": {},
   "outputs": [
    {
     "name": "stdout",
     "output_type": "stream",
     "text": [
      "Hii Yukti..\n",
      "Hii Manvith.\n"
     ]
    }
   ],
   "source": [
    "# Default Value\n",
    "def greet_user(username=\"Manvith\"):\n",
    "    print(f\"Hii {username}.\")\n",
    "greet_user(\"Yukti.\")\n",
    "greet_user()"
   ]
  },
  {
   "cell_type": "code",
   "execution_count": 51,
   "id": "fc42cd7c-d004-401e-9931-9ed9f9c61d79",
   "metadata": {},
   "outputs": [
    {
     "name": "stdout",
     "output_type": "stream",
     "text": [
      "My name is Manvith. My id is a1983706\n",
      "My name is Yukti. My id is No ID\n"
     ]
    }
   ],
   "source": [
    "def user_info(username,userid='No ID'):\n",
    "    print(f\"My name is {username}. My id is {userid}\")\n",
    "\n",
    "user_info(\"Manvith\",\"a1983706\")\n",
    "user_info(\"Yukti\")"
   ]
  },
  {
   "cell_type": "markdown",
   "id": "7040c384-b249-4bbe-b25b-f6cd84861b3a",
   "metadata": {},
   "source": [
    "### Note\n",
    "Defining default arguments before positional arguments throws error."
   ]
  },
  {
   "cell_type": "code",
   "execution_count": 52,
   "id": "bd213696-1d71-40e0-a9e0-a5538686da0f",
   "metadata": {},
   "outputs": [],
   "source": [
    "import csv\n",
    "def add_reservation(name,food_preference='none'):\n",
    "    with open('reservation.csv','a') as file:\n",
    "        writer=csv.writer(file)\n",
    "        writer.writerow([name,food_preference])\n",
    "add_reservation(name=\"Manvith\")\n",
    "add_reservation(name=\"Yukti\",food_preference=\"Non-vegetarian\")"
   ]
  },
  {
   "cell_type": "code",
   "execution_count": 55,
   "id": "a8f1bfcc-7914-4a2b-b903-a68a14b66c63",
   "metadata": {},
   "outputs": [
    {
     "name": "stdout",
     "output_type": "stream",
     "text": [
      "privileged user Manvith Vishwanatham!\n",
      "Your login type is: general user\n",
      "Welcome to the user's dashboard\n",
      "Hello Manvith Vishwanatham!\n",
      "Your login type is: privileged user\n",
      "Welcome to the user's dashboard\n",
      "Hello Manvith Vishwanatham!\n",
      "Your login type is: privileged user\n",
      "Welcome to the user's dashboard\n"
     ]
    }
   ],
   "source": [
    "def construct_login_greeting(fname,lname,message=\"Hello\",login_type=\"general user\", detailed_message=\"Welcome to the user's dashboard\"):\n",
    "    return message+\" \"+fname+\" \"+lname+\"!\"+\"\\n\"+\"Your login type is: \"+login_type+\"\\n\"+detailed_message\n",
    "print(construct_login_greeting(\"Manvith\",\"Vishwanatham\",\"privileged user\"))\n",
    "print(construct_login_greeting(\"Manvith\",\"Vishwanatham\",login_type=\"privileged user\"))\n",
    "print(construct_login_greeting(login_type=\"privileged user\",fname=\"Manvith\",lname=\"Vishwanatham\"))"
   ]
  },
  {
   "cell_type": "markdown",
   "id": "9df704e4-8d17-42b7-aac8-75f4508a3047",
   "metadata": {},
   "source": [
    "### Note\n",
    "\n",
    "keyword arguments should be after positional arguments."
   ]
  },
  {
   "cell_type": "code",
   "execution_count": 58,
   "id": "8e71eca3-91b9-44d3-b406-b18101cfd662",
   "metadata": {},
   "outputs": [
    {
     "name": "stdout",
     "output_type": "stream",
     "text": [
      "Data Science : Welcome Manvith from Coles-analysis.\n"
     ]
    }
   ],
   "source": [
    "def greet(name,project,group=None):\n",
    "    print(group,\": Welcome\",name,\"from\",project)\n",
    "\n",
    "# greet(name=\"Manvith\",\"Coles-analysis\") # Error\n",
    "greet(\"Manvith\",group=\"Data Science\",project=\"Coles-analysis.\")"
   ]
  },
  {
   "cell_type": "code",
   "execution_count": 61,
   "id": "490a33e2-7b58-46a5-a8ae-10570fb3a1dc",
   "metadata": {},
   "outputs": [
    {
     "name": "stdout",
     "output_type": "stream",
     "text": [
      "4\n",
      "-2\n",
      "-2\n",
      "-3\n",
      "6\n"
     ]
    }
   ],
   "source": [
    "def calculate_numbers(x,y,operation='add'):\n",
    "    if operation=='add':\n",
    "        return x+y\n",
    "    elif operation == \"subtract\":\n",
    "        return x-y\n",
    "print(calculate_numbers(x=1,y=3))\n",
    "print(calculate_numbers(1,3,\"subtract\"))\n",
    "# print(calculate_numbers(y=3,x=1,\"subtract\")) # Error\n",
    "print(calculate_numbers(y=3,x=1,operation=\"subtract\"))\n",
    "print(calculate_numbers(operation=\"subtract\",y=5,x=2))\n",
    "print(calculate_numbers(y=1,x=5))"
   ]
  },
  {
   "cell_type": "code",
   "execution_count": 62,
   "id": "8d8b5115-eb4a-4f3d-9845-d35e9055dfcf",
   "metadata": {},
   "outputs": [
    {
     "name": "stdout",
     "output_type": "stream",
     "text": [
      "('Manvith', 'Yukti', 'Madhu', 'Venkat', 'Kartik')\n",
      "<class 'tuple'>\n"
     ]
    }
   ],
   "source": [
    "def construct_login_greeting(*args):\n",
    "    print(args)\n",
    "    print(type(args))\n",
    "\n",
    "construct_login_greeting(\"Manvith\",\"Yukti\",\"Madhu\",\"Venkat\",\"Kartik\")"
   ]
  },
  {
   "cell_type": "code",
   "execution_count": 63,
   "id": "295a05ef-6633-498c-941d-e14d035dc285",
   "metadata": {},
   "outputs": [
    {
     "name": "stdout",
     "output_type": "stream",
     "text": [
      "6\n",
      "15\n"
     ]
    }
   ],
   "source": [
    "def sum_vals(*numbers):\n",
    "    total=0\n",
    "    for num in numbers:\n",
    "        total+=num\n",
    "    return total\n",
    "print(sum_vals(1,2,3))\n",
    "print(sum_vals(1,2,3,4,5))"
   ]
  },
  {
   "cell_type": "code",
   "execution_count": 65,
   "id": "ba484a9a-a8a3-4828-b389-b43dafd5c5c6",
   "metadata": {},
   "outputs": [
    {
     "name": "stdout",
     "output_type": "stream",
     "text": [
      "Manvith\n",
      "23\n",
      "18\n",
      "Yukti\n",
      "20\n",
      "40\n",
      "60\n",
      "90\n",
      "120\n"
     ]
    }
   ],
   "source": [
    "def print_values(*args):\n",
    "    for value in args:\n",
    "        print(value)\n",
    "\n",
    "print_values(\"Manvith\",23,18,\"Yukti\")\n",
    "print_values(20,40,60)\n",
    "print_values(90,120)"
   ]
  },
  {
   "cell_type": "code",
   "execution_count": 66,
   "id": "62d85df0-2489-4f72-8452-3133d19bcd52",
   "metadata": {},
   "outputs": [
    {
     "name": "stdout",
     "output_type": "stream",
     "text": [
      "36\n",
      "0\n"
     ]
    }
   ],
   "source": [
    "def addition(a,b,*args,option=True):\n",
    "    result=0\n",
    "    if option:\n",
    "        for i in args:\n",
    "            result+=i\n",
    "        return a+b+result\n",
    "    else:\n",
    "        return result\n",
    "\n",
    "print(addition(1,4,12,19))\n",
    "print(addition(1,4,12,19,option=False))"
   ]
  },
  {
   "cell_type": "code",
   "execution_count": 68,
   "id": "0cdd03de-0935-4caf-b672-7ceb9c84d08b",
   "metadata": {},
   "outputs": [
    {
     "name": "stdout",
     "output_type": "stream",
     "text": [
      "{'fname1': 'Manvith', 'fname2': 'Yukti'}\n",
      "<class 'dict'>\n"
     ]
    }
   ],
   "source": [
    "def construct_login_greeting(**kargs):\n",
    "    print(kargs)\n",
    "    print(type(kargs))\n",
    "\n",
    "construct_login_greeting(fname1=\"Manvith\",fname2=\"Yukti\")"
   ]
  },
  {
   "cell_type": "code",
   "execution_count": 69,
   "id": "65c01b53-6cf8-4e23-aaa3-1243649c24be",
   "metadata": {},
   "outputs": [
    {
     "name": "stdout",
     "output_type": "stream",
     "text": [
      "Manvith is in Adelaide\n",
      "Yukti is in Adelaide\n"
     ]
    }
   ],
   "source": [
    "def isInAdelaide(**customer):\n",
    "    sum=0\n",
    "    if customer['postcode']>=5000 and customer['postcode']<6000:\n",
    "        return True\n",
    "\n",
    "if isInAdelaide(name=\"Manvith\",postcode=5108):\n",
    "    print(\"Manvith is in Adelaide\")\n",
    "if isInAdelaide(name=\"Yukti\",postcode=5200,age=52):\n",
    "    print(\"Yukti is in Adelaide\")"
   ]
  },
  {
   "cell_type": "code",
   "execution_count": 73,
   "id": "7256056b-7a13-48d7-8715-c248f72a936b",
   "metadata": {},
   "outputs": [
    {
     "name": "stdout",
     "output_type": "stream",
     "text": [
      "{'seafood': 1, 'chicken': 2, 'vegetarian': 2, 'unspecified': 0}\n"
     ]
    }
   ],
   "source": [
    "import csv\n",
    "\n",
    "def meal_counter():\n",
    "    with open('reservation.csv') as file:\n",
    "        reader=csv.DictReader(file)\n",
    "        meals={'seafood':0,'chicken':0,'vegetarian':0,'unspecified':0}\n",
    "        for row in reader:\n",
    "            if row['food_preference']=='seafood':\n",
    "                meals['seafood']+=1\n",
    "            elif row['food_preference']=='chicken':\n",
    "                meals['chicken']+=1\n",
    "            elif row['food_preference']=='vegetarian':\n",
    "                meals['vegetarian']+=1\n",
    "            else:\n",
    "                meals['unspecified']+=1\n",
    "    return (meals)\n",
    "\n",
    "meal_count=meal_counter()\n",
    "print(meal_count)"
   ]
  },
  {
   "cell_type": "code",
   "execution_count": 76,
   "id": "2b9d4d6a-fa0d-4fc6-a4fa-3c5066052a5d",
   "metadata": {},
   "outputs": [
    {
     "data": {
      "text/plain": [
       "512"
      ]
     },
     "execution_count": 76,
     "metadata": {},
     "output_type": "execute_result"
    }
   ],
   "source": [
    "def calculate_cube(num):\n",
    "    return num*num*num\n",
    "\n",
    "calculate_cube(8)"
   ]
  },
  {
   "cell_type": "code",
   "execution_count": 77,
   "id": "2a918077-bb63-4dcd-a06b-37524af6c564",
   "metadata": {},
   "outputs": [
    {
     "name": "stdout",
     "output_type": "stream",
     "text": [
      "<function <lambda> at 0x13b8d7e20>\n"
     ]
    }
   ],
   "source": [
    "print(lambda num: num*num*num)"
   ]
  },
  {
   "cell_type": "code",
   "execution_count": 79,
   "id": "d9437d27-2dab-49ee-bb70-47c3d7135dc5",
   "metadata": {},
   "outputs": [
    {
     "name": "stdout",
     "output_type": "stream",
     "text": [
      "512\n"
     ]
    }
   ],
   "source": [
    "print((lambda num: num*num*num)(8))"
   ]
  },
  {
   "cell_type": "code",
   "execution_count": 80,
   "id": "ce2948d2-b98a-46ed-af5b-a41001207efc",
   "metadata": {},
   "outputs": [
    {
     "name": "stdout",
     "output_type": "stream",
     "text": [
      "512\n"
     ]
    }
   ],
   "source": [
    "lambda_cube=lambda num:num*num*num\n",
    "print(lambda_cube(8))"
   ]
  },
  {
   "cell_type": "code",
   "execution_count": 81,
   "id": "f808f86d-af24-459f-9540-4189c67f119b",
   "metadata": {},
   "outputs": [
    {
     "name": "stdout",
     "output_type": "stream",
     "text": [
      "5\n"
     ]
    }
   ],
   "source": [
    "total=lambda num1,num2:num1+num2\n",
    "print(total(1,4))"
   ]
  },
  {
   "cell_type": "code",
   "execution_count": 83,
   "id": "10de0c6a-39bf-4616-8d4e-12c2d24ca9e4",
   "metadata": {},
   "outputs": [
    {
     "name": "stdout",
     "output_type": "stream",
     "text": [
      "Hii Yukti and Manvith!\n"
     ]
    }
   ],
   "source": [
    "greeting=lambda str1,str2,str3:str1+str2+str3\n",
    "print(greeting(\"Hii \",\"Yukti and \",\"Manvith!\"))"
   ]
  },
  {
   "cell_type": "code",
   "execution_count": 84,
   "id": "1c468b6a-719f-40fb-beab-8f417297917f",
   "metadata": {},
   "outputs": [
    {
     "name": "stdout",
     "output_type": "stream",
     "text": [
      "9\n"
     ]
    }
   ],
   "source": [
    "max_value=lambda num1,num2: num1 if num1>num2 else num2\n",
    "print(max_value(8,9))"
   ]
  },
  {
   "cell_type": "code",
   "execution_count": 91,
   "id": "1a1331f3-b03f-47cc-8678-f4148d7858ac",
   "metadata": {},
   "outputs": [
    {
     "name": "stdout",
     "output_type": "stream",
     "text": [
      "5 is less than or equal to 5\n",
      "9 is greater than 5.\n"
     ]
    }
   ],
   "source": [
    "check_num=lambda x: f\"{x} is greater than 5.\" if x>5 else f\"{x} is less than or equal to 5\"\n",
    "print(check_num(5))\n",
    "print(check_num(9))"
   ]
  },
  {
   "cell_type": "markdown",
   "id": "be0c81a1-1fc0-4524-89ac-e3e4934e22f1",
   "metadata": {},
   "source": [
    "## Workshop 1"
   ]
  },
  {
   "cell_type": "code",
   "execution_count": 92,
   "id": "33ee3d5a-eb17-4ca5-b7b3-1338538a98db",
   "metadata": {},
   "outputs": [
    {
     "name": "stdout",
     "output_type": "stream",
     "text": [
      "209\n",
      "231\n",
      "253\n",
      "275\n",
      "297\n",
      "319\n",
      "341\n",
      "363\n",
      "385\n",
      "407\n",
      "429\n",
      "451\n",
      "473\n",
      "495\n"
     ]
    }
   ],
   "source": [
    "for i in range(200,500):\n",
    "    if i%11==0 and i%2!=0:\n",
    "        print(i)"
   ]
  },
  {
   "cell_type": "code",
   "execution_count": 93,
   "id": "9fddd465-e35b-44f0-8dac-43df57e7e070",
   "metadata": {},
   "outputs": [
    {
     "name": "stdout",
     "output_type": "stream",
     "text": [
      "Practice Questions of loops in python\n",
      "Practice Questions of loops in python\n",
      "\n",
      "Practice Questions of loops in python\n",
      "Practice Questions of loops in python\n",
      "\n",
      "Practice Questions of loops in python\n",
      "Practice Questions of loops in python\n",
      "\n"
     ]
    }
   ],
   "source": [
    "for x in range(3):\n",
    "    for y in range(2):\n",
    "        print(\"Practice Questions of loops in python\")\n",
    "    print()"
   ]
  },
  {
   "cell_type": "code",
   "execution_count": 94,
   "id": "d615ec8a-c673-4ff1-a07d-8840c347783e",
   "metadata": {},
   "outputs": [
    {
     "name": "stdout",
     "output_type": "stream",
     "text": [
      "10\n",
      "14\n",
      "18\n"
     ]
    }
   ],
   "source": [
    "for k in range(10,20,4):\n",
    "    print(k)"
   ]
  },
  {
   "cell_type": "code",
   "execution_count": 102,
   "id": "872cd7b7-547f-4678-a620-d8c2323470bf",
   "metadata": {},
   "outputs": [
    {
     "name": "stdout",
     "output_type": "stream",
     "text": [
      "True\n"
     ]
    }
   ],
   "source": [
    "dict1={'name':'Manvith','age':21}\n",
    "print('age' in dict1)"
   ]
  },
  {
   "cell_type": "code",
   "execution_count": 103,
   "id": "c33435a1-54b7-40c5-9876-d1d74aed772c",
   "metadata": {},
   "outputs": [
    {
     "name": "stdout",
     "output_type": "stream",
     "text": [
      "{'name': 'Manvith', 'age': 21}\n"
     ]
    }
   ],
   "source": [
    "dict1={'name':'Manvith','age':21,'num':21}\n",
    "unq_dict={}\n",
    "for k,v in dict1.items():\n",
    "    if v not in unq_dict.values():\n",
    "        unq_dict[k]=v\n",
    "print(unq_dict)"
   ]
  },
  {
   "cell_type": "code",
   "execution_count": 109,
   "id": "223f9ebb-eca3-4b22-b513-b0f72bdbec5f",
   "metadata": {},
   "outputs": [
    {
     "name": "stdout",
     "output_type": "stream",
     "text": [
      "The dictionary is not empty\n",
      "The dictionary is empty\n",
      "The dictionary is not empty\n"
     ]
    }
   ],
   "source": [
    "dict1={'a':10}\n",
    "if dict1==dict():\n",
    "    print(\"The dictionary is empty\")\n",
    "else:\n",
    "    print(\"The dictionary is not empty\")\n",
    "\n",
    "# OR\n",
    "dict2={}\n",
    "if not dict2:\n",
    "    print(\"The dictionary is empty\")\n",
    "else:\n",
    "    print(\"The dictionary is not empty\")\n",
    "\n",
    "#OR\n",
    "\n",
    "dict3={'Yukti':\"Hii\"}\n",
    "if len(dict3)==0:\n",
    "    print(\"The dictionary is empty\")\n",
    "else:\n",
    "    print(\"The dictionary is not empty\")"
   ]
  },
  {
   "cell_type": "code",
   "execution_count": 113,
   "id": "324e402d-5e20-49cf-be06-1689bfefa900",
   "metadata": {},
   "outputs": [
    {
     "name": "stdout",
     "output_type": "stream",
     "text": [
      "{'x': 400, 'y': 400, 'm': 300, 'z': 400}\n"
     ]
    }
   ],
   "source": [
    "dict1={'x':100,'y':200,'m':300}\n",
    "dict2={'x':300,'y':200,'z':400}\n",
    "dict3={}\n",
    "for k,v in dict1.items():\n",
    "    dict3[k]=v\n",
    "for k,v in dict2.items():\n",
    "    if k in dict3:\n",
    "        dict3[k]+=v\n",
    "    else:\n",
    "        dict3[k]=v\n",
    "print(dict3) "
   ]
  },
  {
   "cell_type": "code",
   "execution_count": 118,
   "id": "2c84b4ff-9bb2-4dbe-90ee-2fdd6e9dc29d",
   "metadata": {},
   "outputs": [
    {
     "name": "stdout",
     "output_type": "stream",
     "text": [
      "Unique Values: {'S007', 'S002', 'S001', 'S009', 'S005'}\n"
     ]
    }
   ],
   "source": [
    "Data = [{\"V\":\"S001\"}, {\"V\": \"S002\"}, {\"VI\": \"S001\"}, {\"VI\": \"S005\"}, {\"VII\":\"S005\"}, {\"V\":\"S009\"},{\"VIII\":\"S007\"}]\n",
    "unq_dict=set()\n",
    "for dic in Data:\n",
    "    unq_dict.update(dic.values())\n",
    "print(f\"Unique Values: {unq_dict}\")"
   ]
  },
  {
   "cell_type": "code",
   "execution_count": 125,
   "id": "dc6abb2a-d5c1-4db4-855c-ca8e3752dc2a",
   "metadata": {},
   "outputs": [
    {
     "name": "stdout",
     "output_type": "stream",
     "text": [
      "mx\n",
      "my\n",
      "nx\n",
      "ny\n"
     ]
    }
   ],
   "source": [
    "data={'1':['m','n'],'2':['x','y']}\n",
    "for i in range(len(data['1'])):\n",
    "    for j in range(len(data['2'])):\n",
    "        print(data['1'][i]+data['2'][j])"
   ]
  },
  {
   "cell_type": "code",
   "execution_count": 127,
   "id": "0eb0740f-742c-4859-80cc-5d7000bcc446",
   "metadata": {},
   "outputs": [
    {
     "name": "stdout",
     "output_type": "stream",
     "text": [
      "hello\n",
      "hello\n",
      "hello\n",
      "hello\n",
      "hello\n",
      "hello\n",
      "hello\n",
      "hello\n",
      "hello\n",
      "hello\n"
     ]
    }
   ],
   "source": [
    "def greet():\n",
    "    print('hello')\n",
    "for i in range(10):\n",
    "    greet()"
   ]
  },
  {
   "cell_type": "code",
   "execution_count": 132,
   "id": "33e8ad2f-6789-465b-9693-4f3b8ab180cb",
   "metadata": {},
   "outputs": [
    {
     "name": "stdout",
     "output_type": "stream",
     "text": [
      "1\n",
      "2\n",
      "3\n",
      "4\n",
      "5\n",
      "6\n",
      "7\n",
      "8\n",
      "9\n",
      "10\n",
      "11\n",
      "12\n",
      "13\n",
      "14\n",
      "15\n",
      "16\n",
      "17\n",
      "18\n",
      "19\n",
      "20\n",
      "21\n",
      "22\n",
      "23\n",
      "24\n",
      "25\n",
      "26\n",
      "27\n",
      "28\n",
      "29\n",
      "30\n",
      "31\n",
      "32\n",
      "33\n",
      "34\n",
      "35\n",
      "36\n",
      "37\n",
      "38\n",
      "39\n",
      "40\n",
      "41\n",
      "42\n",
      "43\n",
      "44\n",
      "45\n",
      "46\n",
      "47\n",
      "48\n",
      "49\n",
      "50\n",
      "51\n",
      "52\n",
      "53\n",
      "54\n",
      "55\n",
      "56\n",
      "57\n",
      "58\n",
      "59\n",
      "60\n",
      "61\n",
      "62\n",
      "63\n",
      "64\n",
      "65\n",
      "66\n",
      "67\n",
      "68\n",
      "69\n",
      "70\n",
      "71\n",
      "72\n",
      "73\n",
      "74\n",
      "75\n",
      "76\n",
      "77\n",
      "78\n",
      "79\n",
      "80\n",
      "81\n",
      "82\n",
      "83\n",
      "84\n",
      "85\n",
      "86\n",
      "87\n",
      "88\n",
      "89\n",
      "90\n",
      "91\n",
      "92\n",
      "93\n",
      "94\n",
      "95\n",
      "96\n",
      "97\n",
      "98\n",
      "99\n",
      "100\n",
      "101\n",
      "102\n",
      "103\n",
      "104\n",
      "105\n",
      "106\n",
      "107\n",
      "108\n",
      "109\n",
      "110\n",
      "111\n",
      "112\n",
      "113\n",
      "114\n",
      "115\n",
      "116\n",
      "117\n",
      "118\n",
      "119\n",
      "120\n",
      "121\n",
      "122\n",
      "123\n",
      "124\n",
      "125\n",
      "126\n",
      "127\n",
      "128\n",
      "129\n",
      "130\n",
      "131\n",
      "132\n",
      "133\n",
      "134\n",
      "135\n",
      "136\n",
      "137\n",
      "138\n",
      "139\n",
      "140\n",
      "141\n",
      "142\n",
      "143\n",
      "144\n",
      "145\n",
      "146\n",
      "147\n",
      "148\n",
      "149\n",
      "150\n",
      "151\n",
      "152\n",
      "153\n",
      "154\n",
      "155\n",
      "156\n",
      "157\n",
      "158\n",
      "159\n",
      "160\n",
      "161\n",
      "162\n",
      "163\n",
      "164\n",
      "165\n",
      "166\n",
      "167\n",
      "168\n",
      "169\n",
      "170\n",
      "171\n",
      "172\n",
      "173\n",
      "174\n",
      "175\n",
      "176\n",
      "177\n",
      "178\n",
      "179\n",
      "180\n",
      "181\n",
      "182\n",
      "183\n",
      "184\n",
      "185\n",
      "186\n",
      "187\n",
      "188\n",
      "189\n",
      "190\n",
      "191\n",
      "192\n",
      "193\n",
      "194\n",
      "195\n",
      "196\n",
      "197\n",
      "198\n",
      "199\n",
      "200\n"
     ]
    }
   ],
   "source": [
    "def print_to_200():\n",
    "    for i in range(1,201):\n",
    "        print(i)\n",
    "print_to_200()"
   ]
  },
  {
   "cell_type": "code",
   "execution_count": 136,
   "id": "2479d9fb-6a98-48a8-b9be-650d723fb23b",
   "metadata": {},
   "outputs": [
    {
     "name": "stdout",
     "output_type": "stream",
     "text": [
      "26\n",
      "64\n",
      "1768\n",
      "1768\n"
     ]
    }
   ],
   "source": [
    "def add(x,y):\n",
    "    return x+y\n",
    "\n",
    "def mul(x,y):\n",
    "    return x*y\n",
    "\n",
    "print(add(12,14))\n",
    "print(mul(16,4))\n",
    "print(mul(mul(add(3,5),add(6,7)),add(8,9)))\n",
    "x1=add(3,5)\n",
    "x2=add(6,7)\n",
    "x3=add(8,9)\n",
    "y1=mul(x1,x2)\n",
    "y2=mul(y1,x3)\n",
    "print(y2)"
   ]
  },
  {
   "cell_type": "code",
   "execution_count": 137,
   "id": "c6111b01-0067-42a5-bf78-7620ba8fa233",
   "metadata": {},
   "outputs": [
    {
     "name": "stdout",
     "output_type": "stream",
     "text": [
      "0\n",
      "1\n",
      "2\n",
      "3\n",
      "---\n",
      "0\n",
      "1\n",
      "2\n",
      "3\n",
      "4\n",
      "5\n",
      "---\n"
     ]
    }
   ],
   "source": [
    "def print_to_n(n):\n",
    "    for i in range(0,n+1):\n",
    "        print(i)\n",
    "    print('---')\n",
    "\n",
    "print_to_n(3)\n",
    "print_to_n(5)"
   ]
  },
  {
   "cell_type": "code",
   "execution_count": 139,
   "id": "b15b7cb2-a46a-419e-845c-3a6e669bd7d1",
   "metadata": {},
   "outputs": [
    {
     "name": "stdout",
     "output_type": "stream",
     "text": [
      "10\n",
      "11\n",
      "12\n",
      "13\n",
      "14\n",
      "15\n",
      "16\n",
      "17\n",
      "18\n",
      "19\n",
      "20\n",
      "21\n",
      "22\n",
      "23\n",
      "24\n",
      "25\n",
      "26\n",
      "27\n",
      "28\n",
      "29\n",
      "30\n"
     ]
    }
   ],
   "source": [
    "def print_m_to_n(m,n):\n",
    "    for i in range(m,n+1):\n",
    "        print(i)\n",
    "print_m_to_n(10,30)"
   ]
  },
  {
   "cell_type": "code",
   "execution_count": 140,
   "id": "f48e4d76-15a6-4a42-8f27-444c41123354",
   "metadata": {},
   "outputs": [
    {
     "name": "stdout",
     "output_type": "stream",
     "text": [
      "8\n",
      "8\n"
     ]
    }
   ],
   "source": [
    "def add(x,y):\n",
    "    c=x+y\n",
    "    return c\n",
    "\n",
    "s=3+5\n",
    "print(s)\n",
    "\n",
    "s=add(3,5)\n",
    "print(s)"
   ]
  },
  {
   "cell_type": "code",
   "execution_count": 141,
   "id": "92ee2f56-fc76-4faf-b986-d17612644537",
   "metadata": {},
   "outputs": [
    {
     "name": "stdout",
     "output_type": "stream",
     "text": [
      "1.3333333333333333\n"
     ]
    }
   ],
   "source": [
    "def sub(x,y):\n",
    "    return x-y\n",
    "\n",
    "def div(x,y):\n",
    "    return x/y\n",
    "\n",
    "s=div(sub(6,2),sub(4,1))\n",
    "print(s)"
   ]
  },
  {
   "cell_type": "code",
   "execution_count": 142,
   "id": "6d101a24-1bf9-4349-8205-69f9f3219cc1",
   "metadata": {},
   "outputs": [
    {
     "name": "stdout",
     "output_type": "stream",
     "text": [
      "8\n",
      "14\n"
     ]
    }
   ],
   "source": [
    "def area(length,breadth):\n",
    "    return length*breadth\n",
    "\n",
    "def perimeter(length,breadth):\n",
    "    return 2*(length+breadth)\n",
    "\n",
    "print(area(2,4))\n",
    "print(perimeter(3,4))"
   ]
  },
  {
   "cell_type": "code",
   "execution_count": 143,
   "id": "389b9010-c389-4f8b-b192-5f7277617cb6",
   "metadata": {},
   "outputs": [
    {
     "name": "stdout",
     "output_type": "stream",
     "text": [
      "Able to vote.\n",
      "Not able to vote.\n"
     ]
    }
   ],
   "source": [
    "def eligible_to_vote(age):\n",
    "    if age>=18:\n",
    "        print(\"Able to vote.\")\n",
    "    else:\n",
    "        print(\"Not able to vote.\")\n",
    "\n",
    "eligible_to_vote(21)\n",
    "eligible_to_vote(17)"
   ]
  },
  {
   "cell_type": "code",
   "execution_count": 144,
   "id": "353145c4-d797-4298-a905-7e93c353bfe4",
   "metadata": {},
   "outputs": [
    {
     "name": "stdout",
     "output_type": "stream",
     "text": [
      "2 is even\n",
      "5 is odd\n"
     ]
    }
   ],
   "source": [
    "def is_even(num):\n",
    "    if num%2==0:\n",
    "        print(f\"{num} is even\")\n",
    "    else:\n",
    "        print(f\"{num} is odd\")\n",
    "\n",
    "is_even(2)\n",
    "is_even(5)"
   ]
  },
  {
   "cell_type": "code",
   "execution_count": 146,
   "id": "cc8959fe-80f7-48b8-bcc9-058774f9312f",
   "metadata": {},
   "outputs": [
    {
     "name": "stdout",
     "output_type": "stream",
     "text": [
      "3.0\n",
      "15\n",
      "5\n"
     ]
    }
   ],
   "source": [
    "def list_mean(ls):\n",
    "    mean=0\n",
    "    for i in ls:\n",
    "        mean+=i\n",
    "    return mean/len(ls)\n",
    "\n",
    "def list_sum(ls):\n",
    "    total=0\n",
    "    for i in ls:\n",
    "        total+=i\n",
    "    return total\n",
    "\n",
    "def list_max(ls):\n",
    "    maxi=ls[0]\n",
    "    for i in ls:\n",
    "        if i>maxi:\n",
    "            maxi=i\n",
    "    return maxi\n",
    "\n",
    "ls=[1,2,3,4,5]\n",
    "print(list_mean(ls))\n",
    "print(list_sum(ls))\n",
    "print(list_max(ls))"
   ]
  },
  {
   "cell_type": "code",
   "execution_count": 149,
   "id": "f59f0fa6-ddec-4b92-bed5-9931f3875f17",
   "metadata": {},
   "outputs": [
    {
     "name": "stdout",
     "output_type": "stream",
     "text": [
      "4\n",
      "3\n",
      "9\n",
      "9\n"
     ]
    }
   ],
   "source": [
    "def list_max_1(my_list):\n",
    "    maxi=my_list[0]\n",
    "    for i in my_list:\n",
    "        if i>maxi:\n",
    "            maxi=i\n",
    "    return maxi\n",
    "\n",
    "def list_max_2(data):\n",
    "    maxim=list_max_1(data[0])\n",
    "    for i in data:\n",
    "        if list_max_1(i)>maxim:\n",
    "            maxim=list_max_1(i)\n",
    "    return maxim\n",
    "\n",
    "print(list_max_2([[1,2],[3,4],[1,2]]))\n",
    "print(list_max_2([[1,2,3],[-1,1],[1,2]]))\n",
    "print(list_max_2([[5,7,9]]))\n",
    "print(list_max_2([[5],[7],[9]]))"
   ]
  },
  {
   "cell_type": "code",
   "execution_count": 151,
   "id": "aa514fbf-e9b6-4ebf-9eb0-8fdde4e17457",
   "metadata": {},
   "outputs": [
    {
     "name": "stdout",
     "output_type": "stream",
     "text": [
      "15\n"
     ]
    }
   ],
   "source": [
    "def outer_fun(x,y):\n",
    "    def inner_fun(m,n):\n",
    "        return m+n\n",
    "    return inner_fun(x,y)\n",
    "\n",
    "output=outer_fun(5,10)\n",
    "print(output)"
   ]
  },
  {
   "cell_type": "code",
   "execution_count": 157,
   "id": "bc34ce3b-4243-4f40-ad66-dc8751e19f8f",
   "metadata": {},
   "outputs": [
    {
     "name": "stdout",
     "output_type": "stream",
     "text": [
      "world\n",
      "hello\n",
      "hello\n"
     ]
    }
   ],
   "source": [
    "def f():\n",
    "    global y\n",
    "    print(y)\n",
    "    y='hello'\n",
    "    print(y)\n",
    "y='world'\n",
    "f()\n",
    "print(y)"
   ]
  },
  {
   "cell_type": "markdown",
   "id": "98949294-e171-4714-a8dc-dedd0ac96482",
   "metadata": {},
   "source": [
    "### Workshop 2"
   ]
  },
  {
   "cell_type": "code",
   "execution_count": 158,
   "id": "a6a5ffd2-f617-484b-a9fe-5a51eb48b603",
   "metadata": {},
   "outputs": [
    {
     "name": "stdout",
     "output_type": "stream",
     "text": [
      "Hi Manvith, you are 21 years old.\n"
     ]
    }
   ],
   "source": [
    "def person_details(name,age):\n",
    "    print(f\"Hi {name}, you are {age} years old.\")\n",
    "person_details(\"Manvith\",21)"
   ]
  },
  {
   "cell_type": "code",
   "execution_count": 159,
   "id": "b352a7f3-2178-4ec9-82d3-9df361d594f6",
   "metadata": {},
   "outputs": [
    {
     "name": "stdout",
     "output_type": "stream",
     "text": [
      "120\n"
     ]
    }
   ],
   "source": [
    "def factorial(num):\n",
    "    fact=1\n",
    "    for i in range(1,num+1):\n",
    "        fact*=i\n",
    "    return fact\n",
    "\n",
    "print(factorial(5))"
   ]
  },
  {
   "cell_type": "code",
   "execution_count": 161,
   "id": "add54d7e-bb1b-4643-9008-f3a8bbfd5033",
   "metadata": {},
   "outputs": [
    {
     "name": "stdout",
     "output_type": "stream",
     "text": [
      "No. of Upper case characters: 3\n",
      "No. of lower case characters: 15\n"
     ]
    }
   ],
   "source": [
    "str1=\"The quick Brow Fox\"\n",
    "def count_of_case(str1):\n",
    "    upper,lower=0,0\n",
    "    for i in str1:\n",
    "        if i.isupper():\n",
    "            upper+=1\n",
    "        else:\n",
    "            lower+=1\n",
    "    return upper,lower\n",
    "\n",
    "up,lo=count_of_case(str1)\n",
    "print(f\"No. of Upper case characters: {up}\")\n",
    "print(f\"No. of lower case characters: {lo}\")"
   ]
  },
  {
   "cell_type": "code",
   "execution_count": 162,
   "id": "fea73a5a-c05b-4729-b3f1-b65d9fa18113",
   "metadata": {},
   "outputs": [
    {
     "name": "stdout",
     "output_type": "stream",
     "text": [
      "(6, -2)\n"
     ]
    }
   ],
   "source": [
    "def calculation(num1,num2):\n",
    "    return num1+num2,num1-num2\n",
    "\n",
    "print(calculation(2,4))"
   ]
  },
  {
   "cell_type": "code",
   "execution_count": 163,
   "id": "256c116e-e3da-44ff-bce8-1ca1b9e9f333",
   "metadata": {},
   "outputs": [
    {
     "name": "stdout",
     "output_type": "stream",
     "text": [
      "10\n"
     ]
    }
   ],
   "source": [
    "def fun_outer(a,b):\n",
    "    def fun_inner():\n",
    "        return a+b\n",
    "    return fun_inner()+5\n",
    "print(fun_outer(2,3))"
   ]
  },
  {
   "cell_type": "code",
   "execution_count": 171,
   "id": "bf822ddf-d025-4966-a323-77e30cbe2961",
   "metadata": {},
   "outputs": [
    {
     "name": "stdout",
     "output_type": "stream",
     "text": [
      "55\n"
     ]
    }
   ],
   "source": [
    "def total(n):\n",
    "    if n>0:\n",
    "        return n+total(n-1)\n",
    "    else:\n",
    "        return 0\n",
    "result=total(10)\n",
    "print(result)"
   ]
  },
  {
   "cell_type": "code",
   "execution_count": 172,
   "id": "405b84b5-efd8-467b-af65-297053fdfb55",
   "metadata": {},
   "outputs": [
    {
     "name": "stdout",
     "output_type": "stream",
     "text": [
      "Manvith 21\n",
      "Yukti 24\n"
     ]
    }
   ],
   "source": [
    "def display_student(name,age):\n",
    "    print(name,age)\n",
    "\n",
    "display_student(\"Manvith\",21)\n",
    "show_student=display_student\n",
    "show_student(\"Yukti\",24)"
   ]
  },
  {
   "cell_type": "code",
   "execution_count": 173,
   "id": "714ab1c4-e9fa-4986-95cb-b3baf6da7601",
   "metadata": {},
   "outputs": [
    {
     "name": "stdout",
     "output_type": "stream",
     "text": [
      "[4, 6, 8, 10, 12, 14, 16, 18, 20, 22, 24, 26, 28, 30]\n"
     ]
    }
   ],
   "source": [
    "def even_num():\n",
    "    li=[]\n",
    "    for i in range(4,31):\n",
    "        if i%2==0:\n",
    "            li.append(i)\n",
    "    return li\n",
    "print(even_num())"
   ]
  },
  {
   "cell_type": "code",
   "execution_count": 176,
   "id": "635abb32-1c9e-4625-8b91-2965495e844c",
   "metadata": {},
   "outputs": [
    {
     "name": "stdout",
     "output_type": "stream",
     "text": [
      "79\n"
     ]
    }
   ],
   "source": [
    "def max_from_list(li):\n",
    "    maxi=li[0]\n",
    "    for i in li:\n",
    "        if i>maxi:\n",
    "            maxi=i\n",
    "    return maxi\n",
    "li=[23,34,32,14,54,79,13]\n",
    "print(max_from_list(li))"
   ]
  },
  {
   "cell_type": "code",
   "execution_count": 179,
   "id": "045b204e-b851-44cd-a878-107821506272",
   "metadata": {},
   "outputs": [
    {
     "name": "stdout",
     "output_type": "stream",
     "text": [
      "51\n",
      "7\n",
      "Hello Hello Hello \n",
      "Hi Manvith\n"
     ]
    }
   ],
   "source": [
    "# 1. List\n",
    "def sum_of_list(li):\n",
    "    total=0\n",
    "    for i in li:\n",
    "        total+=i\n",
    "    return total\n",
    "\n",
    "print(sum_of_list([1,2,3,45]))\n",
    "\n",
    "def calculate_sum(num1,num2):\n",
    "    return num1+num2\n",
    "\n",
    "print(calculate_sum(3,4))\n",
    "\n",
    "def calculate_total(n1,n2,n3):\n",
    "    return n1*(n3+n2)\n",
    "\n",
    "print(calculate_total(\"Hello \",1,2))\n",
    "\n",
    "def str_concat(str1,str2):\n",
    "    return str1+str2\n",
    "\n",
    "print(str_concat(str2=\"Manvith\",str1=\"Hi \"))"
   ]
  },
  {
   "cell_type": "code",
   "execution_count": 180,
   "id": "01e2606c-1dfa-44ff-a7ec-265e2bca49f4",
   "metadata": {},
   "outputs": [
    {
     "name": "stdout",
     "output_type": "stream",
     "text": [
      "2.0\n"
     ]
    }
   ],
   "source": [
    "def sub(x,y=2):\n",
    "    return x-y\n",
    "\n",
    "def div(x,y):\n",
    "    return x/y\n",
    "\n",
    "s=div(sub(6,2),sub(4))\n",
    "print(s)"
   ]
  },
  {
   "cell_type": "code",
   "execution_count": 181,
   "id": "77bba1c1-46db-435a-bac4-91e6e7d788fa",
   "metadata": {},
   "outputs": [
    {
     "name": "stdout",
     "output_type": "stream",
     "text": [
      "8\n"
     ]
    }
   ],
   "source": [
    "def foo(x,y=3):\n",
    "    print(x+y)\n",
    "\n",
    "foo(5)"
   ]
  },
  {
   "cell_type": "code",
   "execution_count": 182,
   "id": "c07b7614-06ad-4597-b5a9-62fcfb092569",
   "metadata": {},
   "outputs": [
    {
     "name": "stdout",
     "output_type": "stream",
     "text": [
      "15\n",
      "16\n",
      "17\n",
      "18\n",
      "19\n",
      "20\n",
      "21\n",
      "22\n",
      "23\n",
      "24\n",
      "25\n",
      "---\n",
      "15\n",
      "16\n",
      "17\n",
      "18\n",
      "19\n",
      "20\n",
      "21\n",
      "22\n",
      "23\n",
      "24\n",
      "25\n"
     ]
    }
   ],
   "source": [
    "def print_m_to_n(m,n):\n",
    "    for i in range(m,n+1):\n",
    "        print(i)\n",
    "\n",
    "print_m_to_n(m=15,n=25)\n",
    "print('---')\n",
    "print_m_to_n(n=25,m=15)"
   ]
  },
  {
   "cell_type": "code",
   "execution_count": 184,
   "id": "3e8da108-7f29-4ae3-9cdf-1ccf864858bc",
   "metadata": {},
   "outputs": [
    {
     "ename": "TypeError",
     "evalue": "display_person() got an unexpected keyword argument 'name'",
     "output_type": "error",
     "traceback": [
      "\u001b[0;31m---------------------------------------------------------------------------\u001b[0m",
      "\u001b[0;31mTypeError\u001b[0m                                 Traceback (most recent call last)",
      "Cell \u001b[0;32mIn[184], line 4\u001b[0m\n\u001b[1;32m      2\u001b[0m     \u001b[38;5;28;01mfor\u001b[39;00m i \u001b[38;5;129;01min\u001b[39;00m args:\n\u001b[1;32m      3\u001b[0m         \u001b[38;5;28mprint\u001b[39m(i)\n\u001b[0;32m----> 4\u001b[0m display_person(name\u001b[38;5;241m=\u001b[39m\u001b[38;5;124m\"\u001b[39m\u001b[38;5;124mManvith\u001b[39m\u001b[38;5;124m\"\u001b[39m,age\u001b[38;5;241m=\u001b[39m\u001b[38;5;124m\"\u001b[39m\u001b[38;5;124m21\u001b[39m\u001b[38;5;124m\"\u001b[39m)\n",
      "\u001b[0;31mTypeError\u001b[0m: display_person() got an unexpected keyword argument 'name'"
     ]
    }
   ],
   "source": [
    "def display_person(*args):\n",
    "    for i in args:\n",
    "        print(i)\n",
    "display_person(name=\"Manvith\",age=\"21\") ## Error coz *args takes arguments as a tuple not as dict"
   ]
  },
  {
   "cell_type": "code",
   "execution_count": 189,
   "id": "405f009c-7f95-4f05-9768-d276bda585d6",
   "metadata": {},
   "outputs": [
    {
     "name": "stdout",
     "output_type": "stream",
     "text": [
      "1 4\n",
      "(9, 12, False)\n",
      "False\n",
      "{'param1': 5, 'param2': 6}\n"
     ]
    }
   ],
   "source": [
    "def arg_printer(a,b,*args,option=True,**kwargs):\n",
    "    print(a,b)\n",
    "    print(args)\n",
    "    print(option)\n",
    "    print(kwargs)\n",
    "\n",
    "arg_printer(1,4,9,12,False,option=False,param1=5,param2=6)"
   ]
  },
  {
   "cell_type": "code",
   "execution_count": 190,
   "id": "12552d07-bf5c-4784-96c9-69cf22d0c23a",
   "metadata": {},
   "outputs": [
    {
     "name": "stdout",
     "output_type": "stream",
     "text": [
      "Hi from inside\n"
     ]
    }
   ],
   "source": [
    "def outer_fun():\n",
    "    def inner_fun():\n",
    "        print(\"Hi from inside\")\n",
    "    inner_fun()\n",
    "\n",
    "outer_fun()"
   ]
  },
  {
   "cell_type": "code",
   "execution_count": 192,
   "id": "1e4bd116-f8ac-4ce6-8db3-d3e49ca22598",
   "metadata": {},
   "outputs": [
    {
     "name": "stdout",
     "output_type": "stream",
     "text": [
      "5040\n",
      "15\n"
     ]
    }
   ],
   "source": [
    "def play_with_args(*args):\n",
    "    total=0\n",
    "    if len(args)>6:\n",
    "        total=1\n",
    "        for i in args:\n",
    "            total*=i\n",
    "    else:\n",
    "        for i in args:\n",
    "            total+=i\n",
    "    return total\n",
    "\n",
    "print(play_with_args(1,2,3,4,5,6,7))\n",
    "print(play_with_args(1,2,3,4,5))"
   ]
  },
  {
   "cell_type": "code",
   "execution_count": 195,
   "id": "2e5f19ef-b8fa-49cb-8935-a1430167a80e",
   "metadata": {},
   "outputs": [
    {
     "name": "stdout",
     "output_type": "stream",
     "text": [
      "a 1\n",
      "b 2\n",
      "\n",
      "c 3\n",
      "d 4\n",
      "\n"
     ]
    }
   ],
   "source": [
    "def dict_printer(*args):\n",
    "    for d in args:\n",
    "        for i,j in d.items():\n",
    "            print(i,j)\n",
    "        print()\n",
    "\n",
    "dict_printer({'a':1,'b':2},{'c':3,'d':4})"
   ]
  },
  {
   "cell_type": "code",
   "execution_count": 218,
   "id": "5910bcd0-e5ea-4e6a-aaf4-e91d03d14661",
   "metadata": {},
   "outputs": [
    {
     "name": "stdout",
     "output_type": "stream",
     "text": [
      "['?', '?', '?', '?', '?', '?', '?', '?']\n",
      "[1, -1, 2, -2, 3, -3, 4, -4]\n"
     ]
    }
   ],
   "source": [
    "def list_merger(list1,list2,mode=\"show\"):\n",
    "    li=[]\n",
    "    if mode==\"show\":\n",
    "        j=0\n",
    "        for i in range(0,len(list1)*2,2):\n",
    "            li.insert(i,list1[i-j])\n",
    "            li.insert(i+1,list2[i-j])\n",
    "            j+=1\n",
    "    elif mode==\"hide\":\n",
    "        for i in range(0,len(list1)*2):\n",
    "            li.append('?')\n",
    "    return li\n",
    "\n",
    "list1=[1,2,3,4]\n",
    "list2=[-1,-2,-3,-4]\n",
    "print(list_merger(list1,list2,\"hide\"))\n",
    "print(list_merger(list1,list2))"
   ]
  },
  {
   "cell_type": "code",
   "execution_count": 220,
   "id": "4c95de5e-d2a4-45e5-a7df-85a1a78b689f",
   "metadata": {},
   "outputs": [
    {
     "name": "stdout",
     "output_type": "stream",
     "text": [
      "2\n"
     ]
    }
   ],
   "source": [
    "f=lambda x: x\n",
    "print(f(2))"
   ]
  }
 ],
 "metadata": {
  "kernelspec": {
   "display_name": "Python [conda env:base] *",
   "language": "python",
   "name": "conda-base-py"
  },
  "language_info": {
   "codemirror_mode": {
    "name": "ipython",
    "version": 3
   },
   "file_extension": ".py",
   "mimetype": "text/x-python",
   "name": "python",
   "nbconvert_exporter": "python",
   "pygments_lexer": "ipython3",
   "version": "3.12.7"
  }
 },
 "nbformat": 4,
 "nbformat_minor": 5
}
