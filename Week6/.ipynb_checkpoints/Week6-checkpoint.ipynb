{
 "cells": [
  {
   "cell_type": "code",
   "execution_count": 1,
   "id": "8d4fb780-2ce7-4a6a-8054-7d5f74675379",
   "metadata": {},
   "outputs": [
    {
     "name": "stdout",
     "output_type": "stream",
     "text": [
      "H\n",
      "12\n",
      "d\n"
     ]
    }
   ],
   "source": [
    "str1='Hello! World'\n",
    "print(str1[0])\n",
    "print(len(str1))\n",
    "print(str1[len(str1)-1])\n",
    "# print(str1[len(str1)]) # index out of range"
   ]
  },
  {
   "cell_type": "code",
   "execution_count": 2,
   "id": "e416522c-c635-4165-93e0-511d201ca8a6",
   "metadata": {},
   "outputs": [
    {
     "name": "stdout",
     "output_type": "stream",
     "text": [
      "5\n",
      "6\n",
      "7\n",
      "8\n",
      "8\n"
     ]
    }
   ],
   "source": [
    "#index()\n",
    "print(str1.index('!'))\n",
    "print(str1.index(' '))\n",
    "print(str1.index('W'))\n",
    "print(str1.index('or'))\n",
    "print(str1.index('o',6,9))"
   ]
  },
  {
   "cell_type": "code",
   "execution_count": 3,
   "id": "a9207985-3234-4355-adb9-bf0c2c86dd99",
   "metadata": {},
   "outputs": [
    {
     "name": "stdout",
     "output_type": "stream",
     "text": [
      "5\n",
      "-1\n"
     ]
    }
   ],
   "source": [
    "#find()\n",
    "print(str1.find('!'))\n",
    "print(str1.find('k'))"
   ]
  },
  {
   "cell_type": "markdown",
   "id": "e2257712-cc9f-4b86-9dcc-c6e49bd75b37",
   "metadata": {},
   "source": [
    "### Note\n",
    "The only difference between index() and find() is that if the specified sub-string is not in the string, index() returns ValueError whereas find() returns -1."
   ]
  },
  {
   "cell_type": "code",
   "execution_count": 4,
   "id": "002e4486-de02-4d11-a69b-c85272b277a6",
   "metadata": {},
   "outputs": [
    {
     "name": "stdout",
     "output_type": "stream",
     "text": [
      "7\n",
      "Manvi\n",
      "Manvi\n",
      "Mnih\n",
      "Manvith\n",
      "Manvit\n",
      "Manv\n",
      "it\n",
      "Manvith\n"
     ]
    }
   ],
   "source": [
    "str2='Manvith'\n",
    "print(len(str2))\n",
    "print(str2[0:5])\n",
    "print(str2[0:5:1])\n",
    "print(str2[::2])\n",
    "print(str2[:10])\n",
    "print(str2[:-1])\n",
    "print(str2[-7:-3])\n",
    "print(str2[-3:-1])\n",
    "print(str2[:])"
   ]
  },
  {
   "cell_type": "code",
   "execution_count": 5,
   "id": "d631a140-8b52-42b3-9aed-f8a2b789dfc0",
   "metadata": {},
   "outputs": [
    {
     "name": "stdout",
     "output_type": "stream",
     "text": [
      "abcde\n",
      "fghijklmnopqrstu\n",
      "abcdefghijklmnopqrstu\n",
      "acegikmoqsuwy\n",
      "aeimquy\n",
      "zyxwvutsrqponmlkjihgfedcba\n"
     ]
    }
   ],
   "source": [
    "alphabet='abcdefghijklmnopqrstuvwxyz'\n",
    "print(alphabet[:5])\n",
    "print(alphabet[5:21])\n",
    "print(alphabet[:21])\n",
    "print(alphabet[::2])\n",
    "print(alphabet[::4])\n",
    "print(alphabet[::-1])"
   ]
  },
  {
   "cell_type": "code",
   "execution_count": 6,
   "id": "a913c9c3-b595-4f87-8593-ac62005a41b6",
   "metadata": {},
   "outputs": [
    {
     "name": "stdout",
     "output_type": "stream",
     "text": [
      "<class 'list'>\n",
      "['Manvith', 'aspires', 'to', 'become', 'data', 'scientist.', 'Currently', 'pursuing', 'Masters', 'in', 'University', 'of', 'Adelaide.']\n",
      "['Manvith aspires to become data scientist.', 'Currently pursuing Masters in University of Adelaide.']\n"
     ]
    }
   ],
   "source": [
    "str3='Manvith aspires to become data scientist.\\nCurrently pursuing Masters in University of Adelaide.'\n",
    "l1=str3.split()\n",
    "print(type(l1))\n",
    "print(l1)\n",
    "print(str3.split('\\n'))"
   ]
  },
  {
   "cell_type": "code",
   "execution_count": 7,
   "id": "95190bc8-3204-4eb0-866a-4fd93ae65b50",
   "metadata": {},
   "outputs": [
    {
     "name": "stdout",
     "output_type": "stream",
     "text": [
      "['Manvith', 'Venkat', 'Madhu', 'Karthik']\n",
      "4\n",
      "['Manvith', 'Venkat', 'Madhu', 'Karthik']\n",
      "4\n",
      "['Manvith', 'Venkat', 'Madhu, Karthik']\n",
      "3\n",
      "['Manvith', 'Venkat, Madhu, Karthik']\n",
      "2\n",
      "['Manvith, Venkat, Madhu, Karthik']\n",
      "1\n"
     ]
    }
   ],
   "source": [
    "txt=\"Manvith, Venkat, Madhu, Karthik\"\n",
    "# Without maxsplit\n",
    "lst1=txt.split(\", \")\n",
    "print(lst1)\n",
    "print(len(lst1))\n",
    "lst2=txt.split(\", \",3)\n",
    "print(lst2)\n",
    "print(len(lst2))\n",
    "lst2=txt.split(\", \",2)\n",
    "print(lst2)\n",
    "print(len(lst2))\n",
    "lst2=txt.split(\", \",1)\n",
    "print(lst2)\n",
    "print(len(lst2))\n",
    "lst2=txt.split(\", \",0)\n",
    "print(lst2)\n",
    "print(len(lst2))"
   ]
  },
  {
   "cell_type": "code",
   "execution_count": 8,
   "id": "07acc67a-068c-4e1f-a032-64f5d1c06c30",
   "metadata": {},
   "outputs": [
    {
     "name": "stdout",
     "output_type": "stream",
     "text": [
      "Manvith Venkat Karthik Madhu\n",
      "Manvith#Venkat#Karthik#Madhu\n"
     ]
    }
   ],
   "source": [
    "list1=['Manvith','Venkat','Karthik','Madhu']\n",
    "print(' '.join(list1))\n",
    "print('#'.join(list1))"
   ]
  },
  {
   "cell_type": "code",
   "execution_count": 9,
   "id": "139707b8-173c-41b3-bd31-447c5567b844",
   "metadata": {},
   "outputs": [
    {
     "name": "stdout",
     "output_type": "stream",
     "text": [
      "I-love-programming\n"
     ]
    }
   ],
   "source": [
    "str1='I love programming'\n",
    "lst1=str1.split(' ')\n",
    "print('-'.join(lst1))"
   ]
  },
  {
   "cell_type": "code",
   "execution_count": 10,
   "id": "b1832419-f26c-43e3-ba7d-63c6668b7d4f",
   "metadata": {},
   "outputs": [
    {
     "name": "stdout",
     "output_type": "stream",
     "text": [
      "['My', 'name', 'is', 'Manvith.']\n",
      "My name is Manvith.\n"
     ]
    }
   ],
   "source": [
    "def split_string(string):\n",
    "    list_string=string.split(' ')\n",
    "    return list_string\n",
    "\n",
    "def join_string(list_string):\n",
    "    string=' '.join(list_string)\n",
    "    return string\n",
    "\n",
    "string='My name is Manvith.'\n",
    "list_string=split_string(string)\n",
    "print(list_string)\n",
    "new_string=join_string(list_string)\n",
    "print(new_string)"
   ]
  },
  {
   "cell_type": "code",
   "execution_count": 11,
   "id": "3aa024fa-a502-4174-aa10-4da4a3cb456c",
   "metadata": {},
   "outputs": [
    {
     "name": "stdout",
     "output_type": "stream",
     "text": [
      "2\n",
      "one\n",
      "four\n"
     ]
    }
   ],
   "source": [
    "listNumbers=['zero','one',2,3,'four']\n",
    "print(listNumbers[2])\n",
    "print(listNumbers[1])\n",
    "print(listNumbers[-1])"
   ]
  },
  {
   "cell_type": "code",
   "execution_count": 12,
   "id": "1ccf7296-221a-408e-b311-ccfeb7bbd85c",
   "metadata": {},
   "outputs": [
    {
     "name": "stdout",
     "output_type": "stream",
     "text": [
      "['one', 2, 3]\n",
      "['four', 3, 2, 'one', 'zero']\n",
      "['zero', 2, 'four']\n",
      "['zero', 'one']\n"
     ]
    }
   ],
   "source": [
    "print(listNumbers[1:4])\n",
    "print(listNumbers[::-1])\n",
    "print(listNumbers[::2])\n",
    "print(listNumbers[:-3])"
   ]
  },
  {
   "cell_type": "code",
   "execution_count": 13,
   "id": "dfe6e891-1978-4697-8150-3da76f23e30b",
   "metadata": {},
   "outputs": [
    {
     "name": "stdout",
     "output_type": "stream",
     "text": [
      "[9, 6, 3]\n"
     ]
    }
   ],
   "source": [
    "lst=[1,2,3,4,5,6,7,8,9]\n",
    "print(lst[::-3])"
   ]
  },
  {
   "cell_type": "code",
   "execution_count": 14,
   "id": "66929fbb-cdfa-46f2-8b8c-a3426d3225c0",
   "metadata": {},
   "outputs": [
    {
     "name": "stdout",
     "output_type": "stream",
     "text": [
      "[4, 6, 8]\n",
      "[1, 3, 5, 7, 9]\n",
      "[1, 2, 3]\n",
      "[4, 5, 6, 7, 8, 9]\n",
      "[4, 5, 6, 7, 8]\n",
      "[9]\n",
      "[1]\n",
      "[3, 4, 5, 6]\n",
      "[1, 2]\n"
     ]
    }
   ],
   "source": [
    "print(lst[3::2])\n",
    "print(lst[::2])\n",
    "print(lst[:3])\n",
    "print(lst[3:])\n",
    "print(lst[3:-1])\n",
    "print(lst[-1:])\n",
    "print(lst[:1])\n",
    "print(lst[2:6])\n",
    "print(lst[:2])"
   ]
  },
  {
   "cell_type": "code",
   "execution_count": 15,
   "id": "17fa86c7-dda1-4f9a-bf55-92a2406b95eb",
   "metadata": {},
   "outputs": [
    {
     "name": "stdout",
     "output_type": "stream",
     "text": [
      "[1, 2, 3, 'Hii', 5, 'six', 7]\n",
      "[1, 2, 3, 'four', 5, 'six', 7]\n"
     ]
    }
   ],
   "source": [
    "list1=[1,2,3,'Hii',5,'six',7]\n",
    "print(list1)\n",
    "list1[3]='four'\n",
    "print(list1)"
   ]
  },
  {
   "cell_type": "code",
   "execution_count": 16,
   "id": "58bc2b9e-748a-4a01-9bc9-1b42a38fe91c",
   "metadata": {},
   "outputs": [
    {
     "name": "stdout",
     "output_type": "stream",
     "text": [
      "[12, 23, 34, 4, 18, 6]\n",
      "[12, 23, 34, 4, 20, 21, 1]\n"
     ]
    }
   ],
   "source": [
    "list1=[12,23,34,4,5,5,6]\n",
    "list1[4:6]=[18]\n",
    "print(list1)\n",
    "list1[4:6]=[20,21,1]\n",
    "print(list1)"
   ]
  },
  {
   "cell_type": "code",
   "execution_count": 17,
   "id": "8e0e2e8f-23e4-4464-80bf-e042d69d251e",
   "metadata": {},
   "outputs": [
    {
     "name": "stdout",
     "output_type": "stream",
     "text": [
      "[2, 4, 6, 8, 10]\n"
     ]
    }
   ],
   "source": [
    "even=[2,4,6,10]\n",
    "even.insert(3,8)\n",
    "print(even)"
   ]
  },
  {
   "cell_type": "code",
   "execution_count": 18,
   "id": "c108c3ad-1dc1-4cda-adb0-5ebb7c0314f3",
   "metadata": {},
   "outputs": [
    {
     "name": "stdout",
     "output_type": "stream",
     "text": [
      "[2, 4, 8, 10]\n"
     ]
    }
   ],
   "source": [
    "even.pop(2)\n",
    "print(even)"
   ]
  },
  {
   "cell_type": "code",
   "execution_count": 19,
   "id": "842a1793-e749-44ae-93c9-3bc418d989b9",
   "metadata": {},
   "outputs": [
    {
     "name": "stdout",
     "output_type": "stream",
     "text": [
      "Manvith Vishwanatham\n",
      "['Manvith', ' Vishwanatham']\n"
     ]
    }
   ],
   "source": [
    "myStr='Manvith'\n",
    "myStr=myStr+' Vishwanatham'\n",
    "print(myStr)\n",
    "myList=['Manvith']\n",
    "myList.append(' Vishwanatham')\n",
    "print(myList)"
   ]
  },
  {
   "cell_type": "code",
   "execution_count": 20,
   "id": "1fcae661-4597-40f2-84c1-6106c2d9d27d",
   "metadata": {},
   "outputs": [
    {
     "name": "stdout",
     "output_type": "stream",
     "text": [
      "['banana', 'apple', 'apple', 3, 10, 78, 5.5, 'apple', [200, 201, 202, 203, 204], 'apple', 'apple', 10.5]\n"
     ]
    }
   ],
   "source": [
    "listThings=['banana','apple','apple',3,10,78,5.5,'apple',list(range(200,205)),'apple','apple',10.5]\n",
    "print(listThings)"
   ]
  },
  {
   "cell_type": "code",
   "execution_count": 21,
   "id": "2cc0d32e-9a7a-4044-9986-66c5184ccf0c",
   "metadata": {},
   "outputs": [
    {
     "name": "stdout",
     "output_type": "stream",
     "text": [
      "[19, 'apple', 'apple', 'Kelly', 3, 10, 5.5, 'apple', [200, 201, 202, 203, 204], 'apple', 'John', 'Danise', 12]\n"
     ]
    }
   ],
   "source": [
    "listThings[0]=19\n",
    "listThings[-2:]=['John','Danise']\n",
    "listThings.insert(3,'Kelly')\n",
    "listThings.pop(6)\n",
    "listThings.insert(30,12) #inserts at last index even we mentioned higher index\n",
    "print(listThings)\n",
    "# listThings[30]=120 # IndexError"
   ]
  },
  {
   "cell_type": "code",
   "execution_count": 22,
   "id": "9921f08d-e8e6-452d-b94e-10beba1d9489",
   "metadata": {},
   "outputs": [
    {
     "name": "stdout",
     "output_type": "stream",
     "text": [
      "['H', 'e', 'l', 'l', 'o', '!']\n"
     ]
    }
   ],
   "source": [
    "new_list=[]\n",
    "for i in 'Hello!':\n",
    "    new_list.append(i)\n",
    "print(new_list)"
   ]
  },
  {
   "cell_type": "code",
   "execution_count": 23,
   "id": "e2ef75f0-d18b-474d-9df0-998bcda7cdb5",
   "metadata": {},
   "outputs": [
    {
     "name": "stdout",
     "output_type": "stream",
     "text": [
      "[0, 2, 2, 4, 6, 10, 16]\n"
     ]
    }
   ],
   "source": [
    "times_one=[0,1,1,2,3,5,8]\n",
    "times_two=[i*2 for i in times_one]\n",
    "print(times_two)"
   ]
  },
  {
   "cell_type": "code",
   "execution_count": 24,
   "id": "8f93fec4-3aa5-42f6-a103-d300a8e5c362",
   "metadata": {},
   "outputs": [
    {
     "name": "stdout",
     "output_type": "stream",
     "text": [
      "['u', 'd', 'c', 's', 't', 'b']\n"
     ]
    }
   ],
   "source": [
    "quarks=[\"Up\",\"Down\",\"Charm\",\"Strange\",\"Top\",\"Bottom\"]\n",
    "lower_first_letter=[i[0].lower() for i in quarks]\n",
    "print(lower_first_letter)"
   ]
  },
  {
   "cell_type": "code",
   "execution_count": 25,
   "id": "08f748a9-43ad-4965-8e97-1e144ac00b6f",
   "metadata": {},
   "outputs": [
    {
     "name": "stdout",
     "output_type": "stream",
     "text": [
      "[0, 2, 4, 6, 8]\n"
     ]
    }
   ],
   "source": [
    "lst1=[]\n",
    "for i in range(10):\n",
    "    if i%2==0:\n",
    "        lst1.append(i)\n",
    "print(lst1)"
   ]
  },
  {
   "cell_type": "code",
   "execution_count": 26,
   "id": "6df64f73-f3b8-410b-a82d-d5c92d3dd0e1",
   "metadata": {},
   "outputs": [
    {
     "name": "stdout",
     "output_type": "stream",
     "text": [
      "[0, 2, 4, 6, 8]\n"
     ]
    }
   ],
   "source": [
    "even_numbers=[x for x in range(10) if x%2==0]\n",
    "print(even_numbers)"
   ]
  },
  {
   "cell_type": "code",
   "execution_count": 27,
   "id": "25226fda-497f-404a-9750-711ab8f2c978",
   "metadata": {},
   "outputs": [
    {
     "name": "stdout",
     "output_type": "stream",
     "text": [
      "[0, 10, 20, 30, 40, 50, 60, 70, 80, 90]\n"
     ]
    }
   ],
   "source": [
    "num_lst=[y for y in range(100)  if (y%2==0 and y%5==0)]\n",
    "print(num_lst)"
   ]
  },
  {
   "cell_type": "code",
   "execution_count": 28,
   "id": "f85b72f7-7c30-43e2-b26f-2092e0fbeb0e",
   "metadata": {},
   "outputs": [
    {
     "name": "stdout",
     "output_type": "stream",
     "text": [
      "['even', 'odd', 'even', 'odd', 'even', 'odd', 'even', 'odd', 'even', 'odd']\n"
     ]
    }
   ],
   "source": [
    "lst1=[]\n",
    "for i in range(10):\n",
    "    if i%2==0:\n",
    "        lst1.append(\"even\")\n",
    "    else:\n",
    "        lst1.append(\"odd\")\n",
    "print(lst1)"
   ]
  },
  {
   "cell_type": "code",
   "execution_count": 29,
   "id": "a37e4f46-f405-43ae-9f63-fbcfdf0e8b4a",
   "metadata": {},
   "outputs": [
    {
     "name": "stdout",
     "output_type": "stream",
     "text": [
      "['even', 'odd', 'even', 'odd', 'even', 'odd', 'even', 'odd', 'even', 'odd']\n"
     ]
    }
   ],
   "source": [
    "lst1=[\"even\" if i%2==0 else \"odd\" for i in range(10)]\n",
    "print(lst1)"
   ]
  },
  {
   "cell_type": "code",
   "execution_count": 30,
   "id": "673ad21d-820c-468c-9b55-35ddb4dcaf9f",
   "metadata": {},
   "outputs": [
    {
     "name": "stdout",
     "output_type": "stream",
     "text": [
      "[[1, 2, 9], [9, 0, 6]]\n"
     ]
    }
   ],
   "source": [
    "matrix=[[1,9],[2,0],[9,6]]\n",
    "transposed_matrix=[]\n",
    "for i in range(2):\n",
    "    transposed_row=[]\n",
    "    for row in matrix:\n",
    "        transposed_row.append(row[i])\n",
    "    transposed_matrix.append(transposed_row)\n",
    "print(transposed_matrix)"
   ]
  },
  {
   "cell_type": "code",
   "execution_count": 31,
   "id": "a8242025-a930-4524-b8b8-7c070445095e",
   "metadata": {},
   "outputs": [
    {
     "name": "stdout",
     "output_type": "stream",
     "text": [
      "[[1, 2, 9], [9, 0, 6]]\n"
     ]
    }
   ],
   "source": [
    "matrix=[[1,9],[2,0],[9,6]]\n",
    "transposed_matrix=[[row[i] for row in matrix] for i in range(2)]\n",
    "print(transposed_matrix)"
   ]
  },
  {
   "cell_type": "markdown",
   "id": "f99c4ac8-5f44-4a29-abca-0f0f1955e94e",
   "metadata": {},
   "source": [
    "## Tuples"
   ]
  },
  {
   "cell_type": "code",
   "execution_count": 32,
   "id": "9641855b-1d47-4765-a946-bbb8e5c6e241",
   "metadata": {},
   "outputs": [
    {
     "name": "stdout",
     "output_type": "stream",
     "text": [
      "(12, 8, 20, 5.0)\n"
     ]
    }
   ],
   "source": [
    "def perform_calculations(num1,num2):\n",
    "    return num1+num2,num1-num2,num1*num2,num1/num2\n",
    "print(perform_calculations(10,2))"
   ]
  },
  {
   "cell_type": "code",
   "execution_count": 33,
   "id": "351ac928-b5d8-4c81-aa6f-ee244e797d95",
   "metadata": {},
   "outputs": [
    {
     "name": "stdout",
     "output_type": "stream",
     "text": [
      "('Manvith', 'Yukti', 'Venkat', 'Madhu', 'Karhik')\n",
      "<class 'tuple'>\n"
     ]
    }
   ],
   "source": [
    "def construct_login_greeting(*args):\n",
    "    print(args)\n",
    "    print(type(args))\n",
    "construct_login_greeting(\"Manvith\",\"Yukti\",\"Venkat\",\"Madhu\",\"Karhik\")"
   ]
  },
  {
   "cell_type": "code",
   "execution_count": 34,
   "id": "bae5643e-86b9-43b4-be31-2820a6eea051",
   "metadata": {},
   "outputs": [
    {
     "name": "stdout",
     "output_type": "stream",
     "text": [
      "(10, 10, 'Manvith', 'Manvith', 23, 'one', 1.23, True, False)\n"
     ]
    }
   ],
   "source": [
    "t1=(10,10,'Manvith','Manvith',23,'one',1.23,True,False)\n",
    "print(t1)"
   ]
  },
  {
   "cell_type": "code",
   "execution_count": 35,
   "id": "417bf5aa-def1-4419-bb47-6cee027bfea1",
   "metadata": {},
   "outputs": [
    {
     "name": "stdout",
     "output_type": "stream",
     "text": [
      "Manvith\n",
      "<class 'str'>\n",
      "('Manvith',)\n",
      "<class 'tuple'>\n"
     ]
    }
   ],
   "source": [
    "t1=(\"Manvith\")\n",
    "print(t1)\n",
    "print(type(t1))\n",
    "t1=(\"Manvith\",)\n",
    "print(t1)\n",
    "print(type(t1))"
   ]
  },
  {
   "cell_type": "code",
   "execution_count": 36,
   "id": "3d953057-c2aa-4eab-921c-0e5a0b48946e",
   "metadata": {},
   "outputs": [
    {
     "name": "stdout",
     "output_type": "stream",
     "text": [
      "Madhu\n",
      "3\n",
      "('Yukti', 1, 2)\n",
      "('Manvith', 'Yukti', 2)\n",
      "(3, 2, 1, 'Yukti', 'Madhu', 'Manvith')\n",
      "('Manvith', 'Madhu', 'Yukti', 1, 2, 3, 'Manvith', 'Madhu', 'Yukti', 1, 2, 3)\n",
      "('Manvith', 'Madhu', 'Yukti', 1, 2, 3, 'Venkat', 'Karthik')\n",
      "Starting while loop:\n",
      "Manvith\n",
      "Yukti\n",
      "\n",
      "Starting for loop:\n",
      "Manvith\n",
      "Madhu\n",
      "Yukti\n",
      "1\n"
     ]
    }
   ],
   "source": [
    "details=(\"Manvith\",\"Madhu\",\"Yukti\",1,2,3)\n",
    "print(details[1])\n",
    "print(details[-1])\n",
    "print(details[2:5])\n",
    "print(details[::2])\n",
    "print(details[::-1])\n",
    "\n",
    "print(details*2)\n",
    "\n",
    "details1=(\"Venkat\",\"Karthik\")\n",
    "print(details+details1)\n",
    "\n",
    "print(\"Starting while loop:\")\n",
    "i=0\n",
    "while i<len(details):\n",
    "    if 'i' in str(details[i]):\n",
    "        print(details[i])\n",
    "    i+=1\n",
    "print()\n",
    "\n",
    "print(\"Starting for loop:\")\n",
    "for el in details[:4]:\n",
    "    print(el)"
   ]
  },
  {
   "cell_type": "code",
   "execution_count": 37,
   "id": "6b8d71b0-01d5-477a-a93f-89fe34c1190a",
   "metadata": {},
   "outputs": [
    {
     "name": "stdout",
     "output_type": "stream",
     "text": [
      "(3, 5, 8, 20)\n"
     ]
    }
   ],
   "source": [
    "t1=(5,20,3,7,6,8)\n",
    "k=2\n",
    "j=k\n",
    "t2=()\n",
    "while j>0:\n",
    "    min1=t1[0]\n",
    "    for i in t1:\n",
    "        if i<min1 and i not in t2:\n",
    "            min1=i\n",
    "    t2=t2+(min1,)\n",
    "    j-=1\n",
    "j=k\n",
    "t3=()\n",
    "while j>0:\n",
    "    max1=t1[0]\n",
    "    for i in t1:\n",
    "        if i>max1 and i not in t3:\n",
    "            max1=i\n",
    "    t3=t3+(max1,)\n",
    "    j-=1\n",
    "t2+=t3[::-1]\n",
    "print(t2)"
   ]
  },
  {
   "cell_type": "code",
   "execution_count": 38,
   "id": "183e69ca-5fe8-4ec9-945a-e28299753951",
   "metadata": {},
   "outputs": [
    {
     "data": {
      "text/plain": [
       "[(1, 1), (2, 8), (3, 27)]"
      ]
     },
     "execution_count": 38,
     "metadata": {},
     "output_type": "execute_result"
    }
   ],
   "source": [
    "l1=[1,2,3]\n",
    "l2=[(i,i**3) for i in l1]\n",
    "l2"
   ]
  },
  {
   "cell_type": "code",
   "execution_count": 39,
   "id": "22aab98c-0731-4c63-9ba2-9ee867d3b6eb",
   "metadata": {},
   "outputs": [
    {
     "name": "stdout",
     "output_type": "stream",
     "text": [
      "The summation of tuple elements are: 42\n"
     ]
    }
   ],
   "source": [
    "t1=(7,8,9,1,10,7)\n",
    "total=0\n",
    "for i in t1:\n",
    "    total+=i\n",
    "print(\"The summation of tuple elements are:\",total)"
   ]
  },
  {
   "cell_type": "code",
   "execution_count": 40,
   "id": "09583eb4-2e69-43ea-929f-3ff4716a84a2",
   "metadata": {},
   "outputs": [
    {
     "name": "stdout",
     "output_type": "stream",
     "text": [
      "(0, 4, 5, 1)\n"
     ]
    }
   ],
   "source": [
    "t1=(10,4,5,6)\n",
    "t2=(5,6,7,5)\n",
    "mod_tup=()\n",
    "for i in range(len(t1)):\n",
    "    mod_tup+=(t1[i]%t2[i],)\n",
    "print(mod_tup)"
   ]
  },
  {
   "cell_type": "code",
   "execution_count": 41,
   "id": "0875c3be-1428-4deb-ae4c-fa838ffc6036",
   "metadata": {},
   "outputs": [
    {
     "name": "stdout",
     "output_type": "stream",
     "text": [
      "{False, 1.23, True, 'one', 23, 10, 'Manvith'}\n",
      "7\n",
      "<class 'set'>\n",
      "{False, 1.23, True, 'one', 18, 23, 10, 'Manvith'}\n",
      "{False, 1.23, True, 10, 18, 23, 99, 'Manvith', 'one'}\n",
      "{False, 1.23, 10, 18, 23, 99, 'Manvith', 'one'}\n"
     ]
    }
   ],
   "source": [
    "s1={10,10,'Manvith','Manvith',23,'one',1.23,True,False}\n",
    "print(s1)\n",
    "print(len(s1))\n",
    "print(type(s1))\n",
    "# s1[2]=34 # Error we cannot change elements in set but we can add or remove elements\n",
    "s1.add(18)\n",
    "print(s1)\n",
    "s1.add(99)\n",
    "print(s1)\n",
    "s1.remove(True)\n",
    "print(s1)"
   ]
  },
  {
   "cell_type": "code",
   "execution_count": 42,
   "id": "b275b377-d6aa-4aa7-98d2-a991f7077793",
   "metadata": {},
   "outputs": [
    {
     "name": "stdout",
     "output_type": "stream",
     "text": [
      "{'Karthik', 'Yukti', 'Madhu', 'Manvith', 'Venkat'}\n",
      "{'Manvith'}\n",
      "{'Yukti', 'Madhu'}\n",
      "False\n",
      "False\n"
     ]
    }
   ],
   "source": [
    "x={'Manvith','Yukti','Madhu'}\n",
    "y={'Venkat','Karthik','Manvith'}\n",
    "\n",
    "print(x.union(y))\n",
    "print(x.intersection(y))\n",
    "print(x.difference(y))\n",
    "print(x.isdisjoint(y))\n",
    "print(x.issubset(y))"
   ]
  },
  {
   "cell_type": "code",
   "execution_count": 43,
   "id": "c19ed13e-f4ac-478f-bff6-35eec4a9c924",
   "metadata": {},
   "outputs": [
    {
     "name": "stdout",
     "output_type": "stream",
     "text": [
      "{'h', 'o', 't', 'y', 'p', 'n'}\n",
      "h\n",
      "o\n",
      "t\n",
      "y\n",
      "p\n",
      "n\n"
     ]
    }
   ],
   "source": [
    "test_set=set(\"python\")\n",
    "print(test_set)\n",
    "for i in test_set:\n",
    "    print(i)"
   ]
  },
  {
   "cell_type": "code",
   "execution_count": 44,
   "id": "33620d55-ed27-42d3-bddc-97e5c57909b9",
   "metadata": {},
   "outputs": [
    {
     "name": "stdout",
     "output_type": "stream",
     "text": [
      "[80, 20]\n"
     ]
    }
   ],
   "source": [
    "ar1=[1,5,10,20,40,80]\n",
    "ar2=[6,7,20,80,100]\n",
    "ar3=[3,4,15,20,30,70,80,120]\n",
    "print(list(set(ar1).intersection(set(ar2)).intersection(set(ar3))))"
   ]
  },
  {
   "cell_type": "code",
   "execution_count": 45,
   "id": "12925868-d23d-4018-818a-8b558675ff01",
   "metadata": {},
   "outputs": [
    {
     "name": "stdout",
     "output_type": "stream",
     "text": [
      "[10, 20, 30, 15]\n"
     ]
    }
   ],
   "source": [
    "l1=[10,15,20,25,30,35,40]\n",
    "l2=[25,40,35]\n",
    "print(list(set(l1).difference(set(l2))))"
   ]
  },
  {
   "cell_type": "code",
   "execution_count": 46,
   "id": "121fa057-ecc4-47da-81b8-54b6ca505d9f",
   "metadata": {},
   "outputs": [
    {
     "name": "stdout",
     "output_type": "stream",
     "text": [
      "[1, 2, 3]\n"
     ]
    }
   ],
   "source": [
    "l1=[2,3,1]\n",
    "l1.sort()\n",
    "print(l1)"
   ]
  },
  {
   "cell_type": "markdown",
   "id": "3e54bcc1-d9a4-4995-8c90-a7e1b33a34d9",
   "metadata": {},
   "source": [
    "## Workshop1"
   ]
  },
  {
   "cell_type": "code",
   "execution_count": 47,
   "id": "5c006b7f-82b3-491d-b060-0da41dbc7268",
   "metadata": {},
   "outputs": [
    {
     "name": "stdout",
     "output_type": "stream",
     "text": [
      "20\n",
      "40\n",
      "60\n",
      "80\n",
      "100\n"
     ]
    }
   ],
   "source": [
    "def func1(*args):\n",
    "    for i in args:\n",
    "        print(i)\n",
    "\n",
    "func1(20,40,60)\n",
    "func1(80,100)"
   ]
  },
  {
   "cell_type": "code",
   "execution_count": 48,
   "id": "6271ab10-26f3-4f7e-b28d-e7ea3e3c210e",
   "metadata": {},
   "outputs": [
    {
     "name": "stdout",
     "output_type": "stream",
     "text": [
      "Manvith 120000\n"
     ]
    }
   ],
   "source": [
    "def show_employee(name,salary=9000):\n",
    "    print(name,salary)\n",
    "show_employee('Manvith',120000)"
   ]
  },
  {
   "cell_type": "code",
   "execution_count": 49,
   "id": "0f67392e-5f0a-4632-aba9-29401b0df24d",
   "metadata": {},
   "outputs": [
    {
     "name": "stdout",
     "output_type": "stream",
     "text": [
      "15\n"
     ]
    }
   ],
   "source": [
    "def sum_function(*num):\n",
    "    total=0\n",
    "    for i in num:\n",
    "        total+=i\n",
    "    return total\n",
    "\n",
    "print(sum_function(1,2,3,4,5))"
   ]
  },
  {
   "cell_type": "code",
   "execution_count": 50,
   "id": "3d916cc8-c864-4dab-abd7-db6d3ee47a89",
   "metadata": {},
   "outputs": [
    {
     "name": "stdout",
     "output_type": "stream",
     "text": [
      "120\n",
      "2184\n"
     ]
    }
   ],
   "source": [
    "def mul_numbers(*num):\n",
    "    pro=1\n",
    "    for i in num:\n",
    "        pro*=i\n",
    "    return pro\n",
    "print(mul_numbers(1,2,3,4,5))\n",
    "print(mul_numbers(12,13,14))"
   ]
  },
  {
   "cell_type": "code",
   "execution_count": 51,
   "id": "f4f8eff1-e435-4dc3-8055-fd6f3cbfbb10",
   "metadata": {},
   "outputs": [
    {
     "name": "stdout",
     "output_type": "stream",
     "text": [
      "First_Name: Manvith\n",
      "Last_Name: Vishwanatham\n",
      "Nickname: Anir\n"
     ]
    }
   ],
   "source": [
    "def arb_kwy(**kwargs):\n",
    "    for i,j in kwargs.items():\n",
    "        print(i+': '+j)\n",
    "arb_kwy(First_Name='Manvith',Last_Name='Vishwanatham',Nickname='Anir')"
   ]
  },
  {
   "cell_type": "code",
   "execution_count": 52,
   "id": "78c85e42-9eff-4a6c-b0a6-db288d1c1a61",
   "metadata": {},
   "outputs": [
    {
     "data": {
      "text/plain": [
       "'.ieSt shvM'"
      ]
     },
     "execution_count": 52,
     "metadata": {},
     "output_type": "execute_result"
    }
   ],
   "source": [
    "s=\"Manvith is a Data Scientist.\"\n",
    "s[::-3]"
   ]
  },
  {
   "cell_type": "code",
   "execution_count": 53,
   "id": "629d49c4-e1d0-437c-b81d-ac9a3df8424d",
   "metadata": {},
   "outputs": [
    {
     "name": "stdout",
     "output_type": "stream",
     "text": [
      "np\n",
      "pn\n",
      "pn\n",
      "pn\n",
      "pn\n"
     ]
    }
   ],
   "source": [
    "s=\"pyhton\"\n",
    "print(s[::-5])\n",
    "print(s[::-1][::-5])\n",
    "print(s[::5])\n",
    "print(s[0]+s[-1])\n",
    "print(s[::-1][-1]+s[len(s)-1])"
   ]
  },
  {
   "cell_type": "code",
   "execution_count": 54,
   "id": "7a5d0766-2386-421f-b8de-7cf25bad72eb",
   "metadata": {},
   "outputs": [
    {
     "name": "stdout",
     "output_type": "stream",
     "text": [
      "{'I': 1, ' ': 2, 'l': 1, 'o': 2, 'v': 1, 'e': 1, 'p': 1, 'r': 2, 'g': 2, 'a': 1, 'm': 2, 'i': 1, 'n': 1}\n",
      "{'I': 1, ' ': 2, 'l': 1, 'o': 2, 'v': 1, 'e': 1, 'p': 1, 'r': 2, 'g': 2, 'a': 1, 'm': 2, 'i': 1, 'n': 1}\n"
     ]
    }
   ],
   "source": [
    "s=\"I love programming\"\n",
    "dict1={}\n",
    "for i in s:\n",
    "    if i in dict1:\n",
    "        dict1[i]+=1\n",
    "    else:\n",
    "        dict1[i]=1\n",
    "print(dict1)\n",
    "\n",
    "# Another way\n",
    "s = \"I love programming\"\n",
    "dict1 = {}\n",
    "for i in s:\n",
    "    dict1[i] = dict1.get(i, 0) + 1\n",
    "print(dict1)"
   ]
  },
  {
   "cell_type": "code",
   "execution_count": 55,
   "id": "52516acf-2965-4db2-a077-b60e66130ea9",
   "metadata": {},
   "outputs": [
    {
     "name": "stdout",
     "output_type": "stream",
     "text": [
      "28\n",
      ".tsitneics atad a si htivnaM\n"
     ]
    }
   ],
   "source": [
    "s=\"Manvith is a data scientist.\"\n",
    "print(len(s))\n",
    "if len(s)%4==0:\n",
    "    print(s[::-1])"
   ]
  },
  {
   "cell_type": "code",
   "execution_count": 56,
   "id": "85c5eed5-44d3-43c1-b9e7-6924ab227d42",
   "metadata": {},
   "outputs": [
    {
     "name": "stdout",
     "output_type": "stream",
     "text": [
      "{'I': 2, 'love': 2, 'Python': 1, 'and': 1, 'Programming': 1}\n"
     ]
    }
   ],
   "source": [
    "s=\"I love Python and I love Programming\"\n",
    "l=s.split(' ')\n",
    "dict1={}\n",
    "for i in l:\n",
    "    dict1[i]=dict1.get(i,0)+1\n",
    "print(dict1)"
   ]
  },
  {
   "cell_type": "code",
   "execution_count": 57,
   "id": "c52f5707-dac2-41d7-bfe8-5d16d0f75241",
   "metadata": {},
   "outputs": [
    {
     "name": "stdout",
     "output_type": "stream",
     "text": [
      "pto\n",
      "pto\n"
     ]
    }
   ],
   "source": [
    "s=\"python\"\n",
    "s1=\"\"\n",
    "for i in range(len(s)):\n",
    "    if i%2==0:\n",
    "        s1+=s[i]\n",
    "print(s1)\n",
    "\n",
    "# Another way\n",
    "s2=s[::2]\n",
    "print(s2)"
   ]
  },
  {
   "cell_type": "code",
   "execution_count": 58,
   "id": "62eba34d-7df0-48a5-b28a-87c76a3a266f",
   "metadata": {},
   "outputs": [
    {
     "name": "stdin",
     "output_type": "stream",
     "text": [
      "Enter the index to remove from string 3\n"
     ]
    },
    {
     "name": "stdout",
     "output_type": "stream",
     "text": [
      "Manith is a Senior Data Scientist.\n"
     ]
    }
   ],
   "source": [
    "index=int(input(\"Enter the index to remove from string\"))\n",
    "s=\"Manvith is a Senior Data Scientist.\"\n",
    "s1=s[:index]+s[index+1:]\n",
    "print(s1)"
   ]
  },
  {
   "cell_type": "code",
   "execution_count": 59,
   "id": "e38f7082-80ae-4408-b33f-aab85bd543e8",
   "metadata": {},
   "outputs": [
    {
     "name": "stdout",
     "output_type": "stream",
     "text": [
      "Current character p position at 0\n",
      "Current character y position at 1\n",
      "Current character t position at 2\n",
      "Current character h position at 3\n",
      "Current character o position at 4\n",
      "Current character n position at 5\n"
     ]
    }
   ],
   "source": [
    "s=\"python\"\n",
    "for i in s:\n",
    "    print(f'Current character {i} position at {s.index(i)}')"
   ]
  },
  {
   "cell_type": "code",
   "execution_count": 60,
   "id": "e7b7952e-da40-4a75-86e5-f8a34f3d2135",
   "metadata": {},
   "outputs": [
    {
     "name": "stdout",
     "output_type": "stream",
     "text": [
      "I lv Pythn\n"
     ]
    }
   ],
   "source": [
    "s='I love Python'\n",
    "s1=\"\"\n",
    "for i in s:\n",
    "    if i!='a' and i!='e' and i!='i' and i!='o' and i!='u':\n",
    "        s1+=i\n",
    "print(s1)"
   ]
  },
  {
   "cell_type": "code",
   "execution_count": null,
   "id": "735d1314-cb8d-4b63-91dc-2fb641470925",
   "metadata": {},
   "outputs": [],
   "source": [
    "name=input(\"Enter your name: \")\n",
    "l=name.split()\n",
    "print(l)\n",
    "s1=\"\"\n",
    "for i in l[:-1]:\n",
    "    s1=s1+i[0]+\" \"\n",
    "s1+=l[-1]\n",
    "print(s1)\n",
    "\n",
    "mylist=[3,67,'cat',[19,91,'dog'],[],3.14,False]\n",
    "print(mylist[2:4])"
   ]
  },
  {
   "cell_type": "code",
   "execution_count": 63,
   "id": "d49b52d2-86e6-450c-9bb6-ae56f2636d2c",
   "metadata": {},
   "outputs": [
    {
     "data": {
      "text/plain": [
       "'c'"
      ]
     },
     "execution_count": 63,
     "metadata": {},
     "output_type": "execute_result"
    }
   ],
   "source": [
    "mylist[2][0]"
   ]
  },
  {
   "cell_type": "code",
   "execution_count": 64,
   "id": "f392e7df-27d8-43c9-944a-924dac93f498",
   "metadata": {},
   "outputs": [
    {
     "name": "stdout",
     "output_type": "stream",
     "text": [
      "[[4, 2, 8, 6, 5], 999]\n"
     ]
    }
   ],
   "source": [
    "mylist=[4,2,8,6,5]\n",
    "mylist=[mylist]*2\n",
    "mylist[1]=999\n",
    "print(mylist)"
   ]
  },
  {
   "cell_type": "code",
   "execution_count": 65,
   "id": "75cd7253-66cf-4e5f-a6fd-bcc9984fcca4",
   "metadata": {},
   "outputs": [
    {
     "name": "stdout",
     "output_type": "stream",
     "text": [
      "Mam\n",
      "Dad\n",
      "Mom\n",
      "Faf\n",
      "Pap\n",
      "5\n"
     ]
    }
   ],
   "source": [
    "list1=[\"Mam\",\"Dad\",\"Mom\",\"Faf\",\"Pap\",\"as\",\"Bro\"]\n",
    "cnt=0\n",
    "for i in list1:\n",
    "    if len(i)>2 and (i[0].lower()==i[-1].lower()):\n",
    "        print(i)\n",
    "        cnt+=1\n",
    "print(cnt)"
   ]
  },
  {
   "cell_type": "code",
   "execution_count": 66,
   "id": "aa5da2ba-56fa-41d1-8f2d-ed7886e4e3ec",
   "metadata": {},
   "outputs": [
    {
     "name": "stdout",
     "output_type": "stream",
     "text": [
      "['Dad', 'Mom', 'Faf', 'Bro']\n"
     ]
    }
   ],
   "source": [
    "list1=[\"Mam\",\"Dad\",\"Mom\",\"Faf\",\"Pap\",\"as\",\"Bro\"]\n",
    "list1.pop(5)\n",
    "list1.pop(4)\n",
    "list1.pop(0)\n",
    "print(list1)"
   ]
  },
  {
   "cell_type": "code",
   "execution_count": 67,
   "id": "e12d6a32-6a4b-4a31-89c2-5baa5b36e95a",
   "metadata": {},
   "outputs": [
    {
     "name": "stdout",
     "output_type": "stream",
     "text": [
      "Manvith\n",
      "<class 'str'>\n"
     ]
    }
   ],
   "source": [
    "l=['M','a','n','v','i','t','h']\n",
    "s=''.join(l)\n",
    "print(s)\n",
    "print(type(s))"
   ]
  },
  {
   "cell_type": "code",
   "execution_count": 68,
   "id": "cb7a1bb4-55d4-45bc-96fe-bb16cc8a53a9",
   "metadata": {},
   "outputs": [
    {
     "name": "stdout",
     "output_type": "stream",
     "text": [
      "10212\n"
     ]
    }
   ],
   "source": [
    "l=[10,2,12]\n",
    "k=''.join(str(i) for i in l)\n",
    "print(int(k))"
   ]
  },
  {
   "cell_type": "code",
   "execution_count": 69,
   "id": "0a78b672-48f6-4ed7-beed-351fdb4b0988",
   "metadata": {},
   "outputs": [
    {
     "data": {
      "text/plain": [
       "['Manvith', 'is', 'a', 'Data', 'Scientist.']"
      ]
     },
     "execution_count": 69,
     "metadata": {},
     "output_type": "execute_result"
    }
   ],
   "source": [
    "s=\"Manvith is a Data Scientist.\"\n",
    "l=s.split()\n",
    "l"
   ]
  },
  {
   "cell_type": "code",
   "execution_count": 70,
   "id": "e7bd72d7-2598-41b8-a4ea-47834d591428",
   "metadata": {},
   "outputs": [
    {
     "data": {
      "text/plain": [
       "[2, 4, 6, 8, 10]"
      ]
     },
     "execution_count": 70,
     "metadata": {},
     "output_type": "execute_result"
    }
   ],
   "source": [
    "numbers=[1,2,3,4,5,6,7,8,9,10]\n",
    "new_list=[i for i in numbers if i%2==0]\n",
    "new_list"
   ]
  },
  {
   "cell_type": "markdown",
   "id": "26ac5290-d08d-4ef6-8025-ae191f7b2e1e",
   "metadata": {},
   "source": [
    "## Workshop2"
   ]
  },
  {
   "cell_type": "code",
   "execution_count": 71,
   "id": "713ac0ec-ae5b-46cb-b3a4-9e039a9742d9",
   "metadata": {},
   "outputs": [
    {
     "name": "stdout",
     "output_type": "stream",
     "text": [
      "g in \n",
      "o\n",
      "n n\n",
      "Slicing in Pytho\n",
      "Pn ncl \n",
      "Si \n",
      "ython\n",
      "Pini \n",
      "i gnicilS gnirt\n",
      "rgli \n"
     ]
    }
   ],
   "source": [
    "str1=\"String Slicing in Python\"\n",
    "print(str1[13:18])\n",
    "print(str1[ -2 : -4 : -2])\n",
    "print(str1[12 : 18 : 2])\n",
    "print(str1[-17 : -1 : 1])\n",
    "print(str1[-6 : -20 : -2])\n",
    "print(str1[0 : 9 : 3])\n",
    "print(str1[19 : 29])\n",
    "print(str1[-6 : -20 : -3])\n",
    "print(str1[-9 : -0 : -1])\n",
    "print(str1[2 : 16 : 3])\n"
   ]
  },
  {
   "cell_type": "code",
   "execution_count": 72,
   "id": "ad08209b-e850-4fd2-9c3e-886154003bf3",
   "metadata": {},
   "outputs": [
    {
     "name": "stdin",
     "output_type": "stream",
     "text": [
      "Enter a word:  Manvith\n"
     ]
    },
    {
     "name": "stdout",
     "output_type": "stream",
     "text": [
      "Mnih\n"
     ]
    }
   ],
   "source": [
    "word=input(\"Enter a word: \")\n",
    "print(word[::2])"
   ]
  },
  {
   "cell_type": "code",
   "execution_count": 73,
   "id": "2f6aec34-c861-49bc-89ee-d5b4adb0a152",
   "metadata": {},
   "outputs": [
    {
     "name": "stdout",
     "output_type": "stream",
     "text": [
      "avt\n"
     ]
    }
   ],
   "source": [
    "print(word[1:len(word)-1:2])"
   ]
  },
  {
   "cell_type": "code",
   "execution_count": 74,
   "id": "e77f89cc-c07f-45a6-9ee9-fe122c674ffe",
   "metadata": {},
   "outputs": [
    {
     "name": "stdout",
     "output_type": "stream",
     "text": [
      "[4, 3, 2, 1, 0]\n"
     ]
    }
   ],
   "source": [
    "lst=[0,1,2,3,4]\n",
    "print(lst[::-1])"
   ]
  },
  {
   "cell_type": "code",
   "execution_count": 75,
   "id": "6499e24b-83c6-47dc-8d77-7635041da384",
   "metadata": {},
   "outputs": [
    {
     "data": {
      "text/plain": [
       "[3, 4]"
      ]
     },
     "execution_count": 75,
     "metadata": {},
     "output_type": "execute_result"
    }
   ],
   "source": [
    "lst[-2:]"
   ]
  },
  {
   "cell_type": "code",
   "execution_count": 76,
   "id": "adb8e573-1e20-4edc-878c-ef2e96a28516",
   "metadata": {},
   "outputs": [
    {
     "data": {
      "text/plain": [
       "[50, 20]"
      ]
     },
     "execution_count": 76,
     "metadata": {},
     "output_type": "execute_result"
    }
   ],
   "source": [
    "lst=[40,50,20,30,90]\n",
    "lst[1:3]"
   ]
  },
  {
   "cell_type": "code",
   "execution_count": 81,
   "id": "5a8d7377-b763-42d9-a9a0-40f8eb33e4ce",
   "metadata": {},
   "outputs": [
    {
     "name": "stdout",
     "output_type": "stream",
     "text": [
      "12345\n"
     ]
    }
   ],
   "source": [
    "t1=(1,2,3,4,5)\n",
    "s1=''.join(str(i) for i in t1)\n",
    "print(s1)"
   ]
  },
  {
   "cell_type": "code",
   "execution_count": 83,
   "id": "9fba453f-01d8-417f-b2af-b785ca57f93a",
   "metadata": {},
   "outputs": [
    {
     "name": "stdout",
     "output_type": "stream",
     "text": [
      "(1, 1.2, True, 'Manvith')\n"
     ]
    }
   ],
   "source": [
    "t1=(1,1.2,True,\"Manvith\")\n",
    "print(t1)"
   ]
  },
  {
   "cell_type": "code",
   "execution_count": 85,
   "id": "c185c664-c571-40b0-b776-58438d2430bb",
   "metadata": {},
   "outputs": [
    {
     "name": "stdout",
     "output_type": "stream",
     "text": [
      "[1, 3]\n"
     ]
    }
   ],
   "source": [
    "t1=(1,1,3,1,3,3,2,1,4,5)\n",
    "l=[]\n",
    "for i in t1:\n",
    "    if t1.count(i)>1 and i not in l:\n",
    "        l.append(i)\n",
    "print(l)"
   ]
  },
  {
   "cell_type": "code",
   "execution_count": 86,
   "id": "407b8830-e95c-4da5-90b3-95627c6b39b9",
   "metadata": {},
   "outputs": [
    {
     "name": "stdout",
     "output_type": "stream",
     "text": [
      "4.5 19.1\n"
     ]
    }
   ],
   "source": [
    "t1 = (\"John\", True, 1, 4.5, \"Danise\", \"Kelly\", 19, 19.1, False, None, 12)\n",
    "print(t1[3],t1[-4])"
   ]
  },
  {
   "cell_type": "code",
   "execution_count": 88,
   "id": "4556ad61-e0f1-4f0e-a45f-6761d038154a",
   "metadata": {},
   "outputs": [
    {
     "name": "stdout",
     "output_type": "stream",
     "text": [
      "('green', 'blue', 'pink', 'brown')\n"
     ]
    }
   ],
   "source": [
    "l1 = [\"green\", \"blue\", \"pink\", \"brown\"]\n",
    "print(tuple(l1))"
   ]
  },
  {
   "cell_type": "code",
   "execution_count": 89,
   "id": "b329dd89-a544-49e6-9804-019a00b9ad33",
   "metadata": {},
   "outputs": [
    {
     "name": "stdout",
     "output_type": "stream",
     "text": [
      "(50, 40, 30, 20, 10)\n"
     ]
    }
   ],
   "source": [
    "t1 = (10, 20, 30, 40, 50)\n",
    "print(t1[::-1])"
   ]
  },
  {
   "cell_type": "code",
   "execution_count": 90,
   "id": "4b165dcc-794c-4871-b9f9-f33da7605c1d",
   "metadata": {},
   "outputs": [
    {
     "name": "stdout",
     "output_type": "stream",
     "text": [
      "20\n"
     ]
    }
   ],
   "source": [
    "t1 = (\"Orange\", [10, 20, 30], (5, 15, 25))\n",
    "print(t1[1][1])"
   ]
  },
  {
   "cell_type": "code",
   "execution_count": 93,
   "id": "7902ef0a-aae4-4f3f-8b5b-c64d9ab4766c",
   "metadata": {},
   "outputs": [
    {
     "name": "stdout",
     "output_type": "stream",
     "text": [
      "(12,)\n"
     ]
    }
   ],
   "source": [
    "t1=(12,)\n",
    "print(t1)"
   ]
  },
  {
   "cell_type": "code",
   "execution_count": 96,
   "id": "42f97cdf-9a51-44a3-bbd3-d3bcbd8c5e9b",
   "metadata": {},
   "outputs": [
    {
     "name": "stdout",
     "output_type": "stream",
     "text": [
      "10 20 30 40\n",
      "10 20 30 40\n",
      "10 20 [30, 40]\n",
      "10 20 (30, 40)\n"
     ]
    }
   ],
   "source": [
    "t1 = (10, 20, 30, 40)\n",
    "x1=t1[0]\n",
    "x2=t1[1]\n",
    "x3=t1[2]\n",
    "x4=t1[3]\n",
    "print(x1,x2,x3,x4)\n",
    "\n",
    "# Another way\n",
    "x1,x2,x3,x4=t1\n",
    "print(x1,x2,x3,x4)\n",
    "\n",
    "# Tip\n",
    "x1,x2,*rest=t1\n",
    "print(x1,x2,rest)\n",
    "print(x1,x2,tuple(rest))"
   ]
  },
  {
   "cell_type": "code",
   "execution_count": 97,
   "id": "61c34ee2-308d-4cf8-a180-2f99caa00b3e",
   "metadata": {},
   "outputs": [
    {
     "name": "stdout",
     "output_type": "stream",
     "text": [
      "4\n"
     ]
    }
   ],
   "source": [
    "t1 = (10, 10, 10, 20, 30, 40, 50, 10)\n",
    "print(t1.count(10))"
   ]
  },
  {
   "cell_type": "code",
   "execution_count": 98,
   "id": "11b84948-bc77-4135-9d17-3763be215c6b",
   "metadata": {},
   "outputs": [
    {
     "name": "stdout",
     "output_type": "stream",
     "text": [
      "1\n",
      "2\n",
      "10\n",
      "12\n"
     ]
    }
   ],
   "source": [
    "s1=set([1,2,1,2,12,10])\n",
    "for i in s1:\n",
    "    print(i)"
   ]
  },
  {
   "cell_type": "code",
   "execution_count": 99,
   "id": "c8118c1d-8879-4da9-a8c0-5f731972e82b",
   "metadata": {},
   "outputs": [
    {
     "name": "stdout",
     "output_type": "stream",
     "text": [
      "{40, 50, 30}\n"
     ]
    }
   ],
   "source": [
    "s1 = {10, 20, 30, 40, 50}\n",
    "s2 = {30, 40, 50, 60, 70}\n",
    "print(s1.intersection(s2))"
   ]
  },
  {
   "cell_type": "code",
   "execution_count": 100,
   "id": "47e31e2a-9d9f-4be2-9f13-0f8a55585a0e",
   "metadata": {},
   "outputs": [
    {
     "name": "stdout",
     "output_type": "stream",
     "text": [
      "{20, 70, 10, 60}\n"
     ]
    }
   ],
   "source": [
    "s1 = {10, 20, 30, 40, 50}\n",
    "s2 = {30, 40, 50, 60, 70}\n",
    "print(s1.symmetric_difference(s2))"
   ]
  },
  {
   "cell_type": "code",
   "execution_count": 101,
   "id": "d28be964-fd30-4a3e-84ad-1685b3aac4b8",
   "metadata": {},
   "outputs": [
    {
     "name": "stdout",
     "output_type": "stream",
     "text": [
      "{10}\n"
     ]
    }
   ],
   "source": [
    "s1 = {10, 20, 30, 40, 50}\n",
    "s2 = {60, 70, 80, 90, 10}\n",
    "is_common=False\n",
    "s3=s1.intersection(s2)\n",
    "if len(s3)>0:\n",
    "    is_common=True\n",
    "if is_common:\n",
    "    print(s3)"
   ]
  },
  {
   "cell_type": "code",
   "execution_count": 111,
   "id": "1eb265bd-0d89-4b84-9805-aedb3e052d40",
   "metadata": {},
   "outputs": [
    {
     "data": {
      "text/plain": [
       "{10, 30}"
      ]
     },
     "execution_count": 111,
     "metadata": {},
     "output_type": "execute_result"
    }
   ],
   "source": [
    "s1={10,20,30}\n",
    "s2={20,40,50}\n",
    "s1.difference(s2)"
   ]
  },
  {
   "cell_type": "code",
   "execution_count": 113,
   "id": "8c08944e-0885-43f2-821a-faedd2d199fc",
   "metadata": {},
   "outputs": [
    {
     "name": "stdout",
     "output_type": "stream",
     "text": [
      "{1, 2, 10}\n"
     ]
    }
   ],
   "source": [
    "s1 = set([1,2,1,2,12,10])\n",
    "s1.remove(12)\n",
    "print(s1)"
   ]
  },
  {
   "cell_type": "code",
   "execution_count": 116,
   "id": "675f633a-cb69-40d6-8564-b07cffa72c6f",
   "metadata": {},
   "outputs": [
    {
     "data": {
      "text/plain": [
       "{10, 20, 30, 40, 50}"
      ]
     },
     "execution_count": 116,
     "metadata": {},
     "output_type": "execute_result"
    }
   ],
   "source": [
    "s1 = {10, 20, 30, 40, 50}\n",
    "s1.add(20)\n",
    "s1"
   ]
  },
  {
   "cell_type": "code",
   "execution_count": 119,
   "id": "f4206840-3010-4caf-a5b7-ee9f86fb553e",
   "metadata": {},
   "outputs": [
    {
     "name": "stdout",
     "output_type": "stream",
     "text": [
      "{10, 30}\n",
      "{40, 10, 50, 30}\n"
     ]
    }
   ],
   "source": [
    "s1={10,20,30}\n",
    "s2={20,40,50}\n",
    "print(s1.difference(s2))\n",
    "print(s1.symmetric_difference(s2))"
   ]
  },
  {
   "cell_type": "code",
   "execution_count": 122,
   "id": "4d41c430-5d4a-4834-801c-a17f850f8815",
   "metadata": {},
   "outputs": [
    {
     "name": "stdout",
     "output_type": "stream",
     "text": [
      "set()\n"
     ]
    }
   ],
   "source": [
    "s1={10,20,30,40,50}\n",
    "s1.clear()\n",
    "print(s1)\n",
    "s1."
   ]
  },
  {
   "cell_type": "code",
   "execution_count": 124,
   "id": "5aef3a39-a57c-466a-af6a-0655ca27b293",
   "metadata": {},
   "outputs": [],
   "source": [
    "s = set(['m', 'n', 'y'])"
   ]
  }
 ],
 "metadata": {
  "kernelspec": {
   "display_name": "Python [conda env:base] *",
   "language": "python",
   "name": "conda-base-py"
  },
  "language_info": {
   "codemirror_mode": {
    "name": "ipython",
    "version": 3
   },
   "file_extension": ".py",
   "mimetype": "text/x-python",
   "name": "python",
   "nbconvert_exporter": "python",
   "pygments_lexer": "ipython3",
   "version": "3.12.7"
  }
 },
 "nbformat": 4,
 "nbformat_minor": 5
}
