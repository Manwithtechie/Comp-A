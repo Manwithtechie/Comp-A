{
 "cells": [
  {
   "cell_type": "code",
   "execution_count": 1,
   "id": "00d01a83-d4bc-47b8-804f-95c47840fbf7",
   "metadata": {},
   "outputs": [],
   "source": [
    "Manvith=['Manvith',22,'Data Scientist',2026]\n",
    "Yukti=['Yukti',25,'Project Manager',2026]\n",
    "Madhu=['Madhu',22,'Businesses',2025]"
   ]
  },
  {
   "cell_type": "code",
   "execution_count": 2,
   "id": "45632b60-f7a6-4ee0-95fa-5ce29ee72320",
   "metadata": {},
   "outputs": [
    {
     "name": "stdout",
     "output_type": "stream",
     "text": [
      "Captain Marvell is taking this degree Advanced Data Science and Heroing and these courses ['Python B', 'Advanced Damage']. She is having fun!\n"
     ]
    }
   ],
   "source": [
    "student_name=[\"Captain Marvell\", \"Wonder Woman\", \"Super Man\", \"The Hulk\"]\n",
    "student_degree=[\"Advanced Data Science and Heroing\", \"Professional Programming\", \"Databases and Fashion\", \"Web Computing and Anger Management\"]\n",
    "student_courses=[[\"Python B\", \"Advanced Damage\"],[\"Python B\", \"Advanced Damage\"], [\"Python B\", \"Advanced Damage\"],[\"Python B\", \"Advanced Damage\"]]\n",
    "\n",
    "print(student_name[0]+\" is taking this degree \"+student_degree[0]+\" and these courses \"+str(student_courses[0])+\". She is having fun!\")"
   ]
  },
  {
   "cell_type": "code",
   "execution_count": 3,
   "id": "d98e00a0-6c34-4cab-9be2-6ca9362907b3",
   "metadata": {},
   "outputs": [
    {
     "name": "stdout",
     "output_type": "stream",
     "text": [
      "Captain America is taking this degree Not Getting Lost and these courses ['Geography for Superheroes']. He is having fun!\n"
     ]
    }
   ],
   "source": [
    "student_name=[\"Captain Marvell\", \"Wonder Woman\", \"Super Man\", \"The Hulk\", \"Captain America\"]\n",
    "student_degree=[\"Advanced Data Science and Heroing\", \"Professional Programming\", \"Databases and Fashion\", \"Web Computing and Anger Management\",\"Not Getting Lost\"]\n",
    "student_courses=[[\"Python B\", \"Advanced Damage\"],[\"Python B\", \"Advanced Damage\"], [\"Python B\", \"Advanced Damage\"],[\"Python B\", \"Advanced Damage\"],[\"Geography for Superheroes\"]]\n",
    "\n",
    "print(student_name[4]+\" is taking this degree \"+student_degree[4]+\" and these courses \"+str(student_courses[4])+\". He is having fun!\")"
   ]
  },
  {
   "cell_type": "code",
   "execution_count": 4,
   "id": "1a61693f-bf1c-49fd-b6f2-e963e0c8f24d",
   "metadata": {},
   "outputs": [
    {
     "name": "stdout",
     "output_type": "stream",
     "text": [
      "<class 'int'>\n",
      "<class 'float'>\n",
      "<class 'str'>\n",
      "<class 'list'>\n",
      "<class 'dict'>\n",
      "<class 'tuple'>\n",
      "<class 'function'>\n"
     ]
    }
   ],
   "source": [
    "my_int=1\n",
    "print(type(my_int))\n",
    "\n",
    "my_float=1.2\n",
    "print(type(my_float))\n",
    "\n",
    "my_string=\"\"\n",
    "print(type(my_string))\n",
    "\n",
    "my_list=[]\n",
    "print(type(my_list))\n",
    "\n",
    "my_dict={}\n",
    "print(type(my_dict))\n",
    "\n",
    "my_tuple=()\n",
    "print(type(my_tuple))\n",
    "\n",
    "def my_function():\n",
    "    pass\n",
    "print(type(my_function))"
   ]
  },
  {
   "cell_type": "code",
   "execution_count": 5,
   "id": "8d2077f5-6d35-4fa0-809c-8e526be31663",
   "metadata": {},
   "outputs": [],
   "source": [
    "class Employee:\n",
    "    pass"
   ]
  },
  {
   "cell_type": "code",
   "execution_count": 6,
   "id": "72b04c13-8a07-472a-873b-05b0bc2d7a33",
   "metadata": {},
   "outputs": [
    {
     "name": "stdout",
     "output_type": "stream",
     "text": [
      "<class '__main__.Employee'>\n"
     ]
    }
   ],
   "source": [
    "john=Employee()\n",
    "print(type(john))"
   ]
  },
  {
   "cell_type": "code",
   "execution_count": 7,
   "id": "482c6f84-967e-4cce-b902-16a8001d43bc",
   "metadata": {},
   "outputs": [
    {
     "name": "stdout",
     "output_type": "stream",
     "text": [
      "<class '__main__.Vehicle'>\n"
     ]
    }
   ],
   "source": [
    "class Vehicle:\n",
    "    pass\n",
    "Car=Vehicle()\n",
    "print(type(Car))"
   ]
  },
  {
   "cell_type": "code",
   "execution_count": 8,
   "id": "734a5226-7c18-441e-a37c-c59adcb5600e",
   "metadata": {},
   "outputs": [
    {
     "name": "stdout",
     "output_type": "stream",
     "text": [
      "Displaying attributes\n",
      "Year: 2025\n",
      "Mileage: 12\n",
      "Speed: 120\n",
      "\n",
      "Displaying methods\n",
      "Speed after acceleration: 140\n",
      "Speed after brake: 70\n"
     ]
    }
   ],
   "source": [
    "class Vehicle:\n",
    "    year=2025\n",
    "    mpg=12\n",
    "    speed=120\n",
    "\n",
    "    def accelerate(self):\n",
    "        return self.speed+20\n",
    "    def brake(self):\n",
    "        return self.speed-50\n",
    "\n",
    "car1=Vehicle()\n",
    "\n",
    "print('Displaying attributes')\n",
    "print('Year:',car1.year)\n",
    "print('Mileage:',car1.mpg)\n",
    "print('Speed:',car1.speed)\n",
    "print()\n",
    "\n",
    "print('Displaying methods')\n",
    "print('Speed after acceleration:',car1.accelerate())\n",
    "print('Speed after brake:',car1.brake())"
   ]
  },
  {
   "cell_type": "code",
   "execution_count": 9,
   "id": "3ec5f297-e13d-4025-b573-ab014f5bc9d0",
   "metadata": {},
   "outputs": [
    {
     "name": "stdout",
     "output_type": "stream",
     "text": [
      "Displaying attributes\n",
      "Year: 2025\n",
      "Mileage: 12\n",
      "Speed: 120\n",
      "\n",
      "Displaying methods\n",
      "My details are as follows: Year: 2025 Mileage: 12 Current Speed: 120\n",
      "I need to increase my speed by 15\n",
      "135\n",
      "My details are as follows: Year: 2025 Mileage: 12 Current Speed: 120\n",
      "I need to reduce my speed by 12\n",
      "108\n"
     ]
    }
   ],
   "source": [
    "class Vehicle:\n",
    "    year=2025\n",
    "    mpg=12\n",
    "    speed=120\n",
    "\n",
    "    def accelerate(self,value):\n",
    "        print(\"My details are as follows:\",\"Year:\",self.year,\"Mileage:\",self.mpg,\"Current Speed:\",self.speed)\n",
    "        print(\"I need to increase my speed by\",value)\n",
    "        return self.speed+value\n",
    "    def brake(self,value):\n",
    "        print(\"My details are as follows:\",\"Year:\",self.year,\"Mileage:\",self.mpg,\"Current Speed:\",self.speed)\n",
    "        print('I need to reduce my speed by',value)\n",
    "        return self.speed-value\n",
    "\n",
    "car1=Vehicle()\n",
    "\n",
    "print('Displaying attributes')\n",
    "print('Year:',car1.year)\n",
    "print('Mileage:',car1.mpg)\n",
    "print('Speed:',car1.speed)\n",
    "print()\n",
    "\n",
    "print('Displaying methods')\n",
    "print(car1.accelerate(15))\n",
    "print(car1.brake(12))"
   ]
  },
  {
   "cell_type": "code",
   "execution_count": 10,
   "id": "c5e77043-88de-40d9-a05a-4aa3b41da771",
   "metadata": {},
   "outputs": [
    {
     "name": "stdout",
     "output_type": "stream",
     "text": [
      "Name: Manvith\n",
      "Age: 22\n",
      "Role: Data Scientist\n",
      "Salary: 120000\n",
      "\n",
      "Your increased salary is: 140000\n",
      "\n",
      "Name: Manvith\n",
      "Age: 22\n",
      "Role: Data Scientist\n",
      "Salary: 140000\n"
     ]
    }
   ],
   "source": [
    "class Employee:\n",
    "    name='Manvith'\n",
    "    age=22\n",
    "    role='Data Scientist'\n",
    "    salary=120000\n",
    "\n",
    "    def hike(self):\n",
    "        print('Your increased salary is:',self.salary+20000)\n",
    "        self.salary+=20000\n",
    "    def employee_details(self):\n",
    "        print('Name:',self.name)\n",
    "        print('Age:',self.age)\n",
    "        print('Role:',self.role)\n",
    "        print('Salary:',self.salary)\n",
    "emp1=Employee()\n",
    "emp1.employee_details()\n",
    "print()\n",
    "emp1.hike()\n",
    "print()\n",
    "emp1.employee_details()"
   ]
  },
  {
   "cell_type": "code",
   "execution_count": 11,
   "id": "37acad6c-cb28-4971-822e-06a8dec9edd1",
   "metadata": {},
   "outputs": [
    {
     "name": "stdout",
     "output_type": "stream",
     "text": [
      "<__main__.Vehicle object at 0x10596bbc0>\n",
      "<__main__.Vehicle object at 0x10596bbc0>\n"
     ]
    }
   ],
   "source": [
    "class Vehicle:\n",
    "    pass\n",
    "print(Vehicle())\n",
    "print(Vehicle())"
   ]
  },
  {
   "cell_type": "code",
   "execution_count": 12,
   "id": "1e60dedc-95f2-4b6b-8ca3-edf9b34d2879",
   "metadata": {},
   "outputs": [
    {
     "name": "stdout",
     "output_type": "stream",
     "text": [
      "False\n"
     ]
    }
   ],
   "source": [
    "class Vehicel:\n",
    "    pass\n",
    "v1=Vehicle()\n",
    "v2=Vehicle()\n",
    "print(v1==v2)"
   ]
  },
  {
   "cell_type": "code",
   "execution_count": 13,
   "id": "00ec70ec-5172-4d88-a84e-b75cb9684845",
   "metadata": {},
   "outputs": [
    {
     "name": "stdout",
     "output_type": "stream",
     "text": [
      "This is to test Doc String\n"
     ]
    }
   ],
   "source": [
    "class Sample_Doc:\n",
    "    '''This is to test Doc String'''\n",
    "    pass\n",
    "print(Sample_Doc.__doc__)"
   ]
  },
  {
   "cell_type": "code",
   "execution_count": 14,
   "id": "e3d4457b-fcae-4b73-946a-efa912888d60",
   "metadata": {},
   "outputs": [
    {
     "name": "stdout",
     "output_type": "stream",
     "text": [
      "Displaying car1 attributes\n",
      "Year: 2025\n",
      "Mileage: 12\n",
      "Speed: 120\n",
      "\n",
      "Displaying car2 attributes\n",
      "Year: 2023\n",
      "Mileage: 18\n",
      "Speed: 100\n"
     ]
    }
   ],
   "source": [
    "class Vehicle:\n",
    "    year=2025\n",
    "    mpg=12\n",
    "    speed=120\n",
    "\n",
    "    def accelerate(self):\n",
    "        return self.speed+20\n",
    "    def brake(self):\n",
    "        return self.speed-50\n",
    "\n",
    "car1=Vehicle()\n",
    "\n",
    "print('Displaying car1 attributes')\n",
    "print('Year:',car1.year)\n",
    "print('Mileage:',car1.mpg)\n",
    "print('Speed:',car1.speed)\n",
    "print()\n",
    "\n",
    "car2=Vehicle()\n",
    "car2.year=2023\n",
    "car2.mpg=18\n",
    "car2.speed=100\n",
    "print('Displaying car2 attributes')\n",
    "print('Year:',car2.year)\n",
    "print('Mileage:',car2.mpg)\n",
    "print('Speed:',car2.speed)"
   ]
  },
  {
   "cell_type": "code",
   "execution_count": 15,
   "id": "027030bd-8b99-4b82-b580-d4ae198c0ce9",
   "metadata": {},
   "outputs": [
    {
     "name": "stdout",
     "output_type": "stream",
     "text": [
      "The first customer is Manvith (account no: 1234) with a balace of $2000\n",
      "The second customer is Yukti (account no: 5678) with a balance of $2001\n"
     ]
    }
   ],
   "source": [
    "class Customer:\n",
    "    def __init__(self,name,acc_no):\n",
    "        self.name=name\n",
    "        self.acc_no=acc_no\n",
    "        self.balance=0\n",
    "        self.debit_card_no=None\n",
    "\n",
    "    def withdraw_money(self,amount):\n",
    "        self.balance-=amount\n",
    "        return self.balance\n",
    "    def deposit_money(self,amount):\n",
    "        self.balance+=amount\n",
    "        return self.balance\n",
    "\n",
    "customer1=Customer('Manvith',1234)\n",
    "customer1.deposit_money(2000)\n",
    "print(f'The first customer is {customer1.name} (account no: {customer1.acc_no}) with a balace of ${customer1.balance}')\n",
    "\n",
    "customer2=Customer('Yukti',5678)\n",
    "customer2.deposit_money(2001)\n",
    "print(f'The second customer is {customer2.name} (account no: {customer2.acc_no}) with a balance of ${customer2.balance}')"
   ]
  },
  {
   "cell_type": "code",
   "execution_count": 16,
   "id": "fd66df86-d7e1-4932-9375-0043a6f1b489",
   "metadata": {},
   "outputs": [
    {
     "name": "stdout",
     "output_type": "stream",
     "text": [
      "Mammal\n",
      "land\n"
     ]
    }
   ],
   "source": [
    "# Class Variables:\n",
    "class Dog:\n",
    "    animal_type='Mammal'\n",
    "    location='land'\n",
    "new_dog=Dog()\n",
    "print(new_dog.animal_type)\n",
    "print(new_dog.location)"
   ]
  },
  {
   "cell_type": "code",
   "execution_count": 17,
   "id": "56a19949-1a8c-454f-8194-b0d26f9ccd5d",
   "metadata": {},
   "outputs": [
    {
     "name": "stdout",
     "output_type": "stream",
     "text": [
      "Mammal\n",
      "Land\n",
      "Dog\n"
     ]
    }
   ],
   "source": [
    "class Animal:\n",
    "    def __init__(self,animal_type,loc):\n",
    "        self.animal_type=animal_type\n",
    "        self.loc=loc\n",
    "    def update_name(self,name):\n",
    "        self.name=name\n",
    "new_animal=Animal('Mammal','Land')\n",
    "print(new_animal.animal_type)\n",
    "print(new_animal.loc)\n",
    "new_animal.update_name('Dog')\n",
    "print(new_animal.name)"
   ]
  },
  {
   "cell_type": "code",
   "execution_count": 18,
   "id": "9fdf262d-ee6e-4f84-add5-1522ebd0a6b8",
   "metadata": {},
   "outputs": [
    {
     "name": "stdout",
     "output_type": "stream",
     "text": [
      "fish\n",
      "7\n"
     ]
    }
   ],
   "source": [
    "class Shark:\n",
    "    type='fish'\n",
    "    def __init__(self,age):\n",
    "        self.age=age\n",
    "new_shark=Shark(7)\n",
    "print(new_shark.type)\n",
    "print(new_shark.age)"
   ]
  },
  {
   "cell_type": "code",
   "execution_count": 19,
   "id": "22c8a2af-2659-4172-964a-0e65f1f5a2d9",
   "metadata": {},
   "outputs": [
    {
     "name": "stdout",
     "output_type": "stream",
     "text": [
      "Manvith\n",
      "9\n",
      "17\n"
     ]
    }
   ],
   "source": [
    "class Student:\n",
    "    standard=9\n",
    "    def __init__(self,name,age):\n",
    "        self.name=name\n",
    "        self.age=age\n",
    "new_student=Student('Manvith',17)\n",
    "print(new_student.name)\n",
    "print(new_student.standard)\n",
    "print(new_student.age)"
   ]
  },
  {
   "cell_type": "code",
   "execution_count": 20,
   "id": "57c089f7-5cf3-4499-86e3-6e755287dd71",
   "metadata": {},
   "outputs": [
    {
     "name": "stdout",
     "output_type": "stream",
     "text": [
      "The first customer is Manvith (account no: 1234) with a balace of $2000\n",
      "The second customer is Yukti (account no: 5678) with a balance of $2001\n"
     ]
    }
   ],
   "source": [
    "class Customer:\n",
    "    def __init__(self,name,acc_no):\n",
    "        self.name=name\n",
    "        self.acc_no=acc_no\n",
    "        self.balance=0\n",
    "        self.debit_card_no=None\n",
    "\n",
    "    def withdraw_money(self,amount):\n",
    "        self.balance-=amount\n",
    "        return self.balance\n",
    "    def deposit_money(self,amount):\n",
    "        self.balance+=amount\n",
    "        return self.balance\n",
    "\n",
    "customer1=Customer('Manvith',1234)\n",
    "customer1.deposit_money(2000)\n",
    "print(f'The first customer is {customer1.name} (account no: {customer1.acc_no}) with a balace of ${customer1.balance}')\n",
    "\n",
    "customer2=Customer('Yukti',5678)\n",
    "customer2.deposit_money(2001)\n",
    "print(f'The second customer is {customer2.name} (account no: {customer2.acc_no}) with a balance of ${customer2.balance}')"
   ]
  },
  {
   "cell_type": "code",
   "execution_count": 21,
   "id": "2cbb9b35-9281-48b1-bcfe-b68ac8977dc9",
   "metadata": {},
   "outputs": [
    {
     "name": "stdout",
     "output_type": "stream",
     "text": [
      "Venkat\n",
      "5000\n",
      "1357\n",
      "1700\n"
     ]
    }
   ],
   "source": [
    "customer3=Customer('Venkat',1357)\n",
    "customer3.deposit_money(5000)\n",
    "customer3.balence=1700 #New class attribute can be created from object\n",
    "print(customer3.name)\n",
    "print(customer3.balance)\n",
    "print(customer3.acc_no)\n",
    "print(customer3.balence)"
   ]
  },
  {
   "cell_type": "code",
   "execution_count": 22,
   "id": "81bad628-a93c-45b2-903c-1b112fe3b9cc",
   "metadata": {},
   "outputs": [
    {
     "name": "stdout",
     "output_type": "stream",
     "text": [
      "a1983706 Manvith\n",
      "a1993500 Madhu\n"
     ]
    }
   ],
   "source": [
    "class Student:\n",
    "    def __init__(self,student_id,student_name):\n",
    "        self.student_id=student_id\n",
    "        self.student_name=student_name\n",
    "student1=Student('a1983706','Manvith')\n",
    "student2=Student('a1993500','Madhu')\n",
    "print(student1.student_id,student1.student_name)\n",
    "print(student2.student_id,student2.student_name)"
   ]
  },
  {
   "cell_type": "code",
   "execution_count": 23,
   "id": "3c030334-e57d-4344-a199-5db6f8e4d841",
   "metadata": {},
   "outputs": [
    {
     "name": "stdout",
     "output_type": "stream",
     "text": [
      "Food: 120\n",
      "Education: 120000\n",
      "Clothing: 80\n",
      "Entertainment: 40\n",
      "Transferred 200 from education to entertainment\n",
      "Food: 140\n",
      "Education: 119800\n",
      "Clothing: 80\n",
      "Entertainment: 240\n"
     ]
    }
   ],
   "source": [
    "class Category:\n",
    "    def __init__(self,fund):\n",
    "        self.fund=fund\n",
    "    def deposit(self,amount):\n",
    "        self.fund+=amount\n",
    "        return self.fund\n",
    "    def withdraw(self,amount):\n",
    "        if amount<=self.fund:\n",
    "            self.fund-=amount\n",
    "        else:\n",
    "            print('Insufficient Funds')\n",
    "        return self.fund\n",
    "\n",
    "class Budget:\n",
    "    def __init__(self):\n",
    "        self.food = Category(120)\n",
    "        self.education = Category(120000)\n",
    "        self.clothing = Category(80)\n",
    "        self.entertainment = Category(40)\n",
    "    \n",
    "    \n",
    "    def print_details(self):\n",
    "        print(f\"Food: {self.food.fund}\")\n",
    "        print(f\"Education: {self.education.fund}\")\n",
    "        print(f\"Clothing: {self.clothing.fund}\")\n",
    "        print(f\"Entertainment: {self.entertainment.fund}\")\n",
    "\n",
    "    def deposit_fund(self, category, amount):\n",
    "        getattr(self, category).deposit(amount)\n",
    "\n",
    "    def withdraw_fund(self, category, amount):\n",
    "        getattr(self, category).withdraw(amount)\n",
    "\n",
    "    def transfer_funds(self, from_cat, to_cat, amount):\n",
    "        from_obj = getattr(self, from_cat)\n",
    "        to_obj = getattr(self, to_cat)\n",
    "        if amount <= from_obj.fund:\n",
    "            from_obj.withdraw(amount)\n",
    "            to_obj.deposit(amount)\n",
    "            print(f\"Transferred {amount} from {from_cat} to {to_cat}\")\n",
    "        else:\n",
    "            print(\"Insufficient Funds\")\n",
    "\n",
    "budget = Budget()\n",
    "budget.print_details()\n",
    "budget.deposit_fund(\"food\", 25)\n",
    "budget.withdraw_fund(\"food\", 5)\n",
    "budget.transfer_funds(\"education\", \"entertainment\", 200)\n",
    "budget.print_details()"
   ]
  },
  {
   "cell_type": "code",
   "execution_count": 24,
   "id": "1922752e-1932-4af4-ac22-bffc95a7e940",
   "metadata": {},
   "outputs": [
    {
     "name": "stdout",
     "output_type": "stream",
     "text": [
      "Food Fund: 120\n",
      "Education Fund: 120000\n",
      "Clothing Fund: 80\n",
      "Entertainment Fund: 40\n",
      "Food Fund: 135\n",
      "Education Fund: 119500\n",
      "Clothing Fund: 80\n",
      "Entertainment Fund: 540\n"
     ]
    }
   ],
   "source": [
    "# Without getattr()\n",
    "class Category:\n",
    "    def __init__(self, fund):\n",
    "        self.fund = fund\n",
    "\n",
    "    def deposit(self, amount):\n",
    "        self.fund += amount\n",
    "        return self.fund\n",
    "\n",
    "    def withdraw(self, amount):\n",
    "        if amount <= self.fund:\n",
    "            self.fund -= amount\n",
    "        else:\n",
    "            print(\"Insufficient Funds\")\n",
    "        return self.fund\n",
    "\n",
    "\n",
    "class Budget:\n",
    "    def __init__(self):\n",
    "        self.food = Category(120)\n",
    "        self.education = Category(120000)\n",
    "        self.clothing = Category(80)\n",
    "        self.entertainment = Category(40)\n",
    "\n",
    "    def print_details(self):\n",
    "        print(\"Food Fund:\", self.food.fund)\n",
    "        print(\"Education Fund:\", self.education.fund)\n",
    "        print(\"Clothing Fund:\", self.clothing.fund)\n",
    "        print(\"Entertainment Fund:\", self.entertainment.fund)\n",
    "\n",
    "    def deposit_fund(self, category, amount):\n",
    "        if category == \"food\":\n",
    "            self.food.deposit(amount)\n",
    "        elif category == \"education\":\n",
    "            self.education.deposit(amount)\n",
    "        elif category == \"clothing\":\n",
    "            self.clothing.deposit(amount)\n",
    "        elif category == \"entertainment\":\n",
    "            self.entertainment.deposit(amount)\n",
    "        else:\n",
    "            print(\"Invalid category\")\n",
    "\n",
    "    def withdraw_fund(self, category, amount):\n",
    "        if category == \"food\":\n",
    "            self.food.withdraw(amount)\n",
    "        elif category == \"education\":\n",
    "            self.education.withdraw(amount)\n",
    "        elif category == \"clothing\":\n",
    "            self.clothing.withdraw(amount)\n",
    "        elif category == \"entertainment\":\n",
    "            self.entertainment.withdraw(amount)\n",
    "        else:\n",
    "            print(\"Invalid category\")\n",
    "\n",
    "    def transfer_funds(self, from_category, to_category, amount):\n",
    "        # withdraw from one and deposit to another\n",
    "        if from_category == \"food\" and amount <= self.food.fund:\n",
    "            self.food.withdraw(amount)\n",
    "            if to_category == \"education\":\n",
    "                self.education.deposit(amount)\n",
    "            elif to_category == \"clothing\":\n",
    "                self.clothing.deposit(amount)\n",
    "            elif to_category == \"entertainment\":\n",
    "                self.entertainment.deposit(amount)\n",
    "        elif from_category == \"education\" and amount <= self.education.fund:\n",
    "            self.education.withdraw(amount)\n",
    "            if to_category == \"food\":\n",
    "                self.food.deposit(amount)\n",
    "            elif to_category == \"clothing\":\n",
    "                self.clothing.deposit(amount)\n",
    "            elif to_category == \"entertainment\":\n",
    "                self.entertainment.deposit(amount)\n",
    "        elif from_category == \"clothing\" and amount <= self.clothing.fund:\n",
    "            self.clothing.withdraw(amount)\n",
    "            if to_category == \"food\":\n",
    "                self.food.deposit(amount)\n",
    "            elif to_category == \"education\":\n",
    "                self.education.deposit(amount)\n",
    "            elif to_category == \"entertainment\":\n",
    "                self.entertainment.deposit(amount)\n",
    "        elif from_category == \"entertainment\" and amount <= self.entertainment.fund:\n",
    "            self.entertainment.withdraw(amount)\n",
    "            if to_category == \"food\":\n",
    "                self.food.deposit(amount)\n",
    "            elif to_category == \"education\":\n",
    "                self.education.deposit(amount)\n",
    "            elif to_category == \"clothing\":\n",
    "                self.clothing.deposit(amount)\n",
    "        else:\n",
    "            print(\"Insufficient funds or invalid category\")\n",
    "\n",
    "budget = Budget()\n",
    "budget.print_details()\n",
    "\n",
    "budget.deposit_fund(\"food\", 25)\n",
    "budget.withdraw_fund(\"food\", 10)\n",
    "budget.transfer_funds(\"education\", \"entertainment\", 500)\n",
    "budget.print_details()"
   ]
  },
  {
   "cell_type": "code",
   "execution_count": 25,
   "id": "dfd900bb-fd8e-4e20-a1a5-9b36351166ce",
   "metadata": {},
   "outputs": [
    {
     "name": "stdout",
     "output_type": "stream",
     "text": [
      "Counter: 0\n",
      "0\n",
      "1000\n",
      "1100\n",
      "800\n",
      "Counter: 1\n",
      "Counter: 2\n",
      "Counter: 2\n",
      "Counter: 2\n"
     ]
    }
   ],
   "source": [
    "class Customer:    \n",
    "    customer_counter = 0\n",
    "    def __init__(self,name):\n",
    "        self.name = name\n",
    "        self.account_no = Customer.customer_counter+1        \n",
    "        Customer.customer_counter += 1\n",
    "        self.balance = 0\n",
    "        self.debit_card_no = None\n",
    "    \n",
    "    def withdraw_money(self, amount):\n",
    "        if amount<=self.balance:\n",
    "            self.balance -= amount\n",
    "        else:\n",
    "            print('Insufficient Funds')\n",
    "        return self.balance\n",
    "    \n",
    "    def deposit_money(self, amount):\n",
    "        self.balance += amount\n",
    "        return self.balance\n",
    "\n",
    "print('Counter:',Customer.customer_counter)\n",
    "customer1=Customer('Manvith')\n",
    "print(customer1.balance)\n",
    "customer1.balance=1000\n",
    "print(customer1.balance)\n",
    "customer1.deposit_money(100)\n",
    "print(customer1.balance)\n",
    "customer1.withdraw_money(300)\n",
    "print(customer1.balance)\n",
    "print('Counter:',customer1.customer_counter)\n",
    "customer2=Customer('Manvith')\n",
    "print('Counter:',customer1.customer_counter)\n",
    "print('Counter:',customer2.customer_counter)\n",
    "print('Counter:',Customer.customer_counter)"
   ]
  },
  {
   "cell_type": "markdown",
   "id": "591eca96-c7de-4d34-a0d1-1fa4610d3570",
   "metadata": {},
   "source": [
    "# Access Modifiers and Magic Methods (Dunder Methods)"
   ]
  },
  {
   "cell_type": "code",
   "execution_count": 26,
   "id": "7359deb8-4ace-44af-8d53-3981110ae75e",
   "metadata": {},
   "outputs": [
    {
     "name": "stdout",
     "output_type": "stream",
     "text": [
      "Counter: 0\n",
      "Balance: 0\n",
      "Acc No: 1\n",
      "Balance: 100\n",
      "Insufficient Funds\n",
      "Balance: 100\n",
      "Counter: 1\n",
      "Counter: 2\n",
      "Counter: 2\n",
      "Counter: 2\n",
      "Acc No: 2\n",
      "Balance is: 12000\n"
     ]
    }
   ],
   "source": [
    "#Making balance attribute private\n",
    "class Customer:    \n",
    "    customer_counter = 0\n",
    "    def __init__(self,name):\n",
    "        self.name = name\n",
    "        self.account_no = Customer.customer_counter+1        \n",
    "        Customer.customer_counter += 1\n",
    "        self.__balance = 0\n",
    "        self.debit_card_no = None\n",
    "\n",
    "    def print_balance(self):\n",
    "        print('Balance:',self.__balance)\n",
    "    \n",
    "    def withdraw_money(self, amount):\n",
    "        if amount<=self.__balance:\n",
    "            self.__balance -= amount\n",
    "        else:\n",
    "            print('Insufficient Funds')\n",
    "        return self.__balance\n",
    "    \n",
    "    def deposit_money(self, amount):\n",
    "        self.__balance += amount\n",
    "        return self.__balance\n",
    "\n",
    "    def get_balance(self):\n",
    "        return self.__balance\n",
    "\n",
    "    def set_balance(self,amount):\n",
    "        if amount>0:\n",
    "            self.__balance=amount\n",
    "\n",
    "print('Counter:',Customer.customer_counter)\n",
    "customer1=Customer('Manvith')\n",
    "customer1.print_balance()\n",
    "print('Acc No:',customer1.account_no)\n",
    "# customer1.balance=1000 # AttributeError as balance is private now\n",
    "# print(customer1.balance)\n",
    "customer1.deposit_money(100)\n",
    "customer1.print_balance()\n",
    "customer1.withdraw_money(300)\n",
    "customer1.print_balance()\n",
    "print('Counter:',customer1.customer_counter)\n",
    "customer2=Customer('Yukti')\n",
    "print('Counter:',customer1.customer_counter)\n",
    "print('Counter:',customer2.customer_counter)\n",
    "print('Counter:',Customer.customer_counter)\n",
    "print('Acc No:',customer2.account_no)\n",
    "customer2.set_balance(12000)\n",
    "print('Balance is:',customer2.get_balance())\n",
    "# print(customer1.__balance) # Error"
   ]
  },
  {
   "cell_type": "code",
   "execution_count": 27,
   "id": "74dd36d0-3291-4591-94b2-4bf1a85b17b7",
   "metadata": {},
   "outputs": [
    {
     "name": "stdout",
     "output_type": "stream",
     "text": [
      "The customer Madhu with the account number 1 has a balance of 0\n"
     ]
    }
   ],
   "source": [
    "class Customer:\n",
    "    customer_counter=0\n",
    "    def __init__(self,name):\n",
    "        self.name=name\n",
    "        self.acc_no=Customer.customer_counter+1\n",
    "        Customer.customer_counter+=1\n",
    "        self.__balance=0\n",
    "        self.debit_card_no=None\n",
    "\n",
    "    def __str__(self):\n",
    "        return(f'The customer {self.name} with the account number {self.acc_no} has a balance of {self.__balance}')\n",
    "\n",
    "    def withdraw_money(self,amount):\n",
    "        self.__balance-=amount\n",
    "        return self.__balance\n",
    "    \n",
    "    def deposit_money(self,amount):\n",
    "        self.__balance+=amount\n",
    "        return self.__balance\n",
    "    \n",
    "    def get_balance(self):\n",
    "        return self.__balance\n",
    "    \n",
    "    def set_balance(self,amount):\n",
    "        if amount>0:\n",
    "            self.__balance=amount\n",
    "\n",
    "customer_1 = Customer('Madhu')\n",
    "print(str(customer_1))      "
   ]
  },
  {
   "cell_type": "code",
   "execution_count": 28,
   "id": "18a48cfc-050f-478f-8855-aa6bcf4d0c1d",
   "metadata": {},
   "outputs": [
    {
     "name": "stdout",
     "output_type": "stream",
     "text": [
      "False\n"
     ]
    }
   ],
   "source": [
    "class Weight:\n",
    "    def __init__(self,weight):\n",
    "        self.weight=weight\n",
    "\n",
    "    def __lt__(self,other):\n",
    "        return self.weight<other.weight\n",
    "\n",
    "    def __gt__(self,other):\n",
    "        return self.weight>other.weight\n",
    "\n",
    "a=Weight(50)\n",
    "b=Weight(75)\n",
    "c=Weight(100)\n",
    "\n",
    "print(a<b and b>c)"
   ]
  },
  {
   "cell_type": "code",
   "execution_count": 29,
   "id": "a7fa058f-fd91-4285-b25a-139e1dfcaed1",
   "metadata": {},
   "outputs": [
    {
     "name": "stdout",
     "output_type": "stream",
     "text": [
      "5\n",
      "-1\n",
      "6\n",
      "0\n",
      "0.6666666666666666\n",
      "2\n",
      "8\n",
      "False\n",
      "True\n"
     ]
    }
   ],
   "source": [
    "class BinaryOperators:\n",
    "    def __init__(self,num):\n",
    "        self.num=num\n",
    "\n",
    "    def __add__(self,other):\n",
    "        return self.num+other.num\n",
    "        \n",
    "    def __sub__(self,other):\n",
    "        return self.num-other.num\n",
    "        \n",
    "    def __mul__(self,other):\n",
    "        return self.num*other.num\n",
    "        \n",
    "    def __floordiv__(self,other):\n",
    "        return self.num//other.num\n",
    "        \n",
    "    def __truediv__(self,other):\n",
    "        return self.num/other.num\n",
    "        \n",
    "    def __mod__(self,other):\n",
    "        return self.num%other.num\n",
    "        \n",
    "    def __pow__(self,other):\n",
    "        return self.num**other.num\n",
    "        \n",
    "    def __and__(self,other):\n",
    "        return self.num and other.num\n",
    "        \n",
    "    def __or__(self,other):\n",
    "        return self.num or other.num\n",
    "\n",
    "a=BinaryOperators(2)\n",
    "b=BinaryOperators(3)\n",
    "c=BinaryOperators(False)\n",
    "d=BinaryOperators(True)\n",
    "print(a+b)\n",
    "print(a-b)\n",
    "print(a*b)\n",
    "print(a//b)\n",
    "print(a/b)\n",
    "print(a%b)\n",
    "print(a**b)\n",
    "print(c & d)\n",
    "print(c | d)"
   ]
  },
  {
   "cell_type": "code",
   "execution_count": 30,
   "id": "60f36166-0cb2-4b8a-bd97-873afad5a4ac",
   "metadata": {},
   "outputs": [
    {
     "name": "stdout",
     "output_type": "stream",
     "text": [
      "2\n",
      "3\n",
      "5\n",
      "2\n"
     ]
    }
   ],
   "source": [
    "class ExtendedAssignments:\n",
    "    def __init__(self,num):\n",
    "        self.num=num\n",
    "\n",
    "    def __iadd__(self,other):\n",
    "        self.num+=other.num\n",
    "        return self\n",
    "        \n",
    "    def __isub__(self,other):\n",
    "        self.num-=other.num\n",
    "        return self\n",
    "        \n",
    "    def __imul__(self,other):\n",
    "        self.num*=other.num\n",
    "        return self\n",
    "        \n",
    "    def __ifloordiv__(self,other):\n",
    "        self.num//=other.num\n",
    "        return self\n",
    "        \n",
    "    def __itruediv__(self,other):\n",
    "        self.num/=other.num\n",
    "        return self\n",
    "        \n",
    "    def __imod__(self,other):\n",
    "        self.num%=other.num\n",
    "        return self\n",
    "        \n",
    "    def __ipow__(self,other):\n",
    "        self.num**=other.num\n",
    "        return self\n",
    "        \n",
    "    def __iand__(self,other):\n",
    "        self.num = self.num and other.num\n",
    "        return self\n",
    "        \n",
    "    def __ior__(self,other):\n",
    "        self.num = self.num or other.num\n",
    "        return self\n",
    "\n",
    "    def display(self):\n",
    "        print(self.num)\n",
    "\n",
    "a=ExtendedAssignments(2)\n",
    "b=ExtendedAssignments(3)\n",
    "a.display()\n",
    "b.display()\n",
    "a+=b\n",
    "a.display()\n",
    "a-=b\n",
    "a.display()"
   ]
  },
  {
   "cell_type": "code",
   "execution_count": 31,
   "id": "2835e41e-9423-401e-a7e1-ad0934a9ceb0",
   "metadata": {},
   "outputs": [
    {
     "name": "stdout",
     "output_type": "stream",
     "text": [
      "5\n",
      "-5\n",
      "5\n",
      "-6\n",
      "(5+0j)\n",
      "5\n",
      "5.0\n"
     ]
    }
   ],
   "source": [
    "class UnaryOperator:\n",
    "    def __init__(self, num):\n",
    "        self.num = num\n",
    "\n",
    "    def __pos__(self):\n",
    "        return +self.num\n",
    "\n",
    "    def __neg__(self):\n",
    "        return -self.num\n",
    "\n",
    "    def __abs__(self):\n",
    "        return abs(self.num)\n",
    "\n",
    "    def __invert__(self):\n",
    "        return ~self.num\n",
    "\n",
    "    def __complex__(self):\n",
    "        return complex(self.num)\n",
    "\n",
    "    def __int__(self):\n",
    "        return int(self.num)\n",
    "\n",
    "    def __float__(self):\n",
    "        return float(self.num)\n",
    "\n",
    "\n",
    "a = UnaryOperator(5)\n",
    "\n",
    "print(+a)  \n",
    "print(-a)\n",
    "print(abs(a))\n",
    "print(~a)  \n",
    "print(complex(a))\n",
    "print(int(a)) \n",
    "print(float(a))"
   ]
  },
  {
   "cell_type": "code",
   "execution_count": 32,
   "id": "d8667dba-7c8e-4528-be4b-ff33839a2fc7",
   "metadata": {},
   "outputs": [
    {
     "name": "stdout",
     "output_type": "stream",
     "text": [
      "True\n",
      "True\n",
      "False\n",
      "True\n",
      "False\n",
      "False\n"
     ]
    }
   ],
   "source": [
    "class ComparisonOperator:\n",
    "    def __init__(self, num):\n",
    "        self.num = num\n",
    "\n",
    "    def __lt__(self, other):\n",
    "        return self.num < other.num\n",
    "\n",
    "    def __le__(self, other):\n",
    "        return self.num <= other.num\n",
    "\n",
    "    def __eq__(self, other):\n",
    "        return self.num == other.num\n",
    "\n",
    "    def __ne__(self, other):\n",
    "        return self.num != other.num\n",
    "\n",
    "    def __ge__(self, other):\n",
    "        return self.num >= other.num\n",
    "\n",
    "    def __gt__(self, other):\n",
    "        return self.num > other.num\n",
    "\n",
    "a = ComparisonOperator(10)\n",
    "b = ComparisonOperator(20)\n",
    "\n",
    "print(a < b)\n",
    "print(a <= b)\n",
    "print(a == b)\n",
    "print(a != b)\n",
    "print(a >= b)\n",
    "print(a > b)"
   ]
  },
  {
   "cell_type": "code",
   "execution_count": 33,
   "id": "d7c7987a-145f-4220-a9bd-c72a31b9ecb6",
   "metadata": {},
   "outputs": [
    {
     "name": "stdout",
     "output_type": "stream",
     "text": [
      "The flower has bloomed\n",
      "The Margold which is Yellow has bloomed\n",
      "The flower has bloomed\n",
      "The Rose which is Red has bloomed\n",
      "The flower has bloomed\n",
      "The Tulip which is Pink has bloomed\n"
     ]
    }
   ],
   "source": [
    "class Flower:\n",
    "    name='Margold'\n",
    "    colour='Yellow'\n",
    "    sepal_width=12\n",
    "    sepal_height=10\n",
    "\n",
    "    def bloom(self):\n",
    "        print(\"The flower has bloomed\")\n",
    "        print(f'The {self.name} which is {self.colour} has bloomed')\n",
    "\n",
    "f1=Flower()\n",
    "f1.bloom()\n",
    "\n",
    "f2 = Flower()\n",
    "f2.name = \"Rose\"\n",
    "f2.colour = \"Red\"\n",
    "f2.sepal_width = 8\n",
    "f2.sepal_height = 6\n",
    "f2.bloom()\n",
    "\n",
    "f3 = Flower()\n",
    "f3.name = \"Tulip\"\n",
    "f3.colour = \"Pink\"\n",
    "f3.bloom()"
   ]
  },
  {
   "cell_type": "code",
   "execution_count": 34,
   "id": "3c79e073-c1a9-48b5-96e1-422f6fbb61e1",
   "metadata": {},
   "outputs": [
    {
     "name": "stdout",
     "output_type": "stream",
     "text": [
      "Name: Manvith\n",
      "Age: 23\n"
     ]
    }
   ],
   "source": [
    "class Person:\n",
    "    name='Manvith'\n",
    "    age='23'\n",
    "    def display(self):\n",
    "        print('Name:',self.name)\n",
    "        print('Age:',self.age)\n",
    "p1=Person()\n",
    "p1.display()"
   ]
  },
  {
   "cell_type": "code",
   "execution_count": 35,
   "id": "a6c87135-5849-42a4-a795-fa692269bb36",
   "metadata": {},
   "outputs": [
    {
     "name": "stdout",
     "output_type": "stream",
     "text": [
      "Max Speed of the vehicle is: 140\n",
      "Mileage quoted for this vehicle is: 17\n"
     ]
    }
   ],
   "source": [
    "class Vehicle:\n",
    "    max_speed=140\n",
    "    mileage=17\n",
    "    def show(self):\n",
    "        print('Max Speed of the vehicle is:',self.max_speed)\n",
    "        print('Mileage quoted for this vehicle is:',self.mileage)\n",
    "\n",
    "v1=Vehicle()\n",
    "v1.show()"
   ]
  },
  {
   "cell_type": "code",
   "execution_count": null,
   "id": "521441ac-06f1-4164-a2e5-27f89b57481e",
   "metadata": {},
   "outputs": [],
   "source": []
  },
  {
   "cell_type": "markdown",
   "id": "8603c133-9731-4978-8939-ae66ecaa69e4",
   "metadata": {},
   "source": [
    "## Workshop 2"
   ]
  },
  {
   "cell_type": "code",
   "execution_count": 36,
   "id": "c95315f0-f436-47ce-a5f1-0cb6b1956b50",
   "metadata": {},
   "outputs": [
    {
     "name": "stdout",
     "output_type": "stream",
     "text": [
      "Length: 1\n",
      "Breadth: 2\n",
      "Perimeter: 6\n",
      "Area: 2\n"
     ]
    }
   ],
   "source": [
    "class Rectangle:\n",
    "    def __init__(self,length,breadth):\n",
    "        self.length=length\n",
    "        self.breadth=breadth\n",
    "\n",
    "    def Perimeter(self):\n",
    "        return 2*(self.length+self.breadth)\n",
    "\n",
    "    def Area(self):\n",
    "        return self.length*self.breadth\n",
    "\n",
    "    def display(self):\n",
    "        print('Length:',self.length)\n",
    "        print('Breadth:',self.breadth)\n",
    "        print('Perimeter:',self.Perimeter())\n",
    "        print('Area:',self.Area())\n",
    "\n",
    "r=Rectangle(1,2)\n",
    "r.display()"
   ]
  },
  {
   "cell_type": "code",
   "execution_count": 37,
   "id": "0b6b8a1e-1a7c-423b-a067-112dd84632d6",
   "metadata": {},
   "outputs": [
    {
     "name": "stdout",
     "output_type": "stream",
     "text": [
      "Account Number: 123\n",
      "Name: Manvith\n",
      "Balance: 120000\n",
      "Account Number: 123\n",
      "Name: Manvith\n",
      "Balance: 114000.0\n"
     ]
    }
   ],
   "source": [
    "class BankAccount:\n",
    "    def __init__(self,accountNumber,name,balance):\n",
    "        self.accountNumber=accountNumber\n",
    "        self.name=name\n",
    "        self.balance=balance\n",
    "\n",
    "    def Deposit(self,amount):\n",
    "        if amount>0:\n",
    "            self.balance+=amount\n",
    "\n",
    "    def Withdrawl(self,amount):\n",
    "        if amount<balance:\n",
    "            self.balance-=amount\n",
    "        else:\n",
    "            print('Insufficient Balance')\n",
    "\n",
    "    def bankFees(self):\n",
    "        self.balance-=(0.05*self.balance)\n",
    "\n",
    "    def display(self):\n",
    "        print('Account Number:',self.accountNumber)\n",
    "        print('Name:',self.name)\n",
    "        print('Balance:',self.balance)\n",
    "\n",
    "acc1=BankAccount(123,'Manvith',120000)\n",
    "acc1.display()\n",
    "acc1.bankFees()\n",
    "acc1.display()"
   ]
  },
  {
   "cell_type": "code",
   "execution_count": 38,
   "id": "7a0feacd-90eb-44cd-b012-d3defc975f4a",
   "metadata": {},
   "outputs": [
    {
     "name": "stdout",
     "output_type": "stream",
     "text": [
      "the perimeter of the circle C is: 6.283185307179586\n",
      "the area of circle C is: 3.141592653589793\n",
      "True\n"
     ]
    }
   ],
   "source": [
    "import math\n",
    "class Circle:\n",
    "    def __init__(self,a,b,r):\n",
    "        self.a=a\n",
    "        self.b=b\n",
    "        self.r=r\n",
    "\n",
    "    def perimeter(self):\n",
    "        return 2*math.pi*self.r\n",
    "\n",
    "    def area(self):\n",
    "        return math.pi*self.r**2\n",
    "\n",
    "    def test_belong(self,x,y):\n",
    "        return ((x-self.a)**2)+((y-self.b)**2)<=(self.r**2)\n",
    "\n",
    "c=Circle(1,2,1)\n",
    "print (\"the perimeter of the circle C is:\", c.perimeter() )\n",
    "print (\"the area of circle C is:\", c.area())\n",
    "print(c.test_belong(1,1))"
   ]
  },
  {
   "cell_type": "code",
   "execution_count": 39,
   "id": "f794ca09-c1c1-4f3c-95de-ecb6da9da407",
   "metadata": {},
   "outputs": [
    {
     "name": "stdout",
     "output_type": "stream",
     "text": [
      "6\n"
     ]
    }
   ],
   "source": [
    "class Example:\n",
    "    y = 5\n",
    "    y += 1\n",
    "\n",
    "e = Example()\n",
    "print(e.y)"
   ]
  },
  {
   "cell_type": "code",
   "execution_count": 40,
   "id": "207a755e-26f4-45a7-95d4-b8026b252203",
   "metadata": {},
   "outputs": [
    {
     "name": "stdout",
     "output_type": "stream",
     "text": [
      "List of divisors of 18: [1, 2, 3, 6, 9, 18]\n",
      "List of prime divisors of 18: [2, 3]\n",
      "1x1=1\n",
      "1x2=2\n",
      "1x3=3\n",
      "1x4=4\n",
      "1x5=5\n",
      "1x6=6\n",
      "1x7=7\n",
      "1x8=8\n",
      "1x9=9\n",
      "1x10=10\n",
      "\n",
      "2x1=2\n",
      "2x2=4\n",
      "2x3=6\n",
      "2x4=8\n",
      "2x5=10\n",
      "2x6=12\n",
      "2x7=14\n",
      "2x8=16\n",
      "2x9=18\n",
      "2x10=20\n",
      "\n",
      "3x1=3\n",
      "3x2=6\n",
      "3x3=9\n",
      "3x4=12\n",
      "3x5=15\n",
      "3x6=18\n",
      "3x7=21\n",
      "3x8=24\n",
      "3x9=27\n",
      "3x10=30\n",
      "\n",
      "4x1=4\n",
      "4x2=8\n",
      "4x3=12\n",
      "4x4=16\n",
      "4x5=20\n",
      "4x6=24\n",
      "4x7=28\n",
      "4x8=32\n",
      "4x9=36\n",
      "4x10=40\n",
      "\n",
      "5x1=5\n",
      "5x2=10\n",
      "5x3=15\n",
      "5x4=20\n",
      "5x5=25\n",
      "5x6=30\n",
      "5x7=35\n",
      "5x8=40\n",
      "5x9=45\n",
      "5x10=50\n",
      "\n",
      "6x1=6\n",
      "6x2=12\n",
      "6x3=18\n",
      "6x4=24\n",
      "6x5=30\n",
      "6x6=36\n",
      "6x7=42\n",
      "6x8=48\n",
      "6x9=54\n",
      "6x10=60\n",
      "\n",
      "7x1=7\n",
      "7x2=14\n",
      "7x3=21\n",
      "7x4=28\n",
      "7x5=35\n",
      "7x6=42\n",
      "7x7=49\n",
      "7x8=56\n",
      "7x9=63\n",
      "7x10=70\n",
      "\n",
      "8x1=8\n",
      "8x2=16\n",
      "8x3=24\n",
      "8x4=32\n",
      "8x5=40\n",
      "8x6=48\n",
      "8x7=56\n",
      "8x8=64\n",
      "8x9=72\n",
      "8x10=80\n",
      "\n",
      "9x1=9\n",
      "9x2=18\n",
      "9x3=27\n",
      "9x4=36\n",
      "9x5=45\n",
      "9x6=54\n",
      "9x7=63\n",
      "9x8=72\n",
      "9x9=81\n",
      "9x10=90\n",
      "\n"
     ]
    }
   ],
   "source": [
    "class Computation:\n",
    "    def __init__(self):\n",
    "        pass\n",
    "    def Factorial(self,n):\n",
    "        fact=1\n",
    "        for i in range(n,0,-1):\n",
    "            fact*=i\n",
    "        return fact\n",
    "    def Sum(self,n):\n",
    "        total=0\n",
    "        for i in range(n+1):\n",
    "            total+=i\n",
    "        return total\n",
    "    def testPrim(self,n):\n",
    "        if n<2:\n",
    "            return False\n",
    "        for i in range(2,int(n**0.5)+1):\n",
    "            if n%i==0:\n",
    "                return False\n",
    "        return True\n",
    "    def testprims(self,a,b):\n",
    "        start,end=min(a,b),max(a,b)\n",
    "        cnt=0\n",
    "        for i in range(start,end+1):\n",
    "            if self.testPrim(i):\n",
    "                cnt+=1\n",
    "        return cnt>=2\n",
    "    def tableMult(self,n):\n",
    "        for i in range(1,11):\n",
    "            print(f'{n}x{i}={n*i}')\n",
    "    def allTablesMult(self):\n",
    "        for i in range(1,10):\n",
    "            self.tableMult(i)\n",
    "            print()\n",
    "    def listDiv(self,n):\n",
    "        Ldiv=[]\n",
    "        for i in range(1,n+1):\n",
    "            if n%i==0:\n",
    "                Ldiv.append(i)\n",
    "        return Ldiv\n",
    "    def listDivPrim(self,n):\n",
    "        test=self.listDiv(n)\n",
    "        LdivPrim=[]\n",
    "        for i in test[1:]:\n",
    "            if self.testPrim(i):\n",
    "                LdivPrim.append(i)\n",
    "        return LdivPrim\n",
    "\n",
    "Comput= Computation()\n",
    "Comput.testprims(13, 7)\n",
    "print (\"List of divisors of 18:\", Comput.listDiv (18))\n",
    "print (\"List of prime divisors of 18:\", Comput.listDivPrim (18))\n",
    "Comput.allTablesMult()"
   ]
  },
  {
   "cell_type": "code",
   "execution_count": 41,
   "id": "6b2a4113-fda5-4fcf-8e2a-d0f3e6ffed19",
   "metadata": {},
   "outputs": [],
   "source": [
    "class FloweringPlant:\n",
    "    __flower_count=0\n",
    "    def __init__(self,common_name,family_name,species_name):\n",
    "        self.__common_name=common_name\n",
    "        self.__family_name=family_name\n",
    "        self.__species_name=species_name\n",
    "        self.__colours = []\n",
    "        self.__flowering_months = []\n",
    "        self.__lifespan = None\n",
    "        self.__time_to_mature = None\n",
    "        FloweringPlant.__flower_count+=1\n",
    "\n",
    "    def get_common_name(self):\n",
    "        return self.__common_name\n",
    "\n",
    "    def get_family_name(self):\n",
    "        return self.__family_name\n",
    "\n",
    "    def get_species_name(self):\n",
    "        return self.__species_name\n",
    "\n",
    "    def get_colours(self):\n",
    "        return self.__colours\n",
    "\n",
    "    def get_flowering_months(self):\n",
    "        return tuple(self.__flowering_months)\n",
    "\n",
    "    def get_life_span(self):\n",
    "        return self.__lifespan\n",
    "\n",
    "    def get_time_to_mature(self):\n",
    "        return self.__time_to_mature\n",
    "\n",
    "    def get_flower_count(self):\n",
    "        return FloweringPlant.__flower_count\n",
    "\n",
    "    def set_colours(self,colours):\n",
    "        if isinstance(colours,list):\n",
    "            self.__colours=colours\n",
    "        \n",
    "    def set_flowering_months(self,flowering_month):\n",
    "        valid_months=['January','February','March','April','May','June',\n",
    "                      'July','August','September','October','November','December']\n",
    "        if flowering_month.capitalize() in valid_months:\n",
    "            self.__flowering_months.extend(flowering_months.capitalize())\n",
    "\n",
    "    def set_lifespan(self,lifespan):\n",
    "        if isinstance(lifespan,int) and lifespan>0:\n",
    "            self.__lifespan=lifespan\n",
    "\n",
    "    def set_time_to_mature(self,time_to_mature):\n",
    "        if isinstance(time_to_mature,int) and time_to_mature>0:\n",
    "            self.__time_to_mature=time_to_mature\n"
   ]
  },
  {
   "cell_type": "code",
   "execution_count": 42,
   "id": "5114682d-462a-4119-a044-38e04a991276",
   "metadata": {},
   "outputs": [
    {
     "name": "stdout",
     "output_type": "stream",
     "text": [
      "18\n",
      "90,5\n",
      "10\n",
      "80\n"
     ]
    }
   ],
   "source": [
    "class RectangleClass(object):\n",
    "    def __init__(self,area,breadth):\n",
    "        self._area=area\n",
    "        self._breadth=breadth\n",
    "\n",
    "    def __len__(self):\n",
    "        return int(self._area/self._breadth)\n",
    "\n",
    "    def __repr__(self):\n",
    "        return f'{repr(self._area)},{repr(self._breadth)}'\n",
    "\n",
    "    def __add__(self,other):\n",
    "        return self._breadth+other._breadth\n",
    "\n",
    "    def __sub__(self,other):\n",
    "        return self._area-other._area\n",
    "\n",
    "r1=RectangleClass(90,5)\n",
    "print(len(r1))\n",
    "print(repr(r1))\n",
    "r2=RectangleClass(10,5)\n",
    "print(r1+r2)\n",
    "print(r1-r2)"
   ]
  }
 ],
 "metadata": {
  "kernelspec": {
   "display_name": "Python [conda env:base] *",
   "language": "python",
   "name": "conda-base-py"
  },
  "language_info": {
   "codemirror_mode": {
    "name": "ipython",
    "version": 3
   },
   "file_extension": ".py",
   "mimetype": "text/x-python",
   "name": "python",
   "nbconvert_exporter": "python",
   "pygments_lexer": "ipython3",
   "version": "3.12.7"
  }
 },
 "nbformat": 4,
 "nbformat_minor": 5
}
