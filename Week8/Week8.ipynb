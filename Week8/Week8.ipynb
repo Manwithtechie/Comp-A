{
 "cells": [
  {
   "cell_type": "code",
   "execution_count": 2,
   "id": "a708331c-6d2e-4c6d-943e-6c92f63d07ca",
   "metadata": {},
   "outputs": [
    {
     "name": "stdout",
     "output_type": "stream",
     "text": [
      "Manvith Vishwanatham\n"
     ]
    }
   ],
   "source": [
    "class Person:\n",
    "    def __init__(self,fname,lname):\n",
    "        self.fname=fname\n",
    "        self.lname=lname\n",
    "\n",
    "    def print_name(self):\n",
    "        print(self.fname, self.lname)\n",
    "\n",
    "p=Person('Manvith','Vishwanatham')\n",
    "p.print_name()"
   ]
  },
  {
   "cell_type": "code",
   "execution_count": 3,
   "id": "6dd38254-f9b5-4b07-b071-aedcdba78a5e",
   "metadata": {},
   "outputs": [
    {
     "name": "stdout",
     "output_type": "stream",
     "text": [
      "Yukti Reddy\n"
     ]
    }
   ],
   "source": [
    "class Student(Person):\n",
    "    pass\n",
    "\n",
    "s=Student('Yukti','Reddy')\n",
    "s.print_name()"
   ]
  },
  {
   "cell_type": "code",
   "execution_count": 5,
   "id": "08a2455f-a054-48b1-a6d5-6e387b0ff8a3",
   "metadata": {},
   "outputs": [
    {
     "name": "stdout",
     "output_type": "stream",
     "text": [
      "Vishwanatham Varshith\n"
     ]
    }
   ],
   "source": [
    "class Student(Person):\n",
    "    def __init__(self,fname,lname):\n",
    "        self.fname=lname\n",
    "        self.lname=fname\n",
    "\n",
    "s=Student('Varshith','Vishwanatham')\n",
    "s.print_name()"
   ]
  },
  {
   "cell_type": "code",
   "execution_count": 6,
   "id": "3611beab-bd56-44fb-b8c6-74b83e556311",
   "metadata": {},
   "outputs": [
    {
     "name": "stdout",
     "output_type": "stream",
     "text": [
      "Varshith Vishwanatham\n"
     ]
    }
   ],
   "source": [
    "class Student(Person):\n",
    "    def __init__(self,fname,lname):\n",
    "        Person.__init__(self,fname,lname)\n",
    "        \n",
    "s=Student('Varshith','Vishwanatham')\n",
    "s.print_name()"
   ]
  },
  {
   "cell_type": "code",
   "execution_count": 9,
   "id": "75b027b0-dfe5-49e3-a721-7e2c984fbc8d",
   "metadata": {},
   "outputs": [
    {
     "name": "stdout",
     "output_type": "stream",
     "text": [
      "Varshith Vishwanatham\n"
     ]
    }
   ],
   "source": [
    "class Student(Person):\n",
    "    def __init__(self,fname,lname):\n",
    "        super().__init__(fname,lname)\n",
    "        \n",
    "s=Student('Varshith','Vishwanatham')\n",
    "s.print_name()"
   ]
  },
  {
   "cell_type": "code",
   "execution_count": 14,
   "id": "e02e458d-e406-4dd5-ae74-635fd1cb5cb1",
   "metadata": {},
   "outputs": [
    {
     "name": "stdout",
     "output_type": "stream",
     "text": [
      "My name is Varshith Vishwanatham.\n",
      "Welcome, Varshith Vishwanatham to the class of 2027.\n"
     ]
    }
   ],
   "source": [
    "class Student(Person):\n",
    "    def __init__(self,fname,lname,year):\n",
    "        super().__init__(fname,lname)\n",
    "        self.graduation_year=year\n",
    "\n",
    "    def welcome(self):\n",
    "        print(f'Welcome, {self.fname} {self.lname} to the class of {self.graduation_year}.')\n",
    "\n",
    "    def print_name(self): #overriding\n",
    "        print(f'My name is {self.fname} {self.lname}.')\n",
    "\n",
    "s=Student('Varshith','Vishwanatham',2027)\n",
    "s.print_name()\n",
    "s.welcome()"
   ]
  },
  {
   "cell_type": "code",
   "execution_count": 15,
   "id": "98944168-3bbb-418e-85bf-4fef91c43ae7",
   "metadata": {},
   "outputs": [
    {
     "name": "stdout",
     "output_type": "stream",
     "text": [
      "0 1\n"
     ]
    }
   ],
   "source": [
    "class X:\n",
    "    def __init__(self):\n",
    "        self.x=0\n",
    "\n",
    "class Y(X):\n",
    "    def __init__(self):\n",
    "        X.__init__(self)\n",
    "        self.y=1\n",
    "\n",
    "def main():\n",
    "    z=Y()\n",
    "    print(z.x,z.y)\n",
    "\n",
    "main()"
   ]
  },
  {
   "cell_type": "code",
   "execution_count": 33,
   "id": "4ea6fd66-d1ae-431e-8fa9-a50045039c33",
   "metadata": {},
   "outputs": [
    {
     "name": "stdout",
     "output_type": "stream",
     "text": [
      "This is vehicle class\n",
      "I am a beautiful Tractor. My size does not matter as I am beautiful as I am. However, if you must know , I am a size of small.\n",
      "I am a car. I run on electricity.\n",
      "[This is vehicle class, I am a beautiful Tractor. My size does not matter as I am beautiful as I am. However, if you must know , I am a size of small., I am a car. I run on electricity.]\n",
      "I am Vehicle I am travelling\n"
     ]
    }
   ],
   "source": [
    "class Vehicle:\n",
    "    def __init__(self,speed,doors,passengers,capacity):\n",
    "        self.speed=speed\n",
    "        self.doors=doors\n",
    "        self.passengers=passengers\n",
    "        self.capacity=capacity\n",
    "\n",
    "    def __repr__(self):\n",
    "        return 'This is vehicle class'\n",
    "\n",
    "    def travel(self):\n",
    "        print(f'I am {__class__.__name__} I am travelling')\n",
    "\n",
    "class Tractor(Vehicle):\n",
    "    def __init__(self,speed,doors,passengers,capacity,attachments,size):\n",
    "        Vehicle.__init__(self,speed,doors,passengers,capacity)\n",
    "        self.attachments=attachments\n",
    "        self.size=size\n",
    "\n",
    "    def __repr__(self):\n",
    "        return f'I am a beautiful Tractor. My size does not matter as I am beautiful as I am. However, if you must know , I am a size of {self.size}.'\n",
    "\n",
    "class Car(Vehicle):\n",
    "    def __init__(self,speed,doors,passengers,capacity,fuel_type):\n",
    "        Vehicle.__init__(self,speed,doors,passengers,capacity)\n",
    "        self.fuel_type=fuel_type\n",
    "\n",
    "    def __repr__(self):\n",
    "        return f'I am a car. I run on {self.fuel_type}.'\n",
    "\n",
    "vehicle=Vehicle(50,4,4,2)\n",
    "tractor=Tractor(20,2,1,6,\"plow\",\"small\")\n",
    "car=Car(180,4,4,2,\"electricity\")\n",
    "\n",
    "print(vehicle)\n",
    "print(tractor)\n",
    "print(car)\n",
    "vehicle_list=[vehicle, tractor, car]\n",
    "print(vehicle_list)\n",
    "car.travel()"
   ]
  },
  {
   "cell_type": "code",
   "execution_count": 31,
   "id": "5f767bf2-a35f-4275-af32-46df5bc7a007",
   "metadata": {},
   "outputs": [
    {
     "name": "stdout",
     "output_type": "stream",
     "text": [
      "I am in the air and I am flying Highhhh\n",
      "I am Vehicle I am travelling\n"
     ]
    }
   ],
   "source": [
    "class FlyingVehicle:\n",
    "    def __init__(self,number_of_engines,propulsion_mechanism):\n",
    "        self.engines=number_of_engines\n",
    "        self.propulsion=propulsion_mechanism\n",
    "\n",
    "    def __repr__(self):\n",
    "        return f'I am a flying vehicle with {self.engines} engines.'\n",
    "\n",
    "    def fly(self):\n",
    "        print(\"I am in the air and I am flying Highhhh\")\n",
    "\n",
    "class Airplane(Vehicle,FlyingVehicle):\n",
    "    def __init__(self,speed,doors,passengers,capacity,propulsion_mechanism,engines,air_type):\n",
    "        Vehicle.__init__(self,speed,doors,passengers,capacity)\n",
    "        FlyingVehicle.__init__(self,engines,propulsion_mechanism)\n",
    "        self.air_type=air_type\n",
    "        self.passengers=passengers\n",
    "        self.capacity=capacity\n",
    "\n",
    "    def __repr__(self):\n",
    "        return 'I am an airplane.'\n",
    "\n",
    "    def airbrone(self):\n",
    "        super().fly()\n",
    "\n",
    "    def ground(self):\n",
    "        super().travel()\n",
    "\n",
    "plane=Airplane(3000,8,3000,30,'jet',2,'commercial')\n",
    "plane.airbrone()\n",
    "plane.ground()"
   ]
  },
  {
   "cell_type": "code",
   "execution_count": 43,
   "id": "05737b23-90a9-42b3-a303-13b01b1d140d",
   "metadata": {},
   "outputs": [
    {
     "name": "stdout",
     "output_type": "stream",
     "text": [
      "I am a Fighting Robot with 90% of battery and 100GB of memory. I am a Communicating Robot with storage of 120GB. I am a robo who can talk and fight!!\n"
     ]
    }
   ],
   "source": [
    "class FightingRobot:\n",
    "    def __init__(self,battery_life,memory):\n",
    "        self.battery_life=battery_life\n",
    "        self.memory=memory\n",
    "\n",
    "    def __repr__(self):\n",
    "        return f'I am a Fighting Robot with {self.battery_life}% of battery and {self.memory}GB of memory.'\n",
    "    \n",
    "    def fight(self):\n",
    "        print('Come Lets Fight!!')\n",
    "\n",
    "class CommunicatingRobot:\n",
    "    def __init__(self,storage):\n",
    "        self.storage=storage\n",
    "\n",
    "    def __repr__(self):\n",
    "        return f'I am a Communicating Robot with storage of {self.storage}GB.'\n",
    "    \n",
    "    def communicate(self):\n",
    "        print('Come Lets Have a Talk!!')\n",
    "\n",
    "class FightingCommunicatingRobot(FightingRobot,CommunicatingRobot):\n",
    "    def __init__(self,battery_life,memory,storage,power):\n",
    "        FightingRobot.__init__(self,battery_life,memory)\n",
    "        CommunicatingRobot.__init__(self,storage)\n",
    "        self.power=power\n",
    "\n",
    "    def __repr__(self):\n",
    "        return FightingRobot.__repr__(self)+' '+CommunicatingRobot.__repr__(self)+' I am a robo who can talk and fight!!'\n",
    "\n",
    "robo=FightingCommunicatingRobot(90,100,120,66)\n",
    "print(robo)\n",
    "        "
   ]
  },
  {
   "cell_type": "markdown",
   "id": "06c9c5f9-7721-48ba-86a5-1b52e792f99e",
   "metadata": {},
   "source": [
    "## Method Resolution Order and More on Access Modifiers"
   ]
  },
  {
   "cell_type": "code",
   "execution_count": 44,
   "id": "aa3f40b0-fda1-4058-8fa9-717049dd1faf",
   "metadata": {},
   "outputs": [
    {
     "name": "stdout",
     "output_type": "stream",
     "text": [
      "String 1\n"
     ]
    }
   ],
   "source": [
    "class Base1:\n",
    "    name='String 1'\n",
    "class Base2:\n",
    "    name='String 2'\n",
    "class MultiDerived(Base1,Base2):\n",
    "    pass\n",
    "print(MultiDerived.name)"
   ]
  },
  {
   "cell_type": "code",
   "execution_count": 45,
   "id": "772175a3-bc9f-44d6-921e-d3e74d5dcb60",
   "metadata": {},
   "outputs": [
    {
     "name": "stdout",
     "output_type": "stream",
     "text": [
      "(<class '__main__.MultiDerived'>, <class '__main__.Base1'>, <class '__main__.Base2'>, <class 'object'>)\n",
      "[<class '__main__.MultiDerived'>, <class '__main__.Base1'>, <class '__main__.Base2'>, <class 'object'>]\n"
     ]
    }
   ],
   "source": [
    "print(MultiDerived.__mro__)\n",
    "print(MultiDerived.mro())"
   ]
  },
  {
   "cell_type": "code",
   "execution_count": 47,
   "id": "53a35e39-a76d-43dd-9621-9746949b1d74",
   "metadata": {},
   "outputs": [
    {
     "name": "stdout",
     "output_type": "stream",
     "text": [
      "String 2\n",
      "(<class '__main__.MultiDerived'>, <class '__main__.Base2'>, <class '__main__.Base1'>, <class 'object'>)\n",
      "[<class '__main__.MultiDerived'>, <class '__main__.Base2'>, <class '__main__.Base1'>, <class 'object'>]\n"
     ]
    }
   ],
   "source": [
    "class Base1:\n",
    "    name='String 1'\n",
    "class Base2:\n",
    "    name='String 2'\n",
    "class MultiDerived(Base2,Base1): # Change the order\n",
    "    pass\n",
    "print(MultiDerived.name)\n",
    "\n",
    "print(MultiDerived.__mro__)\n",
    "print(MultiDerived.mro())"
   ]
  },
  {
   "cell_type": "code",
   "execution_count": 50,
   "id": "587bf55b-e923-4248-a749-2c8f480863bd",
   "metadata": {},
   "outputs": [
    {
     "name": "stdout",
     "output_type": "stream",
     "text": [
      "(<class '__main__.M'>, <class '__main__.Z'>, <class '__main__.Y'>, <class '__main__.X'>, <class 'object'>)\n",
      "[<class '__main__.M'>, <class '__main__.Z'>, <class '__main__.Y'>, <class '__main__.X'>, <class 'object'>]\n",
      "(<class '__main__.M'>, <class '__main__.Y'>, <class '__main__.Z'>, <class '__main__.X'>, <class 'object'>)\n",
      "[<class '__main__.M'>, <class '__main__.Y'>, <class '__main__.Z'>, <class '__main__.X'>, <class 'object'>]\n"
     ]
    }
   ],
   "source": [
    "class X:\n",
    "    def rk(self):\n",
    "        print(\" In class X\")\n",
    "\n",
    "class Y(X):\n",
    "    def rk(self):\n",
    "        print(\" In class Y\")\n",
    "\n",
    "class Z(X):\n",
    "    def rk(self):\n",
    "        print(\" In class Z\")\n",
    "\n",
    "class M(Z,Y):\n",
    "    def __init__(self):\n",
    "        print(\"Constructor M\")\n",
    "\n",
    "print(M.__mro__)\n",
    "print(M.mro())\n",
    "\n",
    "class M(Y,Z):\n",
    "    def __init__(self):\n",
    "        print(\"Constructor M\")\n",
    "\n",
    "print(M.__mro__)\n",
    "print(M.mro())"
   ]
  },
  {
   "cell_type": "code",
   "execution_count": 52,
   "id": "a730e479-e56e-4bd4-8f86-b94b6d20fb71",
   "metadata": {},
   "outputs": [
    {
     "name": "stdout",
     "output_type": "stream",
     "text": [
      "(<class '__main__.M'>, <class '__main__.B'>, <class '__main__.A'>, <class '__main__.X'>, <class '__main__.Y'>, <class '__main__.Z'>, <class 'object'>)\n",
      "[<class '__main__.M'>, <class '__main__.B'>, <class '__main__.A'>, <class '__main__.X'>, <class '__main__.Y'>, <class '__main__.Z'>, <class 'object'>]\n"
     ]
    }
   ],
   "source": [
    "class X:\n",
    "    pass\n",
    "class Y:\n",
    "    pass\n",
    "class Z:\n",
    "    pass\n",
    "class A(X,Y):\n",
    "    pass\n",
    "class B(Y,Z):\n",
    "    pass\n",
    "class M(B,A,Z):\n",
    "    pass\n",
    "\n",
    "print(M.__mro__)\n",
    "print(M.mro())\n",
    "\n",
    "# In C3 Linearization it always looks for good head which is not in the tail of any other lists."
   ]
  },
  {
   "cell_type": "code",
   "execution_count": 53,
   "id": "446f9aec-32d0-4881-a182-eb0b0313b58f",
   "metadata": {},
   "outputs": [],
   "source": [
    "class Car:\n",
    "    def __init__(self):\n",
    "        self.name='new_name' # public (inside and outside class)\n",
    "        self.__make='new_brand' # private (only inside class)\n",
    "        self._model=2000 # protected (within same package)"
   ]
  },
  {
   "cell_type": "code",
   "execution_count": 60,
   "id": "c8653a13-e451-457f-84ca-e841ce7f675a",
   "metadata": {},
   "outputs": [
    {
     "name": "stdout",
     "output_type": "stream",
     "text": [
      "Manvith has a balance of $100000 in Savings Account.\n",
      "Manvith has a balance of $2400 in Student Account.\n"
     ]
    }
   ],
   "source": [
    "class SavingsAccount:\n",
    "    def __init__(self,name,account_no):\n",
    "        self.name=name\n",
    "        self._account_no=account_no\n",
    "        self._balance=0\n",
    "\n",
    "    def get_account_no(self):\n",
    "        return self._account_no\n",
    "\n",
    "    def get_balance(self):\n",
    "        return self._balance\n",
    "\n",
    "    def deposit_money(self,amount):\n",
    "        self._balance+=amount\n",
    "\n",
    "    def withdraw_money(self,amount):\n",
    "        self._balance-=amount\n",
    "\n",
    "class StudentAccount(SavingsAccount):\n",
    "    def __init__(self,name,account_no,student_id):\n",
    "        super().__init__(name,account_no)\n",
    "        self.__student_id=student_id\n",
    "\n",
    "    def get_student_id(self):\n",
    "        return self.__student_id\n",
    "\n",
    "savings_acc=SavingsAccount('Manvith',1234)\n",
    "savings_acc.deposit_money(100000)\n",
    "student_acc=StudentAccount('Manvith',5678,'a1983706')\n",
    "student_acc.deposit_money(2400)\n",
    "\n",
    "print(f'{savings_acc.name} has a balance of ${savings_acc.get_balance()} in Savings Account.')\n",
    "print(f'{student_acc.name} has a balance of ${student_acc.get_balance()} in Student Account.')"
   ]
  },
  {
   "cell_type": "code",
   "execution_count": 63,
   "id": "44e75091-7154-45ac-a33c-9a143156b617",
   "metadata": {},
   "outputs": [
    {
     "name": "stdout",
     "output_type": "stream",
     "text": [
      "2400\n",
      "a1983706\n"
     ]
    }
   ],
   "source": [
    "# But protected and private variables can be accessed but which should not be done ethicallly\n",
    "print(student_acc._balance)\n",
    "print(student_acc._StudentAccount__student_id)"
   ]
  },
  {
   "cell_type": "code",
   "execution_count": 64,
   "id": "30805f97-2796-46a8-862b-413cc1c90f87",
   "metadata": {},
   "outputs": [
    {
     "name": "stdout",
     "output_type": "stream",
     "text": [
      "Manvith\n",
      "Yukti\n"
     ]
    }
   ],
   "source": [
    "class Student:\n",
    "    _schoolName='XYZ School' #protected class attribute\n",
    "    def __init__(self,name,age):\n",
    "        self._name=name #protected instance attribute\n",
    "        self._age=age #protected instance attribute\n",
    "\n",
    "std=Student('Manvith',22)\n",
    "print(std._name)\n",
    "std._name='Yukti'\n",
    "print(std._name)\n",
    "\n"
   ]
  },
  {
   "cell_type": "markdown",
   "id": "47069a65-ac37-46a8-8445-f65e273e7b80",
   "metadata": {},
   "source": [
    "## Types of Inheritance"
   ]
  },
  {
   "cell_type": "code",
   "execution_count": 65,
   "id": "c2a9757b-757d-4bf1-b5e7-5107d0eddd6e",
   "metadata": {},
   "outputs": [
    {
     "name": "stdout",
     "output_type": "stream",
     "text": [
      "Parent Method\n",
      "Child Method\n"
     ]
    }
   ],
   "source": [
    "# Single Inheritance\n",
    "class Parent:\n",
    "    def show(self):\n",
    "        print('Parent Method')\n",
    "\n",
    "class Child(Parent):\n",
    "    def display(self):\n",
    "        print('Child Method')\n",
    "\n",
    "c=Child()\n",
    "c.display()\n",
    "c.show()"
   ]
  },
  {
   "cell_type": "code",
   "execution_count": 66,
   "id": "54db59b3-0412-4482-ab58-5e01481f91d4",
   "metadata": {},
   "outputs": [
    {
     "name": "stdout",
     "output_type": "stream",
     "text": [
      "Z class\n",
      "Y class\n",
      "X class\n"
     ]
    }
   ],
   "source": [
    "# Multi-level inheritance\n",
    "class X:\n",
    "    def methodX(self):\n",
    "        print('X class')\n",
    "class Y(X):\n",
    "    def methodY(self):\n",
    "        print('Y class')\n",
    "class Z(Y):\n",
    "    def methodZ(self):\n",
    "        print('Z class')\n",
    "\n",
    "z=Z()\n",
    "z.methodZ()\n",
    "z.methodY()\n",
    "z.methodX()"
   ]
  },
  {
   "cell_type": "code",
   "execution_count": 68,
   "id": "fe105897-7e5a-4be7-8af2-4c9c13490217",
   "metadata": {},
   "outputs": [
    {
     "name": "stdout",
     "output_type": "stream",
     "text": [
      "M class\n",
      "X class\n",
      "Y class\n",
      "Z class\n"
     ]
    }
   ],
   "source": [
    "# Multiple Iinheritance\n",
    "class X:\n",
    "    def methodX(self):\n",
    "        print(\"X class\")\n",
    "class Y:\n",
    "    def methodY(self):\n",
    "        print(\"Y class\")\n",
    "class Z:\n",
    "    def methodZ(self):\n",
    "        print(\"Z class\")\n",
    "class M(X, Y, Z):\n",
    "    def methodM(self):\n",
    "        print(\"M class\")\n",
    "m = M()\n",
    "m.methodM()\n",
    "m.methodX()\n",
    "m.methodY()\n",
    "m.methodZ()"
   ]
  },
  {
   "cell_type": "code",
   "execution_count": 74,
   "id": "9f045522-2d90-4d21-a2ac-bd21e9bfee06",
   "metadata": {},
   "outputs": [
    {
     "name": "stdout",
     "output_type": "stream",
     "text": [
      "X class\n",
      "X class\n"
     ]
    }
   ],
   "source": [
    "# Hierarchical Inheritance (base class inherited from more than one class)\n",
    "class X:\n",
    "    def methodX(self):\n",
    "        print('X class')\n",
    "\n",
    "class Y(X):\n",
    "    def methodY(self):\n",
    "        print('Y class')\n",
    "\n",
    "class Z(X):\n",
    "    def methodZ(self):\n",
    "        print('Z class')\n",
    "\n",
    "y=Y()\n",
    "z=Z()\n",
    "y.methodX()\n",
    "z.methodX()"
   ]
  },
  {
   "cell_type": "code",
   "execution_count": 76,
   "id": "40ceb041-120e-4eb3-b94a-5e1339acba91",
   "metadata": {},
   "outputs": [
    {
     "name": "stdout",
     "output_type": "stream",
     "text": [
      "X class\n"
     ]
    }
   ],
   "source": [
    "# Hybrid Inheritance (mix of more than one type of inheritance)\n",
    "class X:\n",
    "    def methodX(self):\n",
    "        print('X class')\n",
    "class Y(X):\n",
    "    def methodY(self):\n",
    "        print('Y class')\n",
    "class Z(X):\n",
    "    def methodZ(self):\n",
    "        print('Z class')\n",
    "class M(Y,Z):\n",
    "    def methodM(self):\n",
    "        print('M class')\n",
    "\n",
    "m=M()\n",
    "m.methodX()"
   ]
  },
  {
   "cell_type": "markdown",
   "id": "20032761-267f-47e2-91ce-944c455f4688",
   "metadata": {},
   "source": [
    "## Composition"
   ]
  },
  {
   "cell_type": "code",
   "execution_count": 77,
   "id": "8b0e9924-1ae6-4743-b168-7ad9312694b1",
   "metadata": {},
   "outputs": [
    {
     "name": "stdout",
     "output_type": "stream",
     "text": [
      "1464000\n"
     ]
    }
   ],
   "source": [
    "class Salary:\n",
    "    def __init__(self,pay,bonus):\n",
    "        self.pay=pay\n",
    "        self.bonus=bonus\n",
    "\n",
    "    def annual_salary(self):\n",
    "        return (self.pay*12)+self.bonus\n",
    "\n",
    "class Employee:\n",
    "    def __init__(self,name,age,pay,bonus):\n",
    "        self.name=name\n",
    "        self.age=age\n",
    "        self.obj_salary=Salary(pay,bonus) #composition\n",
    "\n",
    "    def total_salary(self):\n",
    "        return self.obj_salary.annual_salary()\n",
    "\n",
    "emp=Employee('Manvith',22,120000,24000)\n",
    "print(emp.total_salary())"
   ]
  },
  {
   "cell_type": "markdown",
   "id": "155b215e-d2ff-4c85-9cf9-0889cfe6f818",
   "metadata": {},
   "source": [
    "## Aggregation"
   ]
  },
  {
   "cell_type": "code",
   "execution_count": 78,
   "id": "e9160e14-b5cc-4bd9-b6be-5cd6af9e96f7",
   "metadata": {},
   "outputs": [
    {
     "name": "stdout",
     "output_type": "stream",
     "text": [
      "1464000\n"
     ]
    }
   ],
   "source": [
    "class Salary:\n",
    "    def __init__(self,pay,bonus):\n",
    "        self.pay=pay\n",
    "        self.bonus=bonus\n",
    "\n",
    "    def annual_salary(self):\n",
    "        return (self.pay*12)+self.bonus\n",
    "\n",
    "class Employee:\n",
    "    def __init__(self,name,age,salary):\n",
    "        self.name=name\n",
    "        self.age=age\n",
    "        self.obj_salary=salary #Aggregation\n",
    "\n",
    "    def total_salary(self):\n",
    "        return self.obj_salary.annual_salary()\n",
    "\n",
    "salary=Salary(120000,24000)\n",
    "emp=Employee('Manvith',22,salary)\n",
    "print(emp.total_salary())\n",
    "        "
   ]
  },
  {
   "cell_type": "code",
   "execution_count": 80,
   "id": "1b2b771e-6588-485f-993d-dacfc8257dcb",
   "metadata": {},
   "outputs": [
    {
     "name": "stdout",
     "output_type": "stream",
     "text": [
      "Person Name:  Manvith\n",
      "Country Name: India\n",
      "Population of Country: 140\n",
      "\n",
      "Country Name: India\n",
      "Population of Country: 140\n"
     ]
    }
   ],
   "source": [
    "class Country:\n",
    "    def __init__(self,name=None,population=0):\n",
    "        self.name=name\n",
    "        self.population=population\n",
    "\n",
    "    def printDetails(self):\n",
    "        print('Country Name:',self.name)\n",
    "        print('Population of Country:',self.population)\n",
    "\n",
    "class Person:\n",
    "    def __init__(self,name,country):\n",
    "        self.name=name\n",
    "        self.country=country\n",
    "\n",
    "    def printDetails(self):\n",
    "        print(\"Person Name: \",self.name)\n",
    "        self.country.printDetails()\n",
    "\n",
    "country1=Country('India',140)\n",
    "p=Person('Manvith',country1)\n",
    "p.printDetails()\n",
    "print()\n",
    "del p\n",
    "country1.printDetails()"
   ]
  },
  {
   "cell_type": "markdown",
   "id": "2fac7c1e-f731-43b5-ab3f-6f16af4e03c2",
   "metadata": {},
   "source": [
    "## Workshop1"
   ]
  },
  {
   "cell_type": "code",
   "execution_count": 81,
   "id": "23b3d592-0c7c-4f12-9a3b-ec70bf1f31a1",
   "metadata": {},
   "outputs": [
    {
     "name": "stdout",
     "output_type": "stream",
     "text": [
      "Title: The Weakness\n",
      "Author: Manvith\n",
      "Price: 69\n"
     ]
    }
   ],
   "source": [
    "class Book:\n",
    "    def __init__(self,Title,Author,Price):\n",
    "        self.Title=Title\n",
    "        self.Author=Author\n",
    "        self.Price=Price\n",
    "\n",
    "    def View(self):\n",
    "        print('Title:',self.Title)\n",
    "        print('Author:',self.Author)\n",
    "        print('Price:',self.Price)\n",
    "\n",
    "b=Book('The Weakness','Manvith',69)\n",
    "b.View()"
   ]
  },
  {
   "cell_type": "code",
   "execution_count": 82,
   "id": "1d4e8c76-c2b9-47e7-8297-9a9a6547de59",
   "metadata": {},
   "outputs": [
    {
     "name": "stdout",
     "output_type": "stream",
     "text": [
      "78.53981633974483\n",
      "31.41592653589793\n"
     ]
    }
   ],
   "source": [
    "import math\n",
    "class Circle:\n",
    "    def __init__(self,radius):\n",
    "        self.radius=radius\n",
    "\n",
    "    def area(self):\n",
    "        return math.pi*self.radius*self.radius\n",
    "\n",
    "    def perimeter(self):\n",
    "        return 2*math.pi*self.radius\n",
    "\n",
    "c=Circle(5)\n",
    "print(c.area())\n",
    "print(c.perimeter())"
   ]
  },
  {
   "cell_type": "code",
   "execution_count": 83,
   "id": "5f58a43b-db4d-4f9f-8fe4-807f11da64b6",
   "metadata": {},
   "outputs": [],
   "source": [
    "class Address:\n",
    "    def __init__(self,number,street_name):\n",
    "        self.number=number\n",
    "        self.street_name=street_name"
   ]
  },
  {
   "cell_type": "code",
   "execution_count": 86,
   "id": "f7b1be2b-057e-4692-b0f3-717ec275c9ec",
   "metadata": {},
   "outputs": [
    {
     "name": "stdout",
     "output_type": "stream",
     "text": [
      "Length: 7\n",
      "Width: 5\n",
      "Perimeter: 24\n",
      "Area: 35\n",
      "\n",
      "The volume of myParellelepipede is:  70\n"
     ]
    }
   ],
   "source": [
    "class Rectangle:\n",
    "    def __init__(self,length,width):\n",
    "        self.length=length\n",
    "        self.width=width\n",
    "\n",
    "    def Perimeter(self):\n",
    "        return 2*(self.length+self.width)\n",
    "\n",
    "    def Area(self):\n",
    "        return self.length*self.width\n",
    "\n",
    "    def display(self):\n",
    "        print('Length:',self.length)\n",
    "        print('Width:',self.width)\n",
    "        print('Perimeter:',self.Perimeter())\n",
    "        print('Area:',self.Area())\n",
    "\n",
    "class Parallelepipede(Rectangle):\n",
    "    def __init__(self,length,width,height):\n",
    "        super().__init__(length,width)\n",
    "        self.height=height\n",
    "\n",
    "    def Volume(self):\n",
    "        return self.length*self.width*self.height\n",
    "\n",
    "myRectangle=Rectangle(7,5)\n",
    "myRectangle.display()\n",
    "print()\n",
    "myParellelepipede=Parallelepipede(7,5,2)\n",
    "print('The volume of myParellelepipede is: ',myParellelepipede.Volume())"
   ]
  },
  {
   "cell_type": "code",
   "execution_count": 87,
   "id": "0e40c17c-fe49-4e6d-bb16-15072ca10b01",
   "metadata": {},
   "outputs": [
    {
     "name": "stdout",
     "output_type": "stream",
     "text": [
      "Person name: Tomas Wild\n",
      "Person age: 37\n",
      "\n",
      "Student name: Albert\n",
      "Student age: 23\n",
      "Student section: Mathematics\n"
     ]
    }
   ],
   "source": [
    "class Person:\n",
    "    def __init__(self,name,age):\n",
    "        self.name=name\n",
    "        self.age=age\n",
    "\n",
    "    def display(self):\n",
    "        print('Person name=',self.name)\n",
    "        print('Person age=',self.age)\n",
    "\n",
    "class Student(Person):\n",
    "    def __init__(self,name,age,section):\n",
    "        Person.__init__(self,name,age)\n",
    "        self.section=section\n",
    "\n",
    "    def displayStudent(self):\n",
    "        print('Student name=',self.name)\n",
    "        print('Student age=',self.age)\n",
    "        print('Student section=',self.section)\n",
    "\n",
    "P = Person(\"Tomas Wild\", 37)\n",
    "P.display()\n",
    "print()\n",
    "S = Student(\"Albert\", 23 , \"Mathematics\")\n",
    "S.displayStudent()"
   ]
  },
  {
   "cell_type": "code",
   "execution_count": 90,
   "id": "9a37e768-a64d-425c-bff7-d01bc9725fe7",
   "metadata": {},
   "outputs": [
    {
     "name": "stdout",
     "output_type": "stream",
     "text": [
      "True\n",
      "False\n",
      "False\n",
      "True\n",
      "True\n",
      "True\n"
     ]
    }
   ],
   "source": [
    "class Student: pass\n",
    "class Marks: pass\n",
    "s=Student()\n",
    "m=Marks()\n",
    "print(isinstance(s,Student))\n",
    "print(isinstance(m,Student))\n",
    "print(isinstance(s,Marks))\n",
    "print(isinstance(m,Marks))\n",
    "print(issubclass(Student,object))\n",
    "print(issubclass(Marks,object))"
   ]
  },
  {
   "cell_type": "code",
   "execution_count": 93,
   "id": "4fa7237d-9d2c-4f0f-a2f6-e1f18a0bf6df",
   "metadata": {},
   "outputs": [
    {
     "name": "stdout",
     "output_type": "stream",
     "text": [
      "[<class '__main__.C'>, <class '__main__.B'>, <class '__main__.A'>, <class 'object'>]\n",
      "(<class '__main__.C'>, <class '__main__.B'>, <class '__main__.A'>, <class 'object'>)\n"
     ]
    }
   ],
   "source": [
    "class B:\n",
    "    pass\n",
    "\n",
    "class A:\n",
    "    pass\n",
    "\n",
    "class C(B,A):\n",
    "    pass\n",
    "\n",
    "print(C.__mro__) #tuple(attribute)\n",
    "print(C.mro()) #list(method)"
   ]
  },
  {
   "cell_type": "code",
   "execution_count": 94,
   "id": "8f8a5c35-120d-4873-88ea-0840210e731f",
   "metadata": {},
   "outputs": [],
   "source": [
    "class BankAccount:\n",
    "    \"\"\"Bank Account protected by a pin number.\"\"\"\n",
    "    def __init__(self,pin):\n",
    "        self.balance=0\n",
    "        self._pin=pin\n",
    "\n",
    "    def deposit(self,pin,amount):\n",
    "        if self._pin==pin:\n",
    "            self.balance+=amount\n",
    "            return self.balance\n",
    "        else:\n",
    "            return 'Wrong Pin!'\n",
    "\n",
    "    def withdraw(self,pin,amount):\n",
    "        if self._pin==pin:\n",
    "            if amount<=balance:\n",
    "                self.balance-=amount\n",
    "                return self.balance\n",
    "            else:\n",
    "                return 'No sufficient balance'\n",
    "        else:\n",
    "            return 'Wrong Pin!'\n",
    "\n",
    "    def get_balance(self,pin):\n",
    "        if self._pin==pin:\n",
    "            return self.balance\n",
    "        else:\n",
    "            return 'Wrong Pin!'\n",
    "    def change_pin(self,oldpin,newpin):\n",
    "        if self._pin==oldpin:\n",
    "            self._pin=newpin"
   ]
  },
  {
   "cell_type": "code",
   "execution_count": 100,
   "id": "a7a0cb0a-5007-4ec2-a8fd-c0f57601b285",
   "metadata": {},
   "outputs": [
    {
     "data": {
      "text/plain": [
       "1120.0"
      ]
     },
     "execution_count": 100,
     "metadata": {},
     "output_type": "execute_result"
    }
   ],
   "source": [
    "class SavingsAccount(BankAccount):\n",
    "    def __init__(self):\n",
    "        self.interest_rate=0.12\n",
    "    def calculate_interest(self):\n",
    "        self.balance=self.balance+0.12*self.balance\n",
    "\n",
    "s=SavingsAccount(1234)\n",
    "s.deposit(1234,1000)\n",
    "s.calculate_interest()\n",
    "s.get_balance(1234)"
   ]
  },
  {
   "cell_type": "code",
   "execution_count": 105,
   "id": "36b794b7-0857-48b2-a52f-aa5f3396327b",
   "metadata": {},
   "outputs": [
    {
     "ename": "AttributeError",
     "evalue": "'FeeSavingsAccount' object has no attribute '_pin'",
     "output_type": "error",
     "traceback": [
      "\u001b[0;31m---------------------------------------------------------------------------\u001b[0m",
      "\u001b[0;31mAttributeError\u001b[0m                            Traceback (most recent call last)",
      "Cell \u001b[0;32mIn[105], line 16\u001b[0m\n\u001b[1;32m     13\u001b[0m             \u001b[38;5;28;01mreturn\u001b[39;00m \u001b[38;5;124m'\u001b[39m\u001b[38;5;124mWrong Pin!\u001b[39m\u001b[38;5;124m'\u001b[39m\n\u001b[1;32m     15\u001b[0m f\u001b[38;5;241m=\u001b[39mFeeSavingsAccount()\n\u001b[0;32m---> 16\u001b[0m f\u001b[38;5;241m.\u001b[39mwithdraw(\u001b[38;5;241m1234\u001b[39m,\u001b[38;5;241m25\u001b[39m)\n\u001b[1;32m     17\u001b[0m f\u001b[38;5;241m.\u001b[39mget_balance()\n",
      "Cell \u001b[0;32mIn[105], line 6\u001b[0m, in \u001b[0;36mFeeSavingsAccount.withdraw\u001b[0;34m(self, pin, amount)\u001b[0m\n\u001b[1;32m      5\u001b[0m \u001b[38;5;28;01mdef\u001b[39;00m \u001b[38;5;21mwithdraw\u001b[39m(\u001b[38;5;28mself\u001b[39m,pin,amount):\n\u001b[0;32m----> 6\u001b[0m     \u001b[38;5;28;01mif\u001b[39;00m \u001b[38;5;28mself\u001b[39m\u001b[38;5;241m.\u001b[39m_pin\u001b[38;5;241m==\u001b[39mpin:\n\u001b[1;32m      7\u001b[0m         \u001b[38;5;28;01mif\u001b[39;00m amount \u001b[38;5;241m<\u001b[39m\u001b[38;5;241m=\u001b[39m balance:\n\u001b[1;32m      8\u001b[0m             \u001b[38;5;28mself\u001b[39m\u001b[38;5;241m.\u001b[39mbalance\u001b[38;5;241m-\u001b[39m\u001b[38;5;241m=\u001b[39m(amount\u001b[38;5;241m+\u001b[39m\u001b[38;5;28mself\u001b[39m\u001b[38;5;241m.\u001b[39mfee)\n",
      "\u001b[0;31mAttributeError\u001b[0m: 'FeeSavingsAccount' object has no attribute '_pin'"
     ]
    }
   ],
   "source": [
    "class FeeSavingsAccount(SavingsAccount):\n",
    "    def __init__(self):\n",
    "        self.fee=10\n",
    "\n",
    "    def withdraw(self,pin,amount):\n",
    "        if self._pin==pin:\n",
    "            if amount <= balance:\n",
    "                self.balance-=(amount+self.fee)\n",
    "                return self.balance\n",
    "            else:\n",
    "                return 'No sufficient balance!'\n",
    "        else:\n",
    "            return 'Wrong Pin!'\n",
    "\n",
    "f=FeeSavingsAccount()\n",
    "f.withdraw(1234,25)\n",
    "f.get_balance()"
   ]
  },
  {
   "cell_type": "code",
   "execution_count": 106,
   "id": "08d0e04b-de06-444a-bb57-d3b503ce595c",
   "metadata": {},
   "outputs": [
    {
     "name": "stdout",
     "output_type": "stream",
     "text": [
      "Total Bus fare is: 5500\n"
     ]
    }
   ],
   "source": [
    "class Vehicle:\n",
    "    def __init__(self,name,mileage,capacity):\n",
    "        self.name=name\n",
    "        self.mileage=mileage\n",
    "        self.capacity=capacity\n",
    "\n",
    "    def fare(self):\n",
    "        return self.capacity*100\n",
    "class Bus(Vehicle):\n",
    "    def fare(self):\n",
    "        return self.capacity*(100+10)\n",
    "\n",
    "School_bus = Bus(\"School Volvo\", 12, 50)\n",
    "print(\"Total Bus fare is:\", School_bus.fare())"
   ]
  },
  {
   "cell_type": "code",
   "execution_count": 107,
   "id": "0eb9633b-1b38-4301-8148-cb177e226e70",
   "metadata": {},
   "outputs": [],
   "source": [
    "class Salary:\n",
    "    def __init__(self,base_salary,bonus):\n",
    "        self.__base_salary=base_salary\n",
    "        self.__bonus=bonus\n",
    "\n",
    "    def get_bonus(self):\n",
    "        return self.__bonus\n",
    "\n",
    "    def set_bonus(self,bonus):\n",
    "        self.__bonus=bonus \n",
    "\n",
    "    def get_base_salary(self):\n",
    "        return self.__base_salary\n",
    "\n",
    "    def set_base_salary(self,base_salary):\n",
    "        self.__base_salary=base_salary\n",
    "\n",
    "class Employee:\n",
    "    def __init__(self,name,base_salary,bonus):\n",
    "        self.__name=name\n",
    "        self.__salary=Salary(base_salary,bonus)\n",
    "\n",
    "    def get_name(self):\n",
    "        return self.__name\n",
    "\n",
    "    def set_name(self,name):\n",
    "        self.__name=name \n",
    "\n",
    "    def get_salary(self):\n",
    "        return self.__salary.get_bonus()+self.__salary.get_base_salary()\n",
    "\n",
    "    def set_salary(self,base_salary):\n",
    "        self.__salary.set_base_salary(base_salary)"
   ]
  },
  {
   "cell_type": "code",
   "execution_count": 110,
   "id": "06c3811e-4c99-404c-8008-b88149ad59f9",
   "metadata": {},
   "outputs": [
    {
     "name": "stdout",
     "output_type": "stream",
     "text": [
      "Type: x1\n",
      "Color: Yellow\n",
      "Starting the bus!\n",
      "Stopping the bus!\n"
     ]
    }
   ],
   "source": [
    "class BusEngine:\n",
    "    def start(self):\n",
    "        print('Starting the bus!')\n",
    "\n",
    "    def stop(self):\n",
    "        print('Stopping the bus!')\n",
    "\n",
    "class Vehicle:\n",
    "    def __init__(self,v_type,color):\n",
    "        self.v_type=v_type\n",
    "        self.color=color\n",
    "\n",
    "    def display(self):\n",
    "        print('Type:',self.v_type)\n",
    "        print('Color:',self.color)\n",
    "\n",
    "class Bus(Vehicle):\n",
    "    def __init__(self,v_type,color):\n",
    "        super().__init__(v_type,color)\n",
    "        self.engine=BusEngine()\n",
    "\n",
    "    def set_start(self):\n",
    "        self.engine.start()\n",
    "\n",
    "    def set_stop(self):\n",
    "        self.engine.stop()\n",
    "\n",
    "bus1 = Bus(\"x1\",\"Yellow\")\n",
    "bus1.display()\n",
    "bus1.set_start()\n",
    "bus1.set_stop()"
   ]
  },
  {
   "cell_type": "code",
   "execution_count": 111,
   "id": "17d1bd0c-80ca-4747-a346-3fbd0b3753e3",
   "metadata": {},
   "outputs": [],
   "source": [
    "class Salary:\n",
    "    def __init__(self,base_salary,bonus):\n",
    "        self.__base_salary=base_salary\n",
    "        self.__bonus=bonus\n",
    "\n",
    "    def get_bonus(self):\n",
    "        return self.__bonus\n",
    "\n",
    "    def set_bonus(self,bonus):\n",
    "        self.__bonus=bonus \n",
    "\n",
    "    def get_base_salary(self):\n",
    "        return self.__base_salary\n",
    "\n",
    "    def set_base_salary(self,base_salary):\n",
    "        self.__base_salary=base_salary\n",
    "\n",
    "class Employee:\n",
    "    def __init__(self,name,salary):\n",
    "        self.__name=name\n",
    "        self.__salary=salary\n",
    "\n",
    "    def get_name(self):\n",
    "        return self.__name\n",
    "\n",
    "    def set_name(self,name):\n",
    "        self.__name=name \n",
    "\n",
    "    def get_salary(self):\n",
    "        return self.__salary.get_bonus()+self.__salary.get_base_salary()\n",
    "\n",
    "    def set_salary(self,base_salary):\n",
    "        self.__salary.set_base_salary(base_salary)\n",
    "\n",
    "s=Salary(1000,100)\n",
    "e=Employee('Manvith',s)"
   ]
  },
  {
   "cell_type": "code",
   "execution_count": 115,
   "id": "40dcddc5-6350-4bac-9ca7-5d0ec3c96d58",
   "metadata": {},
   "outputs": [
    {
     "name": "stdout",
     "output_type": "stream",
     "text": [
      "2\n",
      "2\n",
      "3\n"
     ]
    }
   ],
   "source": [
    "class Member:\n",
    "    def __init__(self,member_id,name,society_name):\n",
    "        self.member_id=member_id\n",
    "        self.name=name\n",
    "        self.society_name=society_name\n",
    "\n",
    "class Society:\n",
    "    def __init__(self,name,members):\n",
    "        self.name=name\n",
    "        self.members=members\n",
    "\n",
    "    def register_member(self,member):\n",
    "        self.members.append(member)\n",
    "\n",
    "    def get_member_count(self):\n",
    "        return len(self.members)\n",
    "\n",
    "class University:\n",
    "    def __init__(self,name,societies):\n",
    "        self.name=name\n",
    "        self.societies=societies\n",
    "\n",
    "    def register_society(self,society):\n",
    "        self.societies.append(society)\n",
    "\n",
    "    def get_society_count(self):\n",
    "        return len(self.societies)\n",
    "\n",
    "m1=Member(1,'Manvith','DS')\n",
    "m2=Member(2,'Yukti','DS')\n",
    "m3=Member(1,'Madhu','CS')\n",
    "m4=Member(2,'Karthik','CS')\n",
    "m5=Member(1,'Venkat','CS')\n",
    "s1=Society('DS',[m1,m2])\n",
    "s2=Society('CS',[m3,m4])\n",
    "u=University('UOA',[s1,s2])\n",
    "print(u.get_society_count())\n",
    "print(s2.get_member_count())\n",
    "s2.register_member(m5)\n",
    "print(s2.get_member_count())"
   ]
  },
  {
   "cell_type": "code",
   "execution_count": null,
   "id": "0dbf438a-3341-4631-a53b-0c7487e3794d",
   "metadata": {},
   "outputs": [],
   "source": []
  }
 ],
 "metadata": {
  "kernelspec": {
   "display_name": "Python [conda env:base] *",
   "language": "python",
   "name": "conda-base-py"
  },
  "language_info": {
   "codemirror_mode": {
    "name": "ipython",
    "version": 3
   },
   "file_extension": ".py",
   "mimetype": "text/x-python",
   "name": "python",
   "nbconvert_exporter": "python",
   "pygments_lexer": "ipython3",
   "version": "3.12.7"
  }
 },
 "nbformat": 4,
 "nbformat_minor": 5
}
